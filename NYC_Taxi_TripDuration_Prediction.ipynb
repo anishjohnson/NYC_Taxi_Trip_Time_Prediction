{
  "cells": [
    {
      "cell_type": "markdown",
      "metadata": {
        "id": "view-in-github",
        "colab_type": "text"
      },
      "source": [
        "<a href=\"https://colab.research.google.com/github/anishjohnson/NYC_Taxi_TripTime_Prediction/blob/main/NYC_Taxi_TripDuration_Prediction.ipynb\" target=\"_parent\"><img src=\"https://colab.research.google.com/assets/colab-badge.svg\" alt=\"Open In Colab\"/></a>"
      ]
    },
    {
      "cell_type": "markdown",
      "metadata": {
        "id": "tOGC-qoyhJeX"
      },
      "source": [
        "# <b><u> Project Title : Taxi trip time Prediction : Predicting total ride duration of taxi trips in New York City</u></b>\n",
        "\n",
        "## <b> Problem Description </b>\n",
        "\n",
        "### Your task is to build a model that predicts the total ride duration of taxi trips in New York City. Your primary dataset is one released by the NYC Taxi and Limousine Commission, which includes pickup time, geo-coordinates, number of passengers, and several other variables.\n",
        "\n",
        "## <b> Data Description </b>\n",
        "\n",
        "### The dataset is based on the 2016 NYC Yellow Cab trip record data made available in Big Query on Google Cloud Platform. The data was originally published by the NYC Taxi and Limousine Commission (TLC). The data was sampled and cleaned for the purposes of this project. Based on individual trip attributes, you should predict the duration of each trip in the test set.\n",
        "\n",
        "### <b>NYC Taxi Data.csv</b> - the training set (contains 1458644 trip records)\n",
        "\n",
        "\n",
        "### **Data fields**\n",
        "* id - a unique identifier for each trip\n",
        "* vendor_id - a code indicating the provider associated with the trip record\n",
        "* pickup_datetime - date and time when the meter was engaged\n",
        "* dropoff_datetime - date and time when the meter was disengaged\n",
        "* passenger_count - the number of passengers in the vehicle (driver entered value)\n",
        "* pickup_longitude - the longitude where the meter was engaged\n",
        "* pickup_latitude - the latitude where the meter was engaged\n",
        "* dropoff_longitude - the longitude where the meter was disengaged\n",
        "* dropoff_latitude - the latitude where the meter was disengaged\n",
        "* store_and_fwd_flag - This flag indicates whether the trip record was held in vehicle memory before sending to the vendor because the vehicle did not have a connection to the server - Y=store and forward; N=not a store and forward trip\n",
        "* trip_duration - duration of the trip in seconds"
      ]
    },
    {
      "cell_type": "markdown",
      "metadata": {
        "id": "uIeMIxr9EJTg"
      },
      "source": [
        "# **Import libraries and data.**"
      ]
    },
    {
      "cell_type": "code",
      "execution_count": null,
      "metadata": {
        "colab": {
          "base_uri": "https://localhost:8080/"
        },
        "id": "4mC-K0_IESxj",
        "outputId": "759eacba-9dbb-447b-a486-22a2487dcac3"
      },
      "outputs": [
        {
          "output_type": "stream",
          "name": "stdout",
          "text": [
            "Collecting haversine\n",
            "  Downloading haversine-2.5.1-py2.py3-none-any.whl (6.1 kB)\n",
            "Installing collected packages: haversine\n",
            "Successfully installed haversine-2.5.1\n"
          ]
        }
      ],
      "source": [
        "# import the libraries.\n",
        "import numpy as np\n",
        "import pandas as pd\n",
        "import seaborn as sns\n",
        "import matplotlib.pyplot as plt\n",
        "from sklearn.preprocessing import StandardScaler\n",
        "from sklearn.model_selection import GridSearchCV\n",
        "from sklearn.model_selection import train_test_split\n",
        "from sklearn.feature_selection import SelectFromModel\n",
        "from sklearn.metrics import r2_score,mean_absolute_error,mean_squared_error\n",
        "\n",
        "import xgboost as xgb\n",
        "from sklearn.tree import DecisionTreeRegressor\n",
        "from sklearn.linear_model import LinearRegression\n",
        "from sklearn.ensemble import HistGradientBoostingRegressor\n",
        "\n",
        "import time\n",
        "import datetime as dt\n",
        "from seaborn import palettes\n",
        "\n",
        "\n",
        "import warnings\n",
        "warnings.filterwarnings(\"ignore\")\n",
        "\n",
        "# We will use haverseine to calculate the distance using the longitudinal and lattitue data.\n",
        "!pip install haversine\n",
        "from haversine import haversine"
      ]
    },
    {
      "cell_type": "code",
      "execution_count": null,
      "metadata": {
        "colab": {
          "base_uri": "https://localhost:8080/"
        },
        "id": "qAhk8GrjEcdo",
        "outputId": "2177632e-b018-473f-85ff-ca8e3afbdf17"
      },
      "outputs": [
        {
          "output_type": "stream",
          "name": "stdout",
          "text": [
            "Mounted at /content/drive/\n"
          ]
        }
      ],
      "source": [
        "# Mount the drive.\n",
        "from google.colab import drive\n",
        "drive.mount('/content/drive/')\n",
        "\n",
        "# Load the data.\n",
        "df = pd.read_csv('/content/drive/MyDrive/Capstone data files/NYC Taxi Data.csv')\n",
        "\n",
        "# Create a copy of data to be on the safer side.\n",
        "nyc_df = df.copy()"
      ]
    },
    {
      "cell_type": "markdown",
      "metadata": {
        "id": "Br-RCkRZErMg"
      },
      "source": [
        "# **Exploratory Data Analysis.**"
      ]
    },
    {
      "cell_type": "code",
      "execution_count": null,
      "metadata": {
        "colab": {
          "base_uri": "https://localhost:8080/"
        },
        "id": "UIjh_eW8Ev0_",
        "outputId": "aa919a6e-4c49-4a7c-bb3e-d38a301089dc"
      },
      "outputs": [
        {
          "output_type": "execute_result",
          "data": {
            "text/html": [
              "\n",
              "  <div id=\"df-3d71fde3-728c-4422-814c-6bfb844b89b8\">\n",
              "    <div class=\"colab-df-container\">\n",
              "      <div>\n",
              "<style scoped>\n",
              "    .dataframe tbody tr th:only-of-type {\n",
              "        vertical-align: middle;\n",
              "    }\n",
              "\n",
              "    .dataframe tbody tr th {\n",
              "        vertical-align: top;\n",
              "    }\n",
              "\n",
              "    .dataframe thead th {\n",
              "        text-align: right;\n",
              "    }\n",
              "</style>\n",
              "<table border=\"1\" class=\"dataframe\">\n",
              "  <thead>\n",
              "    <tr style=\"text-align: right;\">\n",
              "      <th></th>\n",
              "      <th>id</th>\n",
              "      <th>vendor_id</th>\n",
              "      <th>pickup_datetime</th>\n",
              "      <th>dropoff_datetime</th>\n",
              "      <th>passenger_count</th>\n",
              "      <th>pickup_longitude</th>\n",
              "      <th>pickup_latitude</th>\n",
              "      <th>dropoff_longitude</th>\n",
              "      <th>dropoff_latitude</th>\n",
              "      <th>store_and_fwd_flag</th>\n",
              "      <th>trip_duration</th>\n",
              "    </tr>\n",
              "  </thead>\n",
              "  <tbody>\n",
              "    <tr>\n",
              "      <th>0</th>\n",
              "      <td>id2875421</td>\n",
              "      <td>2</td>\n",
              "      <td>2016-03-14 17:24:55</td>\n",
              "      <td>2016-03-14 17:32:30</td>\n",
              "      <td>1</td>\n",
              "      <td>-73.982155</td>\n",
              "      <td>40.767937</td>\n",
              "      <td>-73.964630</td>\n",
              "      <td>40.765602</td>\n",
              "      <td>N</td>\n",
              "      <td>455</td>\n",
              "    </tr>\n",
              "    <tr>\n",
              "      <th>1</th>\n",
              "      <td>id2377394</td>\n",
              "      <td>1</td>\n",
              "      <td>2016-06-12 00:43:35</td>\n",
              "      <td>2016-06-12 00:54:38</td>\n",
              "      <td>1</td>\n",
              "      <td>-73.980415</td>\n",
              "      <td>40.738564</td>\n",
              "      <td>-73.999481</td>\n",
              "      <td>40.731152</td>\n",
              "      <td>N</td>\n",
              "      <td>663</td>\n",
              "    </tr>\n",
              "    <tr>\n",
              "      <th>2</th>\n",
              "      <td>id3858529</td>\n",
              "      <td>2</td>\n",
              "      <td>2016-01-19 11:35:24</td>\n",
              "      <td>2016-01-19 12:10:48</td>\n",
              "      <td>1</td>\n",
              "      <td>-73.979027</td>\n",
              "      <td>40.763939</td>\n",
              "      <td>-74.005333</td>\n",
              "      <td>40.710087</td>\n",
              "      <td>N</td>\n",
              "      <td>2124</td>\n",
              "    </tr>\n",
              "    <tr>\n",
              "      <th>3</th>\n",
              "      <td>id3504673</td>\n",
              "      <td>2</td>\n",
              "      <td>2016-04-06 19:32:31</td>\n",
              "      <td>2016-04-06 19:39:40</td>\n",
              "      <td>1</td>\n",
              "      <td>-74.010040</td>\n",
              "      <td>40.719971</td>\n",
              "      <td>-74.012268</td>\n",
              "      <td>40.706718</td>\n",
              "      <td>N</td>\n",
              "      <td>429</td>\n",
              "    </tr>\n",
              "    <tr>\n",
              "      <th>4</th>\n",
              "      <td>id2181028</td>\n",
              "      <td>2</td>\n",
              "      <td>2016-03-26 13:30:55</td>\n",
              "      <td>2016-03-26 13:38:10</td>\n",
              "      <td>1</td>\n",
              "      <td>-73.973053</td>\n",
              "      <td>40.793209</td>\n",
              "      <td>-73.972923</td>\n",
              "      <td>40.782520</td>\n",
              "      <td>N</td>\n",
              "      <td>435</td>\n",
              "    </tr>\n",
              "  </tbody>\n",
              "</table>\n",
              "</div>\n",
              "      <button class=\"colab-df-convert\" onclick=\"convertToInteractive('df-3d71fde3-728c-4422-814c-6bfb844b89b8')\"\n",
              "              title=\"Convert this dataframe to an interactive table.\"\n",
              "              style=\"display:none;\">\n",
              "        \n",
              "  <svg xmlns=\"http://www.w3.org/2000/svg\" height=\"24px\"viewBox=\"0 0 24 24\"\n",
              "       width=\"24px\">\n",
              "    <path d=\"M0 0h24v24H0V0z\" fill=\"none\"/>\n",
              "    <path d=\"M18.56 5.44l.94 2.06.94-2.06 2.06-.94-2.06-.94-.94-2.06-.94 2.06-2.06.94zm-11 1L8.5 8.5l.94-2.06 2.06-.94-2.06-.94L8.5 2.5l-.94 2.06-2.06.94zm10 10l.94 2.06.94-2.06 2.06-.94-2.06-.94-.94-2.06-.94 2.06-2.06.94z\"/><path d=\"M17.41 7.96l-1.37-1.37c-.4-.4-.92-.59-1.43-.59-.52 0-1.04.2-1.43.59L10.3 9.45l-7.72 7.72c-.78.78-.78 2.05 0 2.83L4 21.41c.39.39.9.59 1.41.59.51 0 1.02-.2 1.41-.59l7.78-7.78 2.81-2.81c.8-.78.8-2.07 0-2.86zM5.41 20L4 18.59l7.72-7.72 1.47 1.35L5.41 20z\"/>\n",
              "  </svg>\n",
              "      </button>\n",
              "      \n",
              "  <style>\n",
              "    .colab-df-container {\n",
              "      display:flex;\n",
              "      flex-wrap:wrap;\n",
              "      gap: 12px;\n",
              "    }\n",
              "\n",
              "    .colab-df-convert {\n",
              "      background-color: #E8F0FE;\n",
              "      border: none;\n",
              "      border-radius: 50%;\n",
              "      cursor: pointer;\n",
              "      display: none;\n",
              "      fill: #1967D2;\n",
              "      height: 32px;\n",
              "      padding: 0 0 0 0;\n",
              "      width: 32px;\n",
              "    }\n",
              "\n",
              "    .colab-df-convert:hover {\n",
              "      background-color: #E2EBFA;\n",
              "      box-shadow: 0px 1px 2px rgba(60, 64, 67, 0.3), 0px 1px 3px 1px rgba(60, 64, 67, 0.15);\n",
              "      fill: #174EA6;\n",
              "    }\n",
              "\n",
              "    [theme=dark] .colab-df-convert {\n",
              "      background-color: #3B4455;\n",
              "      fill: #D2E3FC;\n",
              "    }\n",
              "\n",
              "    [theme=dark] .colab-df-convert:hover {\n",
              "      background-color: #434B5C;\n",
              "      box-shadow: 0px 1px 3px 1px rgba(0, 0, 0, 0.15);\n",
              "      filter: drop-shadow(0px 1px 2px rgba(0, 0, 0, 0.3));\n",
              "      fill: #FFFFFF;\n",
              "    }\n",
              "  </style>\n",
              "\n",
              "      <script>\n",
              "        const buttonEl =\n",
              "          document.querySelector('#df-3d71fde3-728c-4422-814c-6bfb844b89b8 button.colab-df-convert');\n",
              "        buttonEl.style.display =\n",
              "          google.colab.kernel.accessAllowed ? 'block' : 'none';\n",
              "\n",
              "        async function convertToInteractive(key) {\n",
              "          const element = document.querySelector('#df-3d71fde3-728c-4422-814c-6bfb844b89b8');\n",
              "          const dataTable =\n",
              "            await google.colab.kernel.invokeFunction('convertToInteractive',\n",
              "                                                     [key], {});\n",
              "          if (!dataTable) return;\n",
              "\n",
              "          const docLinkHtml = 'Like what you see? Visit the ' +\n",
              "            '<a target=\"_blank\" href=https://colab.research.google.com/notebooks/data_table.ipynb>data table notebook</a>'\n",
              "            + ' to learn more about interactive tables.';\n",
              "          element.innerHTML = '';\n",
              "          dataTable['output_type'] = 'display_data';\n",
              "          await google.colab.output.renderOutput(dataTable, element);\n",
              "          const docLink = document.createElement('div');\n",
              "          docLink.innerHTML = docLinkHtml;\n",
              "          element.appendChild(docLink);\n",
              "        }\n",
              "      </script>\n",
              "    </div>\n",
              "  </div>\n",
              "  "
            ],
            "text/plain": [
              "          id  vendor_id  ... store_and_fwd_flag trip_duration\n",
              "0  id2875421          2  ...                  N           455\n",
              "1  id2377394          1  ...                  N           663\n",
              "2  id3858529          2  ...                  N          2124\n",
              "3  id3504673          2  ...                  N           429\n",
              "4  id2181028          2  ...                  N           435\n",
              "\n",
              "[5 rows x 11 columns]"
            ]
          },
          "metadata": {},
          "execution_count": 3
        }
      ],
      "source": [
        "nyc_df.head()"
      ]
    },
    {
      "cell_type": "code",
      "execution_count": null,
      "metadata": {
        "colab": {
          "base_uri": "https://localhost:8080/"
        },
        "id": "mKC7br_yEyke",
        "outputId": "96d23040-a429-47ae-863b-31b19f5ce926"
      },
      "outputs": [
        {
          "output_type": "execute_result",
          "data": {
            "text/html": [
              "\n",
              "  <div id=\"df-7849158e-c24a-476c-aee4-2056dae7847b\">\n",
              "    <div class=\"colab-df-container\">\n",
              "      <div>\n",
              "<style scoped>\n",
              "    .dataframe tbody tr th:only-of-type {\n",
              "        vertical-align: middle;\n",
              "    }\n",
              "\n",
              "    .dataframe tbody tr th {\n",
              "        vertical-align: top;\n",
              "    }\n",
              "\n",
              "    .dataframe thead th {\n",
              "        text-align: right;\n",
              "    }\n",
              "</style>\n",
              "<table border=\"1\" class=\"dataframe\">\n",
              "  <thead>\n",
              "    <tr style=\"text-align: right;\">\n",
              "      <th></th>\n",
              "      <th>id</th>\n",
              "      <th>vendor_id</th>\n",
              "      <th>pickup_datetime</th>\n",
              "      <th>dropoff_datetime</th>\n",
              "      <th>passenger_count</th>\n",
              "      <th>pickup_longitude</th>\n",
              "      <th>pickup_latitude</th>\n",
              "      <th>dropoff_longitude</th>\n",
              "      <th>dropoff_latitude</th>\n",
              "      <th>store_and_fwd_flag</th>\n",
              "      <th>trip_duration</th>\n",
              "    </tr>\n",
              "  </thead>\n",
              "  <tbody>\n",
              "    <tr>\n",
              "      <th>1458639</th>\n",
              "      <td>id2376096</td>\n",
              "      <td>2</td>\n",
              "      <td>2016-04-08 13:31:04</td>\n",
              "      <td>2016-04-08 13:44:02</td>\n",
              "      <td>4</td>\n",
              "      <td>-73.982201</td>\n",
              "      <td>40.745522</td>\n",
              "      <td>-73.994911</td>\n",
              "      <td>40.740170</td>\n",
              "      <td>N</td>\n",
              "      <td>778</td>\n",
              "    </tr>\n",
              "    <tr>\n",
              "      <th>1458640</th>\n",
              "      <td>id1049543</td>\n",
              "      <td>1</td>\n",
              "      <td>2016-01-10 07:35:15</td>\n",
              "      <td>2016-01-10 07:46:10</td>\n",
              "      <td>1</td>\n",
              "      <td>-74.000946</td>\n",
              "      <td>40.747379</td>\n",
              "      <td>-73.970184</td>\n",
              "      <td>40.796547</td>\n",
              "      <td>N</td>\n",
              "      <td>655</td>\n",
              "    </tr>\n",
              "    <tr>\n",
              "      <th>1458641</th>\n",
              "      <td>id2304944</td>\n",
              "      <td>2</td>\n",
              "      <td>2016-04-22 06:57:41</td>\n",
              "      <td>2016-04-22 07:10:25</td>\n",
              "      <td>1</td>\n",
              "      <td>-73.959129</td>\n",
              "      <td>40.768799</td>\n",
              "      <td>-74.004433</td>\n",
              "      <td>40.707371</td>\n",
              "      <td>N</td>\n",
              "      <td>764</td>\n",
              "    </tr>\n",
              "    <tr>\n",
              "      <th>1458642</th>\n",
              "      <td>id2714485</td>\n",
              "      <td>1</td>\n",
              "      <td>2016-01-05 15:56:26</td>\n",
              "      <td>2016-01-05 16:02:39</td>\n",
              "      <td>1</td>\n",
              "      <td>-73.982079</td>\n",
              "      <td>40.749062</td>\n",
              "      <td>-73.974632</td>\n",
              "      <td>40.757107</td>\n",
              "      <td>N</td>\n",
              "      <td>373</td>\n",
              "    </tr>\n",
              "    <tr>\n",
              "      <th>1458643</th>\n",
              "      <td>id1209952</td>\n",
              "      <td>1</td>\n",
              "      <td>2016-04-05 14:44:25</td>\n",
              "      <td>2016-04-05 14:47:43</td>\n",
              "      <td>1</td>\n",
              "      <td>-73.979538</td>\n",
              "      <td>40.781750</td>\n",
              "      <td>-73.972809</td>\n",
              "      <td>40.790585</td>\n",
              "      <td>N</td>\n",
              "      <td>198</td>\n",
              "    </tr>\n",
              "  </tbody>\n",
              "</table>\n",
              "</div>\n",
              "      <button class=\"colab-df-convert\" onclick=\"convertToInteractive('df-7849158e-c24a-476c-aee4-2056dae7847b')\"\n",
              "              title=\"Convert this dataframe to an interactive table.\"\n",
              "              style=\"display:none;\">\n",
              "        \n",
              "  <svg xmlns=\"http://www.w3.org/2000/svg\" height=\"24px\"viewBox=\"0 0 24 24\"\n",
              "       width=\"24px\">\n",
              "    <path d=\"M0 0h24v24H0V0z\" fill=\"none\"/>\n",
              "    <path d=\"M18.56 5.44l.94 2.06.94-2.06 2.06-.94-2.06-.94-.94-2.06-.94 2.06-2.06.94zm-11 1L8.5 8.5l.94-2.06 2.06-.94-2.06-.94L8.5 2.5l-.94 2.06-2.06.94zm10 10l.94 2.06.94-2.06 2.06-.94-2.06-.94-.94-2.06-.94 2.06-2.06.94z\"/><path d=\"M17.41 7.96l-1.37-1.37c-.4-.4-.92-.59-1.43-.59-.52 0-1.04.2-1.43.59L10.3 9.45l-7.72 7.72c-.78.78-.78 2.05 0 2.83L4 21.41c.39.39.9.59 1.41.59.51 0 1.02-.2 1.41-.59l7.78-7.78 2.81-2.81c.8-.78.8-2.07 0-2.86zM5.41 20L4 18.59l7.72-7.72 1.47 1.35L5.41 20z\"/>\n",
              "  </svg>\n",
              "      </button>\n",
              "      \n",
              "  <style>\n",
              "    .colab-df-container {\n",
              "      display:flex;\n",
              "      flex-wrap:wrap;\n",
              "      gap: 12px;\n",
              "    }\n",
              "\n",
              "    .colab-df-convert {\n",
              "      background-color: #E8F0FE;\n",
              "      border: none;\n",
              "      border-radius: 50%;\n",
              "      cursor: pointer;\n",
              "      display: none;\n",
              "      fill: #1967D2;\n",
              "      height: 32px;\n",
              "      padding: 0 0 0 0;\n",
              "      width: 32px;\n",
              "    }\n",
              "\n",
              "    .colab-df-convert:hover {\n",
              "      background-color: #E2EBFA;\n",
              "      box-shadow: 0px 1px 2px rgba(60, 64, 67, 0.3), 0px 1px 3px 1px rgba(60, 64, 67, 0.15);\n",
              "      fill: #174EA6;\n",
              "    }\n",
              "\n",
              "    [theme=dark] .colab-df-convert {\n",
              "      background-color: #3B4455;\n",
              "      fill: #D2E3FC;\n",
              "    }\n",
              "\n",
              "    [theme=dark] .colab-df-convert:hover {\n",
              "      background-color: #434B5C;\n",
              "      box-shadow: 0px 1px 3px 1px rgba(0, 0, 0, 0.15);\n",
              "      filter: drop-shadow(0px 1px 2px rgba(0, 0, 0, 0.3));\n",
              "      fill: #FFFFFF;\n",
              "    }\n",
              "  </style>\n",
              "\n",
              "      <script>\n",
              "        const buttonEl =\n",
              "          document.querySelector('#df-7849158e-c24a-476c-aee4-2056dae7847b button.colab-df-convert');\n",
              "        buttonEl.style.display =\n",
              "          google.colab.kernel.accessAllowed ? 'block' : 'none';\n",
              "\n",
              "        async function convertToInteractive(key) {\n",
              "          const element = document.querySelector('#df-7849158e-c24a-476c-aee4-2056dae7847b');\n",
              "          const dataTable =\n",
              "            await google.colab.kernel.invokeFunction('convertToInteractive',\n",
              "                                                     [key], {});\n",
              "          if (!dataTable) return;\n",
              "\n",
              "          const docLinkHtml = 'Like what you see? Visit the ' +\n",
              "            '<a target=\"_blank\" href=https://colab.research.google.com/notebooks/data_table.ipynb>data table notebook</a>'\n",
              "            + ' to learn more about interactive tables.';\n",
              "          element.innerHTML = '';\n",
              "          dataTable['output_type'] = 'display_data';\n",
              "          await google.colab.output.renderOutput(dataTable, element);\n",
              "          const docLink = document.createElement('div');\n",
              "          docLink.innerHTML = docLinkHtml;\n",
              "          element.appendChild(docLink);\n",
              "        }\n",
              "      </script>\n",
              "    </div>\n",
              "  </div>\n",
              "  "
            ],
            "text/plain": [
              "                id  vendor_id  ... store_and_fwd_flag trip_duration\n",
              "1458639  id2376096          2  ...                  N           778\n",
              "1458640  id1049543          1  ...                  N           655\n",
              "1458641  id2304944          2  ...                  N           764\n",
              "1458642  id2714485          1  ...                  N           373\n",
              "1458643  id1209952          1  ...                  N           198\n",
              "\n",
              "[5 rows x 11 columns]"
            ]
          },
          "metadata": {},
          "execution_count": 4
        }
      ],
      "source": [
        "nyc_df.tail()"
      ]
    },
    {
      "cell_type": "code",
      "execution_count": null,
      "metadata": {
        "colab": {
          "base_uri": "https://localhost:8080/"
        },
        "id": "lGPHsCRYE0oi",
        "outputId": "de504fab-5809-4533-cf9c-5e7e025a2373"
      },
      "outputs": [
        {
          "output_type": "stream",
          "name": "stdout",
          "text": [
            "The dataset contains 1458644 rows and 11 columns.\n"
          ]
        }
      ],
      "source": [
        "# Check the shape of our data.\n",
        "shape = nyc_df.shape\n",
        "print(f'The dataset contains {shape[0]} rows and {shape[1]} columns.')"
      ]
    },
    {
      "cell_type": "code",
      "execution_count": null,
      "metadata": {
        "colab": {
          "base_uri": "https://localhost:8080/"
        },
        "id": "LkcVnBS1E98S",
        "outputId": "a744a2f7-d931-41ff-9b37-77710bcc3e4d"
      },
      "outputs": [
        {
          "output_type": "execute_result",
          "data": {
            "text/plain": [
              "id                    0\n",
              "vendor_id             0\n",
              "pickup_datetime       0\n",
              "dropoff_datetime      0\n",
              "passenger_count       0\n",
              "pickup_longitude      0\n",
              "pickup_latitude       0\n",
              "dropoff_longitude     0\n",
              "dropoff_latitude      0\n",
              "store_and_fwd_flag    0\n",
              "trip_duration         0\n",
              "dtype: int64"
            ]
          },
          "metadata": {},
          "execution_count": 6
        }
      ],
      "source": [
        "# Check if it contains null values.\n",
        "nyc_df.isnull().sum()"
      ]
    },
    {
      "cell_type": "code",
      "execution_count": null,
      "metadata": {
        "colab": {
          "base_uri": "https://localhost:8080/"
        },
        "id": "RV4NexExFFTb",
        "outputId": "e3ae5a29-79fb-49e9-8f43-9ff4522535ac"
      },
      "outputs": [
        {
          "output_type": "stream",
          "name": "stdout",
          "text": [
            "No duplicates exist we are good to go.👌\n"
          ]
        }
      ],
      "source": [
        "# Only originals needed, remove the duplicates.\n",
        "duplicates = nyc_df.duplicated().sum()\n",
        "\n",
        "if duplicates == 0:\n",
        "  print('No duplicates exist we are good to go.👌')\n",
        "else:\n",
        "  print(duplicates,'exist remove them.')"
      ]
    },
    {
      "cell_type": "code",
      "execution_count": null,
      "metadata": {
        "colab": {
          "base_uri": "https://localhost:8080/"
        },
        "id": "IvVFOG-vFNdT",
        "outputId": "3d99860f-0da1-4209-9e0d-47720f53a47f"
      },
      "outputs": [
        {
          "output_type": "stream",
          "name": "stdout",
          "text": [
            "<class 'pandas.core.frame.DataFrame'>\n",
            "RangeIndex: 1458644 entries, 0 to 1458643\n",
            "Data columns (total 11 columns):\n",
            " #   Column              Non-Null Count    Dtype  \n",
            "---  ------              --------------    -----  \n",
            " 0   id                  1458644 non-null  object \n",
            " 1   vendor_id           1458644 non-null  int64  \n",
            " 2   pickup_datetime     1458644 non-null  object \n",
            " 3   dropoff_datetime    1458644 non-null  object \n",
            " 4   passenger_count     1458644 non-null  int64  \n",
            " 5   pickup_longitude    1458644 non-null  float64\n",
            " 6   pickup_latitude     1458644 non-null  float64\n",
            " 7   dropoff_longitude   1458644 non-null  float64\n",
            " 8   dropoff_latitude    1458644 non-null  float64\n",
            " 9   store_and_fwd_flag  1458644 non-null  object \n",
            " 10  trip_duration       1458644 non-null  int64  \n",
            "dtypes: float64(4), int64(3), object(4)\n",
            "memory usage: 122.4+ MB\n"
          ]
        }
      ],
      "source": [
        "# Reveal information about the data.\n",
        "nyc_df.info()"
      ]
    },
    {
      "cell_type": "code",
      "execution_count": null,
      "metadata": {
        "colab": {
          "base_uri": "https://localhost:8080/"
        },
        "id": "abAndTttFP45",
        "outputId": "b8f51d7f-fbe8-4e01-994e-7c0b766b9ab0"
      },
      "outputs": [
        {
          "output_type": "execute_result",
          "data": {
            "text/html": [
              "\n",
              "  <div id=\"df-f7443845-c542-4cf7-9941-8f0c9a544170\">\n",
              "    <div class=\"colab-df-container\">\n",
              "      <div>\n",
              "<style scoped>\n",
              "    .dataframe tbody tr th:only-of-type {\n",
              "        vertical-align: middle;\n",
              "    }\n",
              "\n",
              "    .dataframe tbody tr th {\n",
              "        vertical-align: top;\n",
              "    }\n",
              "\n",
              "    .dataframe thead th {\n",
              "        text-align: right;\n",
              "    }\n",
              "</style>\n",
              "<table border=\"1\" class=\"dataframe\">\n",
              "  <thead>\n",
              "    <tr style=\"text-align: right;\">\n",
              "      <th></th>\n",
              "      <th>vendor_id</th>\n",
              "      <th>passenger_count</th>\n",
              "      <th>pickup_longitude</th>\n",
              "      <th>pickup_latitude</th>\n",
              "      <th>dropoff_longitude</th>\n",
              "      <th>dropoff_latitude</th>\n",
              "      <th>trip_duration</th>\n",
              "    </tr>\n",
              "  </thead>\n",
              "  <tbody>\n",
              "    <tr>\n",
              "      <th>count</th>\n",
              "      <td>1.458644e+06</td>\n",
              "      <td>1.458644e+06</td>\n",
              "      <td>1.458644e+06</td>\n",
              "      <td>1.458644e+06</td>\n",
              "      <td>1.458644e+06</td>\n",
              "      <td>1.458644e+06</td>\n",
              "      <td>1.458644e+06</td>\n",
              "    </tr>\n",
              "    <tr>\n",
              "      <th>mean</th>\n",
              "      <td>1.534950e+00</td>\n",
              "      <td>1.664530e+00</td>\n",
              "      <td>-7.397349e+01</td>\n",
              "      <td>4.075092e+01</td>\n",
              "      <td>-7.397342e+01</td>\n",
              "      <td>4.075180e+01</td>\n",
              "      <td>9.594923e+02</td>\n",
              "    </tr>\n",
              "    <tr>\n",
              "      <th>std</th>\n",
              "      <td>4.987772e-01</td>\n",
              "      <td>1.314242e+00</td>\n",
              "      <td>7.090186e-02</td>\n",
              "      <td>3.288119e-02</td>\n",
              "      <td>7.064327e-02</td>\n",
              "      <td>3.589056e-02</td>\n",
              "      <td>5.237432e+03</td>\n",
              "    </tr>\n",
              "    <tr>\n",
              "      <th>min</th>\n",
              "      <td>1.000000e+00</td>\n",
              "      <td>0.000000e+00</td>\n",
              "      <td>-1.219333e+02</td>\n",
              "      <td>3.435970e+01</td>\n",
              "      <td>-1.219333e+02</td>\n",
              "      <td>3.218114e+01</td>\n",
              "      <td>1.000000e+00</td>\n",
              "    </tr>\n",
              "    <tr>\n",
              "      <th>25%</th>\n",
              "      <td>1.000000e+00</td>\n",
              "      <td>1.000000e+00</td>\n",
              "      <td>-7.399187e+01</td>\n",
              "      <td>4.073735e+01</td>\n",
              "      <td>-7.399133e+01</td>\n",
              "      <td>4.073588e+01</td>\n",
              "      <td>3.970000e+02</td>\n",
              "    </tr>\n",
              "    <tr>\n",
              "      <th>50%</th>\n",
              "      <td>2.000000e+00</td>\n",
              "      <td>1.000000e+00</td>\n",
              "      <td>-7.398174e+01</td>\n",
              "      <td>4.075410e+01</td>\n",
              "      <td>-7.397975e+01</td>\n",
              "      <td>4.075452e+01</td>\n",
              "      <td>6.620000e+02</td>\n",
              "    </tr>\n",
              "    <tr>\n",
              "      <th>75%</th>\n",
              "      <td>2.000000e+00</td>\n",
              "      <td>2.000000e+00</td>\n",
              "      <td>-7.396733e+01</td>\n",
              "      <td>4.076836e+01</td>\n",
              "      <td>-7.396301e+01</td>\n",
              "      <td>4.076981e+01</td>\n",
              "      <td>1.075000e+03</td>\n",
              "    </tr>\n",
              "    <tr>\n",
              "      <th>max</th>\n",
              "      <td>2.000000e+00</td>\n",
              "      <td>9.000000e+00</td>\n",
              "      <td>-6.133553e+01</td>\n",
              "      <td>5.188108e+01</td>\n",
              "      <td>-6.133553e+01</td>\n",
              "      <td>4.392103e+01</td>\n",
              "      <td>3.526282e+06</td>\n",
              "    </tr>\n",
              "  </tbody>\n",
              "</table>\n",
              "</div>\n",
              "      <button class=\"colab-df-convert\" onclick=\"convertToInteractive('df-f7443845-c542-4cf7-9941-8f0c9a544170')\"\n",
              "              title=\"Convert this dataframe to an interactive table.\"\n",
              "              style=\"display:none;\">\n",
              "        \n",
              "  <svg xmlns=\"http://www.w3.org/2000/svg\" height=\"24px\"viewBox=\"0 0 24 24\"\n",
              "       width=\"24px\">\n",
              "    <path d=\"M0 0h24v24H0V0z\" fill=\"none\"/>\n",
              "    <path d=\"M18.56 5.44l.94 2.06.94-2.06 2.06-.94-2.06-.94-.94-2.06-.94 2.06-2.06.94zm-11 1L8.5 8.5l.94-2.06 2.06-.94-2.06-.94L8.5 2.5l-.94 2.06-2.06.94zm10 10l.94 2.06.94-2.06 2.06-.94-2.06-.94-.94-2.06-.94 2.06-2.06.94z\"/><path d=\"M17.41 7.96l-1.37-1.37c-.4-.4-.92-.59-1.43-.59-.52 0-1.04.2-1.43.59L10.3 9.45l-7.72 7.72c-.78.78-.78 2.05 0 2.83L4 21.41c.39.39.9.59 1.41.59.51 0 1.02-.2 1.41-.59l7.78-7.78 2.81-2.81c.8-.78.8-2.07 0-2.86zM5.41 20L4 18.59l7.72-7.72 1.47 1.35L5.41 20z\"/>\n",
              "  </svg>\n",
              "      </button>\n",
              "      \n",
              "  <style>\n",
              "    .colab-df-container {\n",
              "      display:flex;\n",
              "      flex-wrap:wrap;\n",
              "      gap: 12px;\n",
              "    }\n",
              "\n",
              "    .colab-df-convert {\n",
              "      background-color: #E8F0FE;\n",
              "      border: none;\n",
              "      border-radius: 50%;\n",
              "      cursor: pointer;\n",
              "      display: none;\n",
              "      fill: #1967D2;\n",
              "      height: 32px;\n",
              "      padding: 0 0 0 0;\n",
              "      width: 32px;\n",
              "    }\n",
              "\n",
              "    .colab-df-convert:hover {\n",
              "      background-color: #E2EBFA;\n",
              "      box-shadow: 0px 1px 2px rgba(60, 64, 67, 0.3), 0px 1px 3px 1px rgba(60, 64, 67, 0.15);\n",
              "      fill: #174EA6;\n",
              "    }\n",
              "\n",
              "    [theme=dark] .colab-df-convert {\n",
              "      background-color: #3B4455;\n",
              "      fill: #D2E3FC;\n",
              "    }\n",
              "\n",
              "    [theme=dark] .colab-df-convert:hover {\n",
              "      background-color: #434B5C;\n",
              "      box-shadow: 0px 1px 3px 1px rgba(0, 0, 0, 0.15);\n",
              "      filter: drop-shadow(0px 1px 2px rgba(0, 0, 0, 0.3));\n",
              "      fill: #FFFFFF;\n",
              "    }\n",
              "  </style>\n",
              "\n",
              "      <script>\n",
              "        const buttonEl =\n",
              "          document.querySelector('#df-f7443845-c542-4cf7-9941-8f0c9a544170 button.colab-df-convert');\n",
              "        buttonEl.style.display =\n",
              "          google.colab.kernel.accessAllowed ? 'block' : 'none';\n",
              "\n",
              "        async function convertToInteractive(key) {\n",
              "          const element = document.querySelector('#df-f7443845-c542-4cf7-9941-8f0c9a544170');\n",
              "          const dataTable =\n",
              "            await google.colab.kernel.invokeFunction('convertToInteractive',\n",
              "                                                     [key], {});\n",
              "          if (!dataTable) return;\n",
              "\n",
              "          const docLinkHtml = 'Like what you see? Visit the ' +\n",
              "            '<a target=\"_blank\" href=https://colab.research.google.com/notebooks/data_table.ipynb>data table notebook</a>'\n",
              "            + ' to learn more about interactive tables.';\n",
              "          element.innerHTML = '';\n",
              "          dataTable['output_type'] = 'display_data';\n",
              "          await google.colab.output.renderOutput(dataTable, element);\n",
              "          const docLink = document.createElement('div');\n",
              "          docLink.innerHTML = docLinkHtml;\n",
              "          element.appendChild(docLink);\n",
              "        }\n",
              "      </script>\n",
              "    </div>\n",
              "  </div>\n",
              "  "
            ],
            "text/plain": [
              "          vendor_id  passenger_count  ...  dropoff_latitude  trip_duration\n",
              "count  1.458644e+06     1.458644e+06  ...      1.458644e+06   1.458644e+06\n",
              "mean   1.534950e+00     1.664530e+00  ...      4.075180e+01   9.594923e+02\n",
              "std    4.987772e-01     1.314242e+00  ...      3.589056e-02   5.237432e+03\n",
              "min    1.000000e+00     0.000000e+00  ...      3.218114e+01   1.000000e+00\n",
              "25%    1.000000e+00     1.000000e+00  ...      4.073588e+01   3.970000e+02\n",
              "50%    2.000000e+00     1.000000e+00  ...      4.075452e+01   6.620000e+02\n",
              "75%    2.000000e+00     2.000000e+00  ...      4.076981e+01   1.075000e+03\n",
              "max    2.000000e+00     9.000000e+00  ...      4.392103e+01   3.526282e+06\n",
              "\n",
              "[8 rows x 7 columns]"
            ]
          },
          "metadata": {},
          "execution_count": 9
        }
      ],
      "source": [
        "# Get some statiscis.\n",
        "nyc_df.describe()"
      ]
    },
    {
      "cell_type": "markdown",
      "metadata": {
        "id": "N4w8hDNNFZ7v"
      },
      "source": [
        "***Points to be noted:***\n",
        "* *id can be dropped - as every ride would have different id it would'nt give any useful insight.*\n",
        "* *pickup_datetime and dropoff_time need to be changed to datetime format - currently they are in string (object) format.*\n",
        "* *extract data from datetime values.*\n",
        "* *duration is given in seconds lets convert it into minutes.*\n",
        "* *store_and_fwd_flag is a categorical variable that needs to be converted.*\n",
        "* *vendor_id consists of two values 1 and 2.*\n",
        "* *passenger_count ranges from 0-9, the difference between the 75th percentile and the max value shows the precense of outliers.*\n",
        "* *trip_duration_minutes also contains outliers.*"
      ]
    },
    {
      "cell_type": "code",
      "execution_count": null,
      "metadata": {
        "id": "4RDP3ovJFfJD"
      },
      "outputs": [],
      "source": [
        "# Change format for pickup_datetime and dropoff_time.\n",
        "nyc_df['pickup_datetime'] = pd.to_datetime(nyc_df['pickup_datetime'])\n",
        "nyc_df['dropoff_datetime'] = pd.to_datetime(nyc_df['dropoff_datetime'])"
      ]
    },
    {
      "cell_type": "code",
      "execution_count": null,
      "metadata": {
        "id": "821I-nHwVy22"
      },
      "outputs": [],
      "source": [
        "# Retrive day and month data.\n",
        "nyc_df['day'] = nyc_df.pickup_datetime.dt.weekday\n",
        "nyc_df['month'] = nyc_df.pickup_datetime.dt.month\n",
        "\n",
        "# Retrive pickup and dropoff hrs.\n",
        "nyc_df['pickup_hour'] = nyc_df.pickup_datetime.dt.hour\n",
        "nyc_df['dropoff_hour'] = nyc_df.dropoff_datetime.dt.hour"
      ]
    },
    {
      "cell_type": "code",
      "execution_count": null,
      "metadata": {
        "id": "VEaGlYgjWRG2"
      },
      "outputs": [],
      "source": [
        "# Now lets drop pickup_datetime and dropoff_datetime as we have extracted data from it.\n",
        "nyc_df.drop(['pickup_datetime', 'dropoff_datetime'], inplace=True, axis=1)"
      ]
    },
    {
      "cell_type": "code",
      "execution_count": null,
      "metadata": {
        "id": "HWJ4r5tjFfFS"
      },
      "outputs": [],
      "source": [
        "# Convert the data from seconds to mins.\n",
        "nyc_df['trip_duration_minutes']=nyc_df['trip_duration']/60\n",
        "\n",
        "# Drop duration in seconds.\n",
        "nyc_df.drop('trip_duration', inplace=True, axis=1)"
      ]
    },
    {
      "cell_type": "code",
      "execution_count": null,
      "metadata": {
        "colab": {
          "base_uri": "https://localhost:8080/"
        },
        "id": "714KNbkuFhew",
        "outputId": "82580e00-35cf-4261-8952-c66e43564547"
      },
      "outputs": [
        {
          "output_type": "stream",
          "name": "stdout",
          "text": [
            "<class 'pandas.core.frame.DataFrame'>\n",
            "RangeIndex: 1458644 entries, 0 to 1458643\n",
            "Data columns (total 13 columns):\n",
            " #   Column                 Non-Null Count    Dtype  \n",
            "---  ------                 --------------    -----  \n",
            " 0   id                     1458644 non-null  object \n",
            " 1   vendor_id              1458644 non-null  int64  \n",
            " 2   passenger_count        1458644 non-null  int64  \n",
            " 3   pickup_longitude       1458644 non-null  float64\n",
            " 4   pickup_latitude        1458644 non-null  float64\n",
            " 5   dropoff_longitude      1458644 non-null  float64\n",
            " 6   dropoff_latitude       1458644 non-null  float64\n",
            " 7   store_and_fwd_flag     1458644 non-null  object \n",
            " 8   day                    1458644 non-null  int64  \n",
            " 9   month                  1458644 non-null  int64  \n",
            " 10  pickup_hour            1458644 non-null  int64  \n",
            " 11  dropoff_hour           1458644 non-null  int64  \n",
            " 12  trip_duration_minutes  1458644 non-null  float64\n",
            "dtypes: float64(5), int64(6), object(2)\n",
            "memory usage: 144.7+ MB\n"
          ]
        }
      ],
      "source": [
        "# Recheck if formats been changed.\n",
        "nyc_df.info()"
      ]
    },
    {
      "cell_type": "markdown",
      "metadata": {
        "id": "6Us-MXlhFlKc"
      },
      "source": [
        "***Now lets bring in the charts and diagrams for better understanding.***  *😊*"
      ]
    },
    {
      "cell_type": "markdown",
      "metadata": {
        "id": "fKjAvFtGFx-h"
      },
      "source": [
        "## **Dependent Variable.**"
      ]
    },
    {
      "cell_type": "code",
      "execution_count": null,
      "metadata": {
        "colab": {
          "base_uri": "https://localhost:8080/"
        },
        "id": "nm1uzMSAKCsf",
        "outputId": "6f136e85-842b-4b3a-c010-f8da8c3111d0"
      },
      "outputs": [
        {
          "output_type": "execute_result",
          "data": {
            "text/plain": [
              "count    1.458644e+06\n",
              "mean     1.599154e+01\n",
              "std      8.729053e+01\n",
              "min      1.666667e-02\n",
              "25%      6.616667e+00\n",
              "50%      1.103333e+01\n",
              "75%      1.791667e+01\n",
              "max      5.877137e+04\n",
              "Name: trip_duration_minutes, dtype: float64"
            ]
          },
          "metadata": {},
          "execution_count": 15
        }
      ],
      "source": [
        "nyc_df['trip_duration_minutes'].describe()"
      ]
    },
    {
      "cell_type": "code",
      "execution_count": null,
      "metadata": {
        "colab": {
          "base_uri": "https://localhost:8080/"
        },
        "id": "U5iZ4h4RFhaf",
        "outputId": "5e521e97-de54-4503-b12c-e53a58d6a762"
      },
      "outputs": [
        {
          "output_type": "display_data",
          "data": {
            "image/png": "[encoded data removed]",
            "text/plain": [
              "<Figure size 1800x360 with 2 Axes>"
            ]
          },
          "metadata": {
            "needs_background": "light"
          }
        }
      ],
      "source": [
        "# Check out the trip_duration.\n",
        "fig, (ax1, ax2) = plt.subplots(1,2, figsize=(25,5))\n",
        "# plt.figure(figsize=(10,5))\n",
        "sns.distplot(nyc_df['trip_duration_minutes'], color='orange', ax=ax1)\n",
        "sns.boxplot(nyc_df['trip_duration_minutes'], color='orange', ax=ax2)\n",
        "plt.show()"
      ]
    },
    {
      "cell_type": "markdown",
      "metadata": {
        "id": "deV6gy9qF8Cn"
      },
      "source": [
        "* ***trip_duration_minutes is positively skewed.***\n",
        "* ***also it seems there are few extreme values that we will need to check.***"
      ]
    },
    {
      "cell_type": "code",
      "execution_count": null,
      "metadata": {
        "colab": {
          "base_uri": "https://localhost:8080/"
        },
        "id": "o6UDNbSfAlRr",
        "outputId": "9f13a8ec-ea89-4fe5-abf8-56003a6d8849"
      },
      "outputs": [
        {
          "output_type": "execute_result",
          "data": {
            "text/html": [
              "\n",
              "  <div id=\"df-ba3cd22d-5f8d-40a9-8685-770275e2772e\">\n",
              "    <div class=\"colab-df-container\">\n",
              "      <div>\n",
              "<style scoped>\n",
              "    .dataframe tbody tr th:only-of-type {\n",
              "        vertical-align: middle;\n",
              "    }\n",
              "\n",
              "    .dataframe tbody tr th {\n",
              "        vertical-align: top;\n",
              "    }\n",
              "\n",
              "    .dataframe thead th {\n",
              "        text-align: right;\n",
              "    }\n",
              "</style>\n",
              "<table border=\"1\" class=\"dataframe\">\n",
              "  <thead>\n",
              "    <tr style=\"text-align: right;\">\n",
              "      <th></th>\n",
              "      <th>id</th>\n",
              "      <th>vendor_id</th>\n",
              "      <th>passenger_count</th>\n",
              "      <th>pickup_longitude</th>\n",
              "      <th>pickup_latitude</th>\n",
              "      <th>dropoff_longitude</th>\n",
              "      <th>dropoff_latitude</th>\n",
              "      <th>store_and_fwd_flag</th>\n",
              "      <th>day</th>\n",
              "      <th>month</th>\n",
              "      <th>pickup_hour</th>\n",
              "      <th>dropoff_hour</th>\n",
              "      <th>trip_duration_minutes</th>\n",
              "    </tr>\n",
              "  </thead>\n",
              "  <tbody>\n",
              "    <tr>\n",
              "      <th>355003</th>\n",
              "      <td>id1864733</td>\n",
              "      <td>1</td>\n",
              "      <td>1</td>\n",
              "      <td>-73.789650</td>\n",
              "      <td>40.643559</td>\n",
              "      <td>-73.956810</td>\n",
              "      <td>40.773087</td>\n",
              "      <td>N</td>\n",
              "      <td>1</td>\n",
              "      <td>1</td>\n",
              "      <td>0</td>\n",
              "      <td>11</td>\n",
              "      <td>32328.933333</td>\n",
              "    </tr>\n",
              "    <tr>\n",
              "      <th>680594</th>\n",
              "      <td>id0369307</td>\n",
              "      <td>1</td>\n",
              "      <td>2</td>\n",
              "      <td>-73.921677</td>\n",
              "      <td>40.735252</td>\n",
              "      <td>-73.984749</td>\n",
              "      <td>40.759979</td>\n",
              "      <td>N</td>\n",
              "      <td>5</td>\n",
              "      <td>2</td>\n",
              "      <td>22</td>\n",
              "      <td>15</td>\n",
              "      <td>34159.633333</td>\n",
              "    </tr>\n",
              "    <tr>\n",
              "      <th>924150</th>\n",
              "      <td>id1325766</td>\n",
              "      <td>1</td>\n",
              "      <td>1</td>\n",
              "      <td>-73.983788</td>\n",
              "      <td>40.742325</td>\n",
              "      <td>-73.985489</td>\n",
              "      <td>40.727676</td>\n",
              "      <td>N</td>\n",
              "      <td>1</td>\n",
              "      <td>1</td>\n",
              "      <td>6</td>\n",
              "      <td>1</td>\n",
              "      <td>37126.866667</td>\n",
              "    </tr>\n",
              "    <tr>\n",
              "      <th>978383</th>\n",
              "      <td>id0053347</td>\n",
              "      <td>1</td>\n",
              "      <td>1</td>\n",
              "      <td>-73.783905</td>\n",
              "      <td>40.648632</td>\n",
              "      <td>-73.978271</td>\n",
              "      <td>40.750202</td>\n",
              "      <td>N</td>\n",
              "      <td>5</td>\n",
              "      <td>2</td>\n",
              "      <td>22</td>\n",
              "      <td>18</td>\n",
              "      <td>58771.366667</td>\n",
              "    </tr>\n",
              "  </tbody>\n",
              "</table>\n",
              "</div>\n",
              "      <button class=\"colab-df-convert\" onclick=\"convertToInteractive('df-ba3cd22d-5f8d-40a9-8685-770275e2772e')\"\n",
              "              title=\"Convert this dataframe to an interactive table.\"\n",
              "              style=\"display:none;\">\n",
              "        \n",
              "  <svg xmlns=\"http://www.w3.org/2000/svg\" height=\"24px\"viewBox=\"0 0 24 24\"\n",
              "       width=\"24px\">\n",
              "    <path d=\"M0 0h24v24H0V0z\" fill=\"none\"/>\n",
              "    <path d=\"M18.56 5.44l.94 2.06.94-2.06 2.06-.94-2.06-.94-.94-2.06-.94 2.06-2.06.94zm-11 1L8.5 8.5l.94-2.06 2.06-.94-2.06-.94L8.5 2.5l-.94 2.06-2.06.94zm10 10l.94 2.06.94-2.06 2.06-.94-2.06-.94-.94-2.06-.94 2.06-2.06.94z\"/><path d=\"M17.41 7.96l-1.37-1.37c-.4-.4-.92-.59-1.43-.59-.52 0-1.04.2-1.43.59L10.3 9.45l-7.72 7.72c-.78.78-.78 2.05 0 2.83L4 21.41c.39.39.9.59 1.41.59.51 0 1.02-.2 1.41-.59l7.78-7.78 2.81-2.81c.8-.78.8-2.07 0-2.86zM5.41 20L4 18.59l7.72-7.72 1.47 1.35L5.41 20z\"/>\n",
              "  </svg>\n",
              "      </button>\n",
              "      \n",
              "  <style>\n",
              "    .colab-df-container {\n",
              "      display:flex;\n",
              "      flex-wrap:wrap;\n",
              "      gap: 12px;\n",
              "    }\n",
              "\n",
              "    .colab-df-convert {\n",
              "      background-color: #E8F0FE;\n",
              "      border: none;\n",
              "      border-radius: 50%;\n",
              "      cursor: pointer;\n",
              "      display: none;\n",
              "      fill: #1967D2;\n",
              "      height: 32px;\n",
              "      padding: 0 0 0 0;\n",
              "      width: 32px;\n",
              "    }\n",
              "\n",
              "    .colab-df-convert:hover {\n",
              "      background-color: #E2EBFA;\n",
              "      box-shadow: 0px 1px 2px rgba(60, 64, 67, 0.3), 0px 1px 3px 1px rgba(60, 64, 67, 0.15);\n",
              "      fill: #174EA6;\n",
              "    }\n",
              "\n",
              "    [theme=dark] .colab-df-convert {\n",
              "      background-color: #3B4455;\n",
              "      fill: #D2E3FC;\n",
              "    }\n",
              "\n",
              "    [theme=dark] .colab-df-convert:hover {\n",
              "      background-color: #434B5C;\n",
              "      box-shadow: 0px 1px 3px 1px rgba(0, 0, 0, 0.15);\n",
              "      filter: drop-shadow(0px 1px 2px rgba(0, 0, 0, 0.3));\n",
              "      fill: #FFFFFF;\n",
              "    }\n",
              "  </style>\n",
              "\n",
              "      <script>\n",
              "        const buttonEl =\n",
              "          document.querySelector('#df-ba3cd22d-5f8d-40a9-8685-770275e2772e button.colab-df-convert');\n",
              "        buttonEl.style.display =\n",
              "          google.colab.kernel.accessAllowed ? 'block' : 'none';\n",
              "\n",
              "        async function convertToInteractive(key) {\n",
              "          const element = document.querySelector('#df-ba3cd22d-5f8d-40a9-8685-770275e2772e');\n",
              "          const dataTable =\n",
              "            await google.colab.kernel.invokeFunction('convertToInteractive',\n",
              "                                                     [key], {});\n",
              "          if (!dataTable) return;\n",
              "\n",
              "          const docLinkHtml = 'Like what you see? Visit the ' +\n",
              "            '<a target=\"_blank\" href=https://colab.research.google.com/notebooks/data_table.ipynb>data table notebook</a>'\n",
              "            + ' to learn more about interactive tables.';\n",
              "          element.innerHTML = '';\n",
              "          dataTable['output_type'] = 'display_data';\n",
              "          await google.colab.output.renderOutput(dataTable, element);\n",
              "          const docLink = document.createElement('div');\n",
              "          docLink.innerHTML = docLinkHtml;\n",
              "          element.appendChild(docLink);\n",
              "        }\n",
              "      </script>\n",
              "    </div>\n",
              "  </div>\n",
              "  "
            ],
            "text/plain": [
              "               id  vendor_id  ...  dropoff_hour  trip_duration_minutes\n",
              "355003  id1864733          1  ...            11           32328.933333\n",
              "680594  id0369307          1  ...            15           34159.633333\n",
              "924150  id1325766          1  ...             1           37126.866667\n",
              "978383  id0053347          1  ...            18           58771.366667\n",
              "\n",
              "[4 rows x 13 columns]"
            ]
          },
          "metadata": {},
          "execution_count": 17
        }
      ],
      "source": [
        "nyc_df[nyc_df['trip_duration_minutes'] > 10000]"
      ]
    },
    {
      "cell_type": "markdown",
      "metadata": {
        "id": "lUK6Rt29BIQV"
      },
      "source": [
        "* ***Now that we look at the extreme values these are more than 20 days, which was either due to some technical error or a vaccation was planned.***\n",
        "* ***Since there are only four values and these could only cause problems for our model lets remove these values.***"
      ]
    },
    {
      "cell_type": "code",
      "execution_count": null,
      "metadata": {
        "id": "xs0Hb-oyCSHE"
      },
      "outputs": [],
      "source": [
        "# Get rid of the extreme values.\n",
        "nyc_df = nyc_df[nyc_df['trip_duration_minutes'] < 10000]"
      ]
    },
    {
      "cell_type": "code",
      "execution_count": null,
      "metadata": {
        "colab": {
          "base_uri": "https://localhost:8080/"
        },
        "id": "FVw3GUzoJRyg",
        "outputId": "6ad3a85f-24a2-4d13-af5d-5af1693c2952"
      },
      "outputs": [
        {
          "output_type": "display_data",
          "data": {
            "image/png": "[encoded data removed]",
            "text/plain": [
              "<Figure size 1800x360 with 1 Axes>"
            ]
          },
          "metadata": {
            "needs_background": "light"
          }
        }
      ],
      "source": [
        "# Now lets check for outliers in the dependent variables.\n",
        "fig = plt.figure(figsize=(25,5))\n",
        "sns.boxplot(nyc_df['trip_duration_minutes'], color='orange')\n",
        "plt.title('trip_duration after removing extreme values.')\n",
        "plt.show()"
      ]
    },
    {
      "cell_type": "markdown",
      "metadata": {
        "id": "7DtrQpxjYS5U"
      },
      "source": [
        "* ***there are few values which maybe outliers, this could be bad for our model.***\n",
        "* ***lets look into this ahead in our analysis.***"
      ]
    },
    {
      "cell_type": "markdown",
      "metadata": {
        "id": "2F2xYpzyF2BI"
      },
      "source": [
        "## **Independent Variables.**"
      ]
    },
    {
      "cell_type": "code",
      "execution_count": null,
      "metadata": {
        "colab": {
          "base_uri": "https://localhost:8080/"
        },
        "id": "LzySFX7hTeKP",
        "outputId": "54cb7dbe-b62c-4065-dc1c-903d079b4994"
      },
      "outputs": [
        {
          "output_type": "execute_result",
          "data": {
            "text/html": [
              "\n",
              "  <div id=\"df-95aba8ee-55cd-4eef-98c1-04cbefc164bc\">\n",
              "    <div class=\"colab-df-container\">\n",
              "      <div>\n",
              "<style scoped>\n",
              "    .dataframe tbody tr th:only-of-type {\n",
              "        vertical-align: middle;\n",
              "    }\n",
              "\n",
              "    .dataframe tbody tr th {\n",
              "        vertical-align: top;\n",
              "    }\n",
              "\n",
              "    .dataframe thead th {\n",
              "        text-align: right;\n",
              "    }\n",
              "</style>\n",
              "<table border=\"1\" class=\"dataframe\">\n",
              "  <thead>\n",
              "    <tr style=\"text-align: right;\">\n",
              "      <th></th>\n",
              "      <th>id</th>\n",
              "      <th>vendor_id</th>\n",
              "      <th>passenger_count</th>\n",
              "      <th>pickup_longitude</th>\n",
              "      <th>pickup_latitude</th>\n",
              "      <th>dropoff_longitude</th>\n",
              "      <th>dropoff_latitude</th>\n",
              "      <th>store_and_fwd_flag</th>\n",
              "      <th>day</th>\n",
              "      <th>month</th>\n",
              "      <th>pickup_hour</th>\n",
              "      <th>dropoff_hour</th>\n",
              "      <th>trip_duration_minutes</th>\n",
              "    </tr>\n",
              "  </thead>\n",
              "  <tbody>\n",
              "    <tr>\n",
              "      <th>0</th>\n",
              "      <td>id2875421</td>\n",
              "      <td>2</td>\n",
              "      <td>1</td>\n",
              "      <td>-73.982155</td>\n",
              "      <td>40.767937</td>\n",
              "      <td>-73.96463</td>\n",
              "      <td>40.765602</td>\n",
              "      <td>N</td>\n",
              "      <td>0</td>\n",
              "      <td>3</td>\n",
              "      <td>17</td>\n",
              "      <td>17</td>\n",
              "      <td>7.583333</td>\n",
              "    </tr>\n",
              "  </tbody>\n",
              "</table>\n",
              "</div>\n",
              "      <button class=\"colab-df-convert\" onclick=\"convertToInteractive('df-95aba8ee-55cd-4eef-98c1-04cbefc164bc')\"\n",
              "              title=\"Convert this dataframe to an interactive table.\"\n",
              "              style=\"display:none;\">\n",
              "        \n",
              "  <svg xmlns=\"http://www.w3.org/2000/svg\" height=\"24px\"viewBox=\"0 0 24 24\"\n",
              "       width=\"24px\">\n",
              "    <path d=\"M0 0h24v24H0V0z\" fill=\"none\"/>\n",
              "    <path d=\"M18.56 5.44l.94 2.06.94-2.06 2.06-.94-2.06-.94-.94-2.06-.94 2.06-2.06.94zm-11 1L8.5 8.5l.94-2.06 2.06-.94-2.06-.94L8.5 2.5l-.94 2.06-2.06.94zm10 10l.94 2.06.94-2.06 2.06-.94-2.06-.94-.94-2.06-.94 2.06-2.06.94z\"/><path d=\"M17.41 7.96l-1.37-1.37c-.4-.4-.92-.59-1.43-.59-.52 0-1.04.2-1.43.59L10.3 9.45l-7.72 7.72c-.78.78-.78 2.05 0 2.83L4 21.41c.39.39.9.59 1.41.59.51 0 1.02-.2 1.41-.59l7.78-7.78 2.81-2.81c.8-.78.8-2.07 0-2.86zM5.41 20L4 18.59l7.72-7.72 1.47 1.35L5.41 20z\"/>\n",
              "  </svg>\n",
              "      </button>\n",
              "      \n",
              "  <style>\n",
              "    .colab-df-container {\n",
              "      display:flex;\n",
              "      flex-wrap:wrap;\n",
              "      gap: 12px;\n",
              "    }\n",
              "\n",
              "    .colab-df-convert {\n",
              "      background-color: #E8F0FE;\n",
              "      border: none;\n",
              "      border-radius: 50%;\n",
              "      cursor: pointer;\n",
              "      display: none;\n",
              "      fill: #1967D2;\n",
              "      height: 32px;\n",
              "      padding: 0 0 0 0;\n",
              "      width: 32px;\n",
              "    }\n",
              "\n",
              "    .colab-df-convert:hover {\n",
              "      background-color: #E2EBFA;\n",
              "      box-shadow: 0px 1px 2px rgba(60, 64, 67, 0.3), 0px 1px 3px 1px rgba(60, 64, 67, 0.15);\n",
              "      fill: #174EA6;\n",
              "    }\n",
              "\n",
              "    [theme=dark] .colab-df-convert {\n",
              "      background-color: #3B4455;\n",
              "      fill: #D2E3FC;\n",
              "    }\n",
              "\n",
              "    [theme=dark] .colab-df-convert:hover {\n",
              "      background-color: #434B5C;\n",
              "      box-shadow: 0px 1px 3px 1px rgba(0, 0, 0, 0.15);\n",
              "      filter: drop-shadow(0px 1px 2px rgba(0, 0, 0, 0.3));\n",
              "      fill: #FFFFFF;\n",
              "    }\n",
              "  </style>\n",
              "\n",
              "      <script>\n",
              "        const buttonEl =\n",
              "          document.querySelector('#df-95aba8ee-55cd-4eef-98c1-04cbefc164bc button.colab-df-convert');\n",
              "        buttonEl.style.display =\n",
              "          google.colab.kernel.accessAllowed ? 'block' : 'none';\n",
              "\n",
              "        async function convertToInteractive(key) {\n",
              "          const element = document.querySelector('#df-95aba8ee-55cd-4eef-98c1-04cbefc164bc');\n",
              "          const dataTable =\n",
              "            await google.colab.kernel.invokeFunction('convertToInteractive',\n",
              "                                                     [key], {});\n",
              "          if (!dataTable) return;\n",
              "\n",
              "          const docLinkHtml = 'Like what you see? Visit the ' +\n",
              "            '<a target=\"_blank\" href=https://colab.research.google.com/notebooks/data_table.ipynb>data table notebook</a>'\n",
              "            + ' to learn more about interactive tables.';\n",
              "          element.innerHTML = '';\n",
              "          dataTable['output_type'] = 'display_data';\n",
              "          await google.colab.output.renderOutput(dataTable, element);\n",
              "          const docLink = document.createElement('div');\n",
              "          docLink.innerHTML = docLinkHtml;\n",
              "          element.appendChild(docLink);\n",
              "        }\n",
              "      </script>\n",
              "    </div>\n",
              "  </div>\n",
              "  "
            ],
            "text/plain": [
              "          id  vendor_id  ...  dropoff_hour  trip_duration_minutes\n",
              "0  id2875421          2  ...            17               7.583333\n",
              "\n",
              "[1 rows x 13 columns]"
            ]
          },
          "metadata": {},
          "execution_count": 20
        }
      ],
      "source": [
        "nyc_df.head(1)"
      ]
    },
    {
      "cell_type": "code",
      "execution_count": null,
      "metadata": {
        "id": "6kiFGQ6KFVpi"
      },
      "outputs": [],
      "source": [
        "independent_variables = ['vendor_id', 'passenger_count', 'pickup_longitude', 'pickup_latitude', 'dropoff_longitude',\n",
        "                         'dropoff_latitude', 'store_and_fwd_flag', 'day', 'month', 'pickup_hour', 'dropoff_hour']"
      ]
    },
    {
      "cell_type": "markdown",
      "metadata": {
        "id": "SD3L0V6eIkDT"
      },
      "source": [
        "**vendor_id.**"
      ]
    },
    {
      "cell_type": "code",
      "execution_count": null,
      "metadata": {
        "colab": {
          "base_uri": "https://localhost:8080/"
        },
        "id": "pE8hYkjcJ0QF",
        "outputId": "b92d1597-112b-4242-f98d-20a493d52fc7"
      },
      "outputs": [
        {
          "output_type": "display_data",
          "data": {
            "image/png": "[encoded data removed]",
            "text/plain": [
              "<Figure size 432x432 with 1 Axes>"
            ]
          },
          "metadata": {}
        },
        {
          "output_type": "display_data",
          "data": {
            "image/png": "[encoded data removed]",
            "text/plain": [
              "<Figure size 432x288 with 1 Axes>"
            ]
          },
          "metadata": {
            "needs_background": "light"
          }
        }
      ],
      "source": [
        "# Calculate the trips done by each vendor.\n",
        "one = len(nyc_df[nyc_df['vendor_id'] == 1])\n",
        "two = len(nyc_df[nyc_df['vendor_id'] == 2])\n",
        "v_id = [one, two]\n",
        "v_name = ['vendor_id_1', 'vendor_id_2']\n",
        "\n",
        "# Plot it.\n",
        "fig = plt.figure(figsize=(6,6))\n",
        "plt.pie(v_id, autopct='%1.2f%%', explode=(0.01,0.01))\n",
        "plt.title('vendor_id')\n",
        "plt.legend(labels=v_name)\n",
        "\n",
        "#draw circle\n",
        "centre_circle = plt.Circle((0,0),0.70,fc='white')\n",
        "fig = plt.gcf()\n",
        "fig.gca().add_artist(centre_circle)\n",
        "\n",
        "plt.show()\n",
        "\n",
        "# Groupby trip duration\n",
        "durationByvendor = nyc_df.groupby('vendor_id', as_index=False)['trip_duration_minutes'].sum()\n",
        "sns.barplot(data=durationByvendor, x='vendor_id', y='trip_duration_minutes', palette='gist_heat')\n",
        "plt.title('vendor_id by trip_duration')\n",
        "plt.show()"
      ]
    },
    {
      "cell_type": "markdown",
      "metadata": {
        "id": "a-3AqBuvRMXl"
      },
      "source": [
        "* ***53.50% of the trips are completed by the vendor 2 and 46.50% of the trips are completed by vendor 1.***\n",
        "* ***also maximum duration is covered by vendor 2***"
      ]
    },
    {
      "cell_type": "markdown",
      "metadata": {
        "id": "iy2NHO1aXxH8"
      },
      "source": [
        "."
      ]
    },
    {
      "cell_type": "markdown",
      "metadata": {
        "id": "BwKGuHVyXyxI"
      },
      "source": [
        "**passenger_count.**"
      ]
    },
    {
      "cell_type": "code",
      "execution_count": null,
      "metadata": {
        "colab": {
          "base_uri": "https://localhost:8080/"
        },
        "id": "_zEq95fbH4ab",
        "outputId": "4a8de541-263e-4912-fbf6-b3ddad26b8d9"
      },
      "outputs": [
        {
          "output_type": "execute_result",
          "data": {
            "text/plain": [
              "count    1.458640e+06\n",
              "mean     1.664531e+00\n",
              "std      1.314244e+00\n",
              "min      0.000000e+00\n",
              "25%      1.000000e+00\n",
              "50%      1.000000e+00\n",
              "75%      2.000000e+00\n",
              "max      9.000000e+00\n",
              "Name: passenger_count, dtype: float64"
            ]
          },
          "metadata": {},
          "execution_count": 23
        }
      ],
      "source": [
        "nyc_df['passenger_count'].describe()"
      ]
    },
    {
      "cell_type": "code",
      "execution_count": null,
      "metadata": {
        "colab": {
          "base_uri": "https://localhost:8080/"
        },
        "id": "3zTYDJ3IZCrR",
        "outputId": "92f515e9-29bb-4a63-a5aa-978037b83501"
      },
      "outputs": [
        {
          "output_type": "display_data",
          "data": {
            "image/png": "[encoded data removed]",
            "text/plain": [
              "<Figure size 720x360 with 1 Axes>"
            ]
          },
          "metadata": {
            "needs_background": "light"
          }
        }
      ],
      "source": [
        "# Passenger count.\n",
        "plt.figure(figsize=(10,5))\n",
        "sns.countplot(nyc_df['passenger_count'], palette='autumn')\n",
        "plt.show()"
      ]
    },
    {
      "cell_type": "markdown",
      "metadata": {
        "id": "Ma19IlJ9Zb93"
      },
      "source": [
        "* ***some values are zero which mean either the trip was cancled or there was an error in the data entry.***\n",
        "* ***7, 8, 9 are extreme cases considering the capacity of a car, so we will get rid of them.***\n",
        "* ***most of the trips (75%) contain atmost 1 or 2 passengers.***"
      ]
    },
    {
      "cell_type": "markdown",
      "metadata": {
        "id": "JCv9vZHj_973"
      },
      "source": [
        "**Remove unwanted values from passenger_count.**"
      ]
    },
    {
      "cell_type": "code",
      "execution_count": null,
      "metadata": {
        "id": "SfTNUx85CKFk"
      },
      "outputs": [],
      "source": [
        "# Remove the extreme values from passenger_count.\n",
        "nyc_df = nyc_df[nyc_df['passenger_count'] <= 6]  # This will remove passenger values with 7,8,9 values."
      ]
    },
    {
      "cell_type": "code",
      "execution_count": null,
      "metadata": {
        "id": "CjZwS1DICKBD"
      },
      "outputs": [],
      "source": [
        "# Remove values which are zero.\n",
        "nyc_df = nyc_df[nyc_df.passenger_count != 0]"
      ]
    },
    {
      "cell_type": "code",
      "execution_count": null,
      "metadata": {
        "colab": {
          "base_uri": "https://localhost:8080/"
        },
        "id": "At5meMK9DBDI",
        "outputId": "271f75ed-b8a8-4f5e-f60f-7135e63526c4"
      },
      "outputs": [
        {
          "output_type": "display_data",
          "data": {
            "image/png": "[encoded data removed]",
            "text/plain": [
              "<Figure size 720x360 with 1 Axes>"
            ]
          },
          "metadata": {
            "needs_background": "light"
          }
        }
      ],
      "source": [
        "# Plot it.\n",
        "plt.figure(figsize=(10,5))\n",
        "sns.countplot(nyc_df['passenger_count'], palette='autumn')\n",
        "plt.show()"
      ]
    },
    {
      "cell_type": "markdown",
      "metadata": {
        "id": "3_neOweoF9JP"
      },
      "source": [
        "***Looks good*** *👍*"
      ]
    },
    {
      "cell_type": "markdown",
      "metadata": {
        "id": "-RxmiHQgdFmN"
      },
      "source": [
        "."
      ]
    },
    {
      "cell_type": "markdown",
      "metadata": {
        "id": "wNJTjDoLdG1Y"
      },
      "source": [
        "**pickup/dropoff latitude and longitude.**"
      ]
    },
    {
      "cell_type": "code",
      "execution_count": null,
      "metadata": {
        "colab": {
          "base_uri": "https://localhost:8080/"
        },
        "id": "vq4t6N0omf35",
        "outputId": "37eb51ee-27e3-4bf2-854c-e1cb63d59045"
      },
      "outputs": [
        {
          "output_type": "display_data",
          "data": {
            "image/png": "[encoded data removed]",
            "text/plain": [
              "<Figure size 1080x360 with 2 Axes>"
            ]
          },
          "metadata": {
            "needs_background": "light"
          }
        }
      ],
      "source": [
        "fig, (ax1, ax2) = plt.subplots(1,2, figsize=(15,5))\n",
        "sns.scatterplot(nyc_df['pickup_longitude'], nyc_df['pickup_latitude'], ax=ax1)\n",
        "sns.scatterplot(nyc_df['dropoff_longitude'], nyc_df['dropoff_latitude'], ax=ax2)\n",
        "plt.show()"
      ]
    },
    {
      "cell_type": "markdown",
      "metadata": {
        "id": "r5-dOadrJn8D"
      },
      "source": [
        "***Lets check whats with those extreme values.***"
      ]
    },
    {
      "cell_type": "code",
      "execution_count": null,
      "metadata": {
        "colab": {
          "base_uri": "https://localhost:8080/"
        },
        "id": "hc3Z88Q9JOaB",
        "outputId": "e2a769fe-0a25-4ae9-e8c8-4df371155386"
      },
      "outputs": [
        {
          "output_type": "execute_result",
          "data": {
            "text/html": [
              "\n",
              "  <div id=\"df-968841a3-922a-4877-bd64-946624c1df39\">\n",
              "    <div class=\"colab-df-container\">\n",
              "      <div>\n",
              "<style scoped>\n",
              "    .dataframe tbody tr th:only-of-type {\n",
              "        vertical-align: middle;\n",
              "    }\n",
              "\n",
              "    .dataframe tbody tr th {\n",
              "        vertical-align: top;\n",
              "    }\n",
              "\n",
              "    .dataframe thead th {\n",
              "        text-align: right;\n",
              "    }\n",
              "</style>\n",
              "<table border=\"1\" class=\"dataframe\">\n",
              "  <thead>\n",
              "    <tr style=\"text-align: right;\">\n",
              "      <th></th>\n",
              "      <th>id</th>\n",
              "      <th>vendor_id</th>\n",
              "      <th>passenger_count</th>\n",
              "      <th>pickup_longitude</th>\n",
              "      <th>pickup_latitude</th>\n",
              "      <th>dropoff_longitude</th>\n",
              "      <th>dropoff_latitude</th>\n",
              "      <th>store_and_fwd_flag</th>\n",
              "      <th>day</th>\n",
              "      <th>month</th>\n",
              "      <th>pickup_hour</th>\n",
              "      <th>dropoff_hour</th>\n",
              "      <th>trip_duration_minutes</th>\n",
              "    </tr>\n",
              "  </thead>\n",
              "  <tbody>\n",
              "    <tr>\n",
              "      <th>1068810</th>\n",
              "      <td>id3777240</td>\n",
              "      <td>2</td>\n",
              "      <td>2</td>\n",
              "      <td>-121.933235</td>\n",
              "      <td>37.389297</td>\n",
              "      <td>-121.933205</td>\n",
              "      <td>37.389103</td>\n",
              "      <td>N</td>\n",
              "      <td>2</td>\n",
              "      <td>1</td>\n",
              "      <td>18</td>\n",
              "      <td>18</td>\n",
              "      <td>18.416667</td>\n",
              "    </tr>\n",
              "    <tr>\n",
              "      <th>1184454</th>\n",
              "      <td>id2854272</td>\n",
              "      <td>2</td>\n",
              "      <td>2</td>\n",
              "      <td>-121.933342</td>\n",
              "      <td>37.389381</td>\n",
              "      <td>-121.933304</td>\n",
              "      <td>37.389511</td>\n",
              "      <td>N</td>\n",
              "      <td>4</td>\n",
              "      <td>2</td>\n",
              "      <td>13</td>\n",
              "      <td>13</td>\n",
              "      <td>8.316667</td>\n",
              "    </tr>\n",
              "  </tbody>\n",
              "</table>\n",
              "</div>\n",
              "      <button class=\"colab-df-convert\" onclick=\"convertToInteractive('df-968841a3-922a-4877-bd64-946624c1df39')\"\n",
              "              title=\"Convert this dataframe to an interactive table.\"\n",
              "              style=\"display:none;\">\n",
              "        \n",
              "  <svg xmlns=\"http://www.w3.org/2000/svg\" height=\"24px\"viewBox=\"0 0 24 24\"\n",
              "       width=\"24px\">\n",
              "    <path d=\"M0 0h24v24H0V0z\" fill=\"none\"/>\n",
              "    <path d=\"M18.56 5.44l.94 2.06.94-2.06 2.06-.94-2.06-.94-.94-2.06-.94 2.06-2.06.94zm-11 1L8.5 8.5l.94-2.06 2.06-.94-2.06-.94L8.5 2.5l-.94 2.06-2.06.94zm10 10l.94 2.06.94-2.06 2.06-.94-2.06-.94-.94-2.06-.94 2.06-2.06.94z\"/><path d=\"M17.41 7.96l-1.37-1.37c-.4-.4-.92-.59-1.43-.59-.52 0-1.04.2-1.43.59L10.3 9.45l-7.72 7.72c-.78.78-.78 2.05 0 2.83L4 21.41c.39.39.9.59 1.41.59.51 0 1.02-.2 1.41-.59l7.78-7.78 2.81-2.81c.8-.78.8-2.07 0-2.86zM5.41 20L4 18.59l7.72-7.72 1.47 1.35L5.41 20z\"/>\n",
              "  </svg>\n",
              "      </button>\n",
              "      \n",
              "  <style>\n",
              "    .colab-df-container {\n",
              "      display:flex;\n",
              "      flex-wrap:wrap;\n",
              "      gap: 12px;\n",
              "    }\n",
              "\n",
              "    .colab-df-convert {\n",
              "      background-color: #E8F0FE;\n",
              "      border: none;\n",
              "      border-radius: 50%;\n",
              "      cursor: pointer;\n",
              "      display: none;\n",
              "      fill: #1967D2;\n",
              "      height: 32px;\n",
              "      padding: 0 0 0 0;\n",
              "      width: 32px;\n",
              "    }\n",
              "\n",
              "    .colab-df-convert:hover {\n",
              "      background-color: #E2EBFA;\n",
              "      box-shadow: 0px 1px 2px rgba(60, 64, 67, 0.3), 0px 1px 3px 1px rgba(60, 64, 67, 0.15);\n",
              "      fill: #174EA6;\n",
              "    }\n",
              "\n",
              "    [theme=dark] .colab-df-convert {\n",
              "      background-color: #3B4455;\n",
              "      fill: #D2E3FC;\n",
              "    }\n",
              "\n",
              "    [theme=dark] .colab-df-convert:hover {\n",
              "      background-color: #434B5C;\n",
              "      box-shadow: 0px 1px 3px 1px rgba(0, 0, 0, 0.15);\n",
              "      filter: drop-shadow(0px 1px 2px rgba(0, 0, 0, 0.3));\n",
              "      fill: #FFFFFF;\n",
              "    }\n",
              "  </style>\n",
              "\n",
              "      <script>\n",
              "        const buttonEl =\n",
              "          document.querySelector('#df-968841a3-922a-4877-bd64-946624c1df39 button.colab-df-convert');\n",
              "        buttonEl.style.display =\n",
              "          google.colab.kernel.accessAllowed ? 'block' : 'none';\n",
              "\n",
              "        async function convertToInteractive(key) {\n",
              "          const element = document.querySelector('#df-968841a3-922a-4877-bd64-946624c1df39');\n",
              "          const dataTable =\n",
              "            await google.colab.kernel.invokeFunction('convertToInteractive',\n",
              "                                                     [key], {});\n",
              "          if (!dataTable) return;\n",
              "\n",
              "          const docLinkHtml = 'Like what you see? Visit the ' +\n",
              "            '<a target=\"_blank\" href=https://colab.research.google.com/notebooks/data_table.ipynb>data table notebook</a>'\n",
              "            + ' to learn more about interactive tables.';\n",
              "          element.innerHTML = '';\n",
              "          dataTable['output_type'] = 'display_data';\n",
              "          await google.colab.output.renderOutput(dataTable, element);\n",
              "          const docLink = document.createElement('div');\n",
              "          docLink.innerHTML = docLinkHtml;\n",
              "          element.appendChild(docLink);\n",
              "        }\n",
              "      </script>\n",
              "    </div>\n",
              "  </div>\n",
              "  "
            ],
            "text/plain": [
              "                id  vendor_id  ...  dropoff_hour  trip_duration_minutes\n",
              "1068810  id3777240          2  ...            18              18.416667\n",
              "1184454  id2854272          2  ...            13               8.316667\n",
              "\n",
              "[2 rows x 13 columns]"
            ]
          },
          "metadata": {},
          "execution_count": 29
        }
      ],
      "source": [
        "nyc_df[nyc_df['pickup_longitude'] < -120]"
      ]
    },
    {
      "cell_type": "code",
      "execution_count": null,
      "metadata": {
        "colab": {
          "base_uri": "https://localhost:8080/"
        },
        "id": "FpBr2EZcJyEp",
        "outputId": "67f3fb8d-a473-458e-cbc0-ec41694c06dd"
      },
      "outputs": [
        {
          "output_type": "execute_result",
          "data": {
            "text/html": [
              "\n",
              "  <div id=\"df-ed5a2163-652e-4cc6-a028-bf0a048a8b67\">\n",
              "    <div class=\"colab-df-container\">\n",
              "      <div>\n",
              "<style scoped>\n",
              "    .dataframe tbody tr th:only-of-type {\n",
              "        vertical-align: middle;\n",
              "    }\n",
              "\n",
              "    .dataframe tbody tr th {\n",
              "        vertical-align: top;\n",
              "    }\n",
              "\n",
              "    .dataframe thead th {\n",
              "        text-align: right;\n",
              "    }\n",
              "</style>\n",
              "<table border=\"1\" class=\"dataframe\">\n",
              "  <thead>\n",
              "    <tr style=\"text-align: right;\">\n",
              "      <th></th>\n",
              "      <th>id</th>\n",
              "      <th>vendor_id</th>\n",
              "      <th>passenger_count</th>\n",
              "      <th>pickup_longitude</th>\n",
              "      <th>pickup_latitude</th>\n",
              "      <th>dropoff_longitude</th>\n",
              "      <th>dropoff_latitude</th>\n",
              "      <th>store_and_fwd_flag</th>\n",
              "      <th>day</th>\n",
              "      <th>month</th>\n",
              "      <th>pickup_hour</th>\n",
              "      <th>dropoff_hour</th>\n",
              "      <th>trip_duration_minutes</th>\n",
              "    </tr>\n",
              "  </thead>\n",
              "  <tbody>\n",
              "    <tr>\n",
              "      <th>184925</th>\n",
              "      <td>id2306955</td>\n",
              "      <td>1</td>\n",
              "      <td>1</td>\n",
              "      <td>-72.809669</td>\n",
              "      <td>51.881084</td>\n",
              "      <td>-73.987228</td>\n",
              "      <td>40.750599</td>\n",
              "      <td>N</td>\n",
              "      <td>5</td>\n",
              "      <td>5</td>\n",
              "      <td>18</td>\n",
              "      <td>19</td>\n",
              "      <td>13.2</td>\n",
              "    </tr>\n",
              "  </tbody>\n",
              "</table>\n",
              "</div>\n",
              "      <button class=\"colab-df-convert\" onclick=\"convertToInteractive('df-ed5a2163-652e-4cc6-a028-bf0a048a8b67')\"\n",
              "              title=\"Convert this dataframe to an interactive table.\"\n",
              "              style=\"display:none;\">\n",
              "        \n",
              "  <svg xmlns=\"http://www.w3.org/2000/svg\" height=\"24px\"viewBox=\"0 0 24 24\"\n",
              "       width=\"24px\">\n",
              "    <path d=\"M0 0h24v24H0V0z\" fill=\"none\"/>\n",
              "    <path d=\"M18.56 5.44l.94 2.06.94-2.06 2.06-.94-2.06-.94-.94-2.06-.94 2.06-2.06.94zm-11 1L8.5 8.5l.94-2.06 2.06-.94-2.06-.94L8.5 2.5l-.94 2.06-2.06.94zm10 10l.94 2.06.94-2.06 2.06-.94-2.06-.94-.94-2.06-.94 2.06-2.06.94z\"/><path d=\"M17.41 7.96l-1.37-1.37c-.4-.4-.92-.59-1.43-.59-.52 0-1.04.2-1.43.59L10.3 9.45l-7.72 7.72c-.78.78-.78 2.05 0 2.83L4 21.41c.39.39.9.59 1.41.59.51 0 1.02-.2 1.41-.59l7.78-7.78 2.81-2.81c.8-.78.8-2.07 0-2.86zM5.41 20L4 18.59l7.72-7.72 1.47 1.35L5.41 20z\"/>\n",
              "  </svg>\n",
              "      </button>\n",
              "      \n",
              "  <style>\n",
              "    .colab-df-container {\n",
              "      display:flex;\n",
              "      flex-wrap:wrap;\n",
              "      gap: 12px;\n",
              "    }\n",
              "\n",
              "    .colab-df-convert {\n",
              "      background-color: #E8F0FE;\n",
              "      border: none;\n",
              "      border-radius: 50%;\n",
              "      cursor: pointer;\n",
              "      display: none;\n",
              "      fill: #1967D2;\n",
              "      height: 32px;\n",
              "      padding: 0 0 0 0;\n",
              "      width: 32px;\n",
              "    }\n",
              "\n",
              "    .colab-df-convert:hover {\n",
              "      background-color: #E2EBFA;\n",
              "      box-shadow: 0px 1px 2px rgba(60, 64, 67, 0.3), 0px 1px 3px 1px rgba(60, 64, 67, 0.15);\n",
              "      fill: #174EA6;\n",
              "    }\n",
              "\n",
              "    [theme=dark] .colab-df-convert {\n",
              "      background-color: #3B4455;\n",
              "      fill: #D2E3FC;\n",
              "    }\n",
              "\n",
              "    [theme=dark] .colab-df-convert:hover {\n",
              "      background-color: #434B5C;\n",
              "      box-shadow: 0px 1px 3px 1px rgba(0, 0, 0, 0.15);\n",
              "      filter: drop-shadow(0px 1px 2px rgba(0, 0, 0, 0.3));\n",
              "      fill: #FFFFFF;\n",
              "    }\n",
              "  </style>\n",
              "\n",
              "      <script>\n",
              "        const buttonEl =\n",
              "          document.querySelector('#df-ed5a2163-652e-4cc6-a028-bf0a048a8b67 button.colab-df-convert');\n",
              "        buttonEl.style.display =\n",
              "          google.colab.kernel.accessAllowed ? 'block' : 'none';\n",
              "\n",
              "        async function convertToInteractive(key) {\n",
              "          const element = document.querySelector('#df-ed5a2163-652e-4cc6-a028-bf0a048a8b67');\n",
              "          const dataTable =\n",
              "            await google.colab.kernel.invokeFunction('convertToInteractive',\n",
              "                                                     [key], {});\n",
              "          if (!dataTable) return;\n",
              "\n",
              "          const docLinkHtml = 'Like what you see? Visit the ' +\n",
              "            '<a target=\"_blank\" href=https://colab.research.google.com/notebooks/data_table.ipynb>data table notebook</a>'\n",
              "            + ' to learn more about interactive tables.';\n",
              "          element.innerHTML = '';\n",
              "          dataTable['output_type'] = 'display_data';\n",
              "          await google.colab.output.renderOutput(dataTable, element);\n",
              "          const docLink = document.createElement('div');\n",
              "          docLink.innerHTML = docLinkHtml;\n",
              "          element.appendChild(docLink);\n",
              "        }\n",
              "      </script>\n",
              "    </div>\n",
              "  </div>\n",
              "  "
            ],
            "text/plain": [
              "               id  vendor_id  ...  dropoff_hour  trip_duration_minutes\n",
              "184925  id2306955          1  ...            19                   13.2\n",
              "\n",
              "[1 rows x 13 columns]"
            ]
          },
          "metadata": {},
          "execution_count": 30
        }
      ],
      "source": [
        "nyc_df[nyc_df['pickup_latitude'] > 50]"
      ]
    },
    {
      "cell_type": "code",
      "execution_count": null,
      "metadata": {
        "colab": {
          "base_uri": "https://localhost:8080/"
        },
        "id": "iVMisFGsmf0u",
        "outputId": "dc91a65b-312e-4227-bad9-04302bbe3861"
      },
      "outputs": [
        {
          "output_type": "execute_result",
          "data": {
            "text/html": [
              "\n",
              "  <div id=\"df-1d0abb45-dded-422d-b524-2a2a56146a75\">\n",
              "    <div class=\"colab-df-container\">\n",
              "      <div>\n",
              "<style scoped>\n",
              "    .dataframe tbody tr th:only-of-type {\n",
              "        vertical-align: middle;\n",
              "    }\n",
              "\n",
              "    .dataframe tbody tr th {\n",
              "        vertical-align: top;\n",
              "    }\n",
              "\n",
              "    .dataframe thead th {\n",
              "        text-align: right;\n",
              "    }\n",
              "</style>\n",
              "<table border=\"1\" class=\"dataframe\">\n",
              "  <thead>\n",
              "    <tr style=\"text-align: right;\">\n",
              "      <th></th>\n",
              "      <th>id</th>\n",
              "      <th>vendor_id</th>\n",
              "      <th>passenger_count</th>\n",
              "      <th>pickup_longitude</th>\n",
              "      <th>pickup_latitude</th>\n",
              "      <th>dropoff_longitude</th>\n",
              "      <th>dropoff_latitude</th>\n",
              "      <th>store_and_fwd_flag</th>\n",
              "      <th>day</th>\n",
              "      <th>month</th>\n",
              "      <th>pickup_hour</th>\n",
              "      <th>dropoff_hour</th>\n",
              "      <th>trip_duration_minutes</th>\n",
              "    </tr>\n",
              "  </thead>\n",
              "  <tbody>\n",
              "    <tr>\n",
              "      <th>1068810</th>\n",
              "      <td>id3777240</td>\n",
              "      <td>2</td>\n",
              "      <td>2</td>\n",
              "      <td>-121.933235</td>\n",
              "      <td>37.389297</td>\n",
              "      <td>-121.933205</td>\n",
              "      <td>37.389103</td>\n",
              "      <td>N</td>\n",
              "      <td>2</td>\n",
              "      <td>1</td>\n",
              "      <td>18</td>\n",
              "      <td>18</td>\n",
              "      <td>18.416667</td>\n",
              "    </tr>\n",
              "    <tr>\n",
              "      <th>1184454</th>\n",
              "      <td>id2854272</td>\n",
              "      <td>2</td>\n",
              "      <td>2</td>\n",
              "      <td>-121.933342</td>\n",
              "      <td>37.389381</td>\n",
              "      <td>-121.933304</td>\n",
              "      <td>37.389511</td>\n",
              "      <td>N</td>\n",
              "      <td>4</td>\n",
              "      <td>2</td>\n",
              "      <td>13</td>\n",
              "      <td>13</td>\n",
              "      <td>8.316667</td>\n",
              "    </tr>\n",
              "  </tbody>\n",
              "</table>\n",
              "</div>\n",
              "      <button class=\"colab-df-convert\" onclick=\"convertToInteractive('df-1d0abb45-dded-422d-b524-2a2a56146a75')\"\n",
              "              title=\"Convert this dataframe to an interactive table.\"\n",
              "              style=\"display:none;\">\n",
              "        \n",
              "  <svg xmlns=\"http://www.w3.org/2000/svg\" height=\"24px\"viewBox=\"0 0 24 24\"\n",
              "       width=\"24px\">\n",
              "    <path d=\"M0 0h24v24H0V0z\" fill=\"none\"/>\n",
              "    <path d=\"M18.56 5.44l.94 2.06.94-2.06 2.06-.94-2.06-.94-.94-2.06-.94 2.06-2.06.94zm-11 1L8.5 8.5l.94-2.06 2.06-.94-2.06-.94L8.5 2.5l-.94 2.06-2.06.94zm10 10l.94 2.06.94-2.06 2.06-.94-2.06-.94-.94-2.06-.94 2.06-2.06.94z\"/><path d=\"M17.41 7.96l-1.37-1.37c-.4-.4-.92-.59-1.43-.59-.52 0-1.04.2-1.43.59L10.3 9.45l-7.72 7.72c-.78.78-.78 2.05 0 2.83L4 21.41c.39.39.9.59 1.41.59.51 0 1.02-.2 1.41-.59l7.78-7.78 2.81-2.81c.8-.78.8-2.07 0-2.86zM5.41 20L4 18.59l7.72-7.72 1.47 1.35L5.41 20z\"/>\n",
              "  </svg>\n",
              "      </button>\n",
              "      \n",
              "  <style>\n",
              "    .colab-df-container {\n",
              "      display:flex;\n",
              "      flex-wrap:wrap;\n",
              "      gap: 12px;\n",
              "    }\n",
              "\n",
              "    .colab-df-convert {\n",
              "      background-color: #E8F0FE;\n",
              "      border: none;\n",
              "      border-radius: 50%;\n",
              "      cursor: pointer;\n",
              "      display: none;\n",
              "      fill: #1967D2;\n",
              "      height: 32px;\n",
              "      padding: 0 0 0 0;\n",
              "      width: 32px;\n",
              "    }\n",
              "\n",
              "    .colab-df-convert:hover {\n",
              "      background-color: #E2EBFA;\n",
              "      box-shadow: 0px 1px 2px rgba(60, 64, 67, 0.3), 0px 1px 3px 1px rgba(60, 64, 67, 0.15);\n",
              "      fill: #174EA6;\n",
              "    }\n",
              "\n",
              "    [theme=dark] .colab-df-convert {\n",
              "      background-color: #3B4455;\n",
              "      fill: #D2E3FC;\n",
              "    }\n",
              "\n",
              "    [theme=dark] .colab-df-convert:hover {\n",
              "      background-color: #434B5C;\n",
              "      box-shadow: 0px 1px 3px 1px rgba(0, 0, 0, 0.15);\n",
              "      filter: drop-shadow(0px 1px 2px rgba(0, 0, 0, 0.3));\n",
              "      fill: #FFFFFF;\n",
              "    }\n",
              "  </style>\n",
              "\n",
              "      <script>\n",
              "        const buttonEl =\n",
              "          document.querySelector('#df-1d0abb45-dded-422d-b524-2a2a56146a75 button.colab-df-convert');\n",
              "        buttonEl.style.display =\n",
              "          google.colab.kernel.accessAllowed ? 'block' : 'none';\n",
              "\n",
              "        async function convertToInteractive(key) {\n",
              "          const element = document.querySelector('#df-1d0abb45-dded-422d-b524-2a2a56146a75');\n",
              "          const dataTable =\n",
              "            await google.colab.kernel.invokeFunction('convertToInteractive',\n",
              "                                                     [key], {});\n",
              "          if (!dataTable) return;\n",
              "\n",
              "          const docLinkHtml = 'Like what you see? Visit the ' +\n",
              "            '<a target=\"_blank\" href=https://colab.research.google.com/notebooks/data_table.ipynb>data table notebook</a>'\n",
              "            + ' to learn more about interactive tables.';\n",
              "          element.innerHTML = '';\n",
              "          dataTable['output_type'] = 'display_data';\n",
              "          await google.colab.output.renderOutput(dataTable, element);\n",
              "          const docLink = document.createElement('div');\n",
              "          docLink.innerHTML = docLinkHtml;\n",
              "          element.appendChild(docLink);\n",
              "        }\n",
              "      </script>\n",
              "    </div>\n",
              "  </div>\n",
              "  "
            ],
            "text/plain": [
              "                id  vendor_id  ...  dropoff_hour  trip_duration_minutes\n",
              "1068810  id3777240          2  ...            18              18.416667\n",
              "1184454  id2854272          2  ...            13               8.316667\n",
              "\n",
              "[2 rows x 13 columns]"
            ]
          },
          "metadata": {},
          "execution_count": 31
        }
      ],
      "source": [
        "nyc_df[nyc_df['dropoff_longitude'] < -120]"
      ]
    },
    {
      "cell_type": "code",
      "execution_count": null,
      "metadata": {
        "colab": {
          "base_uri": "https://localhost:8080/"
        },
        "id": "JXSAzKJUKNvC",
        "outputId": "7ce43cfe-00f0-4281-974c-0ac66e365bde"
      },
      "outputs": [
        {
          "output_type": "execute_result",
          "data": {
            "text/html": [
              "\n",
              "  <div id=\"df-8e6e7088-e077-4532-8ce6-115f9f2f90fa\">\n",
              "    <div class=\"colab-df-container\">\n",
              "      <div>\n",
              "<style scoped>\n",
              "    .dataframe tbody tr th:only-of-type {\n",
              "        vertical-align: middle;\n",
              "    }\n",
              "\n",
              "    .dataframe tbody tr th {\n",
              "        vertical-align: top;\n",
              "    }\n",
              "\n",
              "    .dataframe thead th {\n",
              "        text-align: right;\n",
              "    }\n",
              "</style>\n",
              "<table border=\"1\" class=\"dataframe\">\n",
              "  <thead>\n",
              "    <tr style=\"text-align: right;\">\n",
              "      <th></th>\n",
              "      <th>id</th>\n",
              "      <th>vendor_id</th>\n",
              "      <th>passenger_count</th>\n",
              "      <th>pickup_longitude</th>\n",
              "      <th>pickup_latitude</th>\n",
              "      <th>dropoff_longitude</th>\n",
              "      <th>dropoff_latitude</th>\n",
              "      <th>store_and_fwd_flag</th>\n",
              "      <th>day</th>\n",
              "      <th>month</th>\n",
              "      <th>pickup_hour</th>\n",
              "      <th>dropoff_hour</th>\n",
              "      <th>trip_duration_minutes</th>\n",
              "    </tr>\n",
              "  </thead>\n",
              "  <tbody>\n",
              "    <tr>\n",
              "      <th>275644</th>\n",
              "      <td>id0978162</td>\n",
              "      <td>1</td>\n",
              "      <td>4</td>\n",
              "      <td>-75.354332</td>\n",
              "      <td>34.712234</td>\n",
              "      <td>-73.834923</td>\n",
              "      <td>32.181141</td>\n",
              "      <td>N</td>\n",
              "      <td>2</td>\n",
              "      <td>2</td>\n",
              "      <td>16</td>\n",
              "      <td>16</td>\n",
              "      <td>14.583333</td>\n",
              "    </tr>\n",
              "  </tbody>\n",
              "</table>\n",
              "</div>\n",
              "      <button class=\"colab-df-convert\" onclick=\"convertToInteractive('df-8e6e7088-e077-4532-8ce6-115f9f2f90fa')\"\n",
              "              title=\"Convert this dataframe to an interactive table.\"\n",
              "              style=\"display:none;\">\n",
              "        \n",
              "  <svg xmlns=\"http://www.w3.org/2000/svg\" height=\"24px\"viewBox=\"0 0 24 24\"\n",
              "       width=\"24px\">\n",
              "    <path d=\"M0 0h24v24H0V0z\" fill=\"none\"/>\n",
              "    <path d=\"M18.56 5.44l.94 2.06.94-2.06 2.06-.94-2.06-.94-.94-2.06-.94 2.06-2.06.94zm-11 1L8.5 8.5l.94-2.06 2.06-.94-2.06-.94L8.5 2.5l-.94 2.06-2.06.94zm10 10l.94 2.06.94-2.06 2.06-.94-2.06-.94-.94-2.06-.94 2.06-2.06.94z\"/><path d=\"M17.41 7.96l-1.37-1.37c-.4-.4-.92-.59-1.43-.59-.52 0-1.04.2-1.43.59L10.3 9.45l-7.72 7.72c-.78.78-.78 2.05 0 2.83L4 21.41c.39.39.9.59 1.41.59.51 0 1.02-.2 1.41-.59l7.78-7.78 2.81-2.81c.8-.78.8-2.07 0-2.86zM5.41 20L4 18.59l7.72-7.72 1.47 1.35L5.41 20z\"/>\n",
              "  </svg>\n",
              "      </button>\n",
              "      \n",
              "  <style>\n",
              "    .colab-df-container {\n",
              "      display:flex;\n",
              "      flex-wrap:wrap;\n",
              "      gap: 12px;\n",
              "    }\n",
              "\n",
              "    .colab-df-convert {\n",
              "      background-color: #E8F0FE;\n",
              "      border: none;\n",
              "      border-radius: 50%;\n",
              "      cursor: pointer;\n",
              "      display: none;\n",
              "      fill: #1967D2;\n",
              "      height: 32px;\n",
              "      padding: 0 0 0 0;\n",
              "      width: 32px;\n",
              "    }\n",
              "\n",
              "    .colab-df-convert:hover {\n",
              "      background-color: #E2EBFA;\n",
              "      box-shadow: 0px 1px 2px rgba(60, 64, 67, 0.3), 0px 1px 3px 1px rgba(60, 64, 67, 0.15);\n",
              "      fill: #174EA6;\n",
              "    }\n",
              "\n",
              "    [theme=dark] .colab-df-convert {\n",
              "      background-color: #3B4455;\n",
              "      fill: #D2E3FC;\n",
              "    }\n",
              "\n",
              "    [theme=dark] .colab-df-convert:hover {\n",
              "      background-color: #434B5C;\n",
              "      box-shadow: 0px 1px 3px 1px rgba(0, 0, 0, 0.15);\n",
              "      filter: drop-shadow(0px 1px 2px rgba(0, 0, 0, 0.3));\n",
              "      fill: #FFFFFF;\n",
              "    }\n",
              "  </style>\n",
              "\n",
              "      <script>\n",
              "        const buttonEl =\n",
              "          document.querySelector('#df-8e6e7088-e077-4532-8ce6-115f9f2f90fa button.colab-df-convert');\n",
              "        buttonEl.style.display =\n",
              "          google.colab.kernel.accessAllowed ? 'block' : 'none';\n",
              "\n",
              "        async function convertToInteractive(key) {\n",
              "          const element = document.querySelector('#df-8e6e7088-e077-4532-8ce6-115f9f2f90fa');\n",
              "          const dataTable =\n",
              "            await google.colab.kernel.invokeFunction('convertToInteractive',\n",
              "                                                     [key], {});\n",
              "          if (!dataTable) return;\n",
              "\n",
              "          const docLinkHtml = 'Like what you see? Visit the ' +\n",
              "            '<a target=\"_blank\" href=https://colab.research.google.com/notebooks/data_table.ipynb>data table notebook</a>'\n",
              "            + ' to learn more about interactive tables.';\n",
              "          element.innerHTML = '';\n",
              "          dataTable['output_type'] = 'display_data';\n",
              "          await google.colab.output.renderOutput(dataTable, element);\n",
              "          const docLink = document.createElement('div');\n",
              "          docLink.innerHTML = docLinkHtml;\n",
              "          element.appendChild(docLink);\n",
              "        }\n",
              "      </script>\n",
              "    </div>\n",
              "  </div>\n",
              "  "
            ],
            "text/plain": [
              "               id  vendor_id  ...  dropoff_hour  trip_duration_minutes\n",
              "275644  id0978162          1  ...            16              14.583333\n",
              "\n",
              "[1 rows x 13 columns]"
            ]
          },
          "metadata": {},
          "execution_count": 32
        }
      ],
      "source": [
        "nyc_df[nyc_df['dropoff_latitude'] < 34]"
      ]
    },
    {
      "cell_type": "markdown",
      "metadata": {
        "id": "61sCFP4CN-T7"
      },
      "source": [
        "***Lets drop these values.***"
      ]
    },
    {
      "cell_type": "code",
      "execution_count": null,
      "metadata": {
        "id": "xQxQ6FfNOCX-"
      },
      "outputs": [],
      "source": [
        "nyc_df = nyc_df[nyc_df.id != 'id3777240']\n",
        "nyc_df = nyc_df[nyc_df.id != 'id2854272']\n",
        "nyc_df = nyc_df[nyc_df.id != 'id2306955']\n",
        "nyc_df = nyc_df[nyc_df.id != 'id0978162']"
      ]
    },
    {
      "cell_type": "code",
      "execution_count": null,
      "metadata": {
        "colab": {
          "base_uri": "https://localhost:8080/"
        },
        "id": "7c5XcEp-RqVh",
        "outputId": "83e65046-372e-4be2-d189-e7f15477a5c9"
      },
      "outputs": [
        {
          "output_type": "display_data",
          "data": {
            "image/png": "[encoded data removed]",
            "text/plain": [
              "<Figure size 1080x360 with 2 Axes>"
            ]
          },
          "metadata": {
            "needs_background": "light"
          }
        }
      ],
      "source": [
        "fig, (ax1, ax2) = plt.subplots(1,2, figsize=(15,5))\n",
        "sns.scatterplot(nyc_df['pickup_longitude'], nyc_df['pickup_latitude'], ax=ax1)\n",
        "sns.scatterplot(nyc_df['dropoff_longitude'], nyc_df['dropoff_latitude'], ax=ax2)\n",
        "plt.show()"
      ]
    },
    {
      "cell_type": "markdown",
      "metadata": {
        "id": "GbWfw9CjBAH3"
      },
      "source": [
        "***It looks better now.***"
      ]
    },
    {
      "cell_type": "markdown",
      "metadata": {
        "id": "y-TKktihmgbA"
      },
      "source": [
        "."
      ]
    },
    {
      "cell_type": "markdown",
      "metadata": {
        "id": "f0Kz1BQbmhj3"
      },
      "source": [
        "**store_and_fwd_flag.**"
      ]
    },
    {
      "cell_type": "code",
      "execution_count": null,
      "metadata": {
        "colab": {
          "base_uri": "https://localhost:8080/"
        },
        "id": "nY4AZgjjmnkT",
        "outputId": "919c7dd3-9356-4e47-9127-f87b26971c33"
      },
      "outputs": [
        {
          "output_type": "execute_result",
          "data": {
            "text/plain": [
              "count     1458571\n",
              "unique          2\n",
              "top             N\n",
              "freq      1450529\n",
              "Name: store_and_fwd_flag, dtype: object"
            ]
          },
          "metadata": {},
          "execution_count": 35
        }
      ],
      "source": [
        "nyc_df['store_and_fwd_flag'].describe()"
      ]
    },
    {
      "cell_type": "code",
      "execution_count": null,
      "metadata": {
        "colab": {
          "base_uri": "https://localhost:8080/"
        },
        "id": "YVUnEsQAmnfh",
        "outputId": "2b5de3a8-a1b7-489e-da1b-5a06c9c4507a"
      },
      "outputs": [
        {
          "output_type": "display_data",
          "data": {
            "image/png": "[encoded data removed]",
            "text/plain": [
              "<Figure size 504x360 with 1 Axes>"
            ]
          },
          "metadata": {
            "needs_background": "light"
          }
        }
      ],
      "source": [
        "# Plot it.\n",
        "fig = plt.figure(figsize=(7,5))\n",
        "plot = sns.countplot(nyc_df['store_and_fwd_flag'], palette='gist_heat')\n",
        "\n",
        "total = len(nyc_df)\n",
        "for p in plot.patches:\n",
        "    percentage = f'{100 * p.get_height() / total:.1f}%\\n'\n",
        "    x = p.get_x() + p.get_width() / 2\n",
        "    y = p.get_height()\n",
        "    plot.annotate(percentage, (x, y), ha='center', va='center')\n",
        "\n",
        "plt.tight_layout()\n",
        "plt.show()"
      ]
    },
    {
      "cell_type": "markdown",
      "metadata": {
        "id": "zlOLu-yFt5Hg"
      },
      "source": [
        "* ***99.4% of the data values are N and only 0.6% 0f values are Y, which means most of the data was uploaded directly without storing it and forwarding.***\n",
        "* ***this ia a categorical feature which we will be converting into numeric by getting dummies.***"
      ]
    },
    {
      "cell_type": "markdown",
      "metadata": {
        "id": "sMDjn19Hx-cz"
      },
      "source": [
        "."
      ]
    },
    {
      "cell_type": "markdown",
      "metadata": {
        "id": "nkZYsJhZx_Tw"
      },
      "source": [
        "**day/month\tand pickup_hour/dropoff_hour**"
      ]
    },
    {
      "cell_type": "code",
      "execution_count": null,
      "metadata": {
        "colab": {
          "base_uri": "https://localhost:8080/"
        },
        "id": "aWhErvBNyPTE",
        "outputId": "98301a87-aa13-44e8-9c3d-d509440c8eac"
      },
      "outputs": [
        {
          "output_type": "display_data",
          "data": {
            "image/png": "[encoded data removed]",
            "text/plain": [
              "<Figure size 1800x576 with 4 Axes>"
            ]
          },
          "metadata": {
            "needs_background": "light"
          }
        }
      ],
      "source": [
        "# Now lets get some visuals from the above data.\n",
        "fig, ax = plt.subplots(2,2, figsize=(25,8))\n",
        "fig.tight_layout(h_pad=4, w_pad=4)\n",
        "sns.pointplot(data=nyc_df, x='day', y='trip_duration_minutes', ax=ax[0][0], ci=None)\n",
        "sns.pointplot(data=nyc_df, x='month', y='trip_duration_minutes', ax=ax[0][1], ci=None)\n",
        "sns.pointplot(data=nyc_df, x='pickup_hour', y='trip_duration_minutes', ax=ax[1][0], ci=None)\n",
        "sns.pointplot(data=nyc_df, x='dropoff_hour', y='trip_duration_minutes', ax=ax[1][1], ci=None)\n",
        "plt.show()"
      ]
    },
    {
      "cell_type": "markdown",
      "metadata": {
        "id": "ZYJijDqY8ouX"
      },
      "source": [
        "* ***trip duration decreases as the weekend approches, it makes sense as most of the people either stay at home or go for vacations.***\n",
        "* ***trip duration increases after Feburary, this might be due to the people returning after holidays***.\n",
        "* ***pickup and dropoff hours are almost the same, most of the comute happen from 6am to 7pm after which it gradually decreases.***"
      ]
    },
    {
      "cell_type": "markdown",
      "metadata": {
        "id": "Ot9CJUmEwYhM"
      },
      "source": [
        "."
      ]
    },
    {
      "cell_type": "markdown",
      "metadata": {
        "id": "ry9xK3wnIA3F"
      },
      "source": [
        "# **Data Cleaning And Feature Engineering.**"
      ]
    },
    {
      "cell_type": "markdown",
      "metadata": {
        "id": "xxeFXZk3Kip8"
      },
      "source": [
        "***First lets remove outliers from our dependent variable.***"
      ]
    },
    {
      "cell_type": "code",
      "execution_count": null,
      "metadata": {
        "id": "R__hwVfVKpRH"
      },
      "outputs": [],
      "source": [
        "# Create a function that returns upper and lower bounds for removing outliers.\n",
        "def outlier_treatment(feature):\n",
        "  sorted(feature)\n",
        "  Q1,Q3 = np.percentile(feature , [25,75])\n",
        "  IQR = Q3 - Q1\n",
        "  lower_range = Q1 - (1.5 * IQR)\n",
        "  upper_range = Q3 + (1.5 * IQR)\n",
        "  return lower_range,upper_range"
      ]
    },
    {
      "cell_type": "code",
      "execution_count": null,
      "metadata": {
        "colab": {
          "base_uri": "https://localhost:8080/"
        },
        "id": "tc-yk8F5KuLY",
        "outputId": "cda17cf2-a297-4ff2-db95-cf6eef8b6e28"
      },
      "outputs": [
        {
          "output_type": "stream",
          "name": "stdout",
          "text": [
            "-10.333333333333336 34.866666666666674\n"
          ]
        },
        {
          "output_type": "execute_result",
          "data": {
            "text/html": [
              "\n",
              "  <div id=\"df-441e099f-bcd4-4c39-b689-b10f8e978aa4\">\n",
              "    <div class=\"colab-df-container\">\n",
              "      <div>\n",
              "<style scoped>\n",
              "    .dataframe tbody tr th:only-of-type {\n",
              "        vertical-align: middle;\n",
              "    }\n",
              "\n",
              "    .dataframe tbody tr th {\n",
              "        vertical-align: top;\n",
              "    }\n",
              "\n",
              "    .dataframe thead th {\n",
              "        text-align: right;\n",
              "    }\n",
              "</style>\n",
              "<table border=\"1\" class=\"dataframe\">\n",
              "  <thead>\n",
              "    <tr style=\"text-align: right;\">\n",
              "      <th></th>\n",
              "      <th>id</th>\n",
              "      <th>vendor_id</th>\n",
              "      <th>passenger_count</th>\n",
              "      <th>pickup_longitude</th>\n",
              "      <th>pickup_latitude</th>\n",
              "      <th>dropoff_longitude</th>\n",
              "      <th>dropoff_latitude</th>\n",
              "      <th>store_and_fwd_flag</th>\n",
              "      <th>day</th>\n",
              "      <th>month</th>\n",
              "      <th>pickup_hour</th>\n",
              "      <th>dropoff_hour</th>\n",
              "      <th>trip_duration_minutes</th>\n",
              "    </tr>\n",
              "  </thead>\n",
              "  <tbody>\n",
              "    <tr>\n",
              "      <th>2</th>\n",
              "      <td>id3858529</td>\n",
              "      <td>2</td>\n",
              "      <td>1</td>\n",
              "      <td>-73.979027</td>\n",
              "      <td>40.763939</td>\n",
              "      <td>-74.005333</td>\n",
              "      <td>40.710087</td>\n",
              "      <td>N</td>\n",
              "      <td>1</td>\n",
              "      <td>1</td>\n",
              "      <td>11</td>\n",
              "      <td>12</td>\n",
              "      <td>35.400000</td>\n",
              "    </tr>\n",
              "    <tr>\n",
              "      <th>16</th>\n",
              "      <td>id3379579</td>\n",
              "      <td>2</td>\n",
              "      <td>1</td>\n",
              "      <td>-73.991165</td>\n",
              "      <td>40.755562</td>\n",
              "      <td>-73.999290</td>\n",
              "      <td>40.725353</td>\n",
              "      <td>N</td>\n",
              "      <td>0</td>\n",
              "      <td>4</td>\n",
              "      <td>17</td>\n",
              "      <td>18</td>\n",
              "      <td>38.600000</td>\n",
              "    </tr>\n",
              "    <tr>\n",
              "      <th>24</th>\n",
              "      <td>id3321406</td>\n",
              "      <td>2</td>\n",
              "      <td>1</td>\n",
              "      <td>-73.955231</td>\n",
              "      <td>40.777134</td>\n",
              "      <td>-73.788750</td>\n",
              "      <td>40.641472</td>\n",
              "      <td>N</td>\n",
              "      <td>4</td>\n",
              "      <td>6</td>\n",
              "      <td>8</td>\n",
              "      <td>8</td>\n",
              "      <td>41.416667</td>\n",
              "    </tr>\n",
              "    <tr>\n",
              "      <th>29</th>\n",
              "      <td>id1410897</td>\n",
              "      <td>1</td>\n",
              "      <td>1</td>\n",
              "      <td>-73.982117</td>\n",
              "      <td>40.756351</td>\n",
              "      <td>-73.865692</td>\n",
              "      <td>40.770988</td>\n",
              "      <td>N</td>\n",
              "      <td>2</td>\n",
              "      <td>3</td>\n",
              "      <td>14</td>\n",
              "      <td>14</td>\n",
              "      <td>38.850000</td>\n",
              "    </tr>\n",
              "    <tr>\n",
              "      <th>33</th>\n",
              "      <td>id0023813</td>\n",
              "      <td>1</td>\n",
              "      <td>1</td>\n",
              "      <td>-73.990311</td>\n",
              "      <td>40.756580</td>\n",
              "      <td>-73.870918</td>\n",
              "      <td>40.773930</td>\n",
              "      <td>N</td>\n",
              "      <td>6</td>\n",
              "      <td>4</td>\n",
              "      <td>14</td>\n",
              "      <td>15</td>\n",
              "      <td>37.816667</td>\n",
              "    </tr>\n",
              "    <tr>\n",
              "      <th>...</th>\n",
              "      <td>...</td>\n",
              "      <td>...</td>\n",
              "      <td>...</td>\n",
              "      <td>...</td>\n",
              "      <td>...</td>\n",
              "      <td>...</td>\n",
              "      <td>...</td>\n",
              "      <td>...</td>\n",
              "      <td>...</td>\n",
              "      <td>...</td>\n",
              "      <td>...</td>\n",
              "      <td>...</td>\n",
              "      <td>...</td>\n",
              "    </tr>\n",
              "    <tr>\n",
              "      <th>1458571</th>\n",
              "      <td>id1440046</td>\n",
              "      <td>1</td>\n",
              "      <td>2</td>\n",
              "      <td>-73.778946</td>\n",
              "      <td>40.647343</td>\n",
              "      <td>-73.952103</td>\n",
              "      <td>40.781166</td>\n",
              "      <td>N</td>\n",
              "      <td>6</td>\n",
              "      <td>6</td>\n",
              "      <td>22</td>\n",
              "      <td>23</td>\n",
              "      <td>40.900000</td>\n",
              "    </tr>\n",
              "    <tr>\n",
              "      <th>1458584</th>\n",
              "      <td>id1607338</td>\n",
              "      <td>2</td>\n",
              "      <td>1</td>\n",
              "      <td>-73.786697</td>\n",
              "      <td>40.641628</td>\n",
              "      <td>-73.996880</td>\n",
              "      <td>40.732506</td>\n",
              "      <td>N</td>\n",
              "      <td>1</td>\n",
              "      <td>6</td>\n",
              "      <td>20</td>\n",
              "      <td>21</td>\n",
              "      <td>38.916667</td>\n",
              "    </tr>\n",
              "    <tr>\n",
              "      <th>1458589</th>\n",
              "      <td>id2071901</td>\n",
              "      <td>1</td>\n",
              "      <td>2</td>\n",
              "      <td>-73.782280</td>\n",
              "      <td>40.644783</td>\n",
              "      <td>-73.904305</td>\n",
              "      <td>40.738285</td>\n",
              "      <td>N</td>\n",
              "      <td>4</td>\n",
              "      <td>6</td>\n",
              "      <td>16</td>\n",
              "      <td>17</td>\n",
              "      <td>34.883333</td>\n",
              "    </tr>\n",
              "    <tr>\n",
              "      <th>1458600</th>\n",
              "      <td>id0995846</td>\n",
              "      <td>2</td>\n",
              "      <td>2</td>\n",
              "      <td>-73.789543</td>\n",
              "      <td>40.647099</td>\n",
              "      <td>-73.960320</td>\n",
              "      <td>40.798180</td>\n",
              "      <td>N</td>\n",
              "      <td>0</td>\n",
              "      <td>5</td>\n",
              "      <td>17</td>\n",
              "      <td>18</td>\n",
              "      <td>63.683333</td>\n",
              "    </tr>\n",
              "    <tr>\n",
              "      <th>1458621</th>\n",
              "      <td>id3267199</td>\n",
              "      <td>2</td>\n",
              "      <td>1</td>\n",
              "      <td>-73.959534</td>\n",
              "      <td>40.782749</td>\n",
              "      <td>-73.990959</td>\n",
              "      <td>40.751091</td>\n",
              "      <td>N</td>\n",
              "      <td>0</td>\n",
              "      <td>5</td>\n",
              "      <td>14</td>\n",
              "      <td>15</td>\n",
              "      <td>39.250000</td>\n",
              "    </tr>\n",
              "  </tbody>\n",
              "</table>\n",
              "<p>74212 rows × 13 columns</p>\n",
              "</div>\n",
              "      <button class=\"colab-df-convert\" onclick=\"convertToInteractive('df-441e099f-bcd4-4c39-b689-b10f8e978aa4')\"\n",
              "              title=\"Convert this dataframe to an interactive table.\"\n",
              "              style=\"display:none;\">\n",
              "        \n",
              "  <svg xmlns=\"http://www.w3.org/2000/svg\" height=\"24px\"viewBox=\"0 0 24 24\"\n",
              "       width=\"24px\">\n",
              "    <path d=\"M0 0h24v24H0V0z\" fill=\"none\"/>\n",
              "    <path d=\"M18.56 5.44l.94 2.06.94-2.06 2.06-.94-2.06-.94-.94-2.06-.94 2.06-2.06.94zm-11 1L8.5 8.5l.94-2.06 2.06-.94-2.06-.94L8.5 2.5l-.94 2.06-2.06.94zm10 10l.94 2.06.94-2.06 2.06-.94-2.06-.94-.94-2.06-.94 2.06-2.06.94z\"/><path d=\"M17.41 7.96l-1.37-1.37c-.4-.4-.92-.59-1.43-.59-.52 0-1.04.2-1.43.59L10.3 9.45l-7.72 7.72c-.78.78-.78 2.05 0 2.83L4 21.41c.39.39.9.59 1.41.59.51 0 1.02-.2 1.41-.59l7.78-7.78 2.81-2.81c.8-.78.8-2.07 0-2.86zM5.41 20L4 18.59l7.72-7.72 1.47 1.35L5.41 20z\"/>\n",
              "  </svg>\n",
              "      </button>\n",
              "      \n",
              "  <style>\n",
              "    .colab-df-container {\n",
              "      display:flex;\n",
              "      flex-wrap:wrap;\n",
              "      gap: 12px;\n",
              "    }\n",
              "\n",
              "    .colab-df-convert {\n",
              "      background-color: #E8F0FE;\n",
              "      border: none;\n",
              "      border-radius: 50%;\n",
              "      cursor: pointer;\n",
              "      display: none;\n",
              "      fill: #1967D2;\n",
              "      height: 32px;\n",
              "      padding: 0 0 0 0;\n",
              "      width: 32px;\n",
              "    }\n",
              "\n",
              "    .colab-df-convert:hover {\n",
              "      background-color: #E2EBFA;\n",
              "      box-shadow: 0px 1px 2px rgba(60, 64, 67, 0.3), 0px 1px 3px 1px rgba(60, 64, 67, 0.15);\n",
              "      fill: #174EA6;\n",
              "    }\n",
              "\n",
              "    [theme=dark] .colab-df-convert {\n",
              "      background-color: #3B4455;\n",
              "      fill: #D2E3FC;\n",
              "    }\n",
              "\n",
              "    [theme=dark] .colab-df-convert:hover {\n",
              "      background-color: #434B5C;\n",
              "      box-shadow: 0px 1px 3px 1px rgba(0, 0, 0, 0.15);\n",
              "      filter: drop-shadow(0px 1px 2px rgba(0, 0, 0, 0.3));\n",
              "      fill: #FFFFFF;\n",
              "    }\n",
              "  </style>\n",
              "\n",
              "      <script>\n",
              "        const buttonEl =\n",
              "          document.querySelector('#df-441e099f-bcd4-4c39-b689-b10f8e978aa4 button.colab-df-convert');\n",
              "        buttonEl.style.display =\n",
              "          google.colab.kernel.accessAllowed ? 'block' : 'none';\n",
              "\n",
              "        async function convertToInteractive(key) {\n",
              "          const element = document.querySelector('#df-441e099f-bcd4-4c39-b689-b10f8e978aa4');\n",
              "          const dataTable =\n",
              "            await google.colab.kernel.invokeFunction('convertToInteractive',\n",
              "                                                     [key], {});\n",
              "          if (!dataTable) return;\n",
              "\n",
              "          const docLinkHtml = 'Like what you see? Visit the ' +\n",
              "            '<a target=\"_blank\" href=https://colab.research.google.com/notebooks/data_table.ipynb>data table notebook</a>'\n",
              "            + ' to learn more about interactive tables.';\n",
              "          element.innerHTML = '';\n",
              "          dataTable['output_type'] = 'display_data';\n",
              "          await google.colab.output.renderOutput(dataTable, element);\n",
              "          const docLink = document.createElement('div');\n",
              "          docLink.innerHTML = docLinkHtml;\n",
              "          element.appendChild(docLink);\n",
              "        }\n",
              "      </script>\n",
              "    </div>\n",
              "  </div>\n",
              "  "
            ],
            "text/plain": [
              "                id  vendor_id  ...  dropoff_hour  trip_duration_minutes\n",
              "2        id3858529          2  ...            12              35.400000\n",
              "16       id3379579          2  ...            18              38.600000\n",
              "24       id3321406          2  ...             8              41.416667\n",
              "29       id1410897          1  ...            14              38.850000\n",
              "33       id0023813          1  ...            15              37.816667\n",
              "...            ...        ...  ...           ...                    ...\n",
              "1458571  id1440046          1  ...            23              40.900000\n",
              "1458584  id1607338          2  ...            21              38.916667\n",
              "1458589  id2071901          1  ...            17              34.883333\n",
              "1458600  id0995846          2  ...            18              63.683333\n",
              "1458621  id3267199          2  ...            15              39.250000\n",
              "\n",
              "[74212 rows x 13 columns]"
            ]
          },
          "metadata": {},
          "execution_count": 39
        }
      ],
      "source": [
        "# Get upper/lower bounds for trip_duration.\n",
        "lowerbound,upperbound = outlier_treatment(nyc_df['trip_duration_minutes'])\n",
        "print(lowerbound,upperbound)\n",
        "\n",
        "nyc_df[(nyc_df['trip_duration_minutes'] < lowerbound) | (nyc_df['trip_duration_minutes'] > upperbound)]"
      ]
    },
    {
      "cell_type": "code",
      "execution_count": null,
      "metadata": {
        "id": "YqNlMsTiKuLY"
      },
      "outputs": [],
      "source": [
        "nyc_df.drop(nyc_df[ (nyc_df['trip_duration_minutes'] > upperbound) | (nyc_df['trip_duration_minutes'] < lowerbound) ].index , inplace=True)"
      ]
    },
    {
      "cell_type": "markdown",
      "metadata": {
        "id": "aEbWWwV9LbH6"
      },
      "source": [
        "."
      ]
    },
    {
      "cell_type": "markdown",
      "metadata": {
        "id": "Hulmy1AkIw_y"
      },
      "source": [
        "**Lets calculate distance travelled using pickup and dropoff data.**"
      ]
    },
    {
      "cell_type": "code",
      "execution_count": null,
      "metadata": {
        "id": "vHC42YTsIQL7"
      },
      "outputs": [],
      "source": [
        "# Function to calculate distance using the haversine function as we are provided with gps data.\n",
        "def calc_distance(df):\n",
        "    pickup = (df['pickup_latitude'], df['pickup_longitude'])\n",
        "    drop = (df['dropoff_latitude'], df['dropoff_longitude'])\n",
        "    return haversine(pickup, drop)"
      ]
    },
    {
      "cell_type": "code",
      "execution_count": null,
      "metadata": {
        "id": "TrqxO4cPJL3P"
      },
      "outputs": [],
      "source": [
        "# Get distances.\n",
        "nyc_df['distance'] = nyc_df.apply(lambda x: calc_distance(x), axis = 1)"
      ]
    },
    {
      "cell_type": "code",
      "execution_count": null,
      "metadata": {
        "colab": {
          "base_uri": "https://localhost:8080/"
        },
        "id": "K_NDi64_ykLV",
        "outputId": "d54c03b0-50b4-4df2-826d-0f8b232ca2a4"
      },
      "outputs": [
        {
          "output_type": "display_data",
          "data": {
            "image/png": "[encoded data removed]",
            "text/plain": [
              "<Figure size 1800x360 with 1 Axes>"
            ]
          },
          "metadata": {
            "needs_background": "light"
          }
        }
      ],
      "source": [
        "# Get plots.\n",
        "fig = plt.figure(figsize=(25,5))\n",
        "sns.boxplot(nyc_df['distance'])\n",
        "plt.show()"
      ]
    },
    {
      "cell_type": "markdown",
      "metadata": {
        "id": "SSEhZ93cafXu"
      },
      "source": [
        "***There are too many outliers lets remove them.***"
      ]
    },
    {
      "cell_type": "code",
      "execution_count": null,
      "metadata": {
        "colab": {
          "base_uri": "https://localhost:8080/"
        },
        "id": "Q-la07lKJJvw",
        "outputId": "7052086d-fee8-409f-f3e8-5a654a3d1fa3"
      },
      "outputs": [
        {
          "output_type": "stream",
          "name": "stdout",
          "text": [
            "-2.233443060186282 6.917934441398998\n"
          ]
        },
        {
          "output_type": "execute_result",
          "data": {
            "text/html": [
              "\n",
              "  <div id=\"df-a4a9ba0d-7e51-4003-975f-7094c37c0207\">\n",
              "    <div class=\"colab-df-container\">\n",
              "      <div>\n",
              "<style scoped>\n",
              "    .dataframe tbody tr th:only-of-type {\n",
              "        vertical-align: middle;\n",
              "    }\n",
              "\n",
              "    .dataframe tbody tr th {\n",
              "        vertical-align: top;\n",
              "    }\n",
              "\n",
              "    .dataframe thead th {\n",
              "        text-align: right;\n",
              "    }\n",
              "</style>\n",
              "<table border=\"1\" class=\"dataframe\">\n",
              "  <thead>\n",
              "    <tr style=\"text-align: right;\">\n",
              "      <th></th>\n",
              "      <th>id</th>\n",
              "      <th>vendor_id</th>\n",
              "      <th>passenger_count</th>\n",
              "      <th>pickup_longitude</th>\n",
              "      <th>pickup_latitude</th>\n",
              "      <th>dropoff_longitude</th>\n",
              "      <th>dropoff_latitude</th>\n",
              "      <th>store_and_fwd_flag</th>\n",
              "      <th>day</th>\n",
              "      <th>month</th>\n",
              "      <th>pickup_hour</th>\n",
              "      <th>dropoff_hour</th>\n",
              "      <th>trip_duration_minutes</th>\n",
              "      <th>distance</th>\n",
              "    </tr>\n",
              "  </thead>\n",
              "  <tbody>\n",
              "    <tr>\n",
              "      <th>45</th>\n",
              "      <td>id0718344</td>\n",
              "      <td>2</td>\n",
              "      <td>1</td>\n",
              "      <td>-74.016327</td>\n",
              "      <td>40.704990</td>\n",
              "      <td>-73.982109</td>\n",
              "      <td>40.773750</td>\n",
              "      <td>N</td>\n",
              "      <td>0</td>\n",
              "      <td>6</td>\n",
              "      <td>15</td>\n",
              "      <td>16</td>\n",
              "      <td>24.633333</td>\n",
              "      <td>8.171214</td>\n",
              "    </tr>\n",
              "    <tr>\n",
              "      <th>50</th>\n",
              "      <td>id2067879</td>\n",
              "      <td>2</td>\n",
              "      <td>1</td>\n",
              "      <td>-73.996819</td>\n",
              "      <td>40.752861</td>\n",
              "      <td>-73.809006</td>\n",
              "      <td>40.816875</td>\n",
              "      <td>N</td>\n",
              "      <td>1</td>\n",
              "      <td>1</td>\n",
              "      <td>23</td>\n",
              "      <td>23</td>\n",
              "      <td>25.950000</td>\n",
              "      <td>17.340841</td>\n",
              "    </tr>\n",
              "    <tr>\n",
              "      <th>54</th>\n",
              "      <td>id0526266</td>\n",
              "      <td>2</td>\n",
              "      <td>1</td>\n",
              "      <td>-73.934883</td>\n",
              "      <td>40.801010</td>\n",
              "      <td>-73.983002</td>\n",
              "      <td>40.722569</td>\n",
              "      <td>N</td>\n",
              "      <td>6</td>\n",
              "      <td>5</td>\n",
              "      <td>9</td>\n",
              "      <td>9</td>\n",
              "      <td>13.650000</td>\n",
              "      <td>9.617850</td>\n",
              "    </tr>\n",
              "    <tr>\n",
              "      <th>67</th>\n",
              "      <td>id3913101</td>\n",
              "      <td>1</td>\n",
              "      <td>2</td>\n",
              "      <td>-74.001411</td>\n",
              "      <td>40.761433</td>\n",
              "      <td>-73.924629</td>\n",
              "      <td>40.864029</td>\n",
              "      <td>N</td>\n",
              "      <td>5</td>\n",
              "      <td>6</td>\n",
              "      <td>22</td>\n",
              "      <td>22</td>\n",
              "      <td>16.716667</td>\n",
              "      <td>13.111154</td>\n",
              "    </tr>\n",
              "    <tr>\n",
              "      <th>86</th>\n",
              "      <td>id0283075</td>\n",
              "      <td>1</td>\n",
              "      <td>1</td>\n",
              "      <td>-73.782478</td>\n",
              "      <td>40.644646</td>\n",
              "      <td>-73.981125</td>\n",
              "      <td>40.720886</td>\n",
              "      <td>N</td>\n",
              "      <td>2</td>\n",
              "      <td>4</td>\n",
              "      <td>23</td>\n",
              "      <td>0</td>\n",
              "      <td>29.700000</td>\n",
              "      <td>18.773512</td>\n",
              "    </tr>\n",
              "    <tr>\n",
              "      <th>...</th>\n",
              "      <td>...</td>\n",
              "      <td>...</td>\n",
              "      <td>...</td>\n",
              "      <td>...</td>\n",
              "      <td>...</td>\n",
              "      <td>...</td>\n",
              "      <td>...</td>\n",
              "      <td>...</td>\n",
              "      <td>...</td>\n",
              "      <td>...</td>\n",
              "      <td>...</td>\n",
              "      <td>...</td>\n",
              "      <td>...</td>\n",
              "      <td>...</td>\n",
              "    </tr>\n",
              "    <tr>\n",
              "      <th>1458538</th>\n",
              "      <td>id1302341</td>\n",
              "      <td>1</td>\n",
              "      <td>1</td>\n",
              "      <td>-73.973053</td>\n",
              "      <td>40.793495</td>\n",
              "      <td>-73.872581</td>\n",
              "      <td>40.774479</td>\n",
              "      <td>N</td>\n",
              "      <td>0</td>\n",
              "      <td>2</td>\n",
              "      <td>19</td>\n",
              "      <td>19</td>\n",
              "      <td>25.516667</td>\n",
              "      <td>8.719416</td>\n",
              "    </tr>\n",
              "    <tr>\n",
              "      <th>1458546</th>\n",
              "      <td>id2085200</td>\n",
              "      <td>1</td>\n",
              "      <td>1</td>\n",
              "      <td>-73.995178</td>\n",
              "      <td>40.749668</td>\n",
              "      <td>-73.960800</td>\n",
              "      <td>40.688099</td>\n",
              "      <td>N</td>\n",
              "      <td>4</td>\n",
              "      <td>3</td>\n",
              "      <td>4</td>\n",
              "      <td>4</td>\n",
              "      <td>29.850000</td>\n",
              "      <td>7.434015</td>\n",
              "    </tr>\n",
              "    <tr>\n",
              "      <th>1458547</th>\n",
              "      <td>id2525150</td>\n",
              "      <td>1</td>\n",
              "      <td>1</td>\n",
              "      <td>-73.978241</td>\n",
              "      <td>40.744911</td>\n",
              "      <td>-73.870483</td>\n",
              "      <td>40.773777</td>\n",
              "      <td>N</td>\n",
              "      <td>1</td>\n",
              "      <td>3</td>\n",
              "      <td>12</td>\n",
              "      <td>13</td>\n",
              "      <td>23.150000</td>\n",
              "      <td>9.626801</td>\n",
              "    </tr>\n",
              "    <tr>\n",
              "      <th>1458553</th>\n",
              "      <td>id2796154</td>\n",
              "      <td>1</td>\n",
              "      <td>1</td>\n",
              "      <td>-73.985817</td>\n",
              "      <td>40.727772</td>\n",
              "      <td>-74.021095</td>\n",
              "      <td>40.628605</td>\n",
              "      <td>N</td>\n",
              "      <td>3</td>\n",
              "      <td>4</td>\n",
              "      <td>3</td>\n",
              "      <td>3</td>\n",
              "      <td>21.500000</td>\n",
              "      <td>11.421131</td>\n",
              "    </tr>\n",
              "    <tr>\n",
              "      <th>1458641</th>\n",
              "      <td>id2304944</td>\n",
              "      <td>2</td>\n",
              "      <td>1</td>\n",
              "      <td>-73.959129</td>\n",
              "      <td>40.768799</td>\n",
              "      <td>-74.004433</td>\n",
              "      <td>40.707371</td>\n",
              "      <td>N</td>\n",
              "      <td>4</td>\n",
              "      <td>4</td>\n",
              "      <td>6</td>\n",
              "      <td>7</td>\n",
              "      <td>12.733333</td>\n",
              "      <td>7.824617</td>\n",
              "    </tr>\n",
              "  </tbody>\n",
              "</table>\n",
              "<p>107687 rows × 14 columns</p>\n",
              "</div>\n",
              "      <button class=\"colab-df-convert\" onclick=\"convertToInteractive('df-a4a9ba0d-7e51-4003-975f-7094c37c0207')\"\n",
              "              title=\"Convert this dataframe to an interactive table.\"\n",
              "              style=\"display:none;\">\n",
              "        \n",
              "  <svg xmlns=\"http://www.w3.org/2000/svg\" height=\"24px\"viewBox=\"0 0 24 24\"\n",
              "       width=\"24px\">\n",
              "    <path d=\"M0 0h24v24H0V0z\" fill=\"none\"/>\n",
              "    <path d=\"M18.56 5.44l.94 2.06.94-2.06 2.06-.94-2.06-.94-.94-2.06-.94 2.06-2.06.94zm-11 1L8.5 8.5l.94-2.06 2.06-.94-2.06-.94L8.5 2.5l-.94 2.06-2.06.94zm10 10l.94 2.06.94-2.06 2.06-.94-2.06-.94-.94-2.06-.94 2.06-2.06.94z\"/><path d=\"M17.41 7.96l-1.37-1.37c-.4-.4-.92-.59-1.43-.59-.52 0-1.04.2-1.43.59L10.3 9.45l-7.72 7.72c-.78.78-.78 2.05 0 2.83L4 21.41c.39.39.9.59 1.41.59.51 0 1.02-.2 1.41-.59l7.78-7.78 2.81-2.81c.8-.78.8-2.07 0-2.86zM5.41 20L4 18.59l7.72-7.72 1.47 1.35L5.41 20z\"/>\n",
              "  </svg>\n",
              "      </button>\n",
              "      \n",
              "  <style>\n",
              "    .colab-df-container {\n",
              "      display:flex;\n",
              "      flex-wrap:wrap;\n",
              "      gap: 12px;\n",
              "    }\n",
              "\n",
              "    .colab-df-convert {\n",
              "      background-color: #E8F0FE;\n",
              "      border: none;\n",
              "      border-radius: 50%;\n",
              "      cursor: pointer;\n",
              "      display: none;\n",
              "      fill: #1967D2;\n",
              "      height: 32px;\n",
              "      padding: 0 0 0 0;\n",
              "      width: 32px;\n",
              "    }\n",
              "\n",
              "    .colab-df-convert:hover {\n",
              "      background-color: #E2EBFA;\n",
              "      box-shadow: 0px 1px 2px rgba(60, 64, 67, 0.3), 0px 1px 3px 1px rgba(60, 64, 67, 0.15);\n",
              "      fill: #174EA6;\n",
              "    }\n",
              "\n",
              "    [theme=dark] .colab-df-convert {\n",
              "      background-color: #3B4455;\n",
              "      fill: #D2E3FC;\n",
              "    }\n",
              "\n",
              "    [theme=dark] .colab-df-convert:hover {\n",
              "      background-color: #434B5C;\n",
              "      box-shadow: 0px 1px 3px 1px rgba(0, 0, 0, 0.15);\n",
              "      filter: drop-shadow(0px 1px 2px rgba(0, 0, 0, 0.3));\n",
              "      fill: #FFFFFF;\n",
              "    }\n",
              "  </style>\n",
              "\n",
              "      <script>\n",
              "        const buttonEl =\n",
              "          document.querySelector('#df-a4a9ba0d-7e51-4003-975f-7094c37c0207 button.colab-df-convert');\n",
              "        buttonEl.style.display =\n",
              "          google.colab.kernel.accessAllowed ? 'block' : 'none';\n",
              "\n",
              "        async function convertToInteractive(key) {\n",
              "          const element = document.querySelector('#df-a4a9ba0d-7e51-4003-975f-7094c37c0207');\n",
              "          const dataTable =\n",
              "            await google.colab.kernel.invokeFunction('convertToInteractive',\n",
              "                                                     [key], {});\n",
              "          if (!dataTable) return;\n",
              "\n",
              "          const docLinkHtml = 'Like what you see? Visit the ' +\n",
              "            '<a target=\"_blank\" href=https://colab.research.google.com/notebooks/data_table.ipynb>data table notebook</a>'\n",
              "            + ' to learn more about interactive tables.';\n",
              "          element.innerHTML = '';\n",
              "          dataTable['output_type'] = 'display_data';\n",
              "          await google.colab.output.renderOutput(dataTable, element);\n",
              "          const docLink = document.createElement('div');\n",
              "          docLink.innerHTML = docLinkHtml;\n",
              "          element.appendChild(docLink);\n",
              "        }\n",
              "      </script>\n",
              "    </div>\n",
              "  </div>\n",
              "  "
            ],
            "text/plain": [
              "                id  vendor_id  ...  trip_duration_minutes   distance\n",
              "45       id0718344          2  ...              24.633333   8.171214\n",
              "50       id2067879          2  ...              25.950000  17.340841\n",
              "54       id0526266          2  ...              13.650000   9.617850\n",
              "67       id3913101          1  ...              16.716667  13.111154\n",
              "86       id0283075          1  ...              29.700000  18.773512\n",
              "...            ...        ...  ...                    ...        ...\n",
              "1458538  id1302341          1  ...              25.516667   8.719416\n",
              "1458546  id2085200          1  ...              29.850000   7.434015\n",
              "1458547  id2525150          1  ...              23.150000   9.626801\n",
              "1458553  id2796154          1  ...              21.500000  11.421131\n",
              "1458641  id2304944          2  ...              12.733333   7.824617\n",
              "\n",
              "[107687 rows x 14 columns]"
            ]
          },
          "metadata": {},
          "execution_count": 44
        }
      ],
      "source": [
        "# Get upper/lower bounds for trip_duration.\n",
        "lowerbound,upperbound = outlier_treatment(nyc_df['distance'])\n",
        "print(lowerbound,upperbound)\n",
        "\n",
        "nyc_df[(nyc_df['distance'] < lowerbound) | (nyc_df['distance'] > upperbound)]"
      ]
    },
    {
      "cell_type": "code",
      "execution_count": null,
      "metadata": {
        "id": "HbO1JM34J9GO"
      },
      "outputs": [],
      "source": [
        "nyc_df.drop(nyc_df[ (nyc_df['distance'] > upperbound) | (nyc_df['distance'] < lowerbound) ].index , inplace=True)"
      ]
    },
    {
      "cell_type": "markdown",
      "metadata": {
        "id": "Glnm_qxZ-QPf"
      },
      "source": [
        "***Lets check the relation between distance and the dependent variable.***"
      ]
    },
    {
      "cell_type": "code",
      "execution_count": null,
      "metadata": {
        "colab": {
          "base_uri": "https://localhost:8080/"
        },
        "id": "ZNy-jgS480PG",
        "outputId": "e8c2903f-5510-484c-faec-dde2b60af75f"
      },
      "outputs": [
        {
          "output_type": "display_data",
          "data": {
            "image/png": "[encoded data removed]",
            "text/plain": [
              "<Figure size 432x288 with 1 Axes>"
            ]
          },
          "metadata": {
            "needs_background": "light"
          }
        }
      ],
      "source": [
        "sns.lineplot(nyc_df['trip_duration_minutes'], nyc_df['distance'])\n",
        "plt.show()"
      ]
    },
    {
      "cell_type": "markdown",
      "metadata": {
        "id": "FuuAWWluMK59"
      },
      "source": [
        "."
      ]
    },
    {
      "cell_type": "markdown",
      "metadata": {
        "id": "h0yk886jAzyl"
      },
      "source": [
        "**Get dummies for store_and_fwd_flag, day, month.**"
      ]
    },
    {
      "cell_type": "code",
      "execution_count": null,
      "metadata": {
        "id": "WHjk1uGdAx-q"
      },
      "outputs": [],
      "source": [
        "nyc_df = pd.get_dummies(nyc_df, columns=['store_and_fwd_flag'], drop_first=True)\n",
        "nyc_df = pd.get_dummies(nyc_df, columns=['day', 'month'])"
      ]
    },
    {
      "cell_type": "code",
      "execution_count": null,
      "metadata": {
        "colab": {
          "base_uri": "https://localhost:8080/"
        },
        "id": "02nG_lOQSV_2",
        "outputId": "ae63cac4-adac-4c62-e187-6dce0216062e"
      },
      "outputs": [
        {
          "output_type": "execute_result",
          "data": {
            "text/html": [
              "\n",
              "  <div id=\"df-9049719a-595b-4768-8ef6-981b2f4222c6\">\n",
              "    <div class=\"colab-df-container\">\n",
              "      <div>\n",
              "<style scoped>\n",
              "    .dataframe tbody tr th:only-of-type {\n",
              "        vertical-align: middle;\n",
              "    }\n",
              "\n",
              "    .dataframe tbody tr th {\n",
              "        vertical-align: top;\n",
              "    }\n",
              "\n",
              "    .dataframe thead th {\n",
              "        text-align: right;\n",
              "    }\n",
              "</style>\n",
              "<table border=\"1\" class=\"dataframe\">\n",
              "  <thead>\n",
              "    <tr style=\"text-align: right;\">\n",
              "      <th></th>\n",
              "      <th>id</th>\n",
              "      <th>vendor_id</th>\n",
              "      <th>passenger_count</th>\n",
              "      <th>pickup_longitude</th>\n",
              "      <th>pickup_latitude</th>\n",
              "      <th>dropoff_longitude</th>\n",
              "      <th>dropoff_latitude</th>\n",
              "      <th>pickup_hour</th>\n",
              "      <th>dropoff_hour</th>\n",
              "      <th>trip_duration_minutes</th>\n",
              "      <th>distance</th>\n",
              "      <th>store_and_fwd_flag_Y</th>\n",
              "      <th>day_0</th>\n",
              "      <th>day_1</th>\n",
              "      <th>day_2</th>\n",
              "      <th>day_3</th>\n",
              "      <th>day_4</th>\n",
              "      <th>day_5</th>\n",
              "      <th>day_6</th>\n",
              "      <th>month_1</th>\n",
              "      <th>month_2</th>\n",
              "      <th>month_3</th>\n",
              "      <th>month_4</th>\n",
              "      <th>month_5</th>\n",
              "      <th>month_6</th>\n",
              "    </tr>\n",
              "  </thead>\n",
              "  <tbody>\n",
              "    <tr>\n",
              "      <th>0</th>\n",
              "      <td>id2875421</td>\n",
              "      <td>2</td>\n",
              "      <td>1</td>\n",
              "      <td>-73.982155</td>\n",
              "      <td>40.767937</td>\n",
              "      <td>-73.964630</td>\n",
              "      <td>40.765602</td>\n",
              "      <td>17</td>\n",
              "      <td>17</td>\n",
              "      <td>7.583333</td>\n",
              "      <td>1.498523</td>\n",
              "      <td>0</td>\n",
              "      <td>1</td>\n",
              "      <td>0</td>\n",
              "      <td>0</td>\n",
              "      <td>0</td>\n",
              "      <td>0</td>\n",
              "      <td>0</td>\n",
              "      <td>0</td>\n",
              "      <td>0</td>\n",
              "      <td>0</td>\n",
              "      <td>1</td>\n",
              "      <td>0</td>\n",
              "      <td>0</td>\n",
              "      <td>0</td>\n",
              "    </tr>\n",
              "    <tr>\n",
              "      <th>1</th>\n",
              "      <td>id2377394</td>\n",
              "      <td>1</td>\n",
              "      <td>1</td>\n",
              "      <td>-73.980415</td>\n",
              "      <td>40.738564</td>\n",
              "      <td>-73.999481</td>\n",
              "      <td>40.731152</td>\n",
              "      <td>0</td>\n",
              "      <td>0</td>\n",
              "      <td>11.050000</td>\n",
              "      <td>1.805510</td>\n",
              "      <td>0</td>\n",
              "      <td>0</td>\n",
              "      <td>0</td>\n",
              "      <td>0</td>\n",
              "      <td>0</td>\n",
              "      <td>0</td>\n",
              "      <td>0</td>\n",
              "      <td>1</td>\n",
              "      <td>0</td>\n",
              "      <td>0</td>\n",
              "      <td>0</td>\n",
              "      <td>0</td>\n",
              "      <td>0</td>\n",
              "      <td>1</td>\n",
              "    </tr>\n",
              "    <tr>\n",
              "      <th>3</th>\n",
              "      <td>id3504673</td>\n",
              "      <td>2</td>\n",
              "      <td>1</td>\n",
              "      <td>-74.010040</td>\n",
              "      <td>40.719971</td>\n",
              "      <td>-74.012268</td>\n",
              "      <td>40.706718</td>\n",
              "      <td>19</td>\n",
              "      <td>19</td>\n",
              "      <td>7.150000</td>\n",
              "      <td>1.485500</td>\n",
              "      <td>0</td>\n",
              "      <td>0</td>\n",
              "      <td>0</td>\n",
              "      <td>1</td>\n",
              "      <td>0</td>\n",
              "      <td>0</td>\n",
              "      <td>0</td>\n",
              "      <td>0</td>\n",
              "      <td>0</td>\n",
              "      <td>0</td>\n",
              "      <td>0</td>\n",
              "      <td>1</td>\n",
              "      <td>0</td>\n",
              "      <td>0</td>\n",
              "    </tr>\n",
              "    <tr>\n",
              "      <th>4</th>\n",
              "      <td>id2181028</td>\n",
              "      <td>2</td>\n",
              "      <td>1</td>\n",
              "      <td>-73.973053</td>\n",
              "      <td>40.793209</td>\n",
              "      <td>-73.972923</td>\n",
              "      <td>40.782520</td>\n",
              "      <td>13</td>\n",
              "      <td>13</td>\n",
              "      <td>7.250000</td>\n",
              "      <td>1.188590</td>\n",
              "      <td>0</td>\n",
              "      <td>0</td>\n",
              "      <td>0</td>\n",
              "      <td>0</td>\n",
              "      <td>0</td>\n",
              "      <td>0</td>\n",
              "      <td>1</td>\n",
              "      <td>0</td>\n",
              "      <td>0</td>\n",
              "      <td>0</td>\n",
              "      <td>1</td>\n",
              "      <td>0</td>\n",
              "      <td>0</td>\n",
              "      <td>0</td>\n",
              "    </tr>\n",
              "    <tr>\n",
              "      <th>5</th>\n",
              "      <td>id0801584</td>\n",
              "      <td>2</td>\n",
              "      <td>6</td>\n",
              "      <td>-73.982857</td>\n",
              "      <td>40.742195</td>\n",
              "      <td>-73.992081</td>\n",
              "      <td>40.749184</td>\n",
              "      <td>22</td>\n",
              "      <td>22</td>\n",
              "      <td>7.383333</td>\n",
              "      <td>1.098944</td>\n",
              "      <td>0</td>\n",
              "      <td>0</td>\n",
              "      <td>0</td>\n",
              "      <td>0</td>\n",
              "      <td>0</td>\n",
              "      <td>0</td>\n",
              "      <td>1</td>\n",
              "      <td>0</td>\n",
              "      <td>1</td>\n",
              "      <td>0</td>\n",
              "      <td>0</td>\n",
              "      <td>0</td>\n",
              "      <td>0</td>\n",
              "      <td>0</td>\n",
              "    </tr>\n",
              "  </tbody>\n",
              "</table>\n",
              "</div>\n",
              "      <button class=\"colab-df-convert\" onclick=\"convertToInteractive('df-9049719a-595b-4768-8ef6-981b2f4222c6')\"\n",
              "              title=\"Convert this dataframe to an interactive table.\"\n",
              "              style=\"display:none;\">\n",
              "        \n",
              "  <svg xmlns=\"http://www.w3.org/2000/svg\" height=\"24px\"viewBox=\"0 0 24 24\"\n",
              "       width=\"24px\">\n",
              "    <path d=\"M0 0h24v24H0V0z\" fill=\"none\"/>\n",
              "    <path d=\"M18.56 5.44l.94 2.06.94-2.06 2.06-.94-2.06-.94-.94-2.06-.94 2.06-2.06.94zm-11 1L8.5 8.5l.94-2.06 2.06-.94-2.06-.94L8.5 2.5l-.94 2.06-2.06.94zm10 10l.94 2.06.94-2.06 2.06-.94-2.06-.94-.94-2.06-.94 2.06-2.06.94z\"/><path d=\"M17.41 7.96l-1.37-1.37c-.4-.4-.92-.59-1.43-.59-.52 0-1.04.2-1.43.59L10.3 9.45l-7.72 7.72c-.78.78-.78 2.05 0 2.83L4 21.41c.39.39.9.59 1.41.59.51 0 1.02-.2 1.41-.59l7.78-7.78 2.81-2.81c.8-.78.8-2.07 0-2.86zM5.41 20L4 18.59l7.72-7.72 1.47 1.35L5.41 20z\"/>\n",
              "  </svg>\n",
              "      </button>\n",
              "      \n",
              "  <style>\n",
              "    .colab-df-container {\n",
              "      display:flex;\n",
              "      flex-wrap:wrap;\n",
              "      gap: 12px;\n",
              "    }\n",
              "\n",
              "    .colab-df-convert {\n",
              "      background-color: #E8F0FE;\n",
              "      border: none;\n",
              "      border-radius: 50%;\n",
              "      cursor: pointer;\n",
              "      display: none;\n",
              "      fill: #1967D2;\n",
              "      height: 32px;\n",
              "      padding: 0 0 0 0;\n",
              "      width: 32px;\n",
              "    }\n",
              "\n",
              "    .colab-df-convert:hover {\n",
              "      background-color: #E2EBFA;\n",
              "      box-shadow: 0px 1px 2px rgba(60, 64, 67, 0.3), 0px 1px 3px 1px rgba(60, 64, 67, 0.15);\n",
              "      fill: #174EA6;\n",
              "    }\n",
              "\n",
              "    [theme=dark] .colab-df-convert {\n",
              "      background-color: #3B4455;\n",
              "      fill: #D2E3FC;\n",
              "    }\n",
              "\n",
              "    [theme=dark] .colab-df-convert:hover {\n",
              "      background-color: #434B5C;\n",
              "      box-shadow: 0px 1px 3px 1px rgba(0, 0, 0, 0.15);\n",
              "      filter: drop-shadow(0px 1px 2px rgba(0, 0, 0, 0.3));\n",
              "      fill: #FFFFFF;\n",
              "    }\n",
              "  </style>\n",
              "\n",
              "      <script>\n",
              "        const buttonEl =\n",
              "          document.querySelector('#df-9049719a-595b-4768-8ef6-981b2f4222c6 button.colab-df-convert');\n",
              "        buttonEl.style.display =\n",
              "          google.colab.kernel.accessAllowed ? 'block' : 'none';\n",
              "\n",
              "        async function convertToInteractive(key) {\n",
              "          const element = document.querySelector('#df-9049719a-595b-4768-8ef6-981b2f4222c6');\n",
              "          const dataTable =\n",
              "            await google.colab.kernel.invokeFunction('convertToInteractive',\n",
              "                                                     [key], {});\n",
              "          if (!dataTable) return;\n",
              "\n",
              "          const docLinkHtml = 'Like what you see? Visit the ' +\n",
              "            '<a target=\"_blank\" href=https://colab.research.google.com/notebooks/data_table.ipynb>data table notebook</a>'\n",
              "            + ' to learn more about interactive tables.';\n",
              "          element.innerHTML = '';\n",
              "          dataTable['output_type'] = 'display_data';\n",
              "          await google.colab.output.renderOutput(dataTable, element);\n",
              "          const docLink = document.createElement('div');\n",
              "          docLink.innerHTML = docLinkHtml;\n",
              "          element.appendChild(docLink);\n",
              "        }\n",
              "      </script>\n",
              "    </div>\n",
              "  </div>\n",
              "  "
            ],
            "text/plain": [
              "          id  vendor_id  passenger_count  ...  month_4  month_5  month_6\n",
              "0  id2875421          2                1  ...        0        0        0\n",
              "1  id2377394          1                1  ...        0        0        1\n",
              "3  id3504673          2                1  ...        1        0        0\n",
              "4  id2181028          2                1  ...        0        0        0\n",
              "5  id0801584          2                6  ...        0        0        0\n",
              "\n",
              "[5 rows x 25 columns]"
            ]
          },
          "metadata": {},
          "execution_count": 48
        }
      ],
      "source": [
        "# Check the data.\n",
        "nyc_df.head()"
      ]
    },
    {
      "cell_type": "markdown",
      "metadata": {
        "id": "vXXkEsz4hjuq"
      },
      "source": [
        "."
      ]
    },
    {
      "cell_type": "markdown",
      "metadata": {
        "id": "i68bBc3AS0bE"
      },
      "source": [
        "**Transform pickup/ dropoff hours.**"
      ]
    },
    {
      "cell_type": "code",
      "execution_count": null,
      "metadata": {
        "id": "FMKVFGVJVmjE"
      },
      "outputs": [],
      "source": [
        "# Since there are total 24 different values in these two columns it would be better to categorize them and get dummies for them.\n",
        "\n",
        "# Function to convert pickup/dropoff hours to category.\n",
        "def timezone(x):\n",
        "  if x>=(0) and x <(5):\n",
        "    return 'mid_night'\n",
        "  elif x>=(5) and x <(12):\n",
        "    return 'morning'\n",
        "  elif x>=(12) and x <(16):\n",
        "    return 'afternoon'\n",
        "  elif x>=(16) and x <(19):\n",
        "    return 'evening'\n",
        "  elif x>=(19) and x <(25):\n",
        "    return 'night'"
      ]
    },
    {
      "cell_type": "code",
      "execution_count": null,
      "metadata": {
        "id": "WBHUYfv2u45R"
      },
      "outputs": [],
      "source": [
        "# Apply the above function.\n",
        "nyc_df['pickup_time'] = nyc_df['pickup_hour'].apply(lambda x :timezone(x) )\n",
        "nyc_df['dropoff_time'] = nyc_df['dropoff_hour'].apply(lambda x :timezone(x) )"
      ]
    },
    {
      "cell_type": "code",
      "execution_count": null,
      "metadata": {
        "colab": {
          "base_uri": "https://localhost:8080/"
        },
        "id": "MGnrtbxi76BL",
        "outputId": "2e494ac5-b9f2-4a34-8b75-148aa3464131"
      },
      "outputs": [
        {
          "output_type": "execute_result",
          "data": {
            "text/html": [
              "\n",
              "  <div id=\"df-981102d2-e00a-4ebf-8b85-3714a04a6e63\">\n",
              "    <div class=\"colab-df-container\">\n",
              "      <div>\n",
              "<style scoped>\n",
              "    .dataframe tbody tr th:only-of-type {\n",
              "        vertical-align: middle;\n",
              "    }\n",
              "\n",
              "    .dataframe tbody tr th {\n",
              "        vertical-align: top;\n",
              "    }\n",
              "\n",
              "    .dataframe thead th {\n",
              "        text-align: right;\n",
              "    }\n",
              "</style>\n",
              "<table border=\"1\" class=\"dataframe\">\n",
              "  <thead>\n",
              "    <tr style=\"text-align: right;\">\n",
              "      <th></th>\n",
              "      <th>id</th>\n",
              "      <th>vendor_id</th>\n",
              "      <th>passenger_count</th>\n",
              "      <th>pickup_longitude</th>\n",
              "      <th>pickup_latitude</th>\n",
              "      <th>dropoff_longitude</th>\n",
              "      <th>dropoff_latitude</th>\n",
              "      <th>pickup_hour</th>\n",
              "      <th>dropoff_hour</th>\n",
              "      <th>trip_duration_minutes</th>\n",
              "      <th>distance</th>\n",
              "      <th>store_and_fwd_flag_Y</th>\n",
              "      <th>day_0</th>\n",
              "      <th>day_1</th>\n",
              "      <th>day_2</th>\n",
              "      <th>day_3</th>\n",
              "      <th>day_4</th>\n",
              "      <th>day_5</th>\n",
              "      <th>day_6</th>\n",
              "      <th>month_1</th>\n",
              "      <th>month_2</th>\n",
              "      <th>month_3</th>\n",
              "      <th>month_4</th>\n",
              "      <th>month_5</th>\n",
              "      <th>month_6</th>\n",
              "      <th>pickup_time</th>\n",
              "      <th>dropoff_time</th>\n",
              "    </tr>\n",
              "  </thead>\n",
              "  <tbody>\n",
              "    <tr>\n",
              "      <th>0</th>\n",
              "      <td>id2875421</td>\n",
              "      <td>2</td>\n",
              "      <td>1</td>\n",
              "      <td>-73.982155</td>\n",
              "      <td>40.767937</td>\n",
              "      <td>-73.964630</td>\n",
              "      <td>40.765602</td>\n",
              "      <td>17</td>\n",
              "      <td>17</td>\n",
              "      <td>7.583333</td>\n",
              "      <td>1.498523</td>\n",
              "      <td>0</td>\n",
              "      <td>1</td>\n",
              "      <td>0</td>\n",
              "      <td>0</td>\n",
              "      <td>0</td>\n",
              "      <td>0</td>\n",
              "      <td>0</td>\n",
              "      <td>0</td>\n",
              "      <td>0</td>\n",
              "      <td>0</td>\n",
              "      <td>1</td>\n",
              "      <td>0</td>\n",
              "      <td>0</td>\n",
              "      <td>0</td>\n",
              "      <td>evening</td>\n",
              "      <td>evening</td>\n",
              "    </tr>\n",
              "    <tr>\n",
              "      <th>1</th>\n",
              "      <td>id2377394</td>\n",
              "      <td>1</td>\n",
              "      <td>1</td>\n",
              "      <td>-73.980415</td>\n",
              "      <td>40.738564</td>\n",
              "      <td>-73.999481</td>\n",
              "      <td>40.731152</td>\n",
              "      <td>0</td>\n",
              "      <td>0</td>\n",
              "      <td>11.050000</td>\n",
              "      <td>1.805510</td>\n",
              "      <td>0</td>\n",
              "      <td>0</td>\n",
              "      <td>0</td>\n",
              "      <td>0</td>\n",
              "      <td>0</td>\n",
              "      <td>0</td>\n",
              "      <td>0</td>\n",
              "      <td>1</td>\n",
              "      <td>0</td>\n",
              "      <td>0</td>\n",
              "      <td>0</td>\n",
              "      <td>0</td>\n",
              "      <td>0</td>\n",
              "      <td>1</td>\n",
              "      <td>mid_night</td>\n",
              "      <td>mid_night</td>\n",
              "    </tr>\n",
              "    <tr>\n",
              "      <th>3</th>\n",
              "      <td>id3504673</td>\n",
              "      <td>2</td>\n",
              "      <td>1</td>\n",
              "      <td>-74.010040</td>\n",
              "      <td>40.719971</td>\n",
              "      <td>-74.012268</td>\n",
              "      <td>40.706718</td>\n",
              "      <td>19</td>\n",
              "      <td>19</td>\n",
              "      <td>7.150000</td>\n",
              "      <td>1.485500</td>\n",
              "      <td>0</td>\n",
              "      <td>0</td>\n",
              "      <td>0</td>\n",
              "      <td>1</td>\n",
              "      <td>0</td>\n",
              "      <td>0</td>\n",
              "      <td>0</td>\n",
              "      <td>0</td>\n",
              "      <td>0</td>\n",
              "      <td>0</td>\n",
              "      <td>0</td>\n",
              "      <td>1</td>\n",
              "      <td>0</td>\n",
              "      <td>0</td>\n",
              "      <td>night</td>\n",
              "      <td>night</td>\n",
              "    </tr>\n",
              "    <tr>\n",
              "      <th>4</th>\n",
              "      <td>id2181028</td>\n",
              "      <td>2</td>\n",
              "      <td>1</td>\n",
              "      <td>-73.973053</td>\n",
              "      <td>40.793209</td>\n",
              "      <td>-73.972923</td>\n",
              "      <td>40.782520</td>\n",
              "      <td>13</td>\n",
              "      <td>13</td>\n",
              "      <td>7.250000</td>\n",
              "      <td>1.188590</td>\n",
              "      <td>0</td>\n",
              "      <td>0</td>\n",
              "      <td>0</td>\n",
              "      <td>0</td>\n",
              "      <td>0</td>\n",
              "      <td>0</td>\n",
              "      <td>1</td>\n",
              "      <td>0</td>\n",
              "      <td>0</td>\n",
              "      <td>0</td>\n",
              "      <td>1</td>\n",
              "      <td>0</td>\n",
              "      <td>0</td>\n",
              "      <td>0</td>\n",
              "      <td>afternoon</td>\n",
              "      <td>afternoon</td>\n",
              "    </tr>\n",
              "    <tr>\n",
              "      <th>5</th>\n",
              "      <td>id0801584</td>\n",
              "      <td>2</td>\n",
              "      <td>6</td>\n",
              "      <td>-73.982857</td>\n",
              "      <td>40.742195</td>\n",
              "      <td>-73.992081</td>\n",
              "      <td>40.749184</td>\n",
              "      <td>22</td>\n",
              "      <td>22</td>\n",
              "      <td>7.383333</td>\n",
              "      <td>1.098944</td>\n",
              "      <td>0</td>\n",
              "      <td>0</td>\n",
              "      <td>0</td>\n",
              "      <td>0</td>\n",
              "      <td>0</td>\n",
              "      <td>0</td>\n",
              "      <td>1</td>\n",
              "      <td>0</td>\n",
              "      <td>1</td>\n",
              "      <td>0</td>\n",
              "      <td>0</td>\n",
              "      <td>0</td>\n",
              "      <td>0</td>\n",
              "      <td>0</td>\n",
              "      <td>night</td>\n",
              "      <td>night</td>\n",
              "    </tr>\n",
              "  </tbody>\n",
              "</table>\n",
              "</div>\n",
              "      <button class=\"colab-df-convert\" onclick=\"convertToInteractive('df-981102d2-e00a-4ebf-8b85-3714a04a6e63')\"\n",
              "              title=\"Convert this dataframe to an interactive table.\"\n",
              "              style=\"display:none;\">\n",
              "        \n",
              "  <svg xmlns=\"http://www.w3.org/2000/svg\" height=\"24px\"viewBox=\"0 0 24 24\"\n",
              "       width=\"24px\">\n",
              "    <path d=\"M0 0h24v24H0V0z\" fill=\"none\"/>\n",
              "    <path d=\"M18.56 5.44l.94 2.06.94-2.06 2.06-.94-2.06-.94-.94-2.06-.94 2.06-2.06.94zm-11 1L8.5 8.5l.94-2.06 2.06-.94-2.06-.94L8.5 2.5l-.94 2.06-2.06.94zm10 10l.94 2.06.94-2.06 2.06-.94-2.06-.94-.94-2.06-.94 2.06-2.06.94z\"/><path d=\"M17.41 7.96l-1.37-1.37c-.4-.4-.92-.59-1.43-.59-.52 0-1.04.2-1.43.59L10.3 9.45l-7.72 7.72c-.78.78-.78 2.05 0 2.83L4 21.41c.39.39.9.59 1.41.59.51 0 1.02-.2 1.41-.59l7.78-7.78 2.81-2.81c.8-.78.8-2.07 0-2.86zM5.41 20L4 18.59l7.72-7.72 1.47 1.35L5.41 20z\"/>\n",
              "  </svg>\n",
              "      </button>\n",
              "      \n",
              "  <style>\n",
              "    .colab-df-container {\n",
              "      display:flex;\n",
              "      flex-wrap:wrap;\n",
              "      gap: 12px;\n",
              "    }\n",
              "\n",
              "    .colab-df-convert {\n",
              "      background-color: #E8F0FE;\n",
              "      border: none;\n",
              "      border-radius: 50%;\n",
              "      cursor: pointer;\n",
              "      display: none;\n",
              "      fill: #1967D2;\n",
              "      height: 32px;\n",
              "      padding: 0 0 0 0;\n",
              "      width: 32px;\n",
              "    }\n",
              "\n",
              "    .colab-df-convert:hover {\n",
              "      background-color: #E2EBFA;\n",
              "      box-shadow: 0px 1px 2px rgba(60, 64, 67, 0.3), 0px 1px 3px 1px rgba(60, 64, 67, 0.15);\n",
              "      fill: #174EA6;\n",
              "    }\n",
              "\n",
              "    [theme=dark] .colab-df-convert {\n",
              "      background-color: #3B4455;\n",
              "      fill: #D2E3FC;\n",
              "    }\n",
              "\n",
              "    [theme=dark] .colab-df-convert:hover {\n",
              "      background-color: #434B5C;\n",
              "      box-shadow: 0px 1px 3px 1px rgba(0, 0, 0, 0.15);\n",
              "      filter: drop-shadow(0px 1px 2px rgba(0, 0, 0, 0.3));\n",
              "      fill: #FFFFFF;\n",
              "    }\n",
              "  </style>\n",
              "\n",
              "      <script>\n",
              "        const buttonEl =\n",
              "          document.querySelector('#df-981102d2-e00a-4ebf-8b85-3714a04a6e63 button.colab-df-convert');\n",
              "        buttonEl.style.display =\n",
              "          google.colab.kernel.accessAllowed ? 'block' : 'none';\n",
              "\n",
              "        async function convertToInteractive(key) {\n",
              "          const element = document.querySelector('#df-981102d2-e00a-4ebf-8b85-3714a04a6e63');\n",
              "          const dataTable =\n",
              "            await google.colab.kernel.invokeFunction('convertToInteractive',\n",
              "                                                     [key], {});\n",
              "          if (!dataTable) return;\n",
              "\n",
              "          const docLinkHtml = 'Like what you see? Visit the ' +\n",
              "            '<a target=\"_blank\" href=https://colab.research.google.com/notebooks/data_table.ipynb>data table notebook</a>'\n",
              "            + ' to learn more about interactive tables.';\n",
              "          element.innerHTML = '';\n",
              "          dataTable['output_type'] = 'display_data';\n",
              "          await google.colab.output.renderOutput(dataTable, element);\n",
              "          const docLink = document.createElement('div');\n",
              "          docLink.innerHTML = docLinkHtml;\n",
              "          element.appendChild(docLink);\n",
              "        }\n",
              "      </script>\n",
              "    </div>\n",
              "  </div>\n",
              "  "
            ],
            "text/plain": [
              "          id  vendor_id  passenger_count  ...  month_6  pickup_time  dropoff_time\n",
              "0  id2875421          2                1  ...        0      evening       evening\n",
              "1  id2377394          1                1  ...        1    mid_night     mid_night\n",
              "3  id3504673          2                1  ...        0        night         night\n",
              "4  id2181028          2                1  ...        0    afternoon     afternoon\n",
              "5  id0801584          2                6  ...        0        night         night\n",
              "\n",
              "[5 rows x 27 columns]"
            ]
          },
          "metadata": {},
          "execution_count": 51
        }
      ],
      "source": [
        "nyc_df.head()"
      ]
    },
    {
      "cell_type": "code",
      "execution_count": null,
      "metadata": {
        "colab": {
          "base_uri": "https://localhost:8080/"
        },
        "id": "tk1n5_WB8AAF",
        "outputId": "ee893c3e-2f00-4f6c-df33-7c768f3550c8"
      },
      "outputs": [
        {
          "output_type": "display_data",
          "data": {
            "image/png": "[encoded data removed]",
            "text/plain": [
              "<Figure size 1440x360 with 2 Axes>"
            ]
          },
          "metadata": {
            "needs_background": "light"
          }
        }
      ],
      "source": [
        "# Plot it.\n",
        "fig, (ax1, ax2) = plt.subplots(1,2, figsize=(20,5))\n",
        "fig.tight_layout(h_pad=4, w_pad=4)\n",
        "sns.barplot(data=nyc_df, x='pickup_time', y='trip_duration_minutes', ax=ax1, ci=None)\n",
        "sns.barplot(data=nyc_df, x='dropoff_time', y='trip_duration_minutes', ax=ax2, ci=None)\n",
        "plt.show()"
      ]
    },
    {
      "cell_type": "markdown",
      "metadata": {
        "id": "pHxJ6v1q7Tc3"
      },
      "source": [
        "* ***most of the pickups and dropoffs happen in the evenings and afternoons, which makes sense as most people comute during these timimgs.***"
      ]
    },
    {
      "cell_type": "code",
      "execution_count": null,
      "metadata": {
        "id": "kAVjU9uyJJIg"
      },
      "outputs": [],
      "source": [
        "# Now lets get dummies for these variables.\n",
        "nyc_df = pd.get_dummies(nyc_df, columns=['pickup_time', 'dropoff_time'])"
      ]
    },
    {
      "cell_type": "code",
      "execution_count": null,
      "metadata": {
        "colab": {
          "base_uri": "https://localhost:8080/"
        },
        "id": "R1TMFEsWU5ED",
        "outputId": "2dcc1198-011e-4b79-fc1d-6059384e638c"
      },
      "outputs": [
        {
          "output_type": "execute_result",
          "data": {
            "text/html": [
              "\n",
              "  <div id=\"df-45aafd00-98f9-4b24-b642-a9f4ca80baf5\">\n",
              "    <div class=\"colab-df-container\">\n",
              "      <div>\n",
              "<style scoped>\n",
              "    .dataframe tbody tr th:only-of-type {\n",
              "        vertical-align: middle;\n",
              "    }\n",
              "\n",
              "    .dataframe tbody tr th {\n",
              "        vertical-align: top;\n",
              "    }\n",
              "\n",
              "    .dataframe thead th {\n",
              "        text-align: right;\n",
              "    }\n",
              "</style>\n",
              "<table border=\"1\" class=\"dataframe\">\n",
              "  <thead>\n",
              "    <tr style=\"text-align: right;\">\n",
              "      <th></th>\n",
              "      <th>id</th>\n",
              "      <th>vendor_id</th>\n",
              "      <th>passenger_count</th>\n",
              "      <th>pickup_longitude</th>\n",
              "      <th>pickup_latitude</th>\n",
              "      <th>dropoff_longitude</th>\n",
              "      <th>dropoff_latitude</th>\n",
              "      <th>pickup_hour</th>\n",
              "      <th>dropoff_hour</th>\n",
              "      <th>trip_duration_minutes</th>\n",
              "      <th>distance</th>\n",
              "      <th>store_and_fwd_flag_Y</th>\n",
              "      <th>day_0</th>\n",
              "      <th>day_1</th>\n",
              "      <th>day_2</th>\n",
              "      <th>day_3</th>\n",
              "      <th>day_4</th>\n",
              "      <th>day_5</th>\n",
              "      <th>day_6</th>\n",
              "      <th>month_1</th>\n",
              "      <th>month_2</th>\n",
              "      <th>month_3</th>\n",
              "      <th>month_4</th>\n",
              "      <th>month_5</th>\n",
              "      <th>month_6</th>\n",
              "      <th>pickup_time_afternoon</th>\n",
              "      <th>pickup_time_evening</th>\n",
              "      <th>pickup_time_mid_night</th>\n",
              "      <th>pickup_time_morning</th>\n",
              "      <th>pickup_time_night</th>\n",
              "      <th>dropoff_time_afternoon</th>\n",
              "      <th>dropoff_time_evening</th>\n",
              "      <th>dropoff_time_mid_night</th>\n",
              "      <th>dropoff_time_morning</th>\n",
              "      <th>dropoff_time_night</th>\n",
              "    </tr>\n",
              "  </thead>\n",
              "  <tbody>\n",
              "    <tr>\n",
              "      <th>0</th>\n",
              "      <td>id2875421</td>\n",
              "      <td>2</td>\n",
              "      <td>1</td>\n",
              "      <td>-73.982155</td>\n",
              "      <td>40.767937</td>\n",
              "      <td>-73.964630</td>\n",
              "      <td>40.765602</td>\n",
              "      <td>17</td>\n",
              "      <td>17</td>\n",
              "      <td>7.583333</td>\n",
              "      <td>1.498523</td>\n",
              "      <td>0</td>\n",
              "      <td>1</td>\n",
              "      <td>0</td>\n",
              "      <td>0</td>\n",
              "      <td>0</td>\n",
              "      <td>0</td>\n",
              "      <td>0</td>\n",
              "      <td>0</td>\n",
              "      <td>0</td>\n",
              "      <td>0</td>\n",
              "      <td>1</td>\n",
              "      <td>0</td>\n",
              "      <td>0</td>\n",
              "      <td>0</td>\n",
              "      <td>0</td>\n",
              "      <td>1</td>\n",
              "      <td>0</td>\n",
              "      <td>0</td>\n",
              "      <td>0</td>\n",
              "      <td>0</td>\n",
              "      <td>1</td>\n",
              "      <td>0</td>\n",
              "      <td>0</td>\n",
              "      <td>0</td>\n",
              "    </tr>\n",
              "    <tr>\n",
              "      <th>1</th>\n",
              "      <td>id2377394</td>\n",
              "      <td>1</td>\n",
              "      <td>1</td>\n",
              "      <td>-73.980415</td>\n",
              "      <td>40.738564</td>\n",
              "      <td>-73.999481</td>\n",
              "      <td>40.731152</td>\n",
              "      <td>0</td>\n",
              "      <td>0</td>\n",
              "      <td>11.050000</td>\n",
              "      <td>1.805510</td>\n",
              "      <td>0</td>\n",
              "      <td>0</td>\n",
              "      <td>0</td>\n",
              "      <td>0</td>\n",
              "      <td>0</td>\n",
              "      <td>0</td>\n",
              "      <td>0</td>\n",
              "      <td>1</td>\n",
              "      <td>0</td>\n",
              "      <td>0</td>\n",
              "      <td>0</td>\n",
              "      <td>0</td>\n",
              "      <td>0</td>\n",
              "      <td>1</td>\n",
              "      <td>0</td>\n",
              "      <td>0</td>\n",
              "      <td>1</td>\n",
              "      <td>0</td>\n",
              "      <td>0</td>\n",
              "      <td>0</td>\n",
              "      <td>0</td>\n",
              "      <td>1</td>\n",
              "      <td>0</td>\n",
              "      <td>0</td>\n",
              "    </tr>\n",
              "    <tr>\n",
              "      <th>3</th>\n",
              "      <td>id3504673</td>\n",
              "      <td>2</td>\n",
              "      <td>1</td>\n",
              "      <td>-74.010040</td>\n",
              "      <td>40.719971</td>\n",
              "      <td>-74.012268</td>\n",
              "      <td>40.706718</td>\n",
              "      <td>19</td>\n",
              "      <td>19</td>\n",
              "      <td>7.150000</td>\n",
              "      <td>1.485500</td>\n",
              "      <td>0</td>\n",
              "      <td>0</td>\n",
              "      <td>0</td>\n",
              "      <td>1</td>\n",
              "      <td>0</td>\n",
              "      <td>0</td>\n",
              "      <td>0</td>\n",
              "      <td>0</td>\n",
              "      <td>0</td>\n",
              "      <td>0</td>\n",
              "      <td>0</td>\n",
              "      <td>1</td>\n",
              "      <td>0</td>\n",
              "      <td>0</td>\n",
              "      <td>0</td>\n",
              "      <td>0</td>\n",
              "      <td>0</td>\n",
              "      <td>0</td>\n",
              "      <td>1</td>\n",
              "      <td>0</td>\n",
              "      <td>0</td>\n",
              "      <td>0</td>\n",
              "      <td>0</td>\n",
              "      <td>1</td>\n",
              "    </tr>\n",
              "    <tr>\n",
              "      <th>4</th>\n",
              "      <td>id2181028</td>\n",
              "      <td>2</td>\n",
              "      <td>1</td>\n",
              "      <td>-73.973053</td>\n",
              "      <td>40.793209</td>\n",
              "      <td>-73.972923</td>\n",
              "      <td>40.782520</td>\n",
              "      <td>13</td>\n",
              "      <td>13</td>\n",
              "      <td>7.250000</td>\n",
              "      <td>1.188590</td>\n",
              "      <td>0</td>\n",
              "      <td>0</td>\n",
              "      <td>0</td>\n",
              "      <td>0</td>\n",
              "      <td>0</td>\n",
              "      <td>0</td>\n",
              "      <td>1</td>\n",
              "      <td>0</td>\n",
              "      <td>0</td>\n",
              "      <td>0</td>\n",
              "      <td>1</td>\n",
              "      <td>0</td>\n",
              "      <td>0</td>\n",
              "      <td>0</td>\n",
              "      <td>1</td>\n",
              "      <td>0</td>\n",
              "      <td>0</td>\n",
              "      <td>0</td>\n",
              "      <td>0</td>\n",
              "      <td>1</td>\n",
              "      <td>0</td>\n",
              "      <td>0</td>\n",
              "      <td>0</td>\n",
              "      <td>0</td>\n",
              "    </tr>\n",
              "    <tr>\n",
              "      <th>5</th>\n",
              "      <td>id0801584</td>\n",
              "      <td>2</td>\n",
              "      <td>6</td>\n",
              "      <td>-73.982857</td>\n",
              "      <td>40.742195</td>\n",
              "      <td>-73.992081</td>\n",
              "      <td>40.749184</td>\n",
              "      <td>22</td>\n",
              "      <td>22</td>\n",
              "      <td>7.383333</td>\n",
              "      <td>1.098944</td>\n",
              "      <td>0</td>\n",
              "      <td>0</td>\n",
              "      <td>0</td>\n",
              "      <td>0</td>\n",
              "      <td>0</td>\n",
              "      <td>0</td>\n",
              "      <td>1</td>\n",
              "      <td>0</td>\n",
              "      <td>1</td>\n",
              "      <td>0</td>\n",
              "      <td>0</td>\n",
              "      <td>0</td>\n",
              "      <td>0</td>\n",
              "      <td>0</td>\n",
              "      <td>0</td>\n",
              "      <td>0</td>\n",
              "      <td>0</td>\n",
              "      <td>0</td>\n",
              "      <td>1</td>\n",
              "      <td>0</td>\n",
              "      <td>0</td>\n",
              "      <td>0</td>\n",
              "      <td>0</td>\n",
              "      <td>1</td>\n",
              "    </tr>\n",
              "  </tbody>\n",
              "</table>\n",
              "</div>\n",
              "      <button class=\"colab-df-convert\" onclick=\"convertToInteractive('df-45aafd00-98f9-4b24-b642-a9f4ca80baf5')\"\n",
              "              title=\"Convert this dataframe to an interactive table.\"\n",
              "              style=\"display:none;\">\n",
              "        \n",
              "  <svg xmlns=\"http://www.w3.org/2000/svg\" height=\"24px\"viewBox=\"0 0 24 24\"\n",
              "       width=\"24px\">\n",
              "    <path d=\"M0 0h24v24H0V0z\" fill=\"none\"/>\n",
              "    <path d=\"M18.56 5.44l.94 2.06.94-2.06 2.06-.94-2.06-.94-.94-2.06-.94 2.06-2.06.94zm-11 1L8.5 8.5l.94-2.06 2.06-.94-2.06-.94L8.5 2.5l-.94 2.06-2.06.94zm10 10l.94 2.06.94-2.06 2.06-.94-2.06-.94-.94-2.06-.94 2.06-2.06.94z\"/><path d=\"M17.41 7.96l-1.37-1.37c-.4-.4-.92-.59-1.43-.59-.52 0-1.04.2-1.43.59L10.3 9.45l-7.72 7.72c-.78.78-.78 2.05 0 2.83L4 21.41c.39.39.9.59 1.41.59.51 0 1.02-.2 1.41-.59l7.78-7.78 2.81-2.81c.8-.78.8-2.07 0-2.86zM5.41 20L4 18.59l7.72-7.72 1.47 1.35L5.41 20z\"/>\n",
              "  </svg>\n",
              "      </button>\n",
              "      \n",
              "  <style>\n",
              "    .colab-df-container {\n",
              "      display:flex;\n",
              "      flex-wrap:wrap;\n",
              "      gap: 12px;\n",
              "    }\n",
              "\n",
              "    .colab-df-convert {\n",
              "      background-color: #E8F0FE;\n",
              "      border: none;\n",
              "      border-radius: 50%;\n",
              "      cursor: pointer;\n",
              "      display: none;\n",
              "      fill: #1967D2;\n",
              "      height: 32px;\n",
              "      padding: 0 0 0 0;\n",
              "      width: 32px;\n",
              "    }\n",
              "\n",
              "    .colab-df-convert:hover {\n",
              "      background-color: #E2EBFA;\n",
              "      box-shadow: 0px 1px 2px rgba(60, 64, 67, 0.3), 0px 1px 3px 1px rgba(60, 64, 67, 0.15);\n",
              "      fill: #174EA6;\n",
              "    }\n",
              "\n",
              "    [theme=dark] .colab-df-convert {\n",
              "      background-color: #3B4455;\n",
              "      fill: #D2E3FC;\n",
              "    }\n",
              "\n",
              "    [theme=dark] .colab-df-convert:hover {\n",
              "      background-color: #434B5C;\n",
              "      box-shadow: 0px 1px 3px 1px rgba(0, 0, 0, 0.15);\n",
              "      filter: drop-shadow(0px 1px 2px rgba(0, 0, 0, 0.3));\n",
              "      fill: #FFFFFF;\n",
              "    }\n",
              "  </style>\n",
              "\n",
              "      <script>\n",
              "        const buttonEl =\n",
              "          document.querySelector('#df-45aafd00-98f9-4b24-b642-a9f4ca80baf5 button.colab-df-convert');\n",
              "        buttonEl.style.display =\n",
              "          google.colab.kernel.accessAllowed ? 'block' : 'none';\n",
              "\n",
              "        async function convertToInteractive(key) {\n",
              "          const element = document.querySelector('#df-45aafd00-98f9-4b24-b642-a9f4ca80baf5');\n",
              "          const dataTable =\n",
              "            await google.colab.kernel.invokeFunction('convertToInteractive',\n",
              "                                                     [key], {});\n",
              "          if (!dataTable) return;\n",
              "\n",
              "          const docLinkHtml = 'Like what you see? Visit the ' +\n",
              "            '<a target=\"_blank\" href=https://colab.research.google.com/notebooks/data_table.ipynb>data table notebook</a>'\n",
              "            + ' to learn more about interactive tables.';\n",
              "          element.innerHTML = '';\n",
              "          dataTable['output_type'] = 'display_data';\n",
              "          await google.colab.output.renderOutput(dataTable, element);\n",
              "          const docLink = document.createElement('div');\n",
              "          docLink.innerHTML = docLinkHtml;\n",
              "          element.appendChild(docLink);\n",
              "        }\n",
              "      </script>\n",
              "    </div>\n",
              "  </div>\n",
              "  "
            ],
            "text/plain": [
              "          id  vendor_id  ...  dropoff_time_morning  dropoff_time_night\n",
              "0  id2875421          2  ...                     0                   0\n",
              "1  id2377394          1  ...                     0                   0\n",
              "3  id3504673          2  ...                     0                   1\n",
              "4  id2181028          2  ...                     0                   0\n",
              "5  id0801584          2  ...                     0                   1\n",
              "\n",
              "[5 rows x 35 columns]"
            ]
          },
          "metadata": {},
          "execution_count": 54
        }
      ],
      "source": [
        "nyc_df.head()"
      ]
    },
    {
      "cell_type": "markdown",
      "metadata": {
        "id": "oB7JihkbVkcK"
      },
      "source": [
        "***Now than we are done with the cleaning as well as the feature engineering of our data lets do some feature selection before proceeding with the model building.***"
      ]
    },
    {
      "cell_type": "markdown",
      "metadata": {
        "id": "_134hbr0QxF8"
      },
      "source": [
        "# **Data preparation.**"
      ]
    },
    {
      "cell_type": "code",
      "execution_count": null,
      "metadata": {
        "id": "ddIspsHtR1wK"
      },
      "outputs": [],
      "source": [
        "# Lets drop id before going further as its not useful.\n",
        "nyc_df.drop('id', inplace=True, axis=1)"
      ]
    },
    {
      "cell_type": "markdown",
      "metadata": {
        "id": "qj9Cut1gRHGl"
      },
      "source": [
        "***Split the data first.***"
      ]
    },
    {
      "cell_type": "code",
      "execution_count": null,
      "metadata": {
        "id": "sYMZ2ZL-RGi7"
      },
      "outputs": [],
      "source": [
        "# Get X and y values.\n",
        "X = nyc_df.drop('trip_duration_minutes', axis=1)\n",
        "            \n",
        "y = nyc_df['trip_duration_minutes']"
      ]
    },
    {
      "cell_type": "code",
      "execution_count": null,
      "metadata": {
        "id": "o0Sgss06RkmL"
      },
      "outputs": [],
      "source": [
        "# Train Test Split.\n",
        "X_train, X_test, y_train, y_test = train_test_split(X, y,test_size=0.2,random_state =5)"
      ]
    },
    {
      "cell_type": "code",
      "execution_count": null,
      "metadata": {
        "id": "Fs5q5fnBRx0a"
      },
      "outputs": [],
      "source": [
        "# scale the data.\n",
        "scaler = StandardScaler()\n",
        "X_train = scaler.fit_transform(X_train)\n",
        "X_test = scaler.transform(X_test)"
      ]
    },
    {
      "cell_type": "markdown",
      "metadata": {
        "id": "ond0jferPAx2"
      },
      "source": [
        "## **Correlation between variables.**"
      ]
    },
    {
      "cell_type": "markdown",
      "metadata": {
        "id": "SbljWemG1tsZ"
      },
      "source": [
        "***Correlation of features with the dependent variable.***"
      ]
    },
    {
      "cell_type": "code",
      "execution_count": null,
      "metadata": {
        "colab": {
          "base_uri": "https://localhost:8080/"
        },
        "id": "3nElcT5I5Yit",
        "outputId": "f0448034-14db-4d31-a9bd-29a2a1d54dd4"
      },
      "outputs": [
        {
          "output_type": "display_data",
          "data": {
            "image/png": "[encoded data removed]",
            "text/plain": [
              "<Figure size 5760x360 with 1 Axes>"
            ]
          },
          "metadata": {
            "needs_background": "light"
          }
        }
      ],
      "source": [
        "corr_data = X.corrwith(y)\n",
        "plt.figure(figsize=(80,5))\n",
        "plt.plot(corr_data)\n",
        "plt.title('Correlation of features with the dependent variable.')\n",
        "plt.show()"
      ]
    },
    {
      "cell_type": "markdown",
      "metadata": {
        "id": "IXvYISgx11iX"
      },
      "source": [
        "***Check for multicollinearity among the variables.***"
      ]
    },
    {
      "cell_type": "code",
      "execution_count": null,
      "metadata": {
        "colab": {
          "base_uri": "https://localhost:8080/"
        },
        "id": "1q5og2hixK5i",
        "outputId": "05cacf75-6474-434e-8c72-2f6c8aa742cb"
      },
      "outputs": [
        {
          "output_type": "display_data",
          "data": {
            "image/png": "[encoded data removed]",
            "text/plain": [
              "<Figure size 1296x864 with 2 Axes>"
            ]
          },
          "metadata": {
            "needs_background": "light"
          }
        }
      ],
      "source": [
        "# Multicollinearity.\n",
        "fig = plt.figure(figsize=(18,12))\n",
        "sns.heatmap(nyc_df.corr(), cmap='Paired')\n",
        "plt.show()"
      ]
    },
    {
      "cell_type": "markdown",
      "metadata": {
        "id": "vrfIRnMmYunR"
      },
      "source": [
        "# **Model Selection:**"
      ]
    },
    {
      "cell_type": "markdown",
      "metadata": {
        "id": "AioblOa_Y2-R"
      },
      "source": [
        "**Models we will be building:**\n",
        "* **Linear Regression**\n",
        "* **XG Boost Regressor**\n",
        "* **Gradient Boosting regressor**\n",
        "* **Hist Gradient Boosting Regressor**\n",
        "\n"
      ]
    },
    {
      "cell_type": "code",
      "execution_count": null,
      "metadata": {
        "id": "_lTycHgh9jsc"
      },
      "outputs": [],
      "source": [
        "# Defining the models to be used.\n",
        "models = [['Linear Regression', LinearRegression()],\n",
        "          ['Decision Tree Regressor', DecisionTreeRegressor()],\n",
        "          ['XG Boost Regressor', xgb.XGBRegressor()],\n",
        "          ['Hist Gradient Boosting Regressor', HistGradientBoostingRegressor()],\n",
        "          ]"
      ]
    },
    {
      "cell_type": "code",
      "execution_count": null,
      "metadata": {
        "colab": {
          "base_uri": "https://localhost:8080/"
        },
        "id": "--k4uce4-fcR",
        "outputId": "8616cad2-120f-4b0e-bcd8-27bbaf8f5abe"
      },
      "outputs": [
        {
          "output_type": "stream",
          "name": "stdout",
          "text": [
            "[06:37:55] WARNING: /workspace/src/objective/regression_obj.cu:152: reg:linear is now deprecated in favor of reg:squarederror.\n"
          ]
        }
      ],
      "source": [
        "# Creating a function to train and test models.\n",
        "model_data = []\n",
        "for name,current_model in models:\n",
        "  current_model_data = {}\n",
        "  current_model.random_state = 78\n",
        "  current_model_data[\"Name\"] = name\n",
        "  start = time.time()\n",
        "  current_model.fit(X_train,y_train)\n",
        "  end = time.time()\n",
        "  current_model_data[\"Train_Time\"] = end - start\n",
        "  current_model_data[\"Train_R2_Score\"] = r2_score(y_train,current_model.predict(X_train))\n",
        "  current_model_data[\"Test_R2_Score\"] = r2_score(y_test,current_model.predict(X_test))\n",
        "  current_model_data[\"Test_RMSE_Score\"] = np.sqrt(mean_squared_error(y_test,current_model.predict(X_test)))\n",
        "  model_data.append(current_model_data)"
      ]
    },
    {
      "cell_type": "code",
      "execution_count": null,
      "metadata": {
        "colab": {
          "base_uri": "https://localhost:8080/"
        },
        "id": "fGKGslq0-1Ko",
        "outputId": "f015ce6c-464b-49ae-de36-a1dddd17cb59"
      },
      "outputs": [
        {
          "output_type": "execute_result",
          "data": {
            "text/html": [
              "\n",
              "  <div id=\"df-324a580a-d00f-448d-bd70-9e1d2c874e11\">\n",
              "    <div class=\"colab-df-container\">\n",
              "      <div>\n",
              "<style scoped>\n",
              "    .dataframe tbody tr th:only-of-type {\n",
              "        vertical-align: middle;\n",
              "    }\n",
              "\n",
              "    .dataframe tbody tr th {\n",
              "        vertical-align: top;\n",
              "    }\n",
              "\n",
              "    .dataframe thead th {\n",
              "        text-align: right;\n",
              "    }\n",
              "</style>\n",
              "<table border=\"1\" class=\"dataframe\">\n",
              "  <thead>\n",
              "    <tr style=\"text-align: right;\">\n",
              "      <th></th>\n",
              "      <th>Name</th>\n",
              "      <th>Train_Time</th>\n",
              "      <th>Train_R2_Score</th>\n",
              "      <th>Test_R2_Score</th>\n",
              "      <th>Test_RMSE_Score</th>\n",
              "    </tr>\n",
              "  </thead>\n",
              "  <tbody>\n",
              "    <tr>\n",
              "      <th>0</th>\n",
              "      <td>Linear Regression</td>\n",
              "      <td>1.580218</td>\n",
              "      <td>0.527756</td>\n",
              "      <td>0.528722</td>\n",
              "      <td>4.568891</td>\n",
              "    </tr>\n",
              "    <tr>\n",
              "      <th>1</th>\n",
              "      <td>Decision Tree Regressor</td>\n",
              "      <td>25.717400</td>\n",
              "      <td>0.999988</td>\n",
              "      <td>0.422492</td>\n",
              "      <td>5.057680</td>\n",
              "    </tr>\n",
              "    <tr>\n",
              "      <th>2</th>\n",
              "      <td>XG Boost Regressor</td>\n",
              "      <td>140.886116</td>\n",
              "      <td>0.619757</td>\n",
              "      <td>0.620201</td>\n",
              "      <td>4.101558</td>\n",
              "    </tr>\n",
              "    <tr>\n",
              "      <th>3</th>\n",
              "      <td>Hist Gradient Boosting Regressor</td>\n",
              "      <td>22.419768</td>\n",
              "      <td>0.687188</td>\n",
              "      <td>0.686527</td>\n",
              "      <td>3.726250</td>\n",
              "    </tr>\n",
              "  </tbody>\n",
              "</table>\n",
              "</div>\n",
              "      <button class=\"colab-df-convert\" onclick=\"convertToInteractive('df-324a580a-d00f-448d-bd70-9e1d2c874e11')\"\n",
              "              title=\"Convert this dataframe to an interactive table.\"\n",
              "              style=\"display:none;\">\n",
              "        \n",
              "  <svg xmlns=\"http://www.w3.org/2000/svg\" height=\"24px\"viewBox=\"0 0 24 24\"\n",
              "       width=\"24px\">\n",
              "    <path d=\"M0 0h24v24H0V0z\" fill=\"none\"/>\n",
              "    <path d=\"M18.56 5.44l.94 2.06.94-2.06 2.06-.94-2.06-.94-.94-2.06-.94 2.06-2.06.94zm-11 1L8.5 8.5l.94-2.06 2.06-.94-2.06-.94L8.5 2.5l-.94 2.06-2.06.94zm10 10l.94 2.06.94-2.06 2.06-.94-2.06-.94-.94-2.06-.94 2.06-2.06.94z\"/><path d=\"M17.41 7.96l-1.37-1.37c-.4-.4-.92-.59-1.43-.59-.52 0-1.04.2-1.43.59L10.3 9.45l-7.72 7.72c-.78.78-.78 2.05 0 2.83L4 21.41c.39.39.9.59 1.41.59.51 0 1.02-.2 1.41-.59l7.78-7.78 2.81-2.81c.8-.78.8-2.07 0-2.86zM5.41 20L4 18.59l7.72-7.72 1.47 1.35L5.41 20z\"/>\n",
              "  </svg>\n",
              "      </button>\n",
              "      \n",
              "  <style>\n",
              "    .colab-df-container {\n",
              "      display:flex;\n",
              "      flex-wrap:wrap;\n",
              "      gap: 12px;\n",
              "    }\n",
              "\n",
              "    .colab-df-convert {\n",
              "      background-color: #E8F0FE;\n",
              "      border: none;\n",
              "      border-radius: 50%;\n",
              "      cursor: pointer;\n",
              "      display: none;\n",
              "      fill: #1967D2;\n",
              "      height: 32px;\n",
              "      padding: 0 0 0 0;\n",
              "      width: 32px;\n",
              "    }\n",
              "\n",
              "    .colab-df-convert:hover {\n",
              "      background-color: #E2EBFA;\n",
              "      box-shadow: 0px 1px 2px rgba(60, 64, 67, 0.3), 0px 1px 3px 1px rgba(60, 64, 67, 0.15);\n",
              "      fill: #174EA6;\n",
              "    }\n",
              "\n",
              "    [theme=dark] .colab-df-convert {\n",
              "      background-color: #3B4455;\n",
              "      fill: #D2E3FC;\n",
              "    }\n",
              "\n",
              "    [theme=dark] .colab-df-convert:hover {\n",
              "      background-color: #434B5C;\n",
              "      box-shadow: 0px 1px 3px 1px rgba(0, 0, 0, 0.15);\n",
              "      filter: drop-shadow(0px 1px 2px rgba(0, 0, 0, 0.3));\n",
              "      fill: #FFFFFF;\n",
              "    }\n",
              "  </style>\n",
              "\n",
              "      <script>\n",
              "        const buttonEl =\n",
              "          document.querySelector('#df-324a580a-d00f-448d-bd70-9e1d2c874e11 button.colab-df-convert');\n",
              "        buttonEl.style.display =\n",
              "          google.colab.kernel.accessAllowed ? 'block' : 'none';\n",
              "\n",
              "        async function convertToInteractive(key) {\n",
              "          const element = document.querySelector('#df-324a580a-d00f-448d-bd70-9e1d2c874e11');\n",
              "          const dataTable =\n",
              "            await google.colab.kernel.invokeFunction('convertToInteractive',\n",
              "                                                     [key], {});\n",
              "          if (!dataTable) return;\n",
              "\n",
              "          const docLinkHtml = 'Like what you see? Visit the ' +\n",
              "            '<a target=\"_blank\" href=https://colab.research.google.com/notebooks/data_table.ipynb>data table notebook</a>'\n",
              "            + ' to learn more about interactive tables.';\n",
              "          element.innerHTML = '';\n",
              "          dataTable['output_type'] = 'display_data';\n",
              "          await google.colab.output.renderOutput(dataTable, element);\n",
              "          const docLink = document.createElement('div');\n",
              "          docLink.innerHTML = docLinkHtml;\n",
              "          element.appendChild(docLink);\n",
              "        }\n",
              "      </script>\n",
              "    </div>\n",
              "  </div>\n",
              "  "
            ],
            "text/plain": [
              "                               Name  Train_Time  ...  Test_R2_Score  Test_RMSE_Score\n",
              "0                 Linear Regression    1.580218  ...       0.528722         4.568891\n",
              "1           Decision Tree Regressor   25.717400  ...       0.422492         5.057680\n",
              "2                XG Boost Regressor  140.886116  ...       0.620201         4.101558\n",
              "3  Hist Gradient Boosting Regressor   22.419768  ...       0.686527         3.726250\n",
              "\n",
              "[4 rows x 5 columns]"
            ]
          },
          "metadata": {},
          "execution_count": 63
        }
      ],
      "source": [
        "results_df = df = pd.DataFrame(model_data)\n",
        "results_df"
      ]
    },
    {
      "cell_type": "markdown",
      "metadata": {
        "id": "SaHup1zMoV3p"
      },
      "source": [
        "**Hist Gradient Boosting Regressor performs the best with a Test R2 as 0.686527 and Test_RMSE of 3.726250.**"
      ]
    },
    {
      "cell_type": "markdown",
      "metadata": {
        "id": "ONZYvOk_oOwv"
      },
      "source": [
        "# **Hyperparameter Tuning:**"
      ]
    },
    {
      "cell_type": "markdown",
      "metadata": {
        "id": "0C8Oi7Lh03Of"
      },
      "source": [
        "**We will tune the parameters of Hist Gradient Boosting Regressor for better results.**"
      ]
    },
    {
      "cell_type": "code",
      "execution_count": null,
      "metadata": {
        "id": "xA-1cCXloVCy"
      },
      "outputs": [],
      "source": [
        "# Maximum depth of trees\n",
        "max_depth = [6,8,10]\n",
        "\n",
        "# Learning Rate\n",
        "learning_rate = [0.2,0.4,0.6]\n",
        "\n",
        "# Minimum sample leafs.\n",
        "min_samples_leaf = [50,60]\n",
        "\n",
        "# Maximum itteration.\n",
        "max_iter = [400,500]\n",
        "\n",
        "# Hyperparameter Dict\n",
        "param_dict = {\n",
        "              'max_depth' : max_depth,\n",
        "              'learning_rate' : learning_rate,\n",
        "              'min_samples_leaf' : min_samples_leaf,\n",
        "              'max_iter': max_iter\n",
        "}"
      ]
    },
    {
      "cell_type": "code",
      "execution_count": null,
      "metadata": {
        "colab": {
          "base_uri": "https://localhost:8080/"
        },
        "id": "NDSrLGEWoyKe",
        "outputId": "c49d97c2-dcdd-4f6e-86ae-d56734a2ca91"
      },
      "outputs": [
        {
          "output_type": "stream",
          "name": "stdout",
          "text": [
            "Fitting 5 folds for each of 36 candidates, totalling 180 fits\n",
            "[CV] END learning_rate=0.2, max_depth=6, max_iter=400, min_samples_leaf=50; total time=  53.6s\n",
            "[CV] END learning_rate=0.2, max_depth=6, max_iter=400, min_samples_leaf=50; total time=  53.6s\n",
            "[CV] END learning_rate=0.2, max_depth=6, max_iter=400, min_samples_leaf=50; total time=  55.8s\n",
            "[CV] END learning_rate=0.2, max_depth=6, max_iter=400, min_samples_leaf=50; total time=  53.7s\n",
            "[CV] END learning_rate=0.2, max_depth=6, max_iter=400, min_samples_leaf=50; total time=  53.7s\n",
            "[CV] END learning_rate=0.2, max_depth=6, max_iter=400, min_samples_leaf=60; total time=  54.1s\n",
            "[CV] END learning_rate=0.2, max_depth=6, max_iter=400, min_samples_leaf=60; total time=  53.6s\n",
            "[CV] END learning_rate=0.2, max_depth=6, max_iter=400, min_samples_leaf=60; total time=  53.9s\n",
            "[CV] END learning_rate=0.2, max_depth=6, max_iter=400, min_samples_leaf=60; total time=  53.6s\n",
            "[CV] END learning_rate=0.2, max_depth=6, max_iter=400, min_samples_leaf=60; total time=  53.6s\n",
            "[CV] END learning_rate=0.2, max_depth=6, max_iter=500, min_samples_leaf=50; total time= 1.1min\n",
            "[CV] END learning_rate=0.2, max_depth=6, max_iter=500, min_samples_leaf=50; total time= 1.1min\n",
            "[CV] END learning_rate=0.2, max_depth=6, max_iter=500, min_samples_leaf=50; total time= 1.1min\n",
            "[CV] END learning_rate=0.2, max_depth=6, max_iter=500, min_samples_leaf=50; total time= 1.1min\n",
            "[CV] END learning_rate=0.2, max_depth=6, max_iter=500, min_samples_leaf=50; total time= 1.1min\n",
            "[CV] END learning_rate=0.2, max_depth=6, max_iter=500, min_samples_leaf=60; total time= 1.1min\n",
            "[CV] END learning_rate=0.2, max_depth=6, max_iter=500, min_samples_leaf=60; total time= 1.1min\n",
            "[CV] END learning_rate=0.2, max_depth=6, max_iter=500, min_samples_leaf=60; total time= 1.1min\n",
            "[CV] END learning_rate=0.2, max_depth=6, max_iter=500, min_samples_leaf=60; total time= 1.1min\n",
            "[CV] END learning_rate=0.2, max_depth=6, max_iter=500, min_samples_leaf=60; total time= 1.1min\n",
            "[CV] END learning_rate=0.2, max_depth=8, max_iter=400, min_samples_leaf=50; total time=  51.8s\n",
            "[CV] END learning_rate=0.2, max_depth=8, max_iter=400, min_samples_leaf=50; total time=  52.7s\n",
            "[CV] END learning_rate=0.2, max_depth=8, max_iter=400, min_samples_leaf=50; total time=  52.7s\n",
            "[CV] END learning_rate=0.2, max_depth=8, max_iter=400, min_samples_leaf=50; total time=  52.9s\n",
            "[CV] END learning_rate=0.2, max_depth=8, max_iter=400, min_samples_leaf=50; total time=  51.8s\n",
            "[CV] END learning_rate=0.2, max_depth=8, max_iter=400, min_samples_leaf=60; total time=  51.6s\n",
            "[CV] END learning_rate=0.2, max_depth=8, max_iter=400, min_samples_leaf=60; total time=  51.4s\n",
            "[CV] END learning_rate=0.2, max_depth=8, max_iter=400, min_samples_leaf=60; total time=  51.1s\n",
            "[CV] END learning_rate=0.2, max_depth=8, max_iter=400, min_samples_leaf=60; total time=  52.3s\n",
            "[CV] END learning_rate=0.2, max_depth=8, max_iter=400, min_samples_leaf=60; total time=  51.6s\n",
            "[CV] END learning_rate=0.2, max_depth=8, max_iter=500, min_samples_leaf=50; total time= 1.0min\n",
            "[CV] END learning_rate=0.2, max_depth=8, max_iter=500, min_samples_leaf=50; total time= 1.0min\n",
            "[CV] END learning_rate=0.2, max_depth=8, max_iter=500, min_samples_leaf=50; total time= 1.0min\n",
            "[CV] END learning_rate=0.2, max_depth=8, max_iter=500, min_samples_leaf=50; total time= 1.2min\n",
            "[CV] END learning_rate=0.2, max_depth=8, max_iter=500, min_samples_leaf=50; total time= 1.0min\n",
            "[CV] END learning_rate=0.2, max_depth=8, max_iter=500, min_samples_leaf=60; total time= 1.1min\n",
            "[CV] END learning_rate=0.2, max_depth=8, max_iter=500, min_samples_leaf=60; total time= 1.0min\n",
            "[CV] END learning_rate=0.2, max_depth=8, max_iter=500, min_samples_leaf=60; total time= 1.0min\n",
            "[CV] END learning_rate=0.2, max_depth=8, max_iter=500, min_samples_leaf=60; total time= 1.0min\n",
            "[CV] END learning_rate=0.2, max_depth=8, max_iter=500, min_samples_leaf=60; total time= 1.1min\n",
            "[CV] END learning_rate=0.2, max_depth=10, max_iter=400, min_samples_leaf=50; total time=  51.6s\n",
            "[CV] END learning_rate=0.2, max_depth=10, max_iter=400, min_samples_leaf=50; total time=  51.0s\n",
            "[CV] END learning_rate=0.2, max_depth=10, max_iter=400, min_samples_leaf=50; total time=  50.5s\n",
            "[CV] END learning_rate=0.2, max_depth=10, max_iter=400, min_samples_leaf=50; total time=  50.9s\n",
            "[CV] END learning_rate=0.2, max_depth=10, max_iter=400, min_samples_leaf=50; total time=  51.1s\n",
            "[CV] END learning_rate=0.2, max_depth=10, max_iter=400, min_samples_leaf=60; total time=  50.9s\n",
            "[CV] END learning_rate=0.2, max_depth=10, max_iter=400, min_samples_leaf=60; total time=  51.1s\n",
            "[CV] END learning_rate=0.2, max_depth=10, max_iter=400, min_samples_leaf=60; total time=  50.8s\n",
            "[CV] END learning_rate=0.2, max_depth=10, max_iter=400, min_samples_leaf=60; total time=  50.7s\n",
            "[CV] END learning_rate=0.2, max_depth=10, max_iter=400, min_samples_leaf=60; total time=  51.4s\n",
            "[CV] END learning_rate=0.2, max_depth=10, max_iter=500, min_samples_leaf=50; total time= 1.0min\n",
            "[CV] END learning_rate=0.2, max_depth=10, max_iter=500, min_samples_leaf=50; total time= 1.0min\n",
            "[CV] END learning_rate=0.2, max_depth=10, max_iter=500, min_samples_leaf=50; total time= 1.0min\n",
            "[CV] END learning_rate=0.2, max_depth=10, max_iter=500, min_samples_leaf=50; total time= 1.0min\n",
            "[CV] END learning_rate=0.2, max_depth=10, max_iter=500, min_samples_leaf=50; total time= 1.1min\n",
            "[CV] END learning_rate=0.2, max_depth=10, max_iter=500, min_samples_leaf=60; total time= 1.0min\n",
            "[CV] END learning_rate=0.2, max_depth=10, max_iter=500, min_samples_leaf=60; total time= 1.0min\n",
            "[CV] END learning_rate=0.2, max_depth=10, max_iter=500, min_samples_leaf=60; total time= 1.0min\n",
            "[CV] END learning_rate=0.2, max_depth=10, max_iter=500, min_samples_leaf=60; total time= 1.0min\n",
            "[CV] END learning_rate=0.2, max_depth=10, max_iter=500, min_samples_leaf=60; total time= 1.0min\n",
            "[CV] END learning_rate=0.4, max_depth=6, max_iter=400, min_samples_leaf=50; total time=  51.2s\n",
            "[CV] END learning_rate=0.4, max_depth=6, max_iter=400, min_samples_leaf=50; total time=  51.3s\n",
            "[CV] END learning_rate=0.4, max_depth=6, max_iter=400, min_samples_leaf=50; total time=  51.0s\n",
            "[CV] END learning_rate=0.4, max_depth=6, max_iter=400, min_samples_leaf=50; total time=  51.6s\n",
            "[CV] END learning_rate=0.4, max_depth=6, max_iter=400, min_samples_leaf=50; total time=  51.7s\n",
            "[CV] END learning_rate=0.4, max_depth=6, max_iter=400, min_samples_leaf=60; total time=  53.6s\n",
            "[CV] END learning_rate=0.4, max_depth=6, max_iter=400, min_samples_leaf=60; total time=  51.5s\n",
            "[CV] END learning_rate=0.4, max_depth=6, max_iter=400, min_samples_leaf=60; total time=  52.3s\n",
            "[CV] END learning_rate=0.4, max_depth=6, max_iter=400, min_samples_leaf=60; total time=  51.5s\n",
            "[CV] END learning_rate=0.4, max_depth=6, max_iter=400, min_samples_leaf=60; total time=  52.2s\n",
            "[CV] END learning_rate=0.4, max_depth=6, max_iter=500, min_samples_leaf=50; total time= 1.1min\n",
            "[CV] END learning_rate=0.4, max_depth=6, max_iter=500, min_samples_leaf=50; total time= 1.1min\n",
            "[CV] END learning_rate=0.4, max_depth=6, max_iter=500, min_samples_leaf=50; total time= 1.1min\n",
            "[CV] END learning_rate=0.4, max_depth=6, max_iter=500, min_samples_leaf=50; total time= 1.0min\n",
            "[CV] END learning_rate=0.4, max_depth=6, max_iter=500, min_samples_leaf=50; total time= 1.1min\n",
            "[CV] END learning_rate=0.4, max_depth=6, max_iter=500, min_samples_leaf=60; total time= 1.1min\n",
            "[CV] END learning_rate=0.4, max_depth=6, max_iter=500, min_samples_leaf=60; total time= 1.0min\n",
            "[CV] END learning_rate=0.4, max_depth=6, max_iter=500, min_samples_leaf=60; total time= 1.1min\n",
            "[CV] END learning_rate=0.4, max_depth=6, max_iter=500, min_samples_leaf=60; total time= 1.1min\n",
            "[CV] END learning_rate=0.4, max_depth=6, max_iter=500, min_samples_leaf=60; total time= 1.1min\n",
            "[CV] END learning_rate=0.4, max_depth=8, max_iter=400, min_samples_leaf=50; total time=  49.3s\n",
            "[CV] END learning_rate=0.4, max_depth=8, max_iter=400, min_samples_leaf=50; total time=  49.2s\n",
            "[CV] END learning_rate=0.4, max_depth=8, max_iter=400, min_samples_leaf=50; total time=  49.1s\n",
            "[CV] END learning_rate=0.4, max_depth=8, max_iter=400, min_samples_leaf=50; total time=  49.0s\n",
            "[CV] END learning_rate=0.4, max_depth=8, max_iter=400, min_samples_leaf=50; total time=  49.3s\n",
            "[CV] END learning_rate=0.4, max_depth=8, max_iter=400, min_samples_leaf=60; total time=  49.4s\n",
            "[CV] END learning_rate=0.4, max_depth=8, max_iter=400, min_samples_leaf=60; total time=  49.7s\n",
            "[CV] END learning_rate=0.4, max_depth=8, max_iter=400, min_samples_leaf=60; total time=  49.3s\n",
            "[CV] END learning_rate=0.4, max_depth=8, max_iter=400, min_samples_leaf=60; total time=  49.2s\n",
            "[CV] END learning_rate=0.4, max_depth=8, max_iter=400, min_samples_leaf=60; total time=  49.1s\n",
            "[CV] END learning_rate=0.4, max_depth=8, max_iter=500, min_samples_leaf=50; total time=  59.3s\n",
            "[CV] END learning_rate=0.4, max_depth=8, max_iter=500, min_samples_leaf=50; total time=  55.3s\n",
            "[CV] END learning_rate=0.4, max_depth=8, max_iter=500, min_samples_leaf=50; total time=  59.5s\n",
            "[CV] END learning_rate=0.4, max_depth=8, max_iter=500, min_samples_leaf=50; total time=  59.0s\n",
            "[CV] END learning_rate=0.4, max_depth=8, max_iter=500, min_samples_leaf=50; total time=  59.3s\n",
            "[CV] END learning_rate=0.4, max_depth=8, max_iter=500, min_samples_leaf=60; total time=  59.3s\n",
            "[CV] END learning_rate=0.4, max_depth=8, max_iter=500, min_samples_leaf=60; total time=  59.6s\n",
            "[CV] END learning_rate=0.4, max_depth=8, max_iter=500, min_samples_leaf=60; total time=  59.3s\n",
            "[CV] END learning_rate=0.4, max_depth=8, max_iter=500, min_samples_leaf=60; total time= 1.0min\n",
            "[CV] END learning_rate=0.4, max_depth=8, max_iter=500, min_samples_leaf=60; total time=  59.6s\n",
            "[CV] END learning_rate=0.4, max_depth=10, max_iter=400, min_samples_leaf=50; total time=  48.2s\n",
            "[CV] END learning_rate=0.4, max_depth=10, max_iter=400, min_samples_leaf=50; total time=  48.7s\n",
            "[CV] END learning_rate=0.4, max_depth=10, max_iter=400, min_samples_leaf=50; total time=  49.3s\n",
            "[CV] END learning_rate=0.4, max_depth=10, max_iter=400, min_samples_leaf=50; total time=  48.6s\n",
            "[CV] END learning_rate=0.4, max_depth=10, max_iter=400, min_samples_leaf=50; total time=  48.8s\n",
            "[CV] END learning_rate=0.4, max_depth=10, max_iter=400, min_samples_leaf=60; total time=  48.8s\n",
            "[CV] END learning_rate=0.4, max_depth=10, max_iter=400, min_samples_leaf=60; total time=  49.1s\n",
            "[CV] END learning_rate=0.4, max_depth=10, max_iter=400, min_samples_leaf=60; total time=  49.1s\n",
            "[CV] END learning_rate=0.4, max_depth=10, max_iter=400, min_samples_leaf=60; total time=  48.7s\n",
            "[CV] END learning_rate=0.4, max_depth=10, max_iter=400, min_samples_leaf=60; total time=  48.4s\n",
            "[CV] END learning_rate=0.4, max_depth=10, max_iter=500, min_samples_leaf=50; total time=  59.3s\n",
            "[CV] END learning_rate=0.4, max_depth=10, max_iter=500, min_samples_leaf=50; total time=  59.5s\n",
            "[CV] END learning_rate=0.4, max_depth=10, max_iter=500, min_samples_leaf=50; total time=  58.6s\n",
            "[CV] END learning_rate=0.4, max_depth=10, max_iter=500, min_samples_leaf=50; total time=  58.9s\n",
            "[CV] END learning_rate=0.4, max_depth=10, max_iter=500, min_samples_leaf=50; total time=  59.1s\n",
            "[CV] END learning_rate=0.4, max_depth=10, max_iter=500, min_samples_leaf=60; total time=  59.2s\n",
            "[CV] END learning_rate=0.4, max_depth=10, max_iter=500, min_samples_leaf=60; total time=  59.3s\n",
            "[CV] END learning_rate=0.4, max_depth=10, max_iter=500, min_samples_leaf=60; total time=  57.1s\n",
            "[CV] END learning_rate=0.4, max_depth=10, max_iter=500, min_samples_leaf=60; total time=  51.0s\n",
            "[CV] END learning_rate=0.4, max_depth=10, max_iter=500, min_samples_leaf=60; total time=  59.9s\n",
            "[CV] END learning_rate=0.6, max_depth=6, max_iter=400, min_samples_leaf=50; total time=  50.9s\n",
            "[CV] END learning_rate=0.6, max_depth=6, max_iter=400, min_samples_leaf=50; total time=  51.0s\n",
            "[CV] END learning_rate=0.6, max_depth=6, max_iter=400, min_samples_leaf=50; total time=  51.1s\n",
            "[CV] END learning_rate=0.6, max_depth=6, max_iter=400, min_samples_leaf=50; total time=  50.8s\n",
            "[CV] END learning_rate=0.6, max_depth=6, max_iter=400, min_samples_leaf=50; total time=  53.1s\n",
            "[CV] END learning_rate=0.6, max_depth=6, max_iter=400, min_samples_leaf=60; total time=  51.6s\n",
            "[CV] END learning_rate=0.6, max_depth=6, max_iter=400, min_samples_leaf=60; total time=  51.6s\n",
            "[CV] END learning_rate=0.6, max_depth=6, max_iter=400, min_samples_leaf=60; total time=  51.1s\n",
            "[CV] END learning_rate=0.6, max_depth=6, max_iter=400, min_samples_leaf=60; total time=  50.8s\n",
            "[CV] END learning_rate=0.6, max_depth=6, max_iter=400, min_samples_leaf=60; total time=  45.5s\n",
            "[CV] END learning_rate=0.6, max_depth=6, max_iter=500, min_samples_leaf=50; total time= 1.0min\n",
            "[CV] END learning_rate=0.6, max_depth=6, max_iter=500, min_samples_leaf=50; total time=  44.4s\n",
            "[CV] END learning_rate=0.6, max_depth=6, max_iter=500, min_samples_leaf=50; total time= 1.0min\n",
            "[CV] END learning_rate=0.6, max_depth=6, max_iter=500, min_samples_leaf=50; total time= 1.0min\n",
            "[CV] END learning_rate=0.6, max_depth=6, max_iter=500, min_samples_leaf=50; total time= 1.0min\n",
            "[CV] END learning_rate=0.6, max_depth=6, max_iter=500, min_samples_leaf=60; total time= 1.1min\n",
            "[CV] END learning_rate=0.6, max_depth=6, max_iter=500, min_samples_leaf=60; total time=  53.6s\n",
            "[CV] END learning_rate=0.6, max_depth=6, max_iter=500, min_samples_leaf=60; total time= 1.0min\n",
            "[CV] END learning_rate=0.6, max_depth=6, max_iter=500, min_samples_leaf=60; total time=  56.0s\n",
            "[CV] END learning_rate=0.6, max_depth=6, max_iter=500, min_samples_leaf=60; total time= 1.0min\n",
            "[CV] END learning_rate=0.6, max_depth=8, max_iter=400, min_samples_leaf=50; total time=  48.4s\n",
            "[CV] END learning_rate=0.6, max_depth=8, max_iter=400, min_samples_leaf=50; total time=  42.6s\n",
            "[CV] END learning_rate=0.6, max_depth=8, max_iter=400, min_samples_leaf=50; total time=  41.1s\n",
            "[CV] END learning_rate=0.6, max_depth=8, max_iter=400, min_samples_leaf=50; total time=  40.1s\n",
            "[CV] END learning_rate=0.6, max_depth=8, max_iter=400, min_samples_leaf=50; total time=  48.0s\n",
            "[CV] END learning_rate=0.6, max_depth=8, max_iter=400, min_samples_leaf=60; total time=  48.0s\n",
            "[CV] END learning_rate=0.6, max_depth=8, max_iter=400, min_samples_leaf=60; total time=  37.1s\n",
            "[CV] END learning_rate=0.6, max_depth=8, max_iter=400, min_samples_leaf=60; total time=  48.9s\n",
            "[CV] END learning_rate=0.6, max_depth=8, max_iter=400, min_samples_leaf=60; total time=  48.8s\n",
            "[CV] END learning_rate=0.6, max_depth=8, max_iter=400, min_samples_leaf=60; total time=  43.4s\n",
            "[CV] END learning_rate=0.6, max_depth=8, max_iter=500, min_samples_leaf=50; total time=  49.7s\n",
            "[CV] END learning_rate=0.6, max_depth=8, max_iter=500, min_samples_leaf=50; total time=  48.3s\n",
            "[CV] END learning_rate=0.6, max_depth=8, max_iter=500, min_samples_leaf=50; total time=  43.3s\n",
            "[CV] END learning_rate=0.6, max_depth=8, max_iter=500, min_samples_leaf=50; total time=  44.6s\n",
            "[CV] END learning_rate=0.6, max_depth=8, max_iter=500, min_samples_leaf=50; total time=  45.1s\n",
            "[CV] END learning_rate=0.6, max_depth=8, max_iter=500, min_samples_leaf=60; total time=  47.8s\n",
            "[CV] END learning_rate=0.6, max_depth=8, max_iter=500, min_samples_leaf=60; total time=  41.1s\n",
            "[CV] END learning_rate=0.6, max_depth=8, max_iter=500, min_samples_leaf=60; total time=  46.3s\n",
            "[CV] END learning_rate=0.6, max_depth=8, max_iter=500, min_samples_leaf=60; total time=  57.2s\n",
            "[CV] END learning_rate=0.6, max_depth=8, max_iter=500, min_samples_leaf=60; total time=  50.8s\n",
            "[CV] END learning_rate=0.6, max_depth=10, max_iter=400, min_samples_leaf=50; total time=  45.5s\n",
            "[CV] END learning_rate=0.6, max_depth=10, max_iter=400, min_samples_leaf=50; total time=  48.0s\n",
            "[CV] END learning_rate=0.6, max_depth=10, max_iter=400, min_samples_leaf=50; total time=  41.3s\n",
            "[CV] END learning_rate=0.6, max_depth=10, max_iter=400, min_samples_leaf=50; total time=  47.9s\n",
            "[CV] END learning_rate=0.6, max_depth=10, max_iter=400, min_samples_leaf=50; total time=  30.6s\n",
            "[CV] END learning_rate=0.6, max_depth=10, max_iter=400, min_samples_leaf=60; total time=  47.9s\n",
            "[CV] END learning_rate=0.6, max_depth=10, max_iter=400, min_samples_leaf=60; total time=  47.8s\n",
            "[CV] END learning_rate=0.6, max_depth=10, max_iter=400, min_samples_leaf=60; total time=  36.5s\n",
            "[CV] END learning_rate=0.6, max_depth=10, max_iter=400, min_samples_leaf=60; total time=  44.1s\n",
            "[CV] END learning_rate=0.6, max_depth=10, max_iter=400, min_samples_leaf=60; total time=  47.2s\n",
            "[CV] END learning_rate=0.6, max_depth=10, max_iter=500, min_samples_leaf=50; total time=  44.4s\n",
            "[CV] END learning_rate=0.6, max_depth=10, max_iter=500, min_samples_leaf=50; total time=  43.8s\n",
            "[CV] END learning_rate=0.6, max_depth=10, max_iter=500, min_samples_leaf=50; total time=  39.3s\n",
            "[CV] END learning_rate=0.6, max_depth=10, max_iter=500, min_samples_leaf=50; total time=  44.8s\n",
            "[CV] END learning_rate=0.6, max_depth=10, max_iter=500, min_samples_leaf=50; total time=  54.7s\n",
            "[CV] END learning_rate=0.6, max_depth=10, max_iter=500, min_samples_leaf=60; total time=  42.2s\n",
            "[CV] END learning_rate=0.6, max_depth=10, max_iter=500, min_samples_leaf=60; total time=  44.7s\n",
            "[CV] END learning_rate=0.6, max_depth=10, max_iter=500, min_samples_leaf=60; total time=  52.6s\n",
            "[CV] END learning_rate=0.6, max_depth=10, max_iter=500, min_samples_leaf=60; total time=  47.8s\n",
            "[CV] END learning_rate=0.6, max_depth=10, max_iter=500, min_samples_leaf=60; total time=  40.9s\n"
          ]
        },
        {
          "output_type": "execute_result",
          "data": {
            "text/plain": [
              "GridSearchCV(cv=5, estimator=HistGradientBoostingRegressor(),\n",
              "             param_grid={'learning_rate': [0.2, 0.4, 0.6],\n",
              "                         'max_depth': [6, 8, 10], 'max_iter': [400, 500],\n",
              "                         'min_samples_leaf': [50, 60]},\n",
              "             scoring='r2', verbose=2)"
            ]
          },
          "metadata": {},
          "execution_count": 65
        }
      ],
      "source": [
        "# Define model.\n",
        "# min_samples_leaf = 60, max_iter = 500, learning_rate = 0.2\n",
        "hbg_reg = HistGradientBoostingRegressor()\n",
        "\n",
        "# Grid search\n",
        "hbg_grid = GridSearchCV(estimator=hbg_reg,\n",
        "                       param_grid = param_dict,\n",
        "                       cv = 5, verbose=2, scoring='r2')\n",
        "\n",
        "hbg_grid.fit(X_train, y_train)"
      ]
    },
    {
      "cell_type": "code",
      "execution_count": null,
      "metadata": {
        "colab": {
          "base_uri": "https://localhost:8080/"
        },
        "id": "7M3AUrdUe5Lc",
        "outputId": "8b0efa6c-dbe7-47d2-9c7e-a877855da51b"
      },
      "outputs": [
        {
          "output_type": "execute_result",
          "data": {
            "text/plain": [
              "{'learning_rate': 0.4,\n",
              " 'max_depth': 10,\n",
              " 'max_iter': 500,\n",
              " 'min_samples_leaf': 50}"
            ]
          },
          "metadata": {},
          "execution_count": 66
        }
      ],
      "source": [
        "hbg_grid.best_params_"
      ]
    },
    {
      "cell_type": "code",
      "execution_count": null,
      "metadata": {
        "colab": {
          "base_uri": "https://localhost:8080/"
        },
        "id": "oevTEkLAe5BU",
        "outputId": "991467fc-55f2-43b7-a3ec-d847e341abdc"
      },
      "outputs": [
        {
          "output_type": "execute_result",
          "data": {
            "text/plain": [
              "HistGradientBoostingRegressor(learning_rate=0.4, max_depth=10, max_iter=500,\n",
              "                              min_samples_leaf=50)"
            ]
          },
          "metadata": {},
          "execution_count": 67
        }
      ],
      "source": [
        "hbg_grid.best_estimator_"
      ]
    },
    {
      "cell_type": "code",
      "execution_count": null,
      "metadata": {
        "id": "UHA1ndqBQt5T"
      },
      "outputs": [],
      "source": [
        "hgb_optimal_model = hbg_grid.best_estimator_"
      ]
    },
    {
      "cell_type": "code",
      "source": [
        "# hgb_optimal_model = HistGradientBoostingRegressor(min_samples_leaf = 60, max_iter = 500, learning_rate = 0.4, max_depth = 10)\n",
        "# hgb_optimal_model.fit(X_train, y_train)"
      ],
      "metadata": {
        "id": "_6wQ6GakZrYX"
      },
      "execution_count": null,
      "outputs": []
    },
    {
      "cell_type": "code",
      "execution_count": null,
      "metadata": {
        "id": "3leWza5re5vo"
      },
      "outputs": [],
      "source": [
        "# Making predictions on train and test data\n",
        "train_class_preds = hgb_optimal_model.predict(X_train)\n",
        "test_class_preds = hgb_optimal_model.predict(X_test)"
      ]
    },
    {
      "cell_type": "code",
      "execution_count": null,
      "metadata": {
        "colab": {
          "base_uri": "https://localhost:8080/"
        },
        "id": "yqUVeo98zQAm",
        "outputId": "2bff12a3-88b8-4fcd-f8b9-3f8ce1e4339f"
      },
      "outputs": [
        {
          "output_type": "stream",
          "name": "stdout",
          "text": [
            "MSE : 10.493231548665367\n",
            "RMSE : 3.2393257861267006\n",
            "R2 : 0.7615026638712817\n",
            "Adjusted R2 :  0.7614949576253467\n"
          ]
        }
      ],
      "source": [
        "#Train set metrics\n",
        "hgb_MSE_train  = mean_squared_error((y_train), (train_class_preds))\n",
        "print(\"MSE :\" , hgb_MSE_train)\n",
        "\n",
        "hgb_RMSE_train = np.sqrt(hgb_MSE_train)\n",
        "\n",
        "print(\"RMSE :\" ,hgb_RMSE_train)\n",
        "\n",
        "hgb_r2_train = r2_score((y_train), (train_class_preds))\n",
        "print(\"R2 :\" ,hgb_r2_train)\n",
        "hgb_ar2_train = 1-(1-r2_score((y_train), (train_class_preds)))*((X_train.shape[0]-1)/(X_train.shape[0]-X_train.shape[1]-1))\n",
        "print(\"Adjusted R2 : \",hgb_ar2_train)"
      ]
    },
    {
      "cell_type": "code",
      "execution_count": null,
      "metadata": {
        "colab": {
          "base_uri": "https://localhost:8080/"
        },
        "id": "5xQDKEg8zS0f",
        "outputId": "f2a06166-97e5-4d51-ed0e-752e0b4d8ecb"
      },
      "outputs": [
        {
          "output_type": "stream",
          "name": "stdout",
          "text": [
            "MSE : 11.339631625692881\n",
            "RMSE : 3.367436951999678\n",
            "R2 : 0.7439913368965054\n",
            "Adjusted R2 :  0.7439582454245472\n"
          ]
        }
      ],
      "source": [
        "#Test set metrics\n",
        "hgb_MSE_test  = mean_squared_error((y_test), (test_class_preds))\n",
        "print(\"MSE :\" , hgb_MSE_test)\n",
        "\n",
        "hgb_RMSE_test = np.sqrt(hgb_MSE_test)\n",
        "\n",
        "print(\"RMSE :\" ,hgb_RMSE_test)\n",
        "\n",
        "hgb_r2_test = r2_score((y_test), (test_class_preds))\n",
        "print(\"R2 :\" ,hgb_r2_test)\n",
        "hgb_ar2_test = 1-(1-r2_score((y_test), (test_class_preds)))*((X_test.shape[0]-1)/(X_test.shape[0]-X_test.shape[1]-1))\n",
        "print(\"Adjusted R2 : \",hgb_ar2_test)"
      ]
    },
    {
      "cell_type": "markdown",
      "metadata": {
        "id": "evHf22-N1Yup"
      },
      "source": [
        "**We can observe improvement in the R2 and RMSE after hyperparameter tuning.**"
      ]
    },
    {
      "cell_type": "code",
      "execution_count": null,
      "metadata": {
        "colab": {
          "base_uri": "https://localhost:8080/",
          "height": 320
        },
        "id": "Mi9lCiZz4ykX",
        "outputId": "17d3d442-158a-4157-bf02-4cad4c857ed5"
      },
      "outputs": [
        {
          "output_type": "display_data",
          "data": {
            "image/png": "[encoded data removed]",
            "text/plain": [
              "<Figure size 1440x360 with 1 Axes>"
            ]
          },
          "metadata": {
            "needs_background": "light"
          }
        }
      ],
      "source": [
        "plt.figure(figsize=(20,5))\n",
        "plt.plot((test_class_preds)[:200])\n",
        "plt.plot(np.array(y_test)[:200])\n",
        "plt.legend([\"Predicted\",\"Actual\"])\n",
        "plt.show()"
      ]
    },
    {
      "cell_type": "markdown",
      "source": [
        "# **Conclusion**"
      ],
      "metadata": {
        "id": "EVQDW0VyoTuK"
      }
    }
  ],
  "metadata": {
    "colab": {
      "collapsed_sections": [
        "uIeMIxr9EJTg",
        "Br-RCkRZErMg",
        "fKjAvFtGFx-h",
        "2F2xYpzyF2BI",
        "ry9xK3wnIA3F",
        "_134hbr0QxF8",
        "ond0jferPAx2",
        "vrfIRnMmYunR"
      ],
      "name": "NYC_Taxi_TripDuration_Prediction.ipynb",
      "provenance": [],
      "authorship_tag": "ABX9TyPAt006WoY2Q3Z8vlWp6ksV",
      "include_colab_link": true
    },
    "kernelspec": {
      "display_name": "Python 3",
      "name": "python3"
    },
    "language_info": {
      "name": "python"
    }
  },
  "nbformat": 4,
  "nbformat_minor": 0
}