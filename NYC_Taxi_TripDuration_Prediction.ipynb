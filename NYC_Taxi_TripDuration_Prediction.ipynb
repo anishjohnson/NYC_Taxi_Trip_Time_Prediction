{
  "nbformat": 4,
  "nbformat_minor": 0,
  "metadata": {
    "colab": {
      "name": "NYC_Taxi_TripDuration_Prediction.ipynb",
      "provenance": [],
      "authorship_tag": "ABX9TyN+5ZcrXxdj8Xv5q6XS8m39",
      "include_colab_link": true
    },
    "kernelspec": {
      "name": "python3",
      "display_name": "Python 3"
    },
    "language_info": {
      "name": "python"
    }
  },
  "cells": [
    {
      "cell_type": "markdown",
      "metadata": {
        "id": "view-in-github",
        "colab_type": "text"
      },
      "source": [
        "<a href=\"https://colab.research.google.com/github/anishjohnson/NYC_Taxi_TripTime_Prediction/blob/main/NYC_Taxi_TripDuration_Prediction.ipynb\" target=\"_parent\"><img src=\"https://colab.research.google.com/assets/colab-badge.svg\" alt=\"Open In Colab\"/></a>"
      ]
    },
    {
      "cell_type": "markdown",
      "metadata": {
        "id": "tOGC-qoyhJeX"
      },
      "source": [
        "# <b><u> Project Title : Taxi trip time Prediction : Predicting total ride duration of taxi trips in New York City</u></b>\n",
        "\n",
        "## <b> Problem Description </b>\n",
        "\n",
        "### Your task is to build a model that predicts the total ride duration of taxi trips in New York City. Your primary dataset is one released by the NYC Taxi and Limousine Commission, which includes pickup time, geo-coordinates, number of passengers, and several other variables.\n",
        "\n",
        "## <b> Data Description </b>\n",
        "\n",
        "### The dataset is based on the 2016 NYC Yellow Cab trip record data made available in Big Query on Google Cloud Platform. The data was originally published by the NYC Taxi and Limousine Commission (TLC). The data was sampled and cleaned for the purposes of this project. Based on individual trip attributes, you should predict the duration of each trip in the test set.\n",
        "\n",
        "### <b>NYC Taxi Data.csv</b> - the training set (contains 1458644 trip records)\n",
        "\n",
        "\n",
        "### Data fields\n",
        "* ### id - a unique identifier for each trip\n",
        "* ### vendor_id - a code indicating the provider associated with the trip record\n",
        "* ### pickup_datetime - date and time when the meter was engaged\n",
        "* ### dropoff_datetime - date and time when the meter was disengaged\n",
        "* ### passenger_count - the number of passengers in the vehicle (driver entered value)\n",
        "* ### pickup_longitude - the longitude where the meter was engaged\n",
        "* ### pickup_latitude - the latitude where the meter was engaged\n",
        "* ### dropoff_longitude - the longitude where the meter was disengaged\n",
        "* ### dropoff_latitude - the latitude where the meter was disengaged\n",
        "* ### store_and_fwd_flag - This flag indicates whether the trip record was held in vehicle memory before sending to the vendor because the vehicle did not have a connection to the server - Y=store and forward; N=not a store and forward trip\n",
        "* ### trip_duration - duration of the trip in seconds"
      ]
    }
  ]
}