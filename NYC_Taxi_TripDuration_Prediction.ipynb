{
  "cells": [
    {
      "cell_type": "markdown",
      "metadata": {
        "id": "view-in-github",
        "colab_type": "text"
      },
      "source": [
        "<a href=\"https://colab.research.google.com/github/anishjohnson/NYC_Taxi_TripTime_Prediction/blob/main/NYC_Taxi_TripDuration_Prediction.ipynb\" target=\"_parent\"><img src=\"https://colab.research.google.com/assets/colab-badge.svg\" alt=\"Open In Colab\"/></a>"
      ]
    },
    {
      "cell_type": "markdown",
      "metadata": {
        "id": "tOGC-qoyhJeX"
      },
      "source": [
        "# <b><u> Project Title : Taxi trip time Prediction : Predicting total ride duration of taxi trips in New York City</u></b>\n",
        "\n",
        "## <b> Problem Description </b>\n",
        "\n",
        "### Your task is to build a model that predicts the total ride duration of taxi trips in New York City. Your primary dataset is one released by the NYC Taxi and Limousine Commission, which includes pickup time, geo-coordinates, number of passengers, and several other variables.\n",
        "\n",
        "## <b> Data Description </b>\n",
        "\n",
        "### The dataset is based on the 2016 NYC Yellow Cab trip record data made available in Big Query on Google Cloud Platform. The data was originally published by the NYC Taxi and Limousine Commission (TLC). The data was sampled and cleaned for the purposes of this project. Based on individual trip attributes, you should predict the duration of each trip in the test set.\n",
        "\n",
        "### <b>NYC Taxi Data.csv</b> - the training set (contains 1458644 trip records)\n",
        "\n",
        "\n",
        "### **Data fields**\n",
        "* id - a unique identifier for each trip\n",
        "* vendor_id - a code indicating the provider associated with the trip record\n",
        "* pickup_datetime - date and time when the meter was engaged\n",
        "* dropoff_datetime - date and time when the meter was disengaged\n",
        "* passenger_count - the number of passengers in the vehicle (driver entered value)\n",
        "* pickup_longitude - the longitude where the meter was engaged\n",
        "* pickup_latitude - the latitude where the meter was engaged\n",
        "* dropoff_longitude - the longitude where the meter was disengaged\n",
        "* dropoff_latitude - the latitude where the meter was disengaged\n",
        "* store_and_fwd_flag - This flag indicates whether the trip record was held in vehicle memory before sending to the vendor because the vehicle did not have a connection to the server - Y=store and forward; N=not a store and forward trip\n",
        "* trip_duration - duration of the trip in seconds"
      ]
    },
    {
      "cell_type": "markdown",
      "metadata": {
        "id": "uIeMIxr9EJTg"
      },
      "source": [
        "# **Import libraries and data.**"
      ]
    },
    {
      "cell_type": "code",
      "execution_count": null,
      "metadata": {
        "colab": {
          "base_uri": "https://localhost:8080/"
        },
        "id": "4mC-K0_IESxj",
        "outputId": "ee973559-b28f-448b-f106-8cbea9909e9d"
      },
      "outputs": [
        {
          "name": "stdout",
          "output_type": "stream",
          "text": [
            "Requirement already satisfied: haversine in /usr/local/lib/python3.7/dist-packages (2.5.1)\n"
          ]
        }
      ],
      "source": [
        "# import the libraries.\n",
        "import numpy as np\n",
        "import pandas as pd\n",
        "import seaborn as sns\n",
        "import matplotlib.pyplot as plt\n",
        "from sklearn.linear_model import Lasso\n",
        "from sklearn.preprocessing import StandardScaler\n",
        "from sklearn.model_selection import GridSearchCV\n",
        "from sklearn.model_selection import train_test_split\n",
        "from sklearn.feature_selection import SelectFromModel\n",
        "from sklearn.metrics import r2_score,mean_absolute_error,mean_squared_error\n",
        "\n",
        "\n",
        "import datetime as dt\n",
        "from seaborn import palettes\n",
        "\n",
        "\n",
        "import warnings\n",
        "warnings.filterwarnings(\"ignore\")\n",
        "\n",
        "# We will use haverseine to calculate the distance using the longitudinal and lattitue data.\n",
        "!pip install haversine\n",
        "from haversine import haversine"
      ]
    },
    {
      "cell_type": "code",
      "execution_count": null,
      "metadata": {
        "colab": {
          "base_uri": "https://localhost:8080/"
        },
        "id": "qAhk8GrjEcdo",
        "outputId": "d446ea7a-34ff-4666-d0be-b99a2f6e2384"
      },
      "outputs": [
        {
          "name": "stdout",
          "output_type": "stream",
          "text": [
            "Drive already mounted at /content/drive/; to attempt to forcibly remount, call drive.mount(\"/content/drive/\", force_remount=True).\n"
          ]
        }
      ],
      "source": [
        "# Mount the drive.\n",
        "from google.colab import drive\n",
        "drive.mount('/content/drive/')\n",
        "\n",
        "# Load the data.\n",
        "df = pd.read_csv('/content/drive/MyDrive/Capstone data files/NYC Taxi Data.csv')\n",
        "\n",
        "# Create a copy of data to be on the safer side.\n",
        "nyc_df = df.copy()"
      ]
    },
    {
      "cell_type": "markdown",
      "metadata": {
        "id": "Br-RCkRZErMg"
      },
      "source": [
        "# **Exploratory Data Analysis.**"
      ]
    },
    {
      "cell_type": "code",
      "execution_count": null,
      "metadata": {
        "colab": {
          "base_uri": "https://localhost:8080/"
        },
        "id": "UIjh_eW8Ev0_",
        "outputId": "5b0a99b0-3e89-44e7-f6a6-0e18f50e66d5"
      },
      "outputs": [
        {
          "data": {
            "text/html": [
              "\n",
              "  <div id=\"df-c9855af0-cb67-437f-a90f-e43ef2dc13cb\">\n",
              "    <div class=\"colab-df-container\">\n",
              "      <div>\n",
              "<style scoped>\n",
              "    .dataframe tbody tr th:only-of-type {\n",
              "        vertical-align: middle;\n",
              "    }\n",
              "\n",
              "    .dataframe tbody tr th {\n",
              "        vertical-align: top;\n",
              "    }\n",
              "\n",
              "    .dataframe thead th {\n",
              "        text-align: right;\n",
              "    }\n",
              "</style>\n",
              "<table border=\"1\" class=\"dataframe\">\n",
              "  <thead>\n",
              "    <tr style=\"text-align: right;\">\n",
              "      <th></th>\n",
              "      <th>id</th>\n",
              "      <th>vendor_id</th>\n",
              "      <th>pickup_datetime</th>\n",
              "      <th>dropoff_datetime</th>\n",
              "      <th>passenger_count</th>\n",
              "      <th>pickup_longitude</th>\n",
              "      <th>pickup_latitude</th>\n",
              "      <th>dropoff_longitude</th>\n",
              "      <th>dropoff_latitude</th>\n",
              "      <th>store_and_fwd_flag</th>\n",
              "      <th>trip_duration</th>\n",
              "    </tr>\n",
              "  </thead>\n",
              "  <tbody>\n",
              "    <tr>\n",
              "      <th>0</th>\n",
              "      <td>id2875421</td>\n",
              "      <td>2</td>\n",
              "      <td>2016-03-14 17:24:55</td>\n",
              "      <td>2016-03-14 17:32:30</td>\n",
              "      <td>1</td>\n",
              "      <td>-73.982155</td>\n",
              "      <td>40.767937</td>\n",
              "      <td>-73.964630</td>\n",
              "      <td>40.765602</td>\n",
              "      <td>N</td>\n",
              "      <td>455</td>\n",
              "    </tr>\n",
              "    <tr>\n",
              "      <th>1</th>\n",
              "      <td>id2377394</td>\n",
              "      <td>1</td>\n",
              "      <td>2016-06-12 00:43:35</td>\n",
              "      <td>2016-06-12 00:54:38</td>\n",
              "      <td>1</td>\n",
              "      <td>-73.980415</td>\n",
              "      <td>40.738564</td>\n",
              "      <td>-73.999481</td>\n",
              "      <td>40.731152</td>\n",
              "      <td>N</td>\n",
              "      <td>663</td>\n",
              "    </tr>\n",
              "    <tr>\n",
              "      <th>2</th>\n",
              "      <td>id3858529</td>\n",
              "      <td>2</td>\n",
              "      <td>2016-01-19 11:35:24</td>\n",
              "      <td>2016-01-19 12:10:48</td>\n",
              "      <td>1</td>\n",
              "      <td>-73.979027</td>\n",
              "      <td>40.763939</td>\n",
              "      <td>-74.005333</td>\n",
              "      <td>40.710087</td>\n",
              "      <td>N</td>\n",
              "      <td>2124</td>\n",
              "    </tr>\n",
              "    <tr>\n",
              "      <th>3</th>\n",
              "      <td>id3504673</td>\n",
              "      <td>2</td>\n",
              "      <td>2016-04-06 19:32:31</td>\n",
              "      <td>2016-04-06 19:39:40</td>\n",
              "      <td>1</td>\n",
              "      <td>-74.010040</td>\n",
              "      <td>40.719971</td>\n",
              "      <td>-74.012268</td>\n",
              "      <td>40.706718</td>\n",
              "      <td>N</td>\n",
              "      <td>429</td>\n",
              "    </tr>\n",
              "    <tr>\n",
              "      <th>4</th>\n",
              "      <td>id2181028</td>\n",
              "      <td>2</td>\n",
              "      <td>2016-03-26 13:30:55</td>\n",
              "      <td>2016-03-26 13:38:10</td>\n",
              "      <td>1</td>\n",
              "      <td>-73.973053</td>\n",
              "      <td>40.793209</td>\n",
              "      <td>-73.972923</td>\n",
              "      <td>40.782520</td>\n",
              "      <td>N</td>\n",
              "      <td>435</td>\n",
              "    </tr>\n",
              "  </tbody>\n",
              "</table>\n",
              "</div>\n",
              "      <button class=\"colab-df-convert\" onclick=\"convertToInteractive('df-c9855af0-cb67-437f-a90f-e43ef2dc13cb')\"\n",
              "              title=\"Convert this dataframe to an interactive table.\"\n",
              "              style=\"display:none;\">\n",
              "        \n",
              "  <svg xmlns=\"http://www.w3.org/2000/svg\" height=\"24px\"viewBox=\"0 0 24 24\"\n",
              "       width=\"24px\">\n",
              "    <path d=\"M0 0h24v24H0V0z\" fill=\"none\"/>\n",
              "    <path d=\"M18.56 5.44l.94 2.06.94-2.06 2.06-.94-2.06-.94-.94-2.06-.94 2.06-2.06.94zm-11 1L8.5 8.5l.94-2.06 2.06-.94-2.06-.94L8.5 2.5l-.94 2.06-2.06.94zm10 10l.94 2.06.94-2.06 2.06-.94-2.06-.94-.94-2.06-.94 2.06-2.06.94z\"/><path d=\"M17.41 7.96l-1.37-1.37c-.4-.4-.92-.59-1.43-.59-.52 0-1.04.2-1.43.59L10.3 9.45l-7.72 7.72c-.78.78-.78 2.05 0 2.83L4 21.41c.39.39.9.59 1.41.59.51 0 1.02-.2 1.41-.59l7.78-7.78 2.81-2.81c.8-.78.8-2.07 0-2.86zM5.41 20L4 18.59l7.72-7.72 1.47 1.35L5.41 20z\"/>\n",
              "  </svg>\n",
              "      </button>\n",
              "      \n",
              "  <style>\n",
              "    .colab-df-container {\n",
              "      display:flex;\n",
              "      flex-wrap:wrap;\n",
              "      gap: 12px;\n",
              "    }\n",
              "\n",
              "    .colab-df-convert {\n",
              "      background-color: #E8F0FE;\n",
              "      border: none;\n",
              "      border-radius: 50%;\n",
              "      cursor: pointer;\n",
              "      display: none;\n",
              "      fill: #1967D2;\n",
              "      height: 32px;\n",
              "      padding: 0 0 0 0;\n",
              "      width: 32px;\n",
              "    }\n",
              "\n",
              "    .colab-df-convert:hover {\n",
              "      background-color: #E2EBFA;\n",
              "      box-shadow: 0px 1px 2px rgba(60, 64, 67, 0.3), 0px 1px 3px 1px rgba(60, 64, 67, 0.15);\n",
              "      fill: #174EA6;\n",
              "    }\n",
              "\n",
              "    [theme=dark] .colab-df-convert {\n",
              "      background-color: #3B4455;\n",
              "      fill: #D2E3FC;\n",
              "    }\n",
              "\n",
              "    [theme=dark] .colab-df-convert:hover {\n",
              "      background-color: #434B5C;\n",
              "      box-shadow: 0px 1px 3px 1px rgba(0, 0, 0, 0.15);\n",
              "      filter: drop-shadow(0px 1px 2px rgba(0, 0, 0, 0.3));\n",
              "      fill: #FFFFFF;\n",
              "    }\n",
              "  </style>\n",
              "\n",
              "      <script>\n",
              "        const buttonEl =\n",
              "          document.querySelector('#df-c9855af0-cb67-437f-a90f-e43ef2dc13cb button.colab-df-convert');\n",
              "        buttonEl.style.display =\n",
              "          google.colab.kernel.accessAllowed ? 'block' : 'none';\n",
              "\n",
              "        async function convertToInteractive(key) {\n",
              "          const element = document.querySelector('#df-c9855af0-cb67-437f-a90f-e43ef2dc13cb');\n",
              "          const dataTable =\n",
              "            await google.colab.kernel.invokeFunction('convertToInteractive',\n",
              "                                                     [key], {});\n",
              "          if (!dataTable) return;\n",
              "\n",
              "          const docLinkHtml = 'Like what you see? Visit the ' +\n",
              "            '<a target=\"_blank\" href=https://colab.research.google.com/notebooks/data_table.ipynb>data table notebook</a>'\n",
              "            + ' to learn more about interactive tables.';\n",
              "          element.innerHTML = '';\n",
              "          dataTable['output_type'] = 'display_data';\n",
              "          await google.colab.output.renderOutput(dataTable, element);\n",
              "          const docLink = document.createElement('div');\n",
              "          docLink.innerHTML = docLinkHtml;\n",
              "          element.appendChild(docLink);\n",
              "        }\n",
              "      </script>\n",
              "    </div>\n",
              "  </div>\n",
              "  "
            ],
            "text/plain": [
              "          id  vendor_id  ... store_and_fwd_flag trip_duration\n",
              "0  id2875421          2  ...                  N           455\n",
              "1  id2377394          1  ...                  N           663\n",
              "2  id3858529          2  ...                  N          2124\n",
              "3  id3504673          2  ...                  N           429\n",
              "4  id2181028          2  ...                  N           435\n",
              "\n",
              "[5 rows x 11 columns]"
            ]
          },
          "execution_count": 62,
          "metadata": {},
          "output_type": "execute_result"
        }
      ],
      "source": [
        "nyc_df.head()"
      ]
    },
    {
      "cell_type": "code",
      "execution_count": null,
      "metadata": {
        "colab": {
          "base_uri": "https://localhost:8080/"
        },
        "id": "mKC7br_yEyke",
        "outputId": "61cb9daf-16c5-4500-9ec1-0c507dd2f163"
      },
      "outputs": [
        {
          "data": {
            "text/html": [
              "\n",
              "  <div id=\"df-761b4339-ac2c-4fd5-bb8a-85e17d0e3a09\">\n",
              "    <div class=\"colab-df-container\">\n",
              "      <div>\n",
              "<style scoped>\n",
              "    .dataframe tbody tr th:only-of-type {\n",
              "        vertical-align: middle;\n",
              "    }\n",
              "\n",
              "    .dataframe tbody tr th {\n",
              "        vertical-align: top;\n",
              "    }\n",
              "\n",
              "    .dataframe thead th {\n",
              "        text-align: right;\n",
              "    }\n",
              "</style>\n",
              "<table border=\"1\" class=\"dataframe\">\n",
              "  <thead>\n",
              "    <tr style=\"text-align: right;\">\n",
              "      <th></th>\n",
              "      <th>id</th>\n",
              "      <th>vendor_id</th>\n",
              "      <th>pickup_datetime</th>\n",
              "      <th>dropoff_datetime</th>\n",
              "      <th>passenger_count</th>\n",
              "      <th>pickup_longitude</th>\n",
              "      <th>pickup_latitude</th>\n",
              "      <th>dropoff_longitude</th>\n",
              "      <th>dropoff_latitude</th>\n",
              "      <th>store_and_fwd_flag</th>\n",
              "      <th>trip_duration</th>\n",
              "    </tr>\n",
              "  </thead>\n",
              "  <tbody>\n",
              "    <tr>\n",
              "      <th>1458639</th>\n",
              "      <td>id2376096</td>\n",
              "      <td>2</td>\n",
              "      <td>2016-04-08 13:31:04</td>\n",
              "      <td>2016-04-08 13:44:02</td>\n",
              "      <td>4</td>\n",
              "      <td>-73.982201</td>\n",
              "      <td>40.745522</td>\n",
              "      <td>-73.994911</td>\n",
              "      <td>40.740170</td>\n",
              "      <td>N</td>\n",
              "      <td>778</td>\n",
              "    </tr>\n",
              "    <tr>\n",
              "      <th>1458640</th>\n",
              "      <td>id1049543</td>\n",
              "      <td>1</td>\n",
              "      <td>2016-01-10 07:35:15</td>\n",
              "      <td>2016-01-10 07:46:10</td>\n",
              "      <td>1</td>\n",
              "      <td>-74.000946</td>\n",
              "      <td>40.747379</td>\n",
              "      <td>-73.970184</td>\n",
              "      <td>40.796547</td>\n",
              "      <td>N</td>\n",
              "      <td>655</td>\n",
              "    </tr>\n",
              "    <tr>\n",
              "      <th>1458641</th>\n",
              "      <td>id2304944</td>\n",
              "      <td>2</td>\n",
              "      <td>2016-04-22 06:57:41</td>\n",
              "      <td>2016-04-22 07:10:25</td>\n",
              "      <td>1</td>\n",
              "      <td>-73.959129</td>\n",
              "      <td>40.768799</td>\n",
              "      <td>-74.004433</td>\n",
              "      <td>40.707371</td>\n",
              "      <td>N</td>\n",
              "      <td>764</td>\n",
              "    </tr>\n",
              "    <tr>\n",
              "      <th>1458642</th>\n",
              "      <td>id2714485</td>\n",
              "      <td>1</td>\n",
              "      <td>2016-01-05 15:56:26</td>\n",
              "      <td>2016-01-05 16:02:39</td>\n",
              "      <td>1</td>\n",
              "      <td>-73.982079</td>\n",
              "      <td>40.749062</td>\n",
              "      <td>-73.974632</td>\n",
              "      <td>40.757107</td>\n",
              "      <td>N</td>\n",
              "      <td>373</td>\n",
              "    </tr>\n",
              "    <tr>\n",
              "      <th>1458643</th>\n",
              "      <td>id1209952</td>\n",
              "      <td>1</td>\n",
              "      <td>2016-04-05 14:44:25</td>\n",
              "      <td>2016-04-05 14:47:43</td>\n",
              "      <td>1</td>\n",
              "      <td>-73.979538</td>\n",
              "      <td>40.781750</td>\n",
              "      <td>-73.972809</td>\n",
              "      <td>40.790585</td>\n",
              "      <td>N</td>\n",
              "      <td>198</td>\n",
              "    </tr>\n",
              "  </tbody>\n",
              "</table>\n",
              "</div>\n",
              "      <button class=\"colab-df-convert\" onclick=\"convertToInteractive('df-761b4339-ac2c-4fd5-bb8a-85e17d0e3a09')\"\n",
              "              title=\"Convert this dataframe to an interactive table.\"\n",
              "              style=\"display:none;\">\n",
              "        \n",
              "  <svg xmlns=\"http://www.w3.org/2000/svg\" height=\"24px\"viewBox=\"0 0 24 24\"\n",
              "       width=\"24px\">\n",
              "    <path d=\"M0 0h24v24H0V0z\" fill=\"none\"/>\n",
              "    <path d=\"M18.56 5.44l.94 2.06.94-2.06 2.06-.94-2.06-.94-.94-2.06-.94 2.06-2.06.94zm-11 1L8.5 8.5l.94-2.06 2.06-.94-2.06-.94L8.5 2.5l-.94 2.06-2.06.94zm10 10l.94 2.06.94-2.06 2.06-.94-2.06-.94-.94-2.06-.94 2.06-2.06.94z\"/><path d=\"M17.41 7.96l-1.37-1.37c-.4-.4-.92-.59-1.43-.59-.52 0-1.04.2-1.43.59L10.3 9.45l-7.72 7.72c-.78.78-.78 2.05 0 2.83L4 21.41c.39.39.9.59 1.41.59.51 0 1.02-.2 1.41-.59l7.78-7.78 2.81-2.81c.8-.78.8-2.07 0-2.86zM5.41 20L4 18.59l7.72-7.72 1.47 1.35L5.41 20z\"/>\n",
              "  </svg>\n",
              "      </button>\n",
              "      \n",
              "  <style>\n",
              "    .colab-df-container {\n",
              "      display:flex;\n",
              "      flex-wrap:wrap;\n",
              "      gap: 12px;\n",
              "    }\n",
              "\n",
              "    .colab-df-convert {\n",
              "      background-color: #E8F0FE;\n",
              "      border: none;\n",
              "      border-radius: 50%;\n",
              "      cursor: pointer;\n",
              "      display: none;\n",
              "      fill: #1967D2;\n",
              "      height: 32px;\n",
              "      padding: 0 0 0 0;\n",
              "      width: 32px;\n",
              "    }\n",
              "\n",
              "    .colab-df-convert:hover {\n",
              "      background-color: #E2EBFA;\n",
              "      box-shadow: 0px 1px 2px rgba(60, 64, 67, 0.3), 0px 1px 3px 1px rgba(60, 64, 67, 0.15);\n",
              "      fill: #174EA6;\n",
              "    }\n",
              "\n",
              "    [theme=dark] .colab-df-convert {\n",
              "      background-color: #3B4455;\n",
              "      fill: #D2E3FC;\n",
              "    }\n",
              "\n",
              "    [theme=dark] .colab-df-convert:hover {\n",
              "      background-color: #434B5C;\n",
              "      box-shadow: 0px 1px 3px 1px rgba(0, 0, 0, 0.15);\n",
              "      filter: drop-shadow(0px 1px 2px rgba(0, 0, 0, 0.3));\n",
              "      fill: #FFFFFF;\n",
              "    }\n",
              "  </style>\n",
              "\n",
              "      <script>\n",
              "        const buttonEl =\n",
              "          document.querySelector('#df-761b4339-ac2c-4fd5-bb8a-85e17d0e3a09 button.colab-df-convert');\n",
              "        buttonEl.style.display =\n",
              "          google.colab.kernel.accessAllowed ? 'block' : 'none';\n",
              "\n",
              "        async function convertToInteractive(key) {\n",
              "          const element = document.querySelector('#df-761b4339-ac2c-4fd5-bb8a-85e17d0e3a09');\n",
              "          const dataTable =\n",
              "            await google.colab.kernel.invokeFunction('convertToInteractive',\n",
              "                                                     [key], {});\n",
              "          if (!dataTable) return;\n",
              "\n",
              "          const docLinkHtml = 'Like what you see? Visit the ' +\n",
              "            '<a target=\"_blank\" href=https://colab.research.google.com/notebooks/data_table.ipynb>data table notebook</a>'\n",
              "            + ' to learn more about interactive tables.';\n",
              "          element.innerHTML = '';\n",
              "          dataTable['output_type'] = 'display_data';\n",
              "          await google.colab.output.renderOutput(dataTable, element);\n",
              "          const docLink = document.createElement('div');\n",
              "          docLink.innerHTML = docLinkHtml;\n",
              "          element.appendChild(docLink);\n",
              "        }\n",
              "      </script>\n",
              "    </div>\n",
              "  </div>\n",
              "  "
            ],
            "text/plain": [
              "                id  vendor_id  ... store_and_fwd_flag trip_duration\n",
              "1458639  id2376096          2  ...                  N           778\n",
              "1458640  id1049543          1  ...                  N           655\n",
              "1458641  id2304944          2  ...                  N           764\n",
              "1458642  id2714485          1  ...                  N           373\n",
              "1458643  id1209952          1  ...                  N           198\n",
              "\n",
              "[5 rows x 11 columns]"
            ]
          },
          "execution_count": 63,
          "metadata": {},
          "output_type": "execute_result"
        }
      ],
      "source": [
        "nyc_df.tail()"
      ]
    },
    {
      "cell_type": "code",
      "execution_count": null,
      "metadata": {
        "colab": {
          "base_uri": "https://localhost:8080/"
        },
        "id": "lGPHsCRYE0oi",
        "outputId": "b981c58d-901d-4dd4-f3a7-cbb56fbe6ff4"
      },
      "outputs": [
        {
          "name": "stdout",
          "output_type": "stream",
          "text": [
            "The dataset contains 1458644 rows and 11 columns.\n"
          ]
        }
      ],
      "source": [
        "# Check the shape of our data.\n",
        "shape = nyc_df.shape\n",
        "print(f'The dataset contains {shape[0]} rows and {shape[1]} columns.')"
      ]
    },
    {
      "cell_type": "code",
      "execution_count": null,
      "metadata": {
        "colab": {
          "base_uri": "https://localhost:8080/"
        },
        "id": "LkcVnBS1E98S",
        "outputId": "099fc550-2c81-480f-e354-af04c22a3da2"
      },
      "outputs": [
        {
          "data": {
            "text/plain": [
              "id                    0\n",
              "vendor_id             0\n",
              "pickup_datetime       0\n",
              "dropoff_datetime      0\n",
              "passenger_count       0\n",
              "pickup_longitude      0\n",
              "pickup_latitude       0\n",
              "dropoff_longitude     0\n",
              "dropoff_latitude      0\n",
              "store_and_fwd_flag    0\n",
              "trip_duration         0\n",
              "dtype: int64"
            ]
          },
          "execution_count": 65,
          "metadata": {},
          "output_type": "execute_result"
        }
      ],
      "source": [
        "# Check if it contains null values.\n",
        "nyc_df.isnull().sum()"
      ]
    },
    {
      "cell_type": "code",
      "execution_count": null,
      "metadata": {
        "colab": {
          "base_uri": "https://localhost:8080/"
        },
        "id": "RV4NexExFFTb",
        "outputId": "2780559c-2731-4bdb-cf7e-deebeee756f8"
      },
      "outputs": [
        {
          "name": "stdout",
          "output_type": "stream",
          "text": [
            "No duplicates exist we are good to go.👌\n"
          ]
        }
      ],
      "source": [
        "# Only originals needed, remove the duplicates.\n",
        "duplicates = nyc_df.duplicated().sum()\n",
        "\n",
        "if duplicates == 0:\n",
        "  print('No duplicates exist we are good to go.👌')\n",
        "else:\n",
        "  print(duplicates,'exist remove them.')"
      ]
    },
    {
      "cell_type": "code",
      "execution_count": null,
      "metadata": {
        "colab": {
          "base_uri": "https://localhost:8080/"
        },
        "id": "IvVFOG-vFNdT",
        "outputId": "c48dc717-03b6-4d13-f7d1-4c81247c6412"
      },
      "outputs": [
        {
          "name": "stdout",
          "output_type": "stream",
          "text": [
            "<class 'pandas.core.frame.DataFrame'>\n",
            "RangeIndex: 1458644 entries, 0 to 1458643\n",
            "Data columns (total 11 columns):\n",
            " #   Column              Non-Null Count    Dtype  \n",
            "---  ------              --------------    -----  \n",
            " 0   id                  1458644 non-null  object \n",
            " 1   vendor_id           1458644 non-null  int64  \n",
            " 2   pickup_datetime     1458644 non-null  object \n",
            " 3   dropoff_datetime    1458644 non-null  object \n",
            " 4   passenger_count     1458644 non-null  int64  \n",
            " 5   pickup_longitude    1458644 non-null  float64\n",
            " 6   pickup_latitude     1458644 non-null  float64\n",
            " 7   dropoff_longitude   1458644 non-null  float64\n",
            " 8   dropoff_latitude    1458644 non-null  float64\n",
            " 9   store_and_fwd_flag  1458644 non-null  object \n",
            " 10  trip_duration       1458644 non-null  int64  \n",
            "dtypes: float64(4), int64(3), object(4)\n",
            "memory usage: 122.4+ MB\n"
          ]
        }
      ],
      "source": [
        "# Reveal information about the data.\n",
        "nyc_df.info()"
      ]
    },
    {
      "cell_type": "code",
      "execution_count": null,
      "metadata": {
        "colab": {
          "base_uri": "https://localhost:8080/"
        },
        "id": "abAndTttFP45",
        "outputId": "00f4029a-add0-475b-84c4-82537c2418e4"
      },
      "outputs": [
        {
          "data": {
            "text/html": [
              "\n",
              "  <div id=\"df-d8779678-1f08-47a2-9b92-cd38d26ce3fb\">\n",
              "    <div class=\"colab-df-container\">\n",
              "      <div>\n",
              "<style scoped>\n",
              "    .dataframe tbody tr th:only-of-type {\n",
              "        vertical-align: middle;\n",
              "    }\n",
              "\n",
              "    .dataframe tbody tr th {\n",
              "        vertical-align: top;\n",
              "    }\n",
              "\n",
              "    .dataframe thead th {\n",
              "        text-align: right;\n",
              "    }\n",
              "</style>\n",
              "<table border=\"1\" class=\"dataframe\">\n",
              "  <thead>\n",
              "    <tr style=\"text-align: right;\">\n",
              "      <th></th>\n",
              "      <th>vendor_id</th>\n",
              "      <th>passenger_count</th>\n",
              "      <th>pickup_longitude</th>\n",
              "      <th>pickup_latitude</th>\n",
              "      <th>dropoff_longitude</th>\n",
              "      <th>dropoff_latitude</th>\n",
              "      <th>trip_duration</th>\n",
              "    </tr>\n",
              "  </thead>\n",
              "  <tbody>\n",
              "    <tr>\n",
              "      <th>count</th>\n",
              "      <td>1.458644e+06</td>\n",
              "      <td>1.458644e+06</td>\n",
              "      <td>1.458644e+06</td>\n",
              "      <td>1.458644e+06</td>\n",
              "      <td>1.458644e+06</td>\n",
              "      <td>1.458644e+06</td>\n",
              "      <td>1.458644e+06</td>\n",
              "    </tr>\n",
              "    <tr>\n",
              "      <th>mean</th>\n",
              "      <td>1.534950e+00</td>\n",
              "      <td>1.664530e+00</td>\n",
              "      <td>-7.397349e+01</td>\n",
              "      <td>4.075092e+01</td>\n",
              "      <td>-7.397342e+01</td>\n",
              "      <td>4.075180e+01</td>\n",
              "      <td>9.594923e+02</td>\n",
              "    </tr>\n",
              "    <tr>\n",
              "      <th>std</th>\n",
              "      <td>4.987772e-01</td>\n",
              "      <td>1.314242e+00</td>\n",
              "      <td>7.090186e-02</td>\n",
              "      <td>3.288119e-02</td>\n",
              "      <td>7.064327e-02</td>\n",
              "      <td>3.589056e-02</td>\n",
              "      <td>5.237432e+03</td>\n",
              "    </tr>\n",
              "    <tr>\n",
              "      <th>min</th>\n",
              "      <td>1.000000e+00</td>\n",
              "      <td>0.000000e+00</td>\n",
              "      <td>-1.219333e+02</td>\n",
              "      <td>3.435970e+01</td>\n",
              "      <td>-1.219333e+02</td>\n",
              "      <td>3.218114e+01</td>\n",
              "      <td>1.000000e+00</td>\n",
              "    </tr>\n",
              "    <tr>\n",
              "      <th>25%</th>\n",
              "      <td>1.000000e+00</td>\n",
              "      <td>1.000000e+00</td>\n",
              "      <td>-7.399187e+01</td>\n",
              "      <td>4.073735e+01</td>\n",
              "      <td>-7.399133e+01</td>\n",
              "      <td>4.073588e+01</td>\n",
              "      <td>3.970000e+02</td>\n",
              "    </tr>\n",
              "    <tr>\n",
              "      <th>50%</th>\n",
              "      <td>2.000000e+00</td>\n",
              "      <td>1.000000e+00</td>\n",
              "      <td>-7.398174e+01</td>\n",
              "      <td>4.075410e+01</td>\n",
              "      <td>-7.397975e+01</td>\n",
              "      <td>4.075452e+01</td>\n",
              "      <td>6.620000e+02</td>\n",
              "    </tr>\n",
              "    <tr>\n",
              "      <th>75%</th>\n",
              "      <td>2.000000e+00</td>\n",
              "      <td>2.000000e+00</td>\n",
              "      <td>-7.396733e+01</td>\n",
              "      <td>4.076836e+01</td>\n",
              "      <td>-7.396301e+01</td>\n",
              "      <td>4.076981e+01</td>\n",
              "      <td>1.075000e+03</td>\n",
              "    </tr>\n",
              "    <tr>\n",
              "      <th>max</th>\n",
              "      <td>2.000000e+00</td>\n",
              "      <td>9.000000e+00</td>\n",
              "      <td>-6.133553e+01</td>\n",
              "      <td>5.188108e+01</td>\n",
              "      <td>-6.133553e+01</td>\n",
              "      <td>4.392103e+01</td>\n",
              "      <td>3.526282e+06</td>\n",
              "    </tr>\n",
              "  </tbody>\n",
              "</table>\n",
              "</div>\n",
              "      <button class=\"colab-df-convert\" onclick=\"convertToInteractive('df-d8779678-1f08-47a2-9b92-cd38d26ce3fb')\"\n",
              "              title=\"Convert this dataframe to an interactive table.\"\n",
              "              style=\"display:none;\">\n",
              "        \n",
              "  <svg xmlns=\"http://www.w3.org/2000/svg\" height=\"24px\"viewBox=\"0 0 24 24\"\n",
              "       width=\"24px\">\n",
              "    <path d=\"M0 0h24v24H0V0z\" fill=\"none\"/>\n",
              "    <path d=\"M18.56 5.44l.94 2.06.94-2.06 2.06-.94-2.06-.94-.94-2.06-.94 2.06-2.06.94zm-11 1L8.5 8.5l.94-2.06 2.06-.94-2.06-.94L8.5 2.5l-.94 2.06-2.06.94zm10 10l.94 2.06.94-2.06 2.06-.94-2.06-.94-.94-2.06-.94 2.06-2.06.94z\"/><path d=\"M17.41 7.96l-1.37-1.37c-.4-.4-.92-.59-1.43-.59-.52 0-1.04.2-1.43.59L10.3 9.45l-7.72 7.72c-.78.78-.78 2.05 0 2.83L4 21.41c.39.39.9.59 1.41.59.51 0 1.02-.2 1.41-.59l7.78-7.78 2.81-2.81c.8-.78.8-2.07 0-2.86zM5.41 20L4 18.59l7.72-7.72 1.47 1.35L5.41 20z\"/>\n",
              "  </svg>\n",
              "      </button>\n",
              "      \n",
              "  <style>\n",
              "    .colab-df-container {\n",
              "      display:flex;\n",
              "      flex-wrap:wrap;\n",
              "      gap: 12px;\n",
              "    }\n",
              "\n",
              "    .colab-df-convert {\n",
              "      background-color: #E8F0FE;\n",
              "      border: none;\n",
              "      border-radius: 50%;\n",
              "      cursor: pointer;\n",
              "      display: none;\n",
              "      fill: #1967D2;\n",
              "      height: 32px;\n",
              "      padding: 0 0 0 0;\n",
              "      width: 32px;\n",
              "    }\n",
              "\n",
              "    .colab-df-convert:hover {\n",
              "      background-color: #E2EBFA;\n",
              "      box-shadow: 0px 1px 2px rgba(60, 64, 67, 0.3), 0px 1px 3px 1px rgba(60, 64, 67, 0.15);\n",
              "      fill: #174EA6;\n",
              "    }\n",
              "\n",
              "    [theme=dark] .colab-df-convert {\n",
              "      background-color: #3B4455;\n",
              "      fill: #D2E3FC;\n",
              "    }\n",
              "\n",
              "    [theme=dark] .colab-df-convert:hover {\n",
              "      background-color: #434B5C;\n",
              "      box-shadow: 0px 1px 3px 1px rgba(0, 0, 0, 0.15);\n",
              "      filter: drop-shadow(0px 1px 2px rgba(0, 0, 0, 0.3));\n",
              "      fill: #FFFFFF;\n",
              "    }\n",
              "  </style>\n",
              "\n",
              "      <script>\n",
              "        const buttonEl =\n",
              "          document.querySelector('#df-d8779678-1f08-47a2-9b92-cd38d26ce3fb button.colab-df-convert');\n",
              "        buttonEl.style.display =\n",
              "          google.colab.kernel.accessAllowed ? 'block' : 'none';\n",
              "\n",
              "        async function convertToInteractive(key) {\n",
              "          const element = document.querySelector('#df-d8779678-1f08-47a2-9b92-cd38d26ce3fb');\n",
              "          const dataTable =\n",
              "            await google.colab.kernel.invokeFunction('convertToInteractive',\n",
              "                                                     [key], {});\n",
              "          if (!dataTable) return;\n",
              "\n",
              "          const docLinkHtml = 'Like what you see? Visit the ' +\n",
              "            '<a target=\"_blank\" href=https://colab.research.google.com/notebooks/data_table.ipynb>data table notebook</a>'\n",
              "            + ' to learn more about interactive tables.';\n",
              "          element.innerHTML = '';\n",
              "          dataTable['output_type'] = 'display_data';\n",
              "          await google.colab.output.renderOutput(dataTable, element);\n",
              "          const docLink = document.createElement('div');\n",
              "          docLink.innerHTML = docLinkHtml;\n",
              "          element.appendChild(docLink);\n",
              "        }\n",
              "      </script>\n",
              "    </div>\n",
              "  </div>\n",
              "  "
            ],
            "text/plain": [
              "          vendor_id  passenger_count  ...  dropoff_latitude  trip_duration\n",
              "count  1.458644e+06     1.458644e+06  ...      1.458644e+06   1.458644e+06\n",
              "mean   1.534950e+00     1.664530e+00  ...      4.075180e+01   9.594923e+02\n",
              "std    4.987772e-01     1.314242e+00  ...      3.589056e-02   5.237432e+03\n",
              "min    1.000000e+00     0.000000e+00  ...      3.218114e+01   1.000000e+00\n",
              "25%    1.000000e+00     1.000000e+00  ...      4.073588e+01   3.970000e+02\n",
              "50%    2.000000e+00     1.000000e+00  ...      4.075452e+01   6.620000e+02\n",
              "75%    2.000000e+00     2.000000e+00  ...      4.076981e+01   1.075000e+03\n",
              "max    2.000000e+00     9.000000e+00  ...      4.392103e+01   3.526282e+06\n",
              "\n",
              "[8 rows x 7 columns]"
            ]
          },
          "execution_count": 68,
          "metadata": {},
          "output_type": "execute_result"
        }
      ],
      "source": [
        "# Get some statiscis.\n",
        "nyc_df.describe()"
      ]
    },
    {
      "cell_type": "markdown",
      "metadata": {
        "id": "N4w8hDNNFZ7v"
      },
      "source": [
        "***Points to be noted:***\n",
        "* *id can be dropped - as every ride would have different id it would'nt give any useful insight.*\n",
        "* *pickup_datetime and dropoff_time need to be changed to datetime format - currently they are in string (object) format.*\n",
        "* *extract data from datetime values.*\n",
        "* *duration is given in seconds lets convert it into minutes.*\n",
        "* *store_and_fwd_flag is a categorical variable that needs to be converted.*\n",
        "* *vendor_id consists of two values 1 and 2.*\n",
        "* *passenger_count ranges from 0-9, the difference between the 75th percentile and the max value shows the precense of outliers.*\n",
        "* *trip_duration_minutes also contains outliers.*"
      ]
    },
    {
      "cell_type": "code",
      "execution_count": null,
      "metadata": {
        "id": "NDkDgB5HFZXy"
      },
      "outputs": [],
      "source": [
        "# Drop id.\n",
        "# nyc_df.drop('id', inplace=True, axis=1)"
      ]
    },
    {
      "cell_type": "code",
      "execution_count": null,
      "metadata": {
        "id": "4RDP3ovJFfJD"
      },
      "outputs": [],
      "source": [
        "# Change format for pickup_datetime and dropoff_time.\n",
        "nyc_df['pickup_datetime'] = pd.to_datetime(nyc_df['pickup_datetime'])\n",
        "nyc_df['dropoff_datetime'] = pd.to_datetime(nyc_df['dropoff_datetime'])"
      ]
    },
    {
      "cell_type": "code",
      "execution_count": null,
      "metadata": {
        "id": "821I-nHwVy22"
      },
      "outputs": [],
      "source": [
        "# Retrive day and month data.\n",
        "nyc_df['day'] = nyc_df.pickup_datetime.dt.weekday\n",
        "nyc_df['month'] = nyc_df.pickup_datetime.dt.month\n",
        "\n",
        "# Retrive pickup and dropoff hrs.\n",
        "nyc_df['pickup_hour'] = nyc_df.pickup_datetime.dt.hour\n",
        "nyc_df['dropoff_hour'] = nyc_df.dropoff_datetime.dt.hour"
      ]
    },
    {
      "cell_type": "code",
      "execution_count": null,
      "metadata": {
        "id": "VEaGlYgjWRG2"
      },
      "outputs": [],
      "source": [
        "# Now lets drop pickup_datetime and dropoff_datetime as we have extracted data from it.\n",
        "nyc_df.drop(['pickup_datetime', 'dropoff_datetime'], inplace=True, axis=1)"
      ]
    },
    {
      "cell_type": "code",
      "execution_count": null,
      "metadata": {
        "id": "HWJ4r5tjFfFS"
      },
      "outputs": [],
      "source": [
        "# Convert the data from seconds to mins.\n",
        "nyc_df['trip_duration_minutes']=nyc_df['trip_duration']/60\n",
        "\n",
        "# Drop duration in seconds.\n",
        "nyc_df.drop('trip_duration', inplace=True, axis=1)"
      ]
    },
    {
      "cell_type": "code",
      "execution_count": null,
      "metadata": {
        "colab": {
          "base_uri": "https://localhost:8080/"
        },
        "id": "714KNbkuFhew",
        "outputId": "6ba87b90-ab17-47f7-8873-b9d6cb744666"
      },
      "outputs": [
        {
          "name": "stdout",
          "output_type": "stream",
          "text": [
            "<class 'pandas.core.frame.DataFrame'>\n",
            "RangeIndex: 1458644 entries, 0 to 1458643\n",
            "Data columns (total 13 columns):\n",
            " #   Column                 Non-Null Count    Dtype  \n",
            "---  ------                 --------------    -----  \n",
            " 0   id                     1458644 non-null  object \n",
            " 1   vendor_id              1458644 non-null  int64  \n",
            " 2   passenger_count        1458644 non-null  int64  \n",
            " 3   pickup_longitude       1458644 non-null  float64\n",
            " 4   pickup_latitude        1458644 non-null  float64\n",
            " 5   dropoff_longitude      1458644 non-null  float64\n",
            " 6   dropoff_latitude       1458644 non-null  float64\n",
            " 7   store_and_fwd_flag     1458644 non-null  object \n",
            " 8   day                    1458644 non-null  int64  \n",
            " 9   month                  1458644 non-null  int64  \n",
            " 10  pickup_hour            1458644 non-null  int64  \n",
            " 11  dropoff_hour           1458644 non-null  int64  \n",
            " 12  trip_duration_minutes  1458644 non-null  float64\n",
            "dtypes: float64(5), int64(6), object(2)\n",
            "memory usage: 144.7+ MB\n"
          ]
        }
      ],
      "source": [
        "# Recheck if formats been changed.\n",
        "nyc_df.info()"
      ]
    },
    {
      "cell_type": "markdown",
      "metadata": {
        "id": "6Us-MXlhFlKc"
      },
      "source": [
        "***Now lets bring in the charts and diagrams for better understanding.***  *😊*"
      ]
    },
    {
      "cell_type": "markdown",
      "metadata": {
        "id": "fKjAvFtGFx-h"
      },
      "source": [
        "## **Dependent Variable.**"
      ]
    },
    {
      "cell_type": "code",
      "execution_count": null,
      "metadata": {
        "colab": {
          "base_uri": "https://localhost:8080/"
        },
        "id": "nm1uzMSAKCsf",
        "outputId": "e7586ef4-51ff-4210-98a7-5579d427e4d5"
      },
      "outputs": [
        {
          "data": {
            "text/plain": [
              "count    1.458644e+06\n",
              "mean     1.599154e+01\n",
              "std      8.729053e+01\n",
              "min      1.666667e-02\n",
              "25%      6.616667e+00\n",
              "50%      1.103333e+01\n",
              "75%      1.791667e+01\n",
              "max      5.877137e+04\n",
              "Name: trip_duration_minutes, dtype: float64"
            ]
          },
          "execution_count": 75,
          "metadata": {},
          "output_type": "execute_result"
        }
      ],
      "source": [
        "nyc_df['trip_duration_minutes'].describe()"
      ]
    },
    {
      "cell_type": "code",
      "execution_count": null,
      "metadata": {
        "colab": {
          "base_uri": "https://localhost:8080/"
        },
        "id": "U5iZ4h4RFhaf",
        "outputId": "59cc666e-eb8d-4c07-f1ea-ed44de51350c"
      },
      "outputs": [
        {
          "data": {
            "image/png": "[encoded data removed]",
            "text/plain": [
              "<Figure size 1800x360 with 2 Axes>"
            ]
          },
          "metadata": {},
          "output_type": "display_data"
        }
      ],
      "source": [
        "# Check out the trip_duration.\n",
        "fig, (ax1, ax2) = plt.subplots(1,2, figsize=(25,5))\n",
        "# plt.figure(figsize=(10,5))\n",
        "sns.distplot(nyc_df['trip_duration_minutes'], color='orange', ax=ax1)\n",
        "sns.boxplot(nyc_df['trip_duration_minutes'], color='orange', ax=ax2)\n",
        "plt.show()"
      ]
    },
    {
      "cell_type": "markdown",
      "metadata": {
        "id": "deV6gy9qF8Cn"
      },
      "source": [
        "* ***trip_duration_minutes is positively skewed.***\n",
        "* ***also it seems there are few extreme values that we will need to check.***"
      ]
    },
    {
      "cell_type": "code",
      "execution_count": null,
      "metadata": {
        "colab": {
          "base_uri": "https://localhost:8080/"
        },
        "id": "o6UDNbSfAlRr",
        "outputId": "8a6d72ed-ed1d-4d1c-9640-0bd813cbd152"
      },
      "outputs": [
        {
          "data": {
            "text/html": [
              "\n",
              "  <div id=\"df-bbba1e07-be90-42ae-a093-097c989b6d99\">\n",
              "    <div class=\"colab-df-container\">\n",
              "      <div>\n",
              "<style scoped>\n",
              "    .dataframe tbody tr th:only-of-type {\n",
              "        vertical-align: middle;\n",
              "    }\n",
              "\n",
              "    .dataframe tbody tr th {\n",
              "        vertical-align: top;\n",
              "    }\n",
              "\n",
              "    .dataframe thead th {\n",
              "        text-align: right;\n",
              "    }\n",
              "</style>\n",
              "<table border=\"1\" class=\"dataframe\">\n",
              "  <thead>\n",
              "    <tr style=\"text-align: right;\">\n",
              "      <th></th>\n",
              "      <th>id</th>\n",
              "      <th>vendor_id</th>\n",
              "      <th>passenger_count</th>\n",
              "      <th>pickup_longitude</th>\n",
              "      <th>pickup_latitude</th>\n",
              "      <th>dropoff_longitude</th>\n",
              "      <th>dropoff_latitude</th>\n",
              "      <th>store_and_fwd_flag</th>\n",
              "      <th>day</th>\n",
              "      <th>month</th>\n",
              "      <th>pickup_hour</th>\n",
              "      <th>dropoff_hour</th>\n",
              "      <th>trip_duration_minutes</th>\n",
              "    </tr>\n",
              "  </thead>\n",
              "  <tbody>\n",
              "    <tr>\n",
              "      <th>355003</th>\n",
              "      <td>id1864733</td>\n",
              "      <td>1</td>\n",
              "      <td>1</td>\n",
              "      <td>-73.789650</td>\n",
              "      <td>40.643559</td>\n",
              "      <td>-73.956810</td>\n",
              "      <td>40.773087</td>\n",
              "      <td>N</td>\n",
              "      <td>1</td>\n",
              "      <td>1</td>\n",
              "      <td>0</td>\n",
              "      <td>11</td>\n",
              "      <td>32328.933333</td>\n",
              "    </tr>\n",
              "    <tr>\n",
              "      <th>680594</th>\n",
              "      <td>id0369307</td>\n",
              "      <td>1</td>\n",
              "      <td>2</td>\n",
              "      <td>-73.921677</td>\n",
              "      <td>40.735252</td>\n",
              "      <td>-73.984749</td>\n",
              "      <td>40.759979</td>\n",
              "      <td>N</td>\n",
              "      <td>5</td>\n",
              "      <td>2</td>\n",
              "      <td>22</td>\n",
              "      <td>15</td>\n",
              "      <td>34159.633333</td>\n",
              "    </tr>\n",
              "    <tr>\n",
              "      <th>924150</th>\n",
              "      <td>id1325766</td>\n",
              "      <td>1</td>\n",
              "      <td>1</td>\n",
              "      <td>-73.983788</td>\n",
              "      <td>40.742325</td>\n",
              "      <td>-73.985489</td>\n",
              "      <td>40.727676</td>\n",
              "      <td>N</td>\n",
              "      <td>1</td>\n",
              "      <td>1</td>\n",
              "      <td>6</td>\n",
              "      <td>1</td>\n",
              "      <td>37126.866667</td>\n",
              "    </tr>\n",
              "    <tr>\n",
              "      <th>978383</th>\n",
              "      <td>id0053347</td>\n",
              "      <td>1</td>\n",
              "      <td>1</td>\n",
              "      <td>-73.783905</td>\n",
              "      <td>40.648632</td>\n",
              "      <td>-73.978271</td>\n",
              "      <td>40.750202</td>\n",
              "      <td>N</td>\n",
              "      <td>5</td>\n",
              "      <td>2</td>\n",
              "      <td>22</td>\n",
              "      <td>18</td>\n",
              "      <td>58771.366667</td>\n",
              "    </tr>\n",
              "  </tbody>\n",
              "</table>\n",
              "</div>\n",
              "      <button class=\"colab-df-convert\" onclick=\"convertToInteractive('df-bbba1e07-be90-42ae-a093-097c989b6d99')\"\n",
              "              title=\"Convert this dataframe to an interactive table.\"\n",
              "              style=\"display:none;\">\n",
              "        \n",
              "  <svg xmlns=\"http://www.w3.org/2000/svg\" height=\"24px\"viewBox=\"0 0 24 24\"\n",
              "       width=\"24px\">\n",
              "    <path d=\"M0 0h24v24H0V0z\" fill=\"none\"/>\n",
              "    <path d=\"M18.56 5.44l.94 2.06.94-2.06 2.06-.94-2.06-.94-.94-2.06-.94 2.06-2.06.94zm-11 1L8.5 8.5l.94-2.06 2.06-.94-2.06-.94L8.5 2.5l-.94 2.06-2.06.94zm10 10l.94 2.06.94-2.06 2.06-.94-2.06-.94-.94-2.06-.94 2.06-2.06.94z\"/><path d=\"M17.41 7.96l-1.37-1.37c-.4-.4-.92-.59-1.43-.59-.52 0-1.04.2-1.43.59L10.3 9.45l-7.72 7.72c-.78.78-.78 2.05 0 2.83L4 21.41c.39.39.9.59 1.41.59.51 0 1.02-.2 1.41-.59l7.78-7.78 2.81-2.81c.8-.78.8-2.07 0-2.86zM5.41 20L4 18.59l7.72-7.72 1.47 1.35L5.41 20z\"/>\n",
              "  </svg>\n",
              "      </button>\n",
              "      \n",
              "  <style>\n",
              "    .colab-df-container {\n",
              "      display:flex;\n",
              "      flex-wrap:wrap;\n",
              "      gap: 12px;\n",
              "    }\n",
              "\n",
              "    .colab-df-convert {\n",
              "      background-color: #E8F0FE;\n",
              "      border: none;\n",
              "      border-radius: 50%;\n",
              "      cursor: pointer;\n",
              "      display: none;\n",
              "      fill: #1967D2;\n",
              "      height: 32px;\n",
              "      padding: 0 0 0 0;\n",
              "      width: 32px;\n",
              "    }\n",
              "\n",
              "    .colab-df-convert:hover {\n",
              "      background-color: #E2EBFA;\n",
              "      box-shadow: 0px 1px 2px rgba(60, 64, 67, 0.3), 0px 1px 3px 1px rgba(60, 64, 67, 0.15);\n",
              "      fill: #174EA6;\n",
              "    }\n",
              "\n",
              "    [theme=dark] .colab-df-convert {\n",
              "      background-color: #3B4455;\n",
              "      fill: #D2E3FC;\n",
              "    }\n",
              "\n",
              "    [theme=dark] .colab-df-convert:hover {\n",
              "      background-color: #434B5C;\n",
              "      box-shadow: 0px 1px 3px 1px rgba(0, 0, 0, 0.15);\n",
              "      filter: drop-shadow(0px 1px 2px rgba(0, 0, 0, 0.3));\n",
              "      fill: #FFFFFF;\n",
              "    }\n",
              "  </style>\n",
              "\n",
              "      <script>\n",
              "        const buttonEl =\n",
              "          document.querySelector('#df-bbba1e07-be90-42ae-a093-097c989b6d99 button.colab-df-convert');\n",
              "        buttonEl.style.display =\n",
              "          google.colab.kernel.accessAllowed ? 'block' : 'none';\n",
              "\n",
              "        async function convertToInteractive(key) {\n",
              "          const element = document.querySelector('#df-bbba1e07-be90-42ae-a093-097c989b6d99');\n",
              "          const dataTable =\n",
              "            await google.colab.kernel.invokeFunction('convertToInteractive',\n",
              "                                                     [key], {});\n",
              "          if (!dataTable) return;\n",
              "\n",
              "          const docLinkHtml = 'Like what you see? Visit the ' +\n",
              "            '<a target=\"_blank\" href=https://colab.research.google.com/notebooks/data_table.ipynb>data table notebook</a>'\n",
              "            + ' to learn more about interactive tables.';\n",
              "          element.innerHTML = '';\n",
              "          dataTable['output_type'] = 'display_data';\n",
              "          await google.colab.output.renderOutput(dataTable, element);\n",
              "          const docLink = document.createElement('div');\n",
              "          docLink.innerHTML = docLinkHtml;\n",
              "          element.appendChild(docLink);\n",
              "        }\n",
              "      </script>\n",
              "    </div>\n",
              "  </div>\n",
              "  "
            ],
            "text/plain": [
              "               id  vendor_id  ...  dropoff_hour  trip_duration_minutes\n",
              "355003  id1864733          1  ...            11           32328.933333\n",
              "680594  id0369307          1  ...            15           34159.633333\n",
              "924150  id1325766          1  ...             1           37126.866667\n",
              "978383  id0053347          1  ...            18           58771.366667\n",
              "\n",
              "[4 rows x 13 columns]"
            ]
          },
          "execution_count": 77,
          "metadata": {},
          "output_type": "execute_result"
        }
      ],
      "source": [
        "nyc_df[nyc_df['trip_duration_minutes'] > 10000]"
      ]
    },
    {
      "cell_type": "markdown",
      "metadata": {
        "id": "lUK6Rt29BIQV"
      },
      "source": [
        "* ***Now that we look at the extreme values these are more than 20 days, which was either due to some technical error or a vaccation was planned.***\n",
        "* ***Since there are only four values and these could only cause problems for our model lets remove these values.***"
      ]
    },
    {
      "cell_type": "code",
      "execution_count": null,
      "metadata": {
        "id": "xs0Hb-oyCSHE"
      },
      "outputs": [],
      "source": [
        "# Get rid of the extreme values.\n",
        "nyc_df = nyc_df[nyc_df['trip_duration_minutes'] < 10000]"
      ]
    },
    {
      "cell_type": "code",
      "execution_count": null,
      "metadata": {
        "colab": {
          "base_uri": "https://localhost:8080/"
        },
        "id": "FVw3GUzoJRyg",
        "outputId": "80dd7fcc-2338-46e9-dbe3-0117477d8a83"
      },
      "outputs": [
        {
          "data": {
            "image/png": "[encoded data removed]",
            "text/plain": [
              "<Figure size 1800x360 with 1 Axes>"
            ]
          },
          "metadata": {},
          "output_type": "display_data"
        }
      ],
      "source": [
        "# Now lets check for outliers in the dependent variables.\n",
        "fig = plt.figure(figsize=(25,5))\n",
        "sns.boxplot(nyc_df['trip_duration_minutes'], color='orange')\n",
        "plt.title('trip_duration after removing extreme values.')\n",
        "plt.show()"
      ]
    },
    {
      "cell_type": "code",
      "execution_count": null,
      "metadata": {
        "colab": {
          "base_uri": "https://localhost:8080/"
        },
        "id": "hKaI3YaCF-Wr",
        "outputId": "89bf2b86-2db1-42a2-9238-85937af53c0e"
      },
      "outputs": [
        {
          "data": {
            "image/png": "[encoded data removed]",
            "text/plain": [
              "<Figure size 720x360 with 1 Axes>"
            ]
          },
          "metadata": {},
          "output_type": "display_data"
        }
      ],
      "source": [
        "# Apply log transformation and plot it.\n",
        "plt.figure(figsize=(10,5))\n",
        "plt.title('After log transformation')\n",
        "sns.distplot(np.log10(nyc_df['trip_duration_minutes']), color='orange')\n",
        "plt.show()"
      ]
    },
    {
      "cell_type": "markdown",
      "metadata": {
        "id": "7DtrQpxjYS5U"
      },
      "source": [
        "* ***log transformation has solved the problem of skewness*** \n",
        "* ***but there are few values which maybe outliers, this could be bad for our model.***\n",
        "* ***lets look into this ahead in our analysis.***"
      ]
    },
    {
      "cell_type": "markdown",
      "metadata": {
        "id": "2F2xYpzyF2BI"
      },
      "source": [
        "## **Independent Variables.**"
      ]
    },
    {
      "cell_type": "code",
      "execution_count": null,
      "metadata": {
        "colab": {
          "base_uri": "https://localhost:8080/"
        },
        "id": "LzySFX7hTeKP",
        "outputId": "34a5e33a-f524-4c03-9476-c78fe63f883d"
      },
      "outputs": [
        {
          "data": {
            "text/html": [
              "\n",
              "  <div id=\"df-1b626b37-6935-4dc1-b509-133ce5862a18\">\n",
              "    <div class=\"colab-df-container\">\n",
              "      <div>\n",
              "<style scoped>\n",
              "    .dataframe tbody tr th:only-of-type {\n",
              "        vertical-align: middle;\n",
              "    }\n",
              "\n",
              "    .dataframe tbody tr th {\n",
              "        vertical-align: top;\n",
              "    }\n",
              "\n",
              "    .dataframe thead th {\n",
              "        text-align: right;\n",
              "    }\n",
              "</style>\n",
              "<table border=\"1\" class=\"dataframe\">\n",
              "  <thead>\n",
              "    <tr style=\"text-align: right;\">\n",
              "      <th></th>\n",
              "      <th>id</th>\n",
              "      <th>vendor_id</th>\n",
              "      <th>passenger_count</th>\n",
              "      <th>pickup_longitude</th>\n",
              "      <th>pickup_latitude</th>\n",
              "      <th>dropoff_longitude</th>\n",
              "      <th>dropoff_latitude</th>\n",
              "      <th>store_and_fwd_flag</th>\n",
              "      <th>day</th>\n",
              "      <th>month</th>\n",
              "      <th>pickup_hour</th>\n",
              "      <th>dropoff_hour</th>\n",
              "      <th>trip_duration_minutes</th>\n",
              "    </tr>\n",
              "  </thead>\n",
              "  <tbody>\n",
              "    <tr>\n",
              "      <th>0</th>\n",
              "      <td>id2875421</td>\n",
              "      <td>2</td>\n",
              "      <td>1</td>\n",
              "      <td>-73.982155</td>\n",
              "      <td>40.767937</td>\n",
              "      <td>-73.96463</td>\n",
              "      <td>40.765602</td>\n",
              "      <td>N</td>\n",
              "      <td>0</td>\n",
              "      <td>3</td>\n",
              "      <td>17</td>\n",
              "      <td>17</td>\n",
              "      <td>7.583333</td>\n",
              "    </tr>\n",
              "  </tbody>\n",
              "</table>\n",
              "</div>\n",
              "      <button class=\"colab-df-convert\" onclick=\"convertToInteractive('df-1b626b37-6935-4dc1-b509-133ce5862a18')\"\n",
              "              title=\"Convert this dataframe to an interactive table.\"\n",
              "              style=\"display:none;\">\n",
              "        \n",
              "  <svg xmlns=\"http://www.w3.org/2000/svg\" height=\"24px\"viewBox=\"0 0 24 24\"\n",
              "       width=\"24px\">\n",
              "    <path d=\"M0 0h24v24H0V0z\" fill=\"none\"/>\n",
              "    <path d=\"M18.56 5.44l.94 2.06.94-2.06 2.06-.94-2.06-.94-.94-2.06-.94 2.06-2.06.94zm-11 1L8.5 8.5l.94-2.06 2.06-.94-2.06-.94L8.5 2.5l-.94 2.06-2.06.94zm10 10l.94 2.06.94-2.06 2.06-.94-2.06-.94-.94-2.06-.94 2.06-2.06.94z\"/><path d=\"M17.41 7.96l-1.37-1.37c-.4-.4-.92-.59-1.43-.59-.52 0-1.04.2-1.43.59L10.3 9.45l-7.72 7.72c-.78.78-.78 2.05 0 2.83L4 21.41c.39.39.9.59 1.41.59.51 0 1.02-.2 1.41-.59l7.78-7.78 2.81-2.81c.8-.78.8-2.07 0-2.86zM5.41 20L4 18.59l7.72-7.72 1.47 1.35L5.41 20z\"/>\n",
              "  </svg>\n",
              "      </button>\n",
              "      \n",
              "  <style>\n",
              "    .colab-df-container {\n",
              "      display:flex;\n",
              "      flex-wrap:wrap;\n",
              "      gap: 12px;\n",
              "    }\n",
              "\n",
              "    .colab-df-convert {\n",
              "      background-color: #E8F0FE;\n",
              "      border: none;\n",
              "      border-radius: 50%;\n",
              "      cursor: pointer;\n",
              "      display: none;\n",
              "      fill: #1967D2;\n",
              "      height: 32px;\n",
              "      padding: 0 0 0 0;\n",
              "      width: 32px;\n",
              "    }\n",
              "\n",
              "    .colab-df-convert:hover {\n",
              "      background-color: #E2EBFA;\n",
              "      box-shadow: 0px 1px 2px rgba(60, 64, 67, 0.3), 0px 1px 3px 1px rgba(60, 64, 67, 0.15);\n",
              "      fill: #174EA6;\n",
              "    }\n",
              "\n",
              "    [theme=dark] .colab-df-convert {\n",
              "      background-color: #3B4455;\n",
              "      fill: #D2E3FC;\n",
              "    }\n",
              "\n",
              "    [theme=dark] .colab-df-convert:hover {\n",
              "      background-color: #434B5C;\n",
              "      box-shadow: 0px 1px 3px 1px rgba(0, 0, 0, 0.15);\n",
              "      filter: drop-shadow(0px 1px 2px rgba(0, 0, 0, 0.3));\n",
              "      fill: #FFFFFF;\n",
              "    }\n",
              "  </style>\n",
              "\n",
              "      <script>\n",
              "        const buttonEl =\n",
              "          document.querySelector('#df-1b626b37-6935-4dc1-b509-133ce5862a18 button.colab-df-convert');\n",
              "        buttonEl.style.display =\n",
              "          google.colab.kernel.accessAllowed ? 'block' : 'none';\n",
              "\n",
              "        async function convertToInteractive(key) {\n",
              "          const element = document.querySelector('#df-1b626b37-6935-4dc1-b509-133ce5862a18');\n",
              "          const dataTable =\n",
              "            await google.colab.kernel.invokeFunction('convertToInteractive',\n",
              "                                                     [key], {});\n",
              "          if (!dataTable) return;\n",
              "\n",
              "          const docLinkHtml = 'Like what you see? Visit the ' +\n",
              "            '<a target=\"_blank\" href=https://colab.research.google.com/notebooks/data_table.ipynb>data table notebook</a>'\n",
              "            + ' to learn more about interactive tables.';\n",
              "          element.innerHTML = '';\n",
              "          dataTable['output_type'] = 'display_data';\n",
              "          await google.colab.output.renderOutput(dataTable, element);\n",
              "          const docLink = document.createElement('div');\n",
              "          docLink.innerHTML = docLinkHtml;\n",
              "          element.appendChild(docLink);\n",
              "        }\n",
              "      </script>\n",
              "    </div>\n",
              "  </div>\n",
              "  "
            ],
            "text/plain": [
              "          id  vendor_id  ...  dropoff_hour  trip_duration_minutes\n",
              "0  id2875421          2  ...            17               7.583333\n",
              "\n",
              "[1 rows x 13 columns]"
            ]
          },
          "execution_count": 81,
          "metadata": {},
          "output_type": "execute_result"
        }
      ],
      "source": [
        "nyc_df.head(1)"
      ]
    },
    {
      "cell_type": "code",
      "execution_count": null,
      "metadata": {
        "id": "6kiFGQ6KFVpi"
      },
      "outputs": [],
      "source": [
        "independent_variables = ['vendor_id', 'passenger_count', 'pickup_longitude', 'pickup_latitude', 'dropoff_longitude',\n",
        "                         'dropoff_latitude', 'store_and_fwd_flag', 'day', 'month', 'pickup_hour', 'dropoff_hour']"
      ]
    },
    {
      "cell_type": "markdown",
      "metadata": {
        "id": "SD3L0V6eIkDT"
      },
      "source": [
        "**vendor_id.**"
      ]
    },
    {
      "cell_type": "code",
      "execution_count": null,
      "metadata": {
        "colab": {
          "base_uri": "https://localhost:8080/"
        },
        "id": "pE8hYkjcJ0QF",
        "outputId": "eb9f9c9d-1a26-44ae-9418-acdd579ce320"
      },
      "outputs": [
        {
          "data": {
            "image/png": "[encoded data removed]",
            "text/plain": [
              "<Figure size 432x432 with 1 Axes>"
            ]
          },
          "metadata": {},
          "output_type": "display_data"
        },
        {
          "data": {
            "image/png": "[encoded data removed]",
            "text/plain": [
              "<Figure size 432x288 with 1 Axes>"
            ]
          },
          "metadata": {},
          "output_type": "display_data"
        }
      ],
      "source": [
        "# Calculate the trips done by each vendor.\n",
        "one = len(nyc_df[nyc_df['vendor_id'] == 1])\n",
        "two = len(nyc_df[nyc_df['vendor_id'] == 2])\n",
        "v_id = [one, two]\n",
        "v_name = ['vendor_id_1', 'vendor_id_2']\n",
        "\n",
        "# Plot it.\n",
        "fig = plt.figure(figsize=(6,6))\n",
        "plt.pie(v_id, autopct='%1.2f%%', explode=(0.01,0.01))\n",
        "plt.title('vendor_id')\n",
        "plt.legend(labels=v_name)\n",
        "\n",
        "#draw circle\n",
        "centre_circle = plt.Circle((0,0),0.70,fc='white')\n",
        "fig = plt.gcf()\n",
        "fig.gca().add_artist(centre_circle)\n",
        "\n",
        "plt.show()\n",
        "\n",
        "# Groupby trip duration\n",
        "durationByvendor = nyc_df.groupby('vendor_id', as_index=False)['trip_duration_minutes'].sum()\n",
        "sns.barplot(data=durationByvendor, x='vendor_id', y='trip_duration_minutes', palette='gist_heat')\n",
        "plt.title('vendor_id by trip_duration')\n",
        "plt.show()"
      ]
    },
    {
      "cell_type": "markdown",
      "metadata": {
        "id": "a-3AqBuvRMXl"
      },
      "source": [
        "* ***53.50% of the trips are completed by the vendor 2 and 46.50% of the trips are completed by vendor 1.***\n",
        "* ***also maximum duration is covered by vendor 2***"
      ]
    },
    {
      "cell_type": "markdown",
      "metadata": {
        "id": "iy2NHO1aXxH8"
      },
      "source": [
        "."
      ]
    },
    {
      "cell_type": "markdown",
      "metadata": {
        "id": "BwKGuHVyXyxI"
      },
      "source": [
        "**passenger_count.**"
      ]
    },
    {
      "cell_type": "code",
      "execution_count": null,
      "metadata": {
        "colab": {
          "base_uri": "https://localhost:8080/"
        },
        "id": "_zEq95fbH4ab",
        "outputId": "f873add6-788e-4623-b11b-26bef5d8a248"
      },
      "outputs": [
        {
          "data": {
            "text/plain": [
              "count    1.458640e+06\n",
              "mean     1.664531e+00\n",
              "std      1.314244e+00\n",
              "min      0.000000e+00\n",
              "25%      1.000000e+00\n",
              "50%      1.000000e+00\n",
              "75%      2.000000e+00\n",
              "max      9.000000e+00\n",
              "Name: passenger_count, dtype: float64"
            ]
          },
          "execution_count": 84,
          "metadata": {},
          "output_type": "execute_result"
        }
      ],
      "source": [
        "nyc_df['passenger_count'].describe()"
      ]
    },
    {
      "cell_type": "code",
      "execution_count": null,
      "metadata": {
        "colab": {
          "base_uri": "https://localhost:8080/"
        },
        "id": "3zTYDJ3IZCrR",
        "outputId": "3d5a4ac8-1cd0-49d2-ea78-0d4b750317b4"
      },
      "outputs": [
        {
          "data": {
            "image/png": "[encoded data removed]",
            "text/plain": [
              "<Figure size 720x360 with 1 Axes>"
            ]
          },
          "metadata": {},
          "output_type": "display_data"
        }
      ],
      "source": [
        "# Passenger count.\n",
        "plt.figure(figsize=(10,5))\n",
        "sns.countplot(nyc_df['passenger_count'], palette='autumn')\n",
        "plt.show()"
      ]
    },
    {
      "cell_type": "markdown",
      "metadata": {
        "id": "Ma19IlJ9Zb93"
      },
      "source": [
        "* ***some values are zero which mean either the trip was cancled or there was an error in the data entry.***\n",
        "* ***7, 8, 9 are extreme cases considering the capacity of a car, so we will get rid of them.***\n",
        "* ***most of the trips (75%) contain atmost 1 or 2 passengers.***"
      ]
    },
    {
      "cell_type": "markdown",
      "metadata": {
        "id": "JCv9vZHj_973"
      },
      "source": [
        "**Remove unwanted values from passenger_count.**"
      ]
    },
    {
      "cell_type": "code",
      "execution_count": null,
      "metadata": {
        "id": "SfTNUx85CKFk"
      },
      "outputs": [],
      "source": [
        "# Remove the extreme values from passenger_count.\n",
        "nyc_df = nyc_df[nyc_df['passenger_count'] <= 6]  # This will remove passenger values with 7,8,9 values."
      ]
    },
    {
      "cell_type": "code",
      "execution_count": null,
      "metadata": {
        "id": "CjZwS1DICKBD"
      },
      "outputs": [],
      "source": [
        "# Remove values which are zero.\n",
        "nyc_df = nyc_df[nyc_df.passenger_count != 0]"
      ]
    },
    {
      "cell_type": "code",
      "execution_count": null,
      "metadata": {
        "colab": {
          "base_uri": "https://localhost:8080/"
        },
        "id": "At5meMK9DBDI",
        "outputId": "352a7a84-220c-49d4-ab88-9572de684b4d"
      },
      "outputs": [
        {
          "data": {
            "image/png": "[encoded data removed]",
            "text/plain": [
              "<Figure size 720x360 with 1 Axes>"
            ]
          },
          "metadata": {},
          "output_type": "display_data"
        }
      ],
      "source": [
        "# Plot it.\n",
        "plt.figure(figsize=(10,5))\n",
        "sns.countplot(nyc_df['passenger_count'], palette='autumn')\n",
        "plt.show()"
      ]
    },
    {
      "cell_type": "markdown",
      "metadata": {
        "id": "3_neOweoF9JP"
      },
      "source": [
        "***Looks good*** *👍*"
      ]
    },
    {
      "cell_type": "markdown",
      "metadata": {
        "id": "-RxmiHQgdFmN"
      },
      "source": [
        "."
      ]
    },
    {
      "cell_type": "markdown",
      "metadata": {
        "id": "wNJTjDoLdG1Y"
      },
      "source": [
        "**pickup/dropoff latitude and longitude.**"
      ]
    },
    {
      "cell_type": "code",
      "execution_count": null,
      "metadata": {
        "colab": {
          "base_uri": "https://localhost:8080/"
        },
        "id": "vq4t6N0omf35",
        "outputId": "5fe96d4f-9f8d-46ed-9d3e-6e1c112433ab"
      },
      "outputs": [
        {
          "data": {
            "image/png": "[encoded data removed]",
            "text/plain": [
              "<Figure size 1080x360 with 2 Axes>"
            ]
          },
          "metadata": {},
          "output_type": "display_data"
        }
      ],
      "source": [
        "fig, (ax1, ax2) = plt.subplots(1,2, figsize=(15,5))\n",
        "sns.scatterplot(nyc_df['pickup_longitude'], nyc_df['pickup_latitude'], ax=ax1)\n",
        "sns.scatterplot(nyc_df['dropoff_longitude'], nyc_df['dropoff_latitude'], ax=ax2)\n",
        "plt.show()"
      ]
    },
    {
      "cell_type": "markdown",
      "metadata": {
        "id": "r5-dOadrJn8D"
      },
      "source": [
        "***Lets check whats with those extreme values.***"
      ]
    },
    {
      "cell_type": "code",
      "execution_count": null,
      "metadata": {
        "colab": {
          "base_uri": "https://localhost:8080/"
        },
        "id": "hc3Z88Q9JOaB",
        "outputId": "14e40632-6480-4e2e-ee6d-1c39d3cec72e"
      },
      "outputs": [
        {
          "data": {
            "text/html": [
              "\n",
              "  <div id=\"df-720983e5-16a7-417a-b7fc-f74bca983a4c\">\n",
              "    <div class=\"colab-df-container\">\n",
              "      <div>\n",
              "<style scoped>\n",
              "    .dataframe tbody tr th:only-of-type {\n",
              "        vertical-align: middle;\n",
              "    }\n",
              "\n",
              "    .dataframe tbody tr th {\n",
              "        vertical-align: top;\n",
              "    }\n",
              "\n",
              "    .dataframe thead th {\n",
              "        text-align: right;\n",
              "    }\n",
              "</style>\n",
              "<table border=\"1\" class=\"dataframe\">\n",
              "  <thead>\n",
              "    <tr style=\"text-align: right;\">\n",
              "      <th></th>\n",
              "      <th>id</th>\n",
              "      <th>vendor_id</th>\n",
              "      <th>passenger_count</th>\n",
              "      <th>pickup_longitude</th>\n",
              "      <th>pickup_latitude</th>\n",
              "      <th>dropoff_longitude</th>\n",
              "      <th>dropoff_latitude</th>\n",
              "      <th>store_and_fwd_flag</th>\n",
              "      <th>day</th>\n",
              "      <th>month</th>\n",
              "      <th>pickup_hour</th>\n",
              "      <th>dropoff_hour</th>\n",
              "      <th>trip_duration_minutes</th>\n",
              "    </tr>\n",
              "  </thead>\n",
              "  <tbody>\n",
              "    <tr>\n",
              "      <th>1068810</th>\n",
              "      <td>id3777240</td>\n",
              "      <td>2</td>\n",
              "      <td>2</td>\n",
              "      <td>-121.933235</td>\n",
              "      <td>37.389297</td>\n",
              "      <td>-121.933205</td>\n",
              "      <td>37.389103</td>\n",
              "      <td>N</td>\n",
              "      <td>2</td>\n",
              "      <td>1</td>\n",
              "      <td>18</td>\n",
              "      <td>18</td>\n",
              "      <td>18.416667</td>\n",
              "    </tr>\n",
              "    <tr>\n",
              "      <th>1184454</th>\n",
              "      <td>id2854272</td>\n",
              "      <td>2</td>\n",
              "      <td>2</td>\n",
              "      <td>-121.933342</td>\n",
              "      <td>37.389381</td>\n",
              "      <td>-121.933304</td>\n",
              "      <td>37.389511</td>\n",
              "      <td>N</td>\n",
              "      <td>4</td>\n",
              "      <td>2</td>\n",
              "      <td>13</td>\n",
              "      <td>13</td>\n",
              "      <td>8.316667</td>\n",
              "    </tr>\n",
              "  </tbody>\n",
              "</table>\n",
              "</div>\n",
              "      <button class=\"colab-df-convert\" onclick=\"convertToInteractive('df-720983e5-16a7-417a-b7fc-f74bca983a4c')\"\n",
              "              title=\"Convert this dataframe to an interactive table.\"\n",
              "              style=\"display:none;\">\n",
              "        \n",
              "  <svg xmlns=\"http://www.w3.org/2000/svg\" height=\"24px\"viewBox=\"0 0 24 24\"\n",
              "       width=\"24px\">\n",
              "    <path d=\"M0 0h24v24H0V0z\" fill=\"none\"/>\n",
              "    <path d=\"M18.56 5.44l.94 2.06.94-2.06 2.06-.94-2.06-.94-.94-2.06-.94 2.06-2.06.94zm-11 1L8.5 8.5l.94-2.06 2.06-.94-2.06-.94L8.5 2.5l-.94 2.06-2.06.94zm10 10l.94 2.06.94-2.06 2.06-.94-2.06-.94-.94-2.06-.94 2.06-2.06.94z\"/><path d=\"M17.41 7.96l-1.37-1.37c-.4-.4-.92-.59-1.43-.59-.52 0-1.04.2-1.43.59L10.3 9.45l-7.72 7.72c-.78.78-.78 2.05 0 2.83L4 21.41c.39.39.9.59 1.41.59.51 0 1.02-.2 1.41-.59l7.78-7.78 2.81-2.81c.8-.78.8-2.07 0-2.86zM5.41 20L4 18.59l7.72-7.72 1.47 1.35L5.41 20z\"/>\n",
              "  </svg>\n",
              "      </button>\n",
              "      \n",
              "  <style>\n",
              "    .colab-df-container {\n",
              "      display:flex;\n",
              "      flex-wrap:wrap;\n",
              "      gap: 12px;\n",
              "    }\n",
              "\n",
              "    .colab-df-convert {\n",
              "      background-color: #E8F0FE;\n",
              "      border: none;\n",
              "      border-radius: 50%;\n",
              "      cursor: pointer;\n",
              "      display: none;\n",
              "      fill: #1967D2;\n",
              "      height: 32px;\n",
              "      padding: 0 0 0 0;\n",
              "      width: 32px;\n",
              "    }\n",
              "\n",
              "    .colab-df-convert:hover {\n",
              "      background-color: #E2EBFA;\n",
              "      box-shadow: 0px 1px 2px rgba(60, 64, 67, 0.3), 0px 1px 3px 1px rgba(60, 64, 67, 0.15);\n",
              "      fill: #174EA6;\n",
              "    }\n",
              "\n",
              "    [theme=dark] .colab-df-convert {\n",
              "      background-color: #3B4455;\n",
              "      fill: #D2E3FC;\n",
              "    }\n",
              "\n",
              "    [theme=dark] .colab-df-convert:hover {\n",
              "      background-color: #434B5C;\n",
              "      box-shadow: 0px 1px 3px 1px rgba(0, 0, 0, 0.15);\n",
              "      filter: drop-shadow(0px 1px 2px rgba(0, 0, 0, 0.3));\n",
              "      fill: #FFFFFF;\n",
              "    }\n",
              "  </style>\n",
              "\n",
              "      <script>\n",
              "        const buttonEl =\n",
              "          document.querySelector('#df-720983e5-16a7-417a-b7fc-f74bca983a4c button.colab-df-convert');\n",
              "        buttonEl.style.display =\n",
              "          google.colab.kernel.accessAllowed ? 'block' : 'none';\n",
              "\n",
              "        async function convertToInteractive(key) {\n",
              "          const element = document.querySelector('#df-720983e5-16a7-417a-b7fc-f74bca983a4c');\n",
              "          const dataTable =\n",
              "            await google.colab.kernel.invokeFunction('convertToInteractive',\n",
              "                                                     [key], {});\n",
              "          if (!dataTable) return;\n",
              "\n",
              "          const docLinkHtml = 'Like what you see? Visit the ' +\n",
              "            '<a target=\"_blank\" href=https://colab.research.google.com/notebooks/data_table.ipynb>data table notebook</a>'\n",
              "            + ' to learn more about interactive tables.';\n",
              "          element.innerHTML = '';\n",
              "          dataTable['output_type'] = 'display_data';\n",
              "          await google.colab.output.renderOutput(dataTable, element);\n",
              "          const docLink = document.createElement('div');\n",
              "          docLink.innerHTML = docLinkHtml;\n",
              "          element.appendChild(docLink);\n",
              "        }\n",
              "      </script>\n",
              "    </div>\n",
              "  </div>\n",
              "  "
            ],
            "text/plain": [
              "                id  vendor_id  ...  dropoff_hour  trip_duration_minutes\n",
              "1068810  id3777240          2  ...            18              18.416667\n",
              "1184454  id2854272          2  ...            13               8.316667\n",
              "\n",
              "[2 rows x 13 columns]"
            ]
          },
          "execution_count": 90,
          "metadata": {},
          "output_type": "execute_result"
        }
      ],
      "source": [
        "nyc_df[nyc_df['pickup_longitude'] < -120]"
      ]
    },
    {
      "cell_type": "code",
      "execution_count": null,
      "metadata": {
        "colab": {
          "base_uri": "https://localhost:8080/"
        },
        "id": "FpBr2EZcJyEp",
        "outputId": "67a4a58a-f810-4944-8ab5-e344c1bafab7"
      },
      "outputs": [
        {
          "data": {
            "text/html": [
              "\n",
              "  <div id=\"df-63d02122-13aa-4c0c-9613-ca3475023ede\">\n",
              "    <div class=\"colab-df-container\">\n",
              "      <div>\n",
              "<style scoped>\n",
              "    .dataframe tbody tr th:only-of-type {\n",
              "        vertical-align: middle;\n",
              "    }\n",
              "\n",
              "    .dataframe tbody tr th {\n",
              "        vertical-align: top;\n",
              "    }\n",
              "\n",
              "    .dataframe thead th {\n",
              "        text-align: right;\n",
              "    }\n",
              "</style>\n",
              "<table border=\"1\" class=\"dataframe\">\n",
              "  <thead>\n",
              "    <tr style=\"text-align: right;\">\n",
              "      <th></th>\n",
              "      <th>id</th>\n",
              "      <th>vendor_id</th>\n",
              "      <th>passenger_count</th>\n",
              "      <th>pickup_longitude</th>\n",
              "      <th>pickup_latitude</th>\n",
              "      <th>dropoff_longitude</th>\n",
              "      <th>dropoff_latitude</th>\n",
              "      <th>store_and_fwd_flag</th>\n",
              "      <th>day</th>\n",
              "      <th>month</th>\n",
              "      <th>pickup_hour</th>\n",
              "      <th>dropoff_hour</th>\n",
              "      <th>trip_duration_minutes</th>\n",
              "    </tr>\n",
              "  </thead>\n",
              "  <tbody>\n",
              "    <tr>\n",
              "      <th>184925</th>\n",
              "      <td>id2306955</td>\n",
              "      <td>1</td>\n",
              "      <td>1</td>\n",
              "      <td>-72.809669</td>\n",
              "      <td>51.881084</td>\n",
              "      <td>-73.987228</td>\n",
              "      <td>40.750599</td>\n",
              "      <td>N</td>\n",
              "      <td>5</td>\n",
              "      <td>5</td>\n",
              "      <td>18</td>\n",
              "      <td>19</td>\n",
              "      <td>13.2</td>\n",
              "    </tr>\n",
              "  </tbody>\n",
              "</table>\n",
              "</div>\n",
              "      <button class=\"colab-df-convert\" onclick=\"convertToInteractive('df-63d02122-13aa-4c0c-9613-ca3475023ede')\"\n",
              "              title=\"Convert this dataframe to an interactive table.\"\n",
              "              style=\"display:none;\">\n",
              "        \n",
              "  <svg xmlns=\"http://www.w3.org/2000/svg\" height=\"24px\"viewBox=\"0 0 24 24\"\n",
              "       width=\"24px\">\n",
              "    <path d=\"M0 0h24v24H0V0z\" fill=\"none\"/>\n",
              "    <path d=\"M18.56 5.44l.94 2.06.94-2.06 2.06-.94-2.06-.94-.94-2.06-.94 2.06-2.06.94zm-11 1L8.5 8.5l.94-2.06 2.06-.94-2.06-.94L8.5 2.5l-.94 2.06-2.06.94zm10 10l.94 2.06.94-2.06 2.06-.94-2.06-.94-.94-2.06-.94 2.06-2.06.94z\"/><path d=\"M17.41 7.96l-1.37-1.37c-.4-.4-.92-.59-1.43-.59-.52 0-1.04.2-1.43.59L10.3 9.45l-7.72 7.72c-.78.78-.78 2.05 0 2.83L4 21.41c.39.39.9.59 1.41.59.51 0 1.02-.2 1.41-.59l7.78-7.78 2.81-2.81c.8-.78.8-2.07 0-2.86zM5.41 20L4 18.59l7.72-7.72 1.47 1.35L5.41 20z\"/>\n",
              "  </svg>\n",
              "      </button>\n",
              "      \n",
              "  <style>\n",
              "    .colab-df-container {\n",
              "      display:flex;\n",
              "      flex-wrap:wrap;\n",
              "      gap: 12px;\n",
              "    }\n",
              "\n",
              "    .colab-df-convert {\n",
              "      background-color: #E8F0FE;\n",
              "      border: none;\n",
              "      border-radius: 50%;\n",
              "      cursor: pointer;\n",
              "      display: none;\n",
              "      fill: #1967D2;\n",
              "      height: 32px;\n",
              "      padding: 0 0 0 0;\n",
              "      width: 32px;\n",
              "    }\n",
              "\n",
              "    .colab-df-convert:hover {\n",
              "      background-color: #E2EBFA;\n",
              "      box-shadow: 0px 1px 2px rgba(60, 64, 67, 0.3), 0px 1px 3px 1px rgba(60, 64, 67, 0.15);\n",
              "      fill: #174EA6;\n",
              "    }\n",
              "\n",
              "    [theme=dark] .colab-df-convert {\n",
              "      background-color: #3B4455;\n",
              "      fill: #D2E3FC;\n",
              "    }\n",
              "\n",
              "    [theme=dark] .colab-df-convert:hover {\n",
              "      background-color: #434B5C;\n",
              "      box-shadow: 0px 1px 3px 1px rgba(0, 0, 0, 0.15);\n",
              "      filter: drop-shadow(0px 1px 2px rgba(0, 0, 0, 0.3));\n",
              "      fill: #FFFFFF;\n",
              "    }\n",
              "  </style>\n",
              "\n",
              "      <script>\n",
              "        const buttonEl =\n",
              "          document.querySelector('#df-63d02122-13aa-4c0c-9613-ca3475023ede button.colab-df-convert');\n",
              "        buttonEl.style.display =\n",
              "          google.colab.kernel.accessAllowed ? 'block' : 'none';\n",
              "\n",
              "        async function convertToInteractive(key) {\n",
              "          const element = document.querySelector('#df-63d02122-13aa-4c0c-9613-ca3475023ede');\n",
              "          const dataTable =\n",
              "            await google.colab.kernel.invokeFunction('convertToInteractive',\n",
              "                                                     [key], {});\n",
              "          if (!dataTable) return;\n",
              "\n",
              "          const docLinkHtml = 'Like what you see? Visit the ' +\n",
              "            '<a target=\"_blank\" href=https://colab.research.google.com/notebooks/data_table.ipynb>data table notebook</a>'\n",
              "            + ' to learn more about interactive tables.';\n",
              "          element.innerHTML = '';\n",
              "          dataTable['output_type'] = 'display_data';\n",
              "          await google.colab.output.renderOutput(dataTable, element);\n",
              "          const docLink = document.createElement('div');\n",
              "          docLink.innerHTML = docLinkHtml;\n",
              "          element.appendChild(docLink);\n",
              "        }\n",
              "      </script>\n",
              "    </div>\n",
              "  </div>\n",
              "  "
            ],
            "text/plain": [
              "               id  vendor_id  ...  dropoff_hour  trip_duration_minutes\n",
              "184925  id2306955          1  ...            19                   13.2\n",
              "\n",
              "[1 rows x 13 columns]"
            ]
          },
          "execution_count": 91,
          "metadata": {},
          "output_type": "execute_result"
        }
      ],
      "source": [
        "nyc_df[nyc_df['pickup_latitude'] > 50]"
      ]
    },
    {
      "cell_type": "code",
      "execution_count": null,
      "metadata": {
        "colab": {
          "base_uri": "https://localhost:8080/"
        },
        "id": "iVMisFGsmf0u",
        "outputId": "a6b0a7cc-767e-4d77-f5bd-c92b9856f0af"
      },
      "outputs": [
        {
          "data": {
            "text/html": [
              "\n",
              "  <div id=\"df-8b68dc6c-90f4-41f9-b620-61b122d06a5a\">\n",
              "    <div class=\"colab-df-container\">\n",
              "      <div>\n",
              "<style scoped>\n",
              "    .dataframe tbody tr th:only-of-type {\n",
              "        vertical-align: middle;\n",
              "    }\n",
              "\n",
              "    .dataframe tbody tr th {\n",
              "        vertical-align: top;\n",
              "    }\n",
              "\n",
              "    .dataframe thead th {\n",
              "        text-align: right;\n",
              "    }\n",
              "</style>\n",
              "<table border=\"1\" class=\"dataframe\">\n",
              "  <thead>\n",
              "    <tr style=\"text-align: right;\">\n",
              "      <th></th>\n",
              "      <th>id</th>\n",
              "      <th>vendor_id</th>\n",
              "      <th>passenger_count</th>\n",
              "      <th>pickup_longitude</th>\n",
              "      <th>pickup_latitude</th>\n",
              "      <th>dropoff_longitude</th>\n",
              "      <th>dropoff_latitude</th>\n",
              "      <th>store_and_fwd_flag</th>\n",
              "      <th>day</th>\n",
              "      <th>month</th>\n",
              "      <th>pickup_hour</th>\n",
              "      <th>dropoff_hour</th>\n",
              "      <th>trip_duration_minutes</th>\n",
              "    </tr>\n",
              "  </thead>\n",
              "  <tbody>\n",
              "    <tr>\n",
              "      <th>1068810</th>\n",
              "      <td>id3777240</td>\n",
              "      <td>2</td>\n",
              "      <td>2</td>\n",
              "      <td>-121.933235</td>\n",
              "      <td>37.389297</td>\n",
              "      <td>-121.933205</td>\n",
              "      <td>37.389103</td>\n",
              "      <td>N</td>\n",
              "      <td>2</td>\n",
              "      <td>1</td>\n",
              "      <td>18</td>\n",
              "      <td>18</td>\n",
              "      <td>18.416667</td>\n",
              "    </tr>\n",
              "    <tr>\n",
              "      <th>1184454</th>\n",
              "      <td>id2854272</td>\n",
              "      <td>2</td>\n",
              "      <td>2</td>\n",
              "      <td>-121.933342</td>\n",
              "      <td>37.389381</td>\n",
              "      <td>-121.933304</td>\n",
              "      <td>37.389511</td>\n",
              "      <td>N</td>\n",
              "      <td>4</td>\n",
              "      <td>2</td>\n",
              "      <td>13</td>\n",
              "      <td>13</td>\n",
              "      <td>8.316667</td>\n",
              "    </tr>\n",
              "  </tbody>\n",
              "</table>\n",
              "</div>\n",
              "      <button class=\"colab-df-convert\" onclick=\"convertToInteractive('df-8b68dc6c-90f4-41f9-b620-61b122d06a5a')\"\n",
              "              title=\"Convert this dataframe to an interactive table.\"\n",
              "              style=\"display:none;\">\n",
              "        \n",
              "  <svg xmlns=\"http://www.w3.org/2000/svg\" height=\"24px\"viewBox=\"0 0 24 24\"\n",
              "       width=\"24px\">\n",
              "    <path d=\"M0 0h24v24H0V0z\" fill=\"none\"/>\n",
              "    <path d=\"M18.56 5.44l.94 2.06.94-2.06 2.06-.94-2.06-.94-.94-2.06-.94 2.06-2.06.94zm-11 1L8.5 8.5l.94-2.06 2.06-.94-2.06-.94L8.5 2.5l-.94 2.06-2.06.94zm10 10l.94 2.06.94-2.06 2.06-.94-2.06-.94-.94-2.06-.94 2.06-2.06.94z\"/><path d=\"M17.41 7.96l-1.37-1.37c-.4-.4-.92-.59-1.43-.59-.52 0-1.04.2-1.43.59L10.3 9.45l-7.72 7.72c-.78.78-.78 2.05 0 2.83L4 21.41c.39.39.9.59 1.41.59.51 0 1.02-.2 1.41-.59l7.78-7.78 2.81-2.81c.8-.78.8-2.07 0-2.86zM5.41 20L4 18.59l7.72-7.72 1.47 1.35L5.41 20z\"/>\n",
              "  </svg>\n",
              "      </button>\n",
              "      \n",
              "  <style>\n",
              "    .colab-df-container {\n",
              "      display:flex;\n",
              "      flex-wrap:wrap;\n",
              "      gap: 12px;\n",
              "    }\n",
              "\n",
              "    .colab-df-convert {\n",
              "      background-color: #E8F0FE;\n",
              "      border: none;\n",
              "      border-radius: 50%;\n",
              "      cursor: pointer;\n",
              "      display: none;\n",
              "      fill: #1967D2;\n",
              "      height: 32px;\n",
              "      padding: 0 0 0 0;\n",
              "      width: 32px;\n",
              "    }\n",
              "\n",
              "    .colab-df-convert:hover {\n",
              "      background-color: #E2EBFA;\n",
              "      box-shadow: 0px 1px 2px rgba(60, 64, 67, 0.3), 0px 1px 3px 1px rgba(60, 64, 67, 0.15);\n",
              "      fill: #174EA6;\n",
              "    }\n",
              "\n",
              "    [theme=dark] .colab-df-convert {\n",
              "      background-color: #3B4455;\n",
              "      fill: #D2E3FC;\n",
              "    }\n",
              "\n",
              "    [theme=dark] .colab-df-convert:hover {\n",
              "      background-color: #434B5C;\n",
              "      box-shadow: 0px 1px 3px 1px rgba(0, 0, 0, 0.15);\n",
              "      filter: drop-shadow(0px 1px 2px rgba(0, 0, 0, 0.3));\n",
              "      fill: #FFFFFF;\n",
              "    }\n",
              "  </style>\n",
              "\n",
              "      <script>\n",
              "        const buttonEl =\n",
              "          document.querySelector('#df-8b68dc6c-90f4-41f9-b620-61b122d06a5a button.colab-df-convert');\n",
              "        buttonEl.style.display =\n",
              "          google.colab.kernel.accessAllowed ? 'block' : 'none';\n",
              "\n",
              "        async function convertToInteractive(key) {\n",
              "          const element = document.querySelector('#df-8b68dc6c-90f4-41f9-b620-61b122d06a5a');\n",
              "          const dataTable =\n",
              "            await google.colab.kernel.invokeFunction('convertToInteractive',\n",
              "                                                     [key], {});\n",
              "          if (!dataTable) return;\n",
              "\n",
              "          const docLinkHtml = 'Like what you see? Visit the ' +\n",
              "            '<a target=\"_blank\" href=https://colab.research.google.com/notebooks/data_table.ipynb>data table notebook</a>'\n",
              "            + ' to learn more about interactive tables.';\n",
              "          element.innerHTML = '';\n",
              "          dataTable['output_type'] = 'display_data';\n",
              "          await google.colab.output.renderOutput(dataTable, element);\n",
              "          const docLink = document.createElement('div');\n",
              "          docLink.innerHTML = docLinkHtml;\n",
              "          element.appendChild(docLink);\n",
              "        }\n",
              "      </script>\n",
              "    </div>\n",
              "  </div>\n",
              "  "
            ],
            "text/plain": [
              "                id  vendor_id  ...  dropoff_hour  trip_duration_minutes\n",
              "1068810  id3777240          2  ...            18              18.416667\n",
              "1184454  id2854272          2  ...            13               8.316667\n",
              "\n",
              "[2 rows x 13 columns]"
            ]
          },
          "execution_count": 92,
          "metadata": {},
          "output_type": "execute_result"
        }
      ],
      "source": [
        "nyc_df[nyc_df['dropoff_longitude'] < -120]"
      ]
    },
    {
      "cell_type": "code",
      "execution_count": null,
      "metadata": {
        "colab": {
          "base_uri": "https://localhost:8080/"
        },
        "id": "JXSAzKJUKNvC",
        "outputId": "4bb0b6d2-cbf0-403a-fd8f-5203f070eadd"
      },
      "outputs": [
        {
          "data": {
            "text/html": [
              "\n",
              "  <div id=\"df-91f5c9bf-88c7-4f7c-8a55-cbfa837a859f\">\n",
              "    <div class=\"colab-df-container\">\n",
              "      <div>\n",
              "<style scoped>\n",
              "    .dataframe tbody tr th:only-of-type {\n",
              "        vertical-align: middle;\n",
              "    }\n",
              "\n",
              "    .dataframe tbody tr th {\n",
              "        vertical-align: top;\n",
              "    }\n",
              "\n",
              "    .dataframe thead th {\n",
              "        text-align: right;\n",
              "    }\n",
              "</style>\n",
              "<table border=\"1\" class=\"dataframe\">\n",
              "  <thead>\n",
              "    <tr style=\"text-align: right;\">\n",
              "      <th></th>\n",
              "      <th>id</th>\n",
              "      <th>vendor_id</th>\n",
              "      <th>passenger_count</th>\n",
              "      <th>pickup_longitude</th>\n",
              "      <th>pickup_latitude</th>\n",
              "      <th>dropoff_longitude</th>\n",
              "      <th>dropoff_latitude</th>\n",
              "      <th>store_and_fwd_flag</th>\n",
              "      <th>day</th>\n",
              "      <th>month</th>\n",
              "      <th>pickup_hour</th>\n",
              "      <th>dropoff_hour</th>\n",
              "      <th>trip_duration_minutes</th>\n",
              "    </tr>\n",
              "  </thead>\n",
              "  <tbody>\n",
              "    <tr>\n",
              "      <th>275644</th>\n",
              "      <td>id0978162</td>\n",
              "      <td>1</td>\n",
              "      <td>4</td>\n",
              "      <td>-75.354332</td>\n",
              "      <td>34.712234</td>\n",
              "      <td>-73.834923</td>\n",
              "      <td>32.181141</td>\n",
              "      <td>N</td>\n",
              "      <td>2</td>\n",
              "      <td>2</td>\n",
              "      <td>16</td>\n",
              "      <td>16</td>\n",
              "      <td>14.583333</td>\n",
              "    </tr>\n",
              "  </tbody>\n",
              "</table>\n",
              "</div>\n",
              "      <button class=\"colab-df-convert\" onclick=\"convertToInteractive('df-91f5c9bf-88c7-4f7c-8a55-cbfa837a859f')\"\n",
              "              title=\"Convert this dataframe to an interactive table.\"\n",
              "              style=\"display:none;\">\n",
              "        \n",
              "  <svg xmlns=\"http://www.w3.org/2000/svg\" height=\"24px\"viewBox=\"0 0 24 24\"\n",
              "       width=\"24px\">\n",
              "    <path d=\"M0 0h24v24H0V0z\" fill=\"none\"/>\n",
              "    <path d=\"M18.56 5.44l.94 2.06.94-2.06 2.06-.94-2.06-.94-.94-2.06-.94 2.06-2.06.94zm-11 1L8.5 8.5l.94-2.06 2.06-.94-2.06-.94L8.5 2.5l-.94 2.06-2.06.94zm10 10l.94 2.06.94-2.06 2.06-.94-2.06-.94-.94-2.06-.94 2.06-2.06.94z\"/><path d=\"M17.41 7.96l-1.37-1.37c-.4-.4-.92-.59-1.43-.59-.52 0-1.04.2-1.43.59L10.3 9.45l-7.72 7.72c-.78.78-.78 2.05 0 2.83L4 21.41c.39.39.9.59 1.41.59.51 0 1.02-.2 1.41-.59l7.78-7.78 2.81-2.81c.8-.78.8-2.07 0-2.86zM5.41 20L4 18.59l7.72-7.72 1.47 1.35L5.41 20z\"/>\n",
              "  </svg>\n",
              "      </button>\n",
              "      \n",
              "  <style>\n",
              "    .colab-df-container {\n",
              "      display:flex;\n",
              "      flex-wrap:wrap;\n",
              "      gap: 12px;\n",
              "    }\n",
              "\n",
              "    .colab-df-convert {\n",
              "      background-color: #E8F0FE;\n",
              "      border: none;\n",
              "      border-radius: 50%;\n",
              "      cursor: pointer;\n",
              "      display: none;\n",
              "      fill: #1967D2;\n",
              "      height: 32px;\n",
              "      padding: 0 0 0 0;\n",
              "      width: 32px;\n",
              "    }\n",
              "\n",
              "    .colab-df-convert:hover {\n",
              "      background-color: #E2EBFA;\n",
              "      box-shadow: 0px 1px 2px rgba(60, 64, 67, 0.3), 0px 1px 3px 1px rgba(60, 64, 67, 0.15);\n",
              "      fill: #174EA6;\n",
              "    }\n",
              "\n",
              "    [theme=dark] .colab-df-convert {\n",
              "      background-color: #3B4455;\n",
              "      fill: #D2E3FC;\n",
              "    }\n",
              "\n",
              "    [theme=dark] .colab-df-convert:hover {\n",
              "      background-color: #434B5C;\n",
              "      box-shadow: 0px 1px 3px 1px rgba(0, 0, 0, 0.15);\n",
              "      filter: drop-shadow(0px 1px 2px rgba(0, 0, 0, 0.3));\n",
              "      fill: #FFFFFF;\n",
              "    }\n",
              "  </style>\n",
              "\n",
              "      <script>\n",
              "        const buttonEl =\n",
              "          document.querySelector('#df-91f5c9bf-88c7-4f7c-8a55-cbfa837a859f button.colab-df-convert');\n",
              "        buttonEl.style.display =\n",
              "          google.colab.kernel.accessAllowed ? 'block' : 'none';\n",
              "\n",
              "        async function convertToInteractive(key) {\n",
              "          const element = document.querySelector('#df-91f5c9bf-88c7-4f7c-8a55-cbfa837a859f');\n",
              "          const dataTable =\n",
              "            await google.colab.kernel.invokeFunction('convertToInteractive',\n",
              "                                                     [key], {});\n",
              "          if (!dataTable) return;\n",
              "\n",
              "          const docLinkHtml = 'Like what you see? Visit the ' +\n",
              "            '<a target=\"_blank\" href=https://colab.research.google.com/notebooks/data_table.ipynb>data table notebook</a>'\n",
              "            + ' to learn more about interactive tables.';\n",
              "          element.innerHTML = '';\n",
              "          dataTable['output_type'] = 'display_data';\n",
              "          await google.colab.output.renderOutput(dataTable, element);\n",
              "          const docLink = document.createElement('div');\n",
              "          docLink.innerHTML = docLinkHtml;\n",
              "          element.appendChild(docLink);\n",
              "        }\n",
              "      </script>\n",
              "    </div>\n",
              "  </div>\n",
              "  "
            ],
            "text/plain": [
              "               id  vendor_id  ...  dropoff_hour  trip_duration_minutes\n",
              "275644  id0978162          1  ...            16              14.583333\n",
              "\n",
              "[1 rows x 13 columns]"
            ]
          },
          "execution_count": 93,
          "metadata": {},
          "output_type": "execute_result"
        }
      ],
      "source": [
        "nyc_df[nyc_df['dropoff_latitude'] < 34]"
      ]
    },
    {
      "cell_type": "markdown",
      "metadata": {
        "id": "61sCFP4CN-T7"
      },
      "source": [
        "***Lets drop these values.***"
      ]
    },
    {
      "cell_type": "code",
      "execution_count": null,
      "metadata": {
        "id": "xQxQ6FfNOCX-"
      },
      "outputs": [],
      "source": [
        "nyc_df = nyc_df[nyc_df.id != 'id3777240']\n",
        "nyc_df = nyc_df[nyc_df.id != 'id2854272']\n",
        "nyc_df = nyc_df[nyc_df.id != 'id2306955']\n",
        "nyc_df = nyc_df[nyc_df.id != 'id0978162']"
      ]
    },
    {
      "cell_type": "code",
      "execution_count": null,
      "metadata": {
        "colab": {
          "base_uri": "https://localhost:8080/"
        },
        "id": "7c5XcEp-RqVh",
        "outputId": "ba70d3fc-b8c8-427c-bf7f-8c2250b6eb62"
      },
      "outputs": [
        {
          "data": {
            "image/png": "[encoded data removed]",
            "text/plain": [
              "<Figure size 1080x360 with 2 Axes>"
            ]
          },
          "metadata": {},
          "output_type": "display_data"
        }
      ],
      "source": [
        "fig, (ax1, ax2) = plt.subplots(1,2, figsize=(15,5))\n",
        "sns.scatterplot(nyc_df['pickup_longitude'], nyc_df['pickup_latitude'], ax=ax1)\n",
        "sns.scatterplot(nyc_df['dropoff_longitude'], nyc_df['dropoff_latitude'], ax=ax2)\n",
        "plt.show()"
      ]
    },
    {
      "cell_type": "markdown",
      "metadata": {
        "id": "GbWfw9CjBAH3"
      },
      "source": [
        "***It looks better now.***"
      ]
    },
    {
      "cell_type": "markdown",
      "metadata": {
        "id": "y-TKktihmgbA"
      },
      "source": [
        "."
      ]
    },
    {
      "cell_type": "markdown",
      "metadata": {
        "id": "f0Kz1BQbmhj3"
      },
      "source": [
        "**store_and_fwd_flag.**"
      ]
    },
    {
      "cell_type": "code",
      "execution_count": null,
      "metadata": {
        "colab": {
          "base_uri": "https://localhost:8080/"
        },
        "id": "nY4AZgjjmnkT",
        "outputId": "8a0a2eb2-f48d-4d6d-b7e5-aa0078383fa2"
      },
      "outputs": [
        {
          "data": {
            "text/plain": [
              "count     1458571\n",
              "unique          2\n",
              "top             N\n",
              "freq      1450529\n",
              "Name: store_and_fwd_flag, dtype: object"
            ]
          },
          "execution_count": 96,
          "metadata": {},
          "output_type": "execute_result"
        }
      ],
      "source": [
        "nyc_df['store_and_fwd_flag'].describe()"
      ]
    },
    {
      "cell_type": "code",
      "execution_count": null,
      "metadata": {
        "colab": {
          "base_uri": "https://localhost:8080/"
        },
        "id": "YVUnEsQAmnfh",
        "outputId": "f0c25d0e-301b-4920-f7cf-7be18dd69a32"
      },
      "outputs": [
        {
          "data": {
            "image/png": "[encoded data removed]",
            "text/plain": [
              "<Figure size 504x360 with 1 Axes>"
            ]
          },
          "metadata": {},
          "output_type": "display_data"
        }
      ],
      "source": [
        "# Plot it.\n",
        "fig = plt.figure(figsize=(7,5))\n",
        "plot = sns.countplot(nyc_df['store_and_fwd_flag'], palette='gist_heat')\n",
        "\n",
        "total = len(nyc_df)\n",
        "for p in plot.patches:\n",
        "    percentage = f'{100 * p.get_height() / total:.1f}%\\n'\n",
        "    x = p.get_x() + p.get_width() / 2\n",
        "    y = p.get_height()\n",
        "    plot.annotate(percentage, (x, y), ha='center', va='center')\n",
        "\n",
        "plt.tight_layout()\n",
        "plt.show()"
      ]
    },
    {
      "cell_type": "markdown",
      "metadata": {
        "id": "zlOLu-yFt5Hg"
      },
      "source": [
        "* ***99.4% of the data values are N and only 0.6% 0f values are Y, which means most of the data was uploaded directly without storing it and forwarding.***\n",
        "* ***this ia a categorical feature which we will be converting into numeric by getting dummies.***"
      ]
    },
    {
      "cell_type": "markdown",
      "metadata": {
        "id": "sMDjn19Hx-cz"
      },
      "source": [
        "."
      ]
    },
    {
      "cell_type": "markdown",
      "metadata": {
        "id": "nkZYsJhZx_Tw"
      },
      "source": [
        "**day/month\tand pickup_hour/dropoff_hour**"
      ]
    },
    {
      "cell_type": "code",
      "execution_count": null,
      "metadata": {
        "colab": {
          "base_uri": "https://localhost:8080/"
        },
        "id": "aWhErvBNyPTE",
        "outputId": "07972250-5ad1-4daa-9b03-21ce7cb5ea68"
      },
      "outputs": [
        {
          "data": {
            "image/png": "[encoded data removed]",
            "text/plain": [
              "<Figure size 1800x576 with 4 Axes>"
            ]
          },
          "metadata": {},
          "output_type": "display_data"
        }
      ],
      "source": [
        "# Now lets get some visuals from the above data.\n",
        "fig, ax = plt.subplots(2,2, figsize=(25,8))\n",
        "fig.tight_layout(h_pad=4, w_pad=4)\n",
        "sns.pointplot(data=nyc_df, x='day', y='trip_duration_minutes', ax=ax[0][0], ci=None)\n",
        "sns.pointplot(data=nyc_df, x='month', y='trip_duration_minutes', ax=ax[0][1], ci=None)\n",
        "sns.pointplot(data=nyc_df, x='pickup_hour', y='trip_duration_minutes', ax=ax[1][0], ci=None)\n",
        "sns.pointplot(data=nyc_df, x='dropoff_hour', y='trip_duration_minutes', ax=ax[1][1], ci=None)\n",
        "plt.show()"
      ]
    },
    {
      "cell_type": "markdown",
      "metadata": {
        "id": "ZYJijDqY8ouX"
      },
      "source": [
        "* ***trip duration decreases as the weekend approches, it makes sense as most of the people either stay at home or go for vacations.***\n",
        "* ***trip duration increases after Feburary, this might be due to the people returning after holidays***.\n",
        "* ***pickup and dropoff hours are almost the same, most of the comute happen from 6am to 7pm after which it gradually decreases.***"
      ]
    },
    {
      "cell_type": "markdown",
      "metadata": {
        "id": "Ot9CJUmEwYhM"
      },
      "source": [
        "."
      ]
    },
    {
      "cell_type": "markdown",
      "metadata": {
        "id": "ry9xK3wnIA3F"
      },
      "source": [
        "# **Data Cleaning And Feature Engineering.**"
      ]
    },
    {
      "cell_type": "markdown",
      "metadata": {
        "id": "xxeFXZk3Kip8"
      },
      "source": [
        "***First lets remove outliers from our dependent variable.***"
      ]
    },
    {
      "cell_type": "code",
      "execution_count": null,
      "metadata": {
        "id": "R__hwVfVKpRH"
      },
      "outputs": [],
      "source": [
        "# Create a function to get upper and lower bounds for removing outliers.\n",
        "def outlier_treatment(feature):\n",
        "  sorted(feature)\n",
        "  Q1,Q3 = np.percentile(feature , [25,75])\n",
        "  IQR = Q3 - Q1\n",
        "  lower_range = Q1 - (1.5 * IQR)\n",
        "  upper_range = Q3 + (1.5 * IQR)\n",
        "  return lower_range,upper_range"
      ]
    },
    {
      "cell_type": "code",
      "execution_count": null,
      "metadata": {
        "colab": {
          "base_uri": "https://localhost:8080/",
          "height": 441
        },
        "id": "tc-yk8F5KuLY",
        "outputId": "2eb28af6-d510-4f19-9ee0-11b5666151d8"
      },
      "outputs": [
        {
          "name": "stdout",
          "output_type": "stream",
          "text": [
            "-10.333333333333336 34.866666666666674\n"
          ]
        },
        {
          "data": {
            "text/html": [
              "\n",
              "  <div id=\"df-b4589df6-ad92-45fc-ae99-5b3c7f61a90e\">\n",
              "    <div class=\"colab-df-container\">\n",
              "      <div>\n",
              "<style scoped>\n",
              "    .dataframe tbody tr th:only-of-type {\n",
              "        vertical-align: middle;\n",
              "    }\n",
              "\n",
              "    .dataframe tbody tr th {\n",
              "        vertical-align: top;\n",
              "    }\n",
              "\n",
              "    .dataframe thead th {\n",
              "        text-align: right;\n",
              "    }\n",
              "</style>\n",
              "<table border=\"1\" class=\"dataframe\">\n",
              "  <thead>\n",
              "    <tr style=\"text-align: right;\">\n",
              "      <th></th>\n",
              "      <th>id</th>\n",
              "      <th>vendor_id</th>\n",
              "      <th>passenger_count</th>\n",
              "      <th>pickup_longitude</th>\n",
              "      <th>pickup_latitude</th>\n",
              "      <th>dropoff_longitude</th>\n",
              "      <th>dropoff_latitude</th>\n",
              "      <th>store_and_fwd_flag</th>\n",
              "      <th>day</th>\n",
              "      <th>month</th>\n",
              "      <th>pickup_hour</th>\n",
              "      <th>dropoff_hour</th>\n",
              "      <th>trip_duration_minutes</th>\n",
              "    </tr>\n",
              "  </thead>\n",
              "  <tbody>\n",
              "    <tr>\n",
              "      <th>2</th>\n",
              "      <td>id3858529</td>\n",
              "      <td>2</td>\n",
              "      <td>1</td>\n",
              "      <td>-73.979027</td>\n",
              "      <td>40.763939</td>\n",
              "      <td>-74.005333</td>\n",
              "      <td>40.710087</td>\n",
              "      <td>N</td>\n",
              "      <td>1</td>\n",
              "      <td>1</td>\n",
              "      <td>11</td>\n",
              "      <td>12</td>\n",
              "      <td>35.400000</td>\n",
              "    </tr>\n",
              "    <tr>\n",
              "      <th>16</th>\n",
              "      <td>id3379579</td>\n",
              "      <td>2</td>\n",
              "      <td>1</td>\n",
              "      <td>-73.991165</td>\n",
              "      <td>40.755562</td>\n",
              "      <td>-73.999290</td>\n",
              "      <td>40.725353</td>\n",
              "      <td>N</td>\n",
              "      <td>0</td>\n",
              "      <td>4</td>\n",
              "      <td>17</td>\n",
              "      <td>18</td>\n",
              "      <td>38.600000</td>\n",
              "    </tr>\n",
              "    <tr>\n",
              "      <th>24</th>\n",
              "      <td>id3321406</td>\n",
              "      <td>2</td>\n",
              "      <td>1</td>\n",
              "      <td>-73.955231</td>\n",
              "      <td>40.777134</td>\n",
              "      <td>-73.788750</td>\n",
              "      <td>40.641472</td>\n",
              "      <td>N</td>\n",
              "      <td>4</td>\n",
              "      <td>6</td>\n",
              "      <td>8</td>\n",
              "      <td>8</td>\n",
              "      <td>41.416667</td>\n",
              "    </tr>\n",
              "    <tr>\n",
              "      <th>29</th>\n",
              "      <td>id1410897</td>\n",
              "      <td>1</td>\n",
              "      <td>1</td>\n",
              "      <td>-73.982117</td>\n",
              "      <td>40.756351</td>\n",
              "      <td>-73.865692</td>\n",
              "      <td>40.770988</td>\n",
              "      <td>N</td>\n",
              "      <td>2</td>\n",
              "      <td>3</td>\n",
              "      <td>14</td>\n",
              "      <td>14</td>\n",
              "      <td>38.850000</td>\n",
              "    </tr>\n",
              "    <tr>\n",
              "      <th>33</th>\n",
              "      <td>id0023813</td>\n",
              "      <td>1</td>\n",
              "      <td>1</td>\n",
              "      <td>-73.990311</td>\n",
              "      <td>40.756580</td>\n",
              "      <td>-73.870918</td>\n",
              "      <td>40.773930</td>\n",
              "      <td>N</td>\n",
              "      <td>6</td>\n",
              "      <td>4</td>\n",
              "      <td>14</td>\n",
              "      <td>15</td>\n",
              "      <td>37.816667</td>\n",
              "    </tr>\n",
              "    <tr>\n",
              "      <th>...</th>\n",
              "      <td>...</td>\n",
              "      <td>...</td>\n",
              "      <td>...</td>\n",
              "      <td>...</td>\n",
              "      <td>...</td>\n",
              "      <td>...</td>\n",
              "      <td>...</td>\n",
              "      <td>...</td>\n",
              "      <td>...</td>\n",
              "      <td>...</td>\n",
              "      <td>...</td>\n",
              "      <td>...</td>\n",
              "      <td>...</td>\n",
              "    </tr>\n",
              "    <tr>\n",
              "      <th>1458571</th>\n",
              "      <td>id1440046</td>\n",
              "      <td>1</td>\n",
              "      <td>2</td>\n",
              "      <td>-73.778946</td>\n",
              "      <td>40.647343</td>\n",
              "      <td>-73.952103</td>\n",
              "      <td>40.781166</td>\n",
              "      <td>N</td>\n",
              "      <td>6</td>\n",
              "      <td>6</td>\n",
              "      <td>22</td>\n",
              "      <td>23</td>\n",
              "      <td>40.900000</td>\n",
              "    </tr>\n",
              "    <tr>\n",
              "      <th>1458584</th>\n",
              "      <td>id1607338</td>\n",
              "      <td>2</td>\n",
              "      <td>1</td>\n",
              "      <td>-73.786697</td>\n",
              "      <td>40.641628</td>\n",
              "      <td>-73.996880</td>\n",
              "      <td>40.732506</td>\n",
              "      <td>N</td>\n",
              "      <td>1</td>\n",
              "      <td>6</td>\n",
              "      <td>20</td>\n",
              "      <td>21</td>\n",
              "      <td>38.916667</td>\n",
              "    </tr>\n",
              "    <tr>\n",
              "      <th>1458589</th>\n",
              "      <td>id2071901</td>\n",
              "      <td>1</td>\n",
              "      <td>2</td>\n",
              "      <td>-73.782280</td>\n",
              "      <td>40.644783</td>\n",
              "      <td>-73.904305</td>\n",
              "      <td>40.738285</td>\n",
              "      <td>N</td>\n",
              "      <td>4</td>\n",
              "      <td>6</td>\n",
              "      <td>16</td>\n",
              "      <td>17</td>\n",
              "      <td>34.883333</td>\n",
              "    </tr>\n",
              "    <tr>\n",
              "      <th>1458600</th>\n",
              "      <td>id0995846</td>\n",
              "      <td>2</td>\n",
              "      <td>2</td>\n",
              "      <td>-73.789543</td>\n",
              "      <td>40.647099</td>\n",
              "      <td>-73.960320</td>\n",
              "      <td>40.798180</td>\n",
              "      <td>N</td>\n",
              "      <td>0</td>\n",
              "      <td>5</td>\n",
              "      <td>17</td>\n",
              "      <td>18</td>\n",
              "      <td>63.683333</td>\n",
              "    </tr>\n",
              "    <tr>\n",
              "      <th>1458621</th>\n",
              "      <td>id3267199</td>\n",
              "      <td>2</td>\n",
              "      <td>1</td>\n",
              "      <td>-73.959534</td>\n",
              "      <td>40.782749</td>\n",
              "      <td>-73.990959</td>\n",
              "      <td>40.751091</td>\n",
              "      <td>N</td>\n",
              "      <td>0</td>\n",
              "      <td>5</td>\n",
              "      <td>14</td>\n",
              "      <td>15</td>\n",
              "      <td>39.250000</td>\n",
              "    </tr>\n",
              "  </tbody>\n",
              "</table>\n",
              "<p>74212 rows × 13 columns</p>\n",
              "</div>\n",
              "      <button class=\"colab-df-convert\" onclick=\"convertToInteractive('df-b4589df6-ad92-45fc-ae99-5b3c7f61a90e')\"\n",
              "              title=\"Convert this dataframe to an interactive table.\"\n",
              "              style=\"display:none;\">\n",
              "        \n",
              "  <svg xmlns=\"http://www.w3.org/2000/svg\" height=\"24px\"viewBox=\"0 0 24 24\"\n",
              "       width=\"24px\">\n",
              "    <path d=\"M0 0h24v24H0V0z\" fill=\"none\"/>\n",
              "    <path d=\"M18.56 5.44l.94 2.06.94-2.06 2.06-.94-2.06-.94-.94-2.06-.94 2.06-2.06.94zm-11 1L8.5 8.5l.94-2.06 2.06-.94-2.06-.94L8.5 2.5l-.94 2.06-2.06.94zm10 10l.94 2.06.94-2.06 2.06-.94-2.06-.94-.94-2.06-.94 2.06-2.06.94z\"/><path d=\"M17.41 7.96l-1.37-1.37c-.4-.4-.92-.59-1.43-.59-.52 0-1.04.2-1.43.59L10.3 9.45l-7.72 7.72c-.78.78-.78 2.05 0 2.83L4 21.41c.39.39.9.59 1.41.59.51 0 1.02-.2 1.41-.59l7.78-7.78 2.81-2.81c.8-.78.8-2.07 0-2.86zM5.41 20L4 18.59l7.72-7.72 1.47 1.35L5.41 20z\"/>\n",
              "  </svg>\n",
              "      </button>\n",
              "      \n",
              "  <style>\n",
              "    .colab-df-container {\n",
              "      display:flex;\n",
              "      flex-wrap:wrap;\n",
              "      gap: 12px;\n",
              "    }\n",
              "\n",
              "    .colab-df-convert {\n",
              "      background-color: #E8F0FE;\n",
              "      border: none;\n",
              "      border-radius: 50%;\n",
              "      cursor: pointer;\n",
              "      display: none;\n",
              "      fill: #1967D2;\n",
              "      height: 32px;\n",
              "      padding: 0 0 0 0;\n",
              "      width: 32px;\n",
              "    }\n",
              "\n",
              "    .colab-df-convert:hover {\n",
              "      background-color: #E2EBFA;\n",
              "      box-shadow: 0px 1px 2px rgba(60, 64, 67, 0.3), 0px 1px 3px 1px rgba(60, 64, 67, 0.15);\n",
              "      fill: #174EA6;\n",
              "    }\n",
              "\n",
              "    [theme=dark] .colab-df-convert {\n",
              "      background-color: #3B4455;\n",
              "      fill: #D2E3FC;\n",
              "    }\n",
              "\n",
              "    [theme=dark] .colab-df-convert:hover {\n",
              "      background-color: #434B5C;\n",
              "      box-shadow: 0px 1px 3px 1px rgba(0, 0, 0, 0.15);\n",
              "      filter: drop-shadow(0px 1px 2px rgba(0, 0, 0, 0.3));\n",
              "      fill: #FFFFFF;\n",
              "    }\n",
              "  </style>\n",
              "\n",
              "      <script>\n",
              "        const buttonEl =\n",
              "          document.querySelector('#df-b4589df6-ad92-45fc-ae99-5b3c7f61a90e button.colab-df-convert');\n",
              "        buttonEl.style.display =\n",
              "          google.colab.kernel.accessAllowed ? 'block' : 'none';\n",
              "\n",
              "        async function convertToInteractive(key) {\n",
              "          const element = document.querySelector('#df-b4589df6-ad92-45fc-ae99-5b3c7f61a90e');\n",
              "          const dataTable =\n",
              "            await google.colab.kernel.invokeFunction('convertToInteractive',\n",
              "                                                     [key], {});\n",
              "          if (!dataTable) return;\n",
              "\n",
              "          const docLinkHtml = 'Like what you see? Visit the ' +\n",
              "            '<a target=\"_blank\" href=https://colab.research.google.com/notebooks/data_table.ipynb>data table notebook</a>'\n",
              "            + ' to learn more about interactive tables.';\n",
              "          element.innerHTML = '';\n",
              "          dataTable['output_type'] = 'display_data';\n",
              "          await google.colab.output.renderOutput(dataTable, element);\n",
              "          const docLink = document.createElement('div');\n",
              "          docLink.innerHTML = docLinkHtml;\n",
              "          element.appendChild(docLink);\n",
              "        }\n",
              "      </script>\n",
              "    </div>\n",
              "  </div>\n",
              "  "
            ],
            "text/plain": [
              "                id  vendor_id  ...  dropoff_hour  trip_duration_minutes\n",
              "2        id3858529          2  ...            12              35.400000\n",
              "16       id3379579          2  ...            18              38.600000\n",
              "24       id3321406          2  ...             8              41.416667\n",
              "29       id1410897          1  ...            14              38.850000\n",
              "33       id0023813          1  ...            15              37.816667\n",
              "...            ...        ...  ...           ...                    ...\n",
              "1458571  id1440046          1  ...            23              40.900000\n",
              "1458584  id1607338          2  ...            21              38.916667\n",
              "1458589  id2071901          1  ...            17              34.883333\n",
              "1458600  id0995846          2  ...            18              63.683333\n",
              "1458621  id3267199          2  ...            15              39.250000\n",
              "\n",
              "[74212 rows x 13 columns]"
            ]
          },
          "execution_count": 100,
          "metadata": {},
          "output_type": "execute_result"
        }
      ],
      "source": [
        "# Get upper/lower bounds for trip_duration.\n",
        "lowerbound,upperbound = outlier_treatment(nyc_df['trip_duration_minutes'])\n",
        "print(lowerbound,upperbound)\n",
        "\n",
        "nyc_df[(nyc_df['trip_duration_minutes'] < lowerbound) | (nyc_df['trip_duration_minutes'] > upperbound)]"
      ]
    },
    {
      "cell_type": "code",
      "execution_count": null,
      "metadata": {
        "id": "YqNlMsTiKuLY"
      },
      "outputs": [],
      "source": [
        "nyc_df.drop(nyc_df[ (nyc_df['trip_duration_minutes'] > upperbound) | (nyc_df['trip_duration_minutes'] < lowerbound) ].index , inplace=True)"
      ]
    },
    {
      "cell_type": "markdown",
      "metadata": {
        "id": "aEbWWwV9LbH6"
      },
      "source": [
        "."
      ]
    },
    {
      "cell_type": "markdown",
      "metadata": {
        "id": "Hulmy1AkIw_y"
      },
      "source": [
        "**Lets calculate distance travelled using pickup and dropoff data.**"
      ]
    },
    {
      "cell_type": "code",
      "execution_count": null,
      "metadata": {
        "id": "vHC42YTsIQL7"
      },
      "outputs": [],
      "source": [
        "# Function to calculate distance using the haversine function as we are provided with gps data.\n",
        "def calc_distance(df):\n",
        "    pickup = (df['pickup_latitude'], df['pickup_longitude'])\n",
        "    drop = (df['dropoff_latitude'], df['dropoff_longitude'])\n",
        "    return haversine(pickup, drop)"
      ]
    },
    {
      "cell_type": "code",
      "execution_count": null,
      "metadata": {
        "id": "TrqxO4cPJL3P"
      },
      "outputs": [],
      "source": [
        "# Get distances.\n",
        "nyc_df['distance'] = nyc_df.apply(lambda x: calc_distance(x), axis = 1)"
      ]
    },
    {
      "cell_type": "code",
      "execution_count": null,
      "metadata": {
        "colab": {
          "base_uri": "https://localhost:8080/",
          "height": 334
        },
        "id": "K_NDi64_ykLV",
        "outputId": "3b4f2e5f-08d1-4f6d-a288-ebb70b202697"
      },
      "outputs": [
        {
          "data": {
            "image/png": "[encoded data removed]",
            "text/plain": [
              "<Figure size 1800x360 with 1 Axes>"
            ]
          },
          "metadata": {},
          "output_type": "display_data"
        }
      ],
      "source": [
        "# Get plots.\n",
        "fig = plt.figure(figsize=(25,5))\n",
        "sns.boxplot(nyc_df['distance'])\n",
        "plt.show()"
      ]
    },
    {
      "cell_type": "markdown",
      "metadata": {
        "id": "SSEhZ93cafXu"
      },
      "source": [
        "***There are too many outliers lets remove them.***"
      ]
    },
    {
      "cell_type": "code",
      "execution_count": null,
      "metadata": {
        "colab": {
          "base_uri": "https://localhost:8080/",
          "height": 505
        },
        "id": "Q-la07lKJJvw",
        "outputId": "85926969-88f8-4ee3-fdab-8d7c41647567"
      },
      "outputs": [
        {
          "name": "stdout",
          "output_type": "stream",
          "text": [
            "-2.233443060186282 6.917934441398998\n"
          ]
        },
        {
          "data": {
            "text/html": [
              "\n",
              "  <div id=\"df-925ae3ed-f2ec-422d-855c-4af3f10319c0\">\n",
              "    <div class=\"colab-df-container\">\n",
              "      <div>\n",
              "<style scoped>\n",
              "    .dataframe tbody tr th:only-of-type {\n",
              "        vertical-align: middle;\n",
              "    }\n",
              "\n",
              "    .dataframe tbody tr th {\n",
              "        vertical-align: top;\n",
              "    }\n",
              "\n",
              "    .dataframe thead th {\n",
              "        text-align: right;\n",
              "    }\n",
              "</style>\n",
              "<table border=\"1\" class=\"dataframe\">\n",
              "  <thead>\n",
              "    <tr style=\"text-align: right;\">\n",
              "      <th></th>\n",
              "      <th>id</th>\n",
              "      <th>vendor_id</th>\n",
              "      <th>passenger_count</th>\n",
              "      <th>pickup_longitude</th>\n",
              "      <th>pickup_latitude</th>\n",
              "      <th>dropoff_longitude</th>\n",
              "      <th>dropoff_latitude</th>\n",
              "      <th>store_and_fwd_flag</th>\n",
              "      <th>day</th>\n",
              "      <th>month</th>\n",
              "      <th>pickup_hour</th>\n",
              "      <th>dropoff_hour</th>\n",
              "      <th>trip_duration_minutes</th>\n",
              "      <th>distance</th>\n",
              "    </tr>\n",
              "  </thead>\n",
              "  <tbody>\n",
              "    <tr>\n",
              "      <th>45</th>\n",
              "      <td>id0718344</td>\n",
              "      <td>2</td>\n",
              "      <td>1</td>\n",
              "      <td>-74.016327</td>\n",
              "      <td>40.704990</td>\n",
              "      <td>-73.982109</td>\n",
              "      <td>40.773750</td>\n",
              "      <td>N</td>\n",
              "      <td>0</td>\n",
              "      <td>6</td>\n",
              "      <td>15</td>\n",
              "      <td>16</td>\n",
              "      <td>24.633333</td>\n",
              "      <td>8.171214</td>\n",
              "    </tr>\n",
              "    <tr>\n",
              "      <th>50</th>\n",
              "      <td>id2067879</td>\n",
              "      <td>2</td>\n",
              "      <td>1</td>\n",
              "      <td>-73.996819</td>\n",
              "      <td>40.752861</td>\n",
              "      <td>-73.809006</td>\n",
              "      <td>40.816875</td>\n",
              "      <td>N</td>\n",
              "      <td>1</td>\n",
              "      <td>1</td>\n",
              "      <td>23</td>\n",
              "      <td>23</td>\n",
              "      <td>25.950000</td>\n",
              "      <td>17.340841</td>\n",
              "    </tr>\n",
              "    <tr>\n",
              "      <th>54</th>\n",
              "      <td>id0526266</td>\n",
              "      <td>2</td>\n",
              "      <td>1</td>\n",
              "      <td>-73.934883</td>\n",
              "      <td>40.801010</td>\n",
              "      <td>-73.983002</td>\n",
              "      <td>40.722569</td>\n",
              "      <td>N</td>\n",
              "      <td>6</td>\n",
              "      <td>5</td>\n",
              "      <td>9</td>\n",
              "      <td>9</td>\n",
              "      <td>13.650000</td>\n",
              "      <td>9.617850</td>\n",
              "    </tr>\n",
              "    <tr>\n",
              "      <th>67</th>\n",
              "      <td>id3913101</td>\n",
              "      <td>1</td>\n",
              "      <td>2</td>\n",
              "      <td>-74.001411</td>\n",
              "      <td>40.761433</td>\n",
              "      <td>-73.924629</td>\n",
              "      <td>40.864029</td>\n",
              "      <td>N</td>\n",
              "      <td>5</td>\n",
              "      <td>6</td>\n",
              "      <td>22</td>\n",
              "      <td>22</td>\n",
              "      <td>16.716667</td>\n",
              "      <td>13.111154</td>\n",
              "    </tr>\n",
              "    <tr>\n",
              "      <th>86</th>\n",
              "      <td>id0283075</td>\n",
              "      <td>1</td>\n",
              "      <td>1</td>\n",
              "      <td>-73.782478</td>\n",
              "      <td>40.644646</td>\n",
              "      <td>-73.981125</td>\n",
              "      <td>40.720886</td>\n",
              "      <td>N</td>\n",
              "      <td>2</td>\n",
              "      <td>4</td>\n",
              "      <td>23</td>\n",
              "      <td>0</td>\n",
              "      <td>29.700000</td>\n",
              "      <td>18.773512</td>\n",
              "    </tr>\n",
              "    <tr>\n",
              "      <th>...</th>\n",
              "      <td>...</td>\n",
              "      <td>...</td>\n",
              "      <td>...</td>\n",
              "      <td>...</td>\n",
              "      <td>...</td>\n",
              "      <td>...</td>\n",
              "      <td>...</td>\n",
              "      <td>...</td>\n",
              "      <td>...</td>\n",
              "      <td>...</td>\n",
              "      <td>...</td>\n",
              "      <td>...</td>\n",
              "      <td>...</td>\n",
              "      <td>...</td>\n",
              "    </tr>\n",
              "    <tr>\n",
              "      <th>1458538</th>\n",
              "      <td>id1302341</td>\n",
              "      <td>1</td>\n",
              "      <td>1</td>\n",
              "      <td>-73.973053</td>\n",
              "      <td>40.793495</td>\n",
              "      <td>-73.872581</td>\n",
              "      <td>40.774479</td>\n",
              "      <td>N</td>\n",
              "      <td>0</td>\n",
              "      <td>2</td>\n",
              "      <td>19</td>\n",
              "      <td>19</td>\n",
              "      <td>25.516667</td>\n",
              "      <td>8.719416</td>\n",
              "    </tr>\n",
              "    <tr>\n",
              "      <th>1458546</th>\n",
              "      <td>id2085200</td>\n",
              "      <td>1</td>\n",
              "      <td>1</td>\n",
              "      <td>-73.995178</td>\n",
              "      <td>40.749668</td>\n",
              "      <td>-73.960800</td>\n",
              "      <td>40.688099</td>\n",
              "      <td>N</td>\n",
              "      <td>4</td>\n",
              "      <td>3</td>\n",
              "      <td>4</td>\n",
              "      <td>4</td>\n",
              "      <td>29.850000</td>\n",
              "      <td>7.434015</td>\n",
              "    </tr>\n",
              "    <tr>\n",
              "      <th>1458547</th>\n",
              "      <td>id2525150</td>\n",
              "      <td>1</td>\n",
              "      <td>1</td>\n",
              "      <td>-73.978241</td>\n",
              "      <td>40.744911</td>\n",
              "      <td>-73.870483</td>\n",
              "      <td>40.773777</td>\n",
              "      <td>N</td>\n",
              "      <td>1</td>\n",
              "      <td>3</td>\n",
              "      <td>12</td>\n",
              "      <td>13</td>\n",
              "      <td>23.150000</td>\n",
              "      <td>9.626801</td>\n",
              "    </tr>\n",
              "    <tr>\n",
              "      <th>1458553</th>\n",
              "      <td>id2796154</td>\n",
              "      <td>1</td>\n",
              "      <td>1</td>\n",
              "      <td>-73.985817</td>\n",
              "      <td>40.727772</td>\n",
              "      <td>-74.021095</td>\n",
              "      <td>40.628605</td>\n",
              "      <td>N</td>\n",
              "      <td>3</td>\n",
              "      <td>4</td>\n",
              "      <td>3</td>\n",
              "      <td>3</td>\n",
              "      <td>21.500000</td>\n",
              "      <td>11.421131</td>\n",
              "    </tr>\n",
              "    <tr>\n",
              "      <th>1458641</th>\n",
              "      <td>id2304944</td>\n",
              "      <td>2</td>\n",
              "      <td>1</td>\n",
              "      <td>-73.959129</td>\n",
              "      <td>40.768799</td>\n",
              "      <td>-74.004433</td>\n",
              "      <td>40.707371</td>\n",
              "      <td>N</td>\n",
              "      <td>4</td>\n",
              "      <td>4</td>\n",
              "      <td>6</td>\n",
              "      <td>7</td>\n",
              "      <td>12.733333</td>\n",
              "      <td>7.824617</td>\n",
              "    </tr>\n",
              "  </tbody>\n",
              "</table>\n",
              "<p>107687 rows × 14 columns</p>\n",
              "</div>\n",
              "      <button class=\"colab-df-convert\" onclick=\"convertToInteractive('df-925ae3ed-f2ec-422d-855c-4af3f10319c0')\"\n",
              "              title=\"Convert this dataframe to an interactive table.\"\n",
              "              style=\"display:none;\">\n",
              "        \n",
              "  <svg xmlns=\"http://www.w3.org/2000/svg\" height=\"24px\"viewBox=\"0 0 24 24\"\n",
              "       width=\"24px\">\n",
              "    <path d=\"M0 0h24v24H0V0z\" fill=\"none\"/>\n",
              "    <path d=\"M18.56 5.44l.94 2.06.94-2.06 2.06-.94-2.06-.94-.94-2.06-.94 2.06-2.06.94zm-11 1L8.5 8.5l.94-2.06 2.06-.94-2.06-.94L8.5 2.5l-.94 2.06-2.06.94zm10 10l.94 2.06.94-2.06 2.06-.94-2.06-.94-.94-2.06-.94 2.06-2.06.94z\"/><path d=\"M17.41 7.96l-1.37-1.37c-.4-.4-.92-.59-1.43-.59-.52 0-1.04.2-1.43.59L10.3 9.45l-7.72 7.72c-.78.78-.78 2.05 0 2.83L4 21.41c.39.39.9.59 1.41.59.51 0 1.02-.2 1.41-.59l7.78-7.78 2.81-2.81c.8-.78.8-2.07 0-2.86zM5.41 20L4 18.59l7.72-7.72 1.47 1.35L5.41 20z\"/>\n",
              "  </svg>\n",
              "      </button>\n",
              "      \n",
              "  <style>\n",
              "    .colab-df-container {\n",
              "      display:flex;\n",
              "      flex-wrap:wrap;\n",
              "      gap: 12px;\n",
              "    }\n",
              "\n",
              "    .colab-df-convert {\n",
              "      background-color: #E8F0FE;\n",
              "      border: none;\n",
              "      border-radius: 50%;\n",
              "      cursor: pointer;\n",
              "      display: none;\n",
              "      fill: #1967D2;\n",
              "      height: 32px;\n",
              "      padding: 0 0 0 0;\n",
              "      width: 32px;\n",
              "    }\n",
              "\n",
              "    .colab-df-convert:hover {\n",
              "      background-color: #E2EBFA;\n",
              "      box-shadow: 0px 1px 2px rgba(60, 64, 67, 0.3), 0px 1px 3px 1px rgba(60, 64, 67, 0.15);\n",
              "      fill: #174EA6;\n",
              "    }\n",
              "\n",
              "    [theme=dark] .colab-df-convert {\n",
              "      background-color: #3B4455;\n",
              "      fill: #D2E3FC;\n",
              "    }\n",
              "\n",
              "    [theme=dark] .colab-df-convert:hover {\n",
              "      background-color: #434B5C;\n",
              "      box-shadow: 0px 1px 3px 1px rgba(0, 0, 0, 0.15);\n",
              "      filter: drop-shadow(0px 1px 2px rgba(0, 0, 0, 0.3));\n",
              "      fill: #FFFFFF;\n",
              "    }\n",
              "  </style>\n",
              "\n",
              "      <script>\n",
              "        const buttonEl =\n",
              "          document.querySelector('#df-925ae3ed-f2ec-422d-855c-4af3f10319c0 button.colab-df-convert');\n",
              "        buttonEl.style.display =\n",
              "          google.colab.kernel.accessAllowed ? 'block' : 'none';\n",
              "\n",
              "        async function convertToInteractive(key) {\n",
              "          const element = document.querySelector('#df-925ae3ed-f2ec-422d-855c-4af3f10319c0');\n",
              "          const dataTable =\n",
              "            await google.colab.kernel.invokeFunction('convertToInteractive',\n",
              "                                                     [key], {});\n",
              "          if (!dataTable) return;\n",
              "\n",
              "          const docLinkHtml = 'Like what you see? Visit the ' +\n",
              "            '<a target=\"_blank\" href=https://colab.research.google.com/notebooks/data_table.ipynb>data table notebook</a>'\n",
              "            + ' to learn more about interactive tables.';\n",
              "          element.innerHTML = '';\n",
              "          dataTable['output_type'] = 'display_data';\n",
              "          await google.colab.output.renderOutput(dataTable, element);\n",
              "          const docLink = document.createElement('div');\n",
              "          docLink.innerHTML = docLinkHtml;\n",
              "          element.appendChild(docLink);\n",
              "        }\n",
              "      </script>\n",
              "    </div>\n",
              "  </div>\n",
              "  "
            ],
            "text/plain": [
              "                id  vendor_id  ...  trip_duration_minutes   distance\n",
              "45       id0718344          2  ...              24.633333   8.171214\n",
              "50       id2067879          2  ...              25.950000  17.340841\n",
              "54       id0526266          2  ...              13.650000   9.617850\n",
              "67       id3913101          1  ...              16.716667  13.111154\n",
              "86       id0283075          1  ...              29.700000  18.773512\n",
              "...            ...        ...  ...                    ...        ...\n",
              "1458538  id1302341          1  ...              25.516667   8.719416\n",
              "1458546  id2085200          1  ...              29.850000   7.434015\n",
              "1458547  id2525150          1  ...              23.150000   9.626801\n",
              "1458553  id2796154          1  ...              21.500000  11.421131\n",
              "1458641  id2304944          2  ...              12.733333   7.824617\n",
              "\n",
              "[107687 rows x 14 columns]"
            ]
          },
          "execution_count": 105,
          "metadata": {},
          "output_type": "execute_result"
        }
      ],
      "source": [
        "# Get upper/lower bounds for trip_duration.\n",
        "lowerbound,upperbound = outlier_treatment(nyc_df['distance'])\n",
        "print(lowerbound,upperbound)\n",
        "\n",
        "nyc_df[(nyc_df['distance'] < lowerbound) | (nyc_df['distance'] > upperbound)]"
      ]
    },
    {
      "cell_type": "code",
      "execution_count": null,
      "metadata": {
        "id": "HbO1JM34J9GO"
      },
      "outputs": [],
      "source": [
        "nyc_df.drop(nyc_df[ (nyc_df['distance'] > upperbound) | (nyc_df['distance'] < lowerbound) ].index , inplace=True)"
      ]
    },
    {
      "cell_type": "markdown",
      "metadata": {
        "id": "FuuAWWluMK59"
      },
      "source": [
        "."
      ]
    },
    {
      "cell_type": "markdown",
      "metadata": {
        "id": "h0yk886jAzyl"
      },
      "source": [
        "**Get dummies for store_and_fwd_flag, day, month.**"
      ]
    },
    {
      "cell_type": "code",
      "execution_count": null,
      "metadata": {
        "id": "WHjk1uGdAx-q"
      },
      "outputs": [],
      "source": [
        "nyc_df = pd.get_dummies(nyc_df, columns=['store_and_fwd_flag'], drop_first=True)\n",
        "nyc_df = pd.get_dummies(nyc_df, columns=['day', 'month'])"
      ]
    },
    {
      "cell_type": "code",
      "execution_count": null,
      "metadata": {
        "colab": {
          "base_uri": "https://localhost:8080/",
          "height": 270
        },
        "id": "02nG_lOQSV_2",
        "outputId": "83d2ba93-6521-454a-83d7-4320ff8cb7d6"
      },
      "outputs": [
        {
          "data": {
            "text/html": [
              "\n",
              "  <div id=\"df-f1525cc1-19de-4cb7-b8d8-1f12f7e3629c\">\n",
              "    <div class=\"colab-df-container\">\n",
              "      <div>\n",
              "<style scoped>\n",
              "    .dataframe tbody tr th:only-of-type {\n",
              "        vertical-align: middle;\n",
              "    }\n",
              "\n",
              "    .dataframe tbody tr th {\n",
              "        vertical-align: top;\n",
              "    }\n",
              "\n",
              "    .dataframe thead th {\n",
              "        text-align: right;\n",
              "    }\n",
              "</style>\n",
              "<table border=\"1\" class=\"dataframe\">\n",
              "  <thead>\n",
              "    <tr style=\"text-align: right;\">\n",
              "      <th></th>\n",
              "      <th>id</th>\n",
              "      <th>vendor_id</th>\n",
              "      <th>passenger_count</th>\n",
              "      <th>pickup_longitude</th>\n",
              "      <th>pickup_latitude</th>\n",
              "      <th>dropoff_longitude</th>\n",
              "      <th>dropoff_latitude</th>\n",
              "      <th>pickup_hour</th>\n",
              "      <th>dropoff_hour</th>\n",
              "      <th>trip_duration_minutes</th>\n",
              "      <th>distance</th>\n",
              "      <th>store_and_fwd_flag_Y</th>\n",
              "      <th>day_0</th>\n",
              "      <th>day_1</th>\n",
              "      <th>day_2</th>\n",
              "      <th>day_3</th>\n",
              "      <th>day_4</th>\n",
              "      <th>day_5</th>\n",
              "      <th>day_6</th>\n",
              "      <th>month_1</th>\n",
              "      <th>month_2</th>\n",
              "      <th>month_3</th>\n",
              "      <th>month_4</th>\n",
              "      <th>month_5</th>\n",
              "      <th>month_6</th>\n",
              "    </tr>\n",
              "  </thead>\n",
              "  <tbody>\n",
              "    <tr>\n",
              "      <th>0</th>\n",
              "      <td>id2875421</td>\n",
              "      <td>2</td>\n",
              "      <td>1</td>\n",
              "      <td>-73.982155</td>\n",
              "      <td>40.767937</td>\n",
              "      <td>-73.964630</td>\n",
              "      <td>40.765602</td>\n",
              "      <td>17</td>\n",
              "      <td>17</td>\n",
              "      <td>7.583333</td>\n",
              "      <td>1.498523</td>\n",
              "      <td>0</td>\n",
              "      <td>1</td>\n",
              "      <td>0</td>\n",
              "      <td>0</td>\n",
              "      <td>0</td>\n",
              "      <td>0</td>\n",
              "      <td>0</td>\n",
              "      <td>0</td>\n",
              "      <td>0</td>\n",
              "      <td>0</td>\n",
              "      <td>1</td>\n",
              "      <td>0</td>\n",
              "      <td>0</td>\n",
              "      <td>0</td>\n",
              "    </tr>\n",
              "    <tr>\n",
              "      <th>1</th>\n",
              "      <td>id2377394</td>\n",
              "      <td>1</td>\n",
              "      <td>1</td>\n",
              "      <td>-73.980415</td>\n",
              "      <td>40.738564</td>\n",
              "      <td>-73.999481</td>\n",
              "      <td>40.731152</td>\n",
              "      <td>0</td>\n",
              "      <td>0</td>\n",
              "      <td>11.050000</td>\n",
              "      <td>1.805510</td>\n",
              "      <td>0</td>\n",
              "      <td>0</td>\n",
              "      <td>0</td>\n",
              "      <td>0</td>\n",
              "      <td>0</td>\n",
              "      <td>0</td>\n",
              "      <td>0</td>\n",
              "      <td>1</td>\n",
              "      <td>0</td>\n",
              "      <td>0</td>\n",
              "      <td>0</td>\n",
              "      <td>0</td>\n",
              "      <td>0</td>\n",
              "      <td>1</td>\n",
              "    </tr>\n",
              "    <tr>\n",
              "      <th>3</th>\n",
              "      <td>id3504673</td>\n",
              "      <td>2</td>\n",
              "      <td>1</td>\n",
              "      <td>-74.010040</td>\n",
              "      <td>40.719971</td>\n",
              "      <td>-74.012268</td>\n",
              "      <td>40.706718</td>\n",
              "      <td>19</td>\n",
              "      <td>19</td>\n",
              "      <td>7.150000</td>\n",
              "      <td>1.485500</td>\n",
              "      <td>0</td>\n",
              "      <td>0</td>\n",
              "      <td>0</td>\n",
              "      <td>1</td>\n",
              "      <td>0</td>\n",
              "      <td>0</td>\n",
              "      <td>0</td>\n",
              "      <td>0</td>\n",
              "      <td>0</td>\n",
              "      <td>0</td>\n",
              "      <td>0</td>\n",
              "      <td>1</td>\n",
              "      <td>0</td>\n",
              "      <td>0</td>\n",
              "    </tr>\n",
              "    <tr>\n",
              "      <th>4</th>\n",
              "      <td>id2181028</td>\n",
              "      <td>2</td>\n",
              "      <td>1</td>\n",
              "      <td>-73.973053</td>\n",
              "      <td>40.793209</td>\n",
              "      <td>-73.972923</td>\n",
              "      <td>40.782520</td>\n",
              "      <td>13</td>\n",
              "      <td>13</td>\n",
              "      <td>7.250000</td>\n",
              "      <td>1.188590</td>\n",
              "      <td>0</td>\n",
              "      <td>0</td>\n",
              "      <td>0</td>\n",
              "      <td>0</td>\n",
              "      <td>0</td>\n",
              "      <td>0</td>\n",
              "      <td>1</td>\n",
              "      <td>0</td>\n",
              "      <td>0</td>\n",
              "      <td>0</td>\n",
              "      <td>1</td>\n",
              "      <td>0</td>\n",
              "      <td>0</td>\n",
              "      <td>0</td>\n",
              "    </tr>\n",
              "    <tr>\n",
              "      <th>5</th>\n",
              "      <td>id0801584</td>\n",
              "      <td>2</td>\n",
              "      <td>6</td>\n",
              "      <td>-73.982857</td>\n",
              "      <td>40.742195</td>\n",
              "      <td>-73.992081</td>\n",
              "      <td>40.749184</td>\n",
              "      <td>22</td>\n",
              "      <td>22</td>\n",
              "      <td>7.383333</td>\n",
              "      <td>1.098944</td>\n",
              "      <td>0</td>\n",
              "      <td>0</td>\n",
              "      <td>0</td>\n",
              "      <td>0</td>\n",
              "      <td>0</td>\n",
              "      <td>0</td>\n",
              "      <td>1</td>\n",
              "      <td>0</td>\n",
              "      <td>1</td>\n",
              "      <td>0</td>\n",
              "      <td>0</td>\n",
              "      <td>0</td>\n",
              "      <td>0</td>\n",
              "      <td>0</td>\n",
              "    </tr>\n",
              "  </tbody>\n",
              "</table>\n",
              "</div>\n",
              "      <button class=\"colab-df-convert\" onclick=\"convertToInteractive('df-f1525cc1-19de-4cb7-b8d8-1f12f7e3629c')\"\n",
              "              title=\"Convert this dataframe to an interactive table.\"\n",
              "              style=\"display:none;\">\n",
              "        \n",
              "  <svg xmlns=\"http://www.w3.org/2000/svg\" height=\"24px\"viewBox=\"0 0 24 24\"\n",
              "       width=\"24px\">\n",
              "    <path d=\"M0 0h24v24H0V0z\" fill=\"none\"/>\n",
              "    <path d=\"M18.56 5.44l.94 2.06.94-2.06 2.06-.94-2.06-.94-.94-2.06-.94 2.06-2.06.94zm-11 1L8.5 8.5l.94-2.06 2.06-.94-2.06-.94L8.5 2.5l-.94 2.06-2.06.94zm10 10l.94 2.06.94-2.06 2.06-.94-2.06-.94-.94-2.06-.94 2.06-2.06.94z\"/><path d=\"M17.41 7.96l-1.37-1.37c-.4-.4-.92-.59-1.43-.59-.52 0-1.04.2-1.43.59L10.3 9.45l-7.72 7.72c-.78.78-.78 2.05 0 2.83L4 21.41c.39.39.9.59 1.41.59.51 0 1.02-.2 1.41-.59l7.78-7.78 2.81-2.81c.8-.78.8-2.07 0-2.86zM5.41 20L4 18.59l7.72-7.72 1.47 1.35L5.41 20z\"/>\n",
              "  </svg>\n",
              "      </button>\n",
              "      \n",
              "  <style>\n",
              "    .colab-df-container {\n",
              "      display:flex;\n",
              "      flex-wrap:wrap;\n",
              "      gap: 12px;\n",
              "    }\n",
              "\n",
              "    .colab-df-convert {\n",
              "      background-color: #E8F0FE;\n",
              "      border: none;\n",
              "      border-radius: 50%;\n",
              "      cursor: pointer;\n",
              "      display: none;\n",
              "      fill: #1967D2;\n",
              "      height: 32px;\n",
              "      padding: 0 0 0 0;\n",
              "      width: 32px;\n",
              "    }\n",
              "\n",
              "    .colab-df-convert:hover {\n",
              "      background-color: #E2EBFA;\n",
              "      box-shadow: 0px 1px 2px rgba(60, 64, 67, 0.3), 0px 1px 3px 1px rgba(60, 64, 67, 0.15);\n",
              "      fill: #174EA6;\n",
              "    }\n",
              "\n",
              "    [theme=dark] .colab-df-convert {\n",
              "      background-color: #3B4455;\n",
              "      fill: #D2E3FC;\n",
              "    }\n",
              "\n",
              "    [theme=dark] .colab-df-convert:hover {\n",
              "      background-color: #434B5C;\n",
              "      box-shadow: 0px 1px 3px 1px rgba(0, 0, 0, 0.15);\n",
              "      filter: drop-shadow(0px 1px 2px rgba(0, 0, 0, 0.3));\n",
              "      fill: #FFFFFF;\n",
              "    }\n",
              "  </style>\n",
              "\n",
              "      <script>\n",
              "        const buttonEl =\n",
              "          document.querySelector('#df-f1525cc1-19de-4cb7-b8d8-1f12f7e3629c button.colab-df-convert');\n",
              "        buttonEl.style.display =\n",
              "          google.colab.kernel.accessAllowed ? 'block' : 'none';\n",
              "\n",
              "        async function convertToInteractive(key) {\n",
              "          const element = document.querySelector('#df-f1525cc1-19de-4cb7-b8d8-1f12f7e3629c');\n",
              "          const dataTable =\n",
              "            await google.colab.kernel.invokeFunction('convertToInteractive',\n",
              "                                                     [key], {});\n",
              "          if (!dataTable) return;\n",
              "\n",
              "          const docLinkHtml = 'Like what you see? Visit the ' +\n",
              "            '<a target=\"_blank\" href=https://colab.research.google.com/notebooks/data_table.ipynb>data table notebook</a>'\n",
              "            + ' to learn more about interactive tables.';\n",
              "          element.innerHTML = '';\n",
              "          dataTable['output_type'] = 'display_data';\n",
              "          await google.colab.output.renderOutput(dataTable, element);\n",
              "          const docLink = document.createElement('div');\n",
              "          docLink.innerHTML = docLinkHtml;\n",
              "          element.appendChild(docLink);\n",
              "        }\n",
              "      </script>\n",
              "    </div>\n",
              "  </div>\n",
              "  "
            ],
            "text/plain": [
              "          id  vendor_id  passenger_count  ...  month_4  month_5  month_6\n",
              "0  id2875421          2                1  ...        0        0        0\n",
              "1  id2377394          1                1  ...        0        0        1\n",
              "3  id3504673          2                1  ...        1        0        0\n",
              "4  id2181028          2                1  ...        0        0        0\n",
              "5  id0801584          2                6  ...        0        0        0\n",
              "\n",
              "[5 rows x 25 columns]"
            ]
          },
          "execution_count": 108,
          "metadata": {},
          "output_type": "execute_result"
        }
      ],
      "source": [
        "# Check the data.\n",
        "nyc_df.head()"
      ]
    },
    {
      "cell_type": "markdown",
      "metadata": {
        "id": "vXXkEsz4hjuq"
      },
      "source": [
        "."
      ]
    },
    {
      "cell_type": "markdown",
      "metadata": {
        "id": "i68bBc3AS0bE"
      },
      "source": [
        "**Transform pickup/ dropoff hours.**"
      ]
    },
    {
      "cell_type": "code",
      "execution_count": null,
      "metadata": {
        "id": "FMKVFGVJVmjE"
      },
      "outputs": [],
      "source": [
        "# Since there are total 24 different values in these two columns it would be better to categorize them and get dummies for them.\n",
        "\n",
        "# Function to convert pickup/dropoff hours to category.\n",
        "def timezone(x):\n",
        "  if x>=(0) and x <(5):\n",
        "    return 'mid_night'\n",
        "  elif x>=(5) and x <(12):\n",
        "    return 'morning'\n",
        "  elif x>=(12) and x <(16):\n",
        "    return 'afternoon'\n",
        "  elif x>=(16) and x <(19):\n",
        "    return 'evening'\n",
        "  elif x>=(19) and x <(25):\n",
        "    return 'night'"
      ]
    },
    {
      "cell_type": "code",
      "execution_count": null,
      "metadata": {
        "id": "WBHUYfv2u45R"
      },
      "outputs": [],
      "source": [
        "# Apply the above function.\n",
        "nyc_df['pickup_time'] = nyc_df['pickup_hour'].apply(lambda x :timezone(x) )\n",
        "nyc_df['dropoff_time'] = nyc_df['dropoff_hour'].apply(lambda x :timezone(x) )"
      ]
    },
    {
      "cell_type": "code",
      "execution_count": null,
      "metadata": {
        "colab": {
          "base_uri": "https://localhost:8080/",
          "height": 270
        },
        "id": "MGnrtbxi76BL",
        "outputId": "bdfc759d-30e8-4d5b-e6da-cf9c535b2679"
      },
      "outputs": [
        {
          "data": {
            "text/html": [
              "\n",
              "  <div id=\"df-9a4505ce-dd1b-46ab-b6de-7af409b532f3\">\n",
              "    <div class=\"colab-df-container\">\n",
              "      <div>\n",
              "<style scoped>\n",
              "    .dataframe tbody tr th:only-of-type {\n",
              "        vertical-align: middle;\n",
              "    }\n",
              "\n",
              "    .dataframe tbody tr th {\n",
              "        vertical-align: top;\n",
              "    }\n",
              "\n",
              "    .dataframe thead th {\n",
              "        text-align: right;\n",
              "    }\n",
              "</style>\n",
              "<table border=\"1\" class=\"dataframe\">\n",
              "  <thead>\n",
              "    <tr style=\"text-align: right;\">\n",
              "      <th></th>\n",
              "      <th>id</th>\n",
              "      <th>vendor_id</th>\n",
              "      <th>passenger_count</th>\n",
              "      <th>pickup_longitude</th>\n",
              "      <th>pickup_latitude</th>\n",
              "      <th>dropoff_longitude</th>\n",
              "      <th>dropoff_latitude</th>\n",
              "      <th>pickup_hour</th>\n",
              "      <th>dropoff_hour</th>\n",
              "      <th>trip_duration_minutes</th>\n",
              "      <th>distance</th>\n",
              "      <th>store_and_fwd_flag_Y</th>\n",
              "      <th>day_0</th>\n",
              "      <th>day_1</th>\n",
              "      <th>day_2</th>\n",
              "      <th>day_3</th>\n",
              "      <th>day_4</th>\n",
              "      <th>day_5</th>\n",
              "      <th>day_6</th>\n",
              "      <th>month_1</th>\n",
              "      <th>month_2</th>\n",
              "      <th>month_3</th>\n",
              "      <th>month_4</th>\n",
              "      <th>month_5</th>\n",
              "      <th>month_6</th>\n",
              "      <th>pickup_time</th>\n",
              "      <th>dropoff_time</th>\n",
              "    </tr>\n",
              "  </thead>\n",
              "  <tbody>\n",
              "    <tr>\n",
              "      <th>0</th>\n",
              "      <td>id2875421</td>\n",
              "      <td>2</td>\n",
              "      <td>1</td>\n",
              "      <td>-73.982155</td>\n",
              "      <td>40.767937</td>\n",
              "      <td>-73.964630</td>\n",
              "      <td>40.765602</td>\n",
              "      <td>17</td>\n",
              "      <td>17</td>\n",
              "      <td>7.583333</td>\n",
              "      <td>1.498523</td>\n",
              "      <td>0</td>\n",
              "      <td>1</td>\n",
              "      <td>0</td>\n",
              "      <td>0</td>\n",
              "      <td>0</td>\n",
              "      <td>0</td>\n",
              "      <td>0</td>\n",
              "      <td>0</td>\n",
              "      <td>0</td>\n",
              "      <td>0</td>\n",
              "      <td>1</td>\n",
              "      <td>0</td>\n",
              "      <td>0</td>\n",
              "      <td>0</td>\n",
              "      <td>evening</td>\n",
              "      <td>evening</td>\n",
              "    </tr>\n",
              "    <tr>\n",
              "      <th>1</th>\n",
              "      <td>id2377394</td>\n",
              "      <td>1</td>\n",
              "      <td>1</td>\n",
              "      <td>-73.980415</td>\n",
              "      <td>40.738564</td>\n",
              "      <td>-73.999481</td>\n",
              "      <td>40.731152</td>\n",
              "      <td>0</td>\n",
              "      <td>0</td>\n",
              "      <td>11.050000</td>\n",
              "      <td>1.805510</td>\n",
              "      <td>0</td>\n",
              "      <td>0</td>\n",
              "      <td>0</td>\n",
              "      <td>0</td>\n",
              "      <td>0</td>\n",
              "      <td>0</td>\n",
              "      <td>0</td>\n",
              "      <td>1</td>\n",
              "      <td>0</td>\n",
              "      <td>0</td>\n",
              "      <td>0</td>\n",
              "      <td>0</td>\n",
              "      <td>0</td>\n",
              "      <td>1</td>\n",
              "      <td>mid_night</td>\n",
              "      <td>mid_night</td>\n",
              "    </tr>\n",
              "    <tr>\n",
              "      <th>3</th>\n",
              "      <td>id3504673</td>\n",
              "      <td>2</td>\n",
              "      <td>1</td>\n",
              "      <td>-74.010040</td>\n",
              "      <td>40.719971</td>\n",
              "      <td>-74.012268</td>\n",
              "      <td>40.706718</td>\n",
              "      <td>19</td>\n",
              "      <td>19</td>\n",
              "      <td>7.150000</td>\n",
              "      <td>1.485500</td>\n",
              "      <td>0</td>\n",
              "      <td>0</td>\n",
              "      <td>0</td>\n",
              "      <td>1</td>\n",
              "      <td>0</td>\n",
              "      <td>0</td>\n",
              "      <td>0</td>\n",
              "      <td>0</td>\n",
              "      <td>0</td>\n",
              "      <td>0</td>\n",
              "      <td>0</td>\n",
              "      <td>1</td>\n",
              "      <td>0</td>\n",
              "      <td>0</td>\n",
              "      <td>night</td>\n",
              "      <td>night</td>\n",
              "    </tr>\n",
              "    <tr>\n",
              "      <th>4</th>\n",
              "      <td>id2181028</td>\n",
              "      <td>2</td>\n",
              "      <td>1</td>\n",
              "      <td>-73.973053</td>\n",
              "      <td>40.793209</td>\n",
              "      <td>-73.972923</td>\n",
              "      <td>40.782520</td>\n",
              "      <td>13</td>\n",
              "      <td>13</td>\n",
              "      <td>7.250000</td>\n",
              "      <td>1.188590</td>\n",
              "      <td>0</td>\n",
              "      <td>0</td>\n",
              "      <td>0</td>\n",
              "      <td>0</td>\n",
              "      <td>0</td>\n",
              "      <td>0</td>\n",
              "      <td>1</td>\n",
              "      <td>0</td>\n",
              "      <td>0</td>\n",
              "      <td>0</td>\n",
              "      <td>1</td>\n",
              "      <td>0</td>\n",
              "      <td>0</td>\n",
              "      <td>0</td>\n",
              "      <td>afternoon</td>\n",
              "      <td>afternoon</td>\n",
              "    </tr>\n",
              "    <tr>\n",
              "      <th>5</th>\n",
              "      <td>id0801584</td>\n",
              "      <td>2</td>\n",
              "      <td>6</td>\n",
              "      <td>-73.982857</td>\n",
              "      <td>40.742195</td>\n",
              "      <td>-73.992081</td>\n",
              "      <td>40.749184</td>\n",
              "      <td>22</td>\n",
              "      <td>22</td>\n",
              "      <td>7.383333</td>\n",
              "      <td>1.098944</td>\n",
              "      <td>0</td>\n",
              "      <td>0</td>\n",
              "      <td>0</td>\n",
              "      <td>0</td>\n",
              "      <td>0</td>\n",
              "      <td>0</td>\n",
              "      <td>1</td>\n",
              "      <td>0</td>\n",
              "      <td>1</td>\n",
              "      <td>0</td>\n",
              "      <td>0</td>\n",
              "      <td>0</td>\n",
              "      <td>0</td>\n",
              "      <td>0</td>\n",
              "      <td>night</td>\n",
              "      <td>night</td>\n",
              "    </tr>\n",
              "  </tbody>\n",
              "</table>\n",
              "</div>\n",
              "      <button class=\"colab-df-convert\" onclick=\"convertToInteractive('df-9a4505ce-dd1b-46ab-b6de-7af409b532f3')\"\n",
              "              title=\"Convert this dataframe to an interactive table.\"\n",
              "              style=\"display:none;\">\n",
              "        \n",
              "  <svg xmlns=\"http://www.w3.org/2000/svg\" height=\"24px\"viewBox=\"0 0 24 24\"\n",
              "       width=\"24px\">\n",
              "    <path d=\"M0 0h24v24H0V0z\" fill=\"none\"/>\n",
              "    <path d=\"M18.56 5.44l.94 2.06.94-2.06 2.06-.94-2.06-.94-.94-2.06-.94 2.06-2.06.94zm-11 1L8.5 8.5l.94-2.06 2.06-.94-2.06-.94L8.5 2.5l-.94 2.06-2.06.94zm10 10l.94 2.06.94-2.06 2.06-.94-2.06-.94-.94-2.06-.94 2.06-2.06.94z\"/><path d=\"M17.41 7.96l-1.37-1.37c-.4-.4-.92-.59-1.43-.59-.52 0-1.04.2-1.43.59L10.3 9.45l-7.72 7.72c-.78.78-.78 2.05 0 2.83L4 21.41c.39.39.9.59 1.41.59.51 0 1.02-.2 1.41-.59l7.78-7.78 2.81-2.81c.8-.78.8-2.07 0-2.86zM5.41 20L4 18.59l7.72-7.72 1.47 1.35L5.41 20z\"/>\n",
              "  </svg>\n",
              "      </button>\n",
              "      \n",
              "  <style>\n",
              "    .colab-df-container {\n",
              "      display:flex;\n",
              "      flex-wrap:wrap;\n",
              "      gap: 12px;\n",
              "    }\n",
              "\n",
              "    .colab-df-convert {\n",
              "      background-color: #E8F0FE;\n",
              "      border: none;\n",
              "      border-radius: 50%;\n",
              "      cursor: pointer;\n",
              "      display: none;\n",
              "      fill: #1967D2;\n",
              "      height: 32px;\n",
              "      padding: 0 0 0 0;\n",
              "      width: 32px;\n",
              "    }\n",
              "\n",
              "    .colab-df-convert:hover {\n",
              "      background-color: #E2EBFA;\n",
              "      box-shadow: 0px 1px 2px rgba(60, 64, 67, 0.3), 0px 1px 3px 1px rgba(60, 64, 67, 0.15);\n",
              "      fill: #174EA6;\n",
              "    }\n",
              "\n",
              "    [theme=dark] .colab-df-convert {\n",
              "      background-color: #3B4455;\n",
              "      fill: #D2E3FC;\n",
              "    }\n",
              "\n",
              "    [theme=dark] .colab-df-convert:hover {\n",
              "      background-color: #434B5C;\n",
              "      box-shadow: 0px 1px 3px 1px rgba(0, 0, 0, 0.15);\n",
              "      filter: drop-shadow(0px 1px 2px rgba(0, 0, 0, 0.3));\n",
              "      fill: #FFFFFF;\n",
              "    }\n",
              "  </style>\n",
              "\n",
              "      <script>\n",
              "        const buttonEl =\n",
              "          document.querySelector('#df-9a4505ce-dd1b-46ab-b6de-7af409b532f3 button.colab-df-convert');\n",
              "        buttonEl.style.display =\n",
              "          google.colab.kernel.accessAllowed ? 'block' : 'none';\n",
              "\n",
              "        async function convertToInteractive(key) {\n",
              "          const element = document.querySelector('#df-9a4505ce-dd1b-46ab-b6de-7af409b532f3');\n",
              "          const dataTable =\n",
              "            await google.colab.kernel.invokeFunction('convertToInteractive',\n",
              "                                                     [key], {});\n",
              "          if (!dataTable) return;\n",
              "\n",
              "          const docLinkHtml = 'Like what you see? Visit the ' +\n",
              "            '<a target=\"_blank\" href=https://colab.research.google.com/notebooks/data_table.ipynb>data table notebook</a>'\n",
              "            + ' to learn more about interactive tables.';\n",
              "          element.innerHTML = '';\n",
              "          dataTable['output_type'] = 'display_data';\n",
              "          await google.colab.output.renderOutput(dataTable, element);\n",
              "          const docLink = document.createElement('div');\n",
              "          docLink.innerHTML = docLinkHtml;\n",
              "          element.appendChild(docLink);\n",
              "        }\n",
              "      </script>\n",
              "    </div>\n",
              "  </div>\n",
              "  "
            ],
            "text/plain": [
              "          id  vendor_id  passenger_count  ...  month_6  pickup_time  dropoff_time\n",
              "0  id2875421          2                1  ...        0      evening       evening\n",
              "1  id2377394          1                1  ...        1    mid_night     mid_night\n",
              "3  id3504673          2                1  ...        0        night         night\n",
              "4  id2181028          2                1  ...        0    afternoon     afternoon\n",
              "5  id0801584          2                6  ...        0        night         night\n",
              "\n",
              "[5 rows x 27 columns]"
            ]
          },
          "execution_count": 111,
          "metadata": {},
          "output_type": "execute_result"
        }
      ],
      "source": [
        "nyc_df.head()"
      ]
    },
    {
      "cell_type": "code",
      "execution_count": null,
      "metadata": {
        "colab": {
          "base_uri": "https://localhost:8080/",
          "height": 381
        },
        "id": "tk1n5_WB8AAF",
        "outputId": "3752e534-556b-400d-b4bb-47ede84bf01c"
      },
      "outputs": [
        {
          "data": {
            "image/png": "[encoded data removed]",
            "text/plain": [
              "<Figure size 1440x360 with 2 Axes>"
            ]
          },
          "metadata": {},
          "output_type": "display_data"
        }
      ],
      "source": [
        "# Plot it.\n",
        "fig, (ax1, ax2) = plt.subplots(1,2, figsize=(20,5))\n",
        "fig.tight_layout(h_pad=4, w_pad=4)\n",
        "sns.barplot(data=nyc_df, x='pickup_time', y='trip_duration_minutes', ax=ax1, ci=None)\n",
        "sns.barplot(data=nyc_df, x='dropoff_time', y='trip_duration_minutes', ax=ax2, ci=None)\n",
        "plt.show()"
      ]
    },
    {
      "cell_type": "markdown",
      "metadata": {
        "id": "pHxJ6v1q7Tc3"
      },
      "source": [
        "* ***most of the pickups and dropoffs happen in the evenings and afternoons, which makes sense as most people comute during these timimgs.***"
      ]
    },
    {
      "cell_type": "code",
      "execution_count": null,
      "metadata": {
        "id": "kAVjU9uyJJIg"
      },
      "outputs": [],
      "source": [
        "# Now lets get dummies for these variables.\n",
        "nyc_df = pd.get_dummies(nyc_df, columns=['pickup_time', 'dropoff_time'])"
      ]
    },
    {
      "cell_type": "code",
      "execution_count": null,
      "metadata": {
        "colab": {
          "base_uri": "https://localhost:8080/",
          "height": 270
        },
        "id": "R1TMFEsWU5ED",
        "outputId": "31385b24-28a4-4cde-8c5f-2b0dc9829523"
      },
      "outputs": [
        {
          "data": {
            "text/html": [
              "\n",
              "  <div id=\"df-f4ae7781-32c2-446c-bb45-c6011de1646b\">\n",
              "    <div class=\"colab-df-container\">\n",
              "      <div>\n",
              "<style scoped>\n",
              "    .dataframe tbody tr th:only-of-type {\n",
              "        vertical-align: middle;\n",
              "    }\n",
              "\n",
              "    .dataframe tbody tr th {\n",
              "        vertical-align: top;\n",
              "    }\n",
              "\n",
              "    .dataframe thead th {\n",
              "        text-align: right;\n",
              "    }\n",
              "</style>\n",
              "<table border=\"1\" class=\"dataframe\">\n",
              "  <thead>\n",
              "    <tr style=\"text-align: right;\">\n",
              "      <th></th>\n",
              "      <th>id</th>\n",
              "      <th>vendor_id</th>\n",
              "      <th>passenger_count</th>\n",
              "      <th>pickup_longitude</th>\n",
              "      <th>pickup_latitude</th>\n",
              "      <th>dropoff_longitude</th>\n",
              "      <th>dropoff_latitude</th>\n",
              "      <th>pickup_hour</th>\n",
              "      <th>dropoff_hour</th>\n",
              "      <th>trip_duration_minutes</th>\n",
              "      <th>distance</th>\n",
              "      <th>store_and_fwd_flag_Y</th>\n",
              "      <th>day_0</th>\n",
              "      <th>day_1</th>\n",
              "      <th>day_2</th>\n",
              "      <th>day_3</th>\n",
              "      <th>day_4</th>\n",
              "      <th>day_5</th>\n",
              "      <th>day_6</th>\n",
              "      <th>month_1</th>\n",
              "      <th>month_2</th>\n",
              "      <th>month_3</th>\n",
              "      <th>month_4</th>\n",
              "      <th>month_5</th>\n",
              "      <th>month_6</th>\n",
              "      <th>pickup_time_afternoon</th>\n",
              "      <th>pickup_time_evening</th>\n",
              "      <th>pickup_time_mid_night</th>\n",
              "      <th>pickup_time_morning</th>\n",
              "      <th>pickup_time_night</th>\n",
              "      <th>dropoff_time_afternoon</th>\n",
              "      <th>dropoff_time_evening</th>\n",
              "      <th>dropoff_time_mid_night</th>\n",
              "      <th>dropoff_time_morning</th>\n",
              "      <th>dropoff_time_night</th>\n",
              "    </tr>\n",
              "  </thead>\n",
              "  <tbody>\n",
              "    <tr>\n",
              "      <th>0</th>\n",
              "      <td>id2875421</td>\n",
              "      <td>2</td>\n",
              "      <td>1</td>\n",
              "      <td>-73.982155</td>\n",
              "      <td>40.767937</td>\n",
              "      <td>-73.964630</td>\n",
              "      <td>40.765602</td>\n",
              "      <td>17</td>\n",
              "      <td>17</td>\n",
              "      <td>7.583333</td>\n",
              "      <td>1.498523</td>\n",
              "      <td>0</td>\n",
              "      <td>1</td>\n",
              "      <td>0</td>\n",
              "      <td>0</td>\n",
              "      <td>0</td>\n",
              "      <td>0</td>\n",
              "      <td>0</td>\n",
              "      <td>0</td>\n",
              "      <td>0</td>\n",
              "      <td>0</td>\n",
              "      <td>1</td>\n",
              "      <td>0</td>\n",
              "      <td>0</td>\n",
              "      <td>0</td>\n",
              "      <td>0</td>\n",
              "      <td>1</td>\n",
              "      <td>0</td>\n",
              "      <td>0</td>\n",
              "      <td>0</td>\n",
              "      <td>0</td>\n",
              "      <td>1</td>\n",
              "      <td>0</td>\n",
              "      <td>0</td>\n",
              "      <td>0</td>\n",
              "    </tr>\n",
              "    <tr>\n",
              "      <th>1</th>\n",
              "      <td>id2377394</td>\n",
              "      <td>1</td>\n",
              "      <td>1</td>\n",
              "      <td>-73.980415</td>\n",
              "      <td>40.738564</td>\n",
              "      <td>-73.999481</td>\n",
              "      <td>40.731152</td>\n",
              "      <td>0</td>\n",
              "      <td>0</td>\n",
              "      <td>11.050000</td>\n",
              "      <td>1.805510</td>\n",
              "      <td>0</td>\n",
              "      <td>0</td>\n",
              "      <td>0</td>\n",
              "      <td>0</td>\n",
              "      <td>0</td>\n",
              "      <td>0</td>\n",
              "      <td>0</td>\n",
              "      <td>1</td>\n",
              "      <td>0</td>\n",
              "      <td>0</td>\n",
              "      <td>0</td>\n",
              "      <td>0</td>\n",
              "      <td>0</td>\n",
              "      <td>1</td>\n",
              "      <td>0</td>\n",
              "      <td>0</td>\n",
              "      <td>1</td>\n",
              "      <td>0</td>\n",
              "      <td>0</td>\n",
              "      <td>0</td>\n",
              "      <td>0</td>\n",
              "      <td>1</td>\n",
              "      <td>0</td>\n",
              "      <td>0</td>\n",
              "    </tr>\n",
              "    <tr>\n",
              "      <th>3</th>\n",
              "      <td>id3504673</td>\n",
              "      <td>2</td>\n",
              "      <td>1</td>\n",
              "      <td>-74.010040</td>\n",
              "      <td>40.719971</td>\n",
              "      <td>-74.012268</td>\n",
              "      <td>40.706718</td>\n",
              "      <td>19</td>\n",
              "      <td>19</td>\n",
              "      <td>7.150000</td>\n",
              "      <td>1.485500</td>\n",
              "      <td>0</td>\n",
              "      <td>0</td>\n",
              "      <td>0</td>\n",
              "      <td>1</td>\n",
              "      <td>0</td>\n",
              "      <td>0</td>\n",
              "      <td>0</td>\n",
              "      <td>0</td>\n",
              "      <td>0</td>\n",
              "      <td>0</td>\n",
              "      <td>0</td>\n",
              "      <td>1</td>\n",
              "      <td>0</td>\n",
              "      <td>0</td>\n",
              "      <td>0</td>\n",
              "      <td>0</td>\n",
              "      <td>0</td>\n",
              "      <td>0</td>\n",
              "      <td>1</td>\n",
              "      <td>0</td>\n",
              "      <td>0</td>\n",
              "      <td>0</td>\n",
              "      <td>0</td>\n",
              "      <td>1</td>\n",
              "    </tr>\n",
              "    <tr>\n",
              "      <th>4</th>\n",
              "      <td>id2181028</td>\n",
              "      <td>2</td>\n",
              "      <td>1</td>\n",
              "      <td>-73.973053</td>\n",
              "      <td>40.793209</td>\n",
              "      <td>-73.972923</td>\n",
              "      <td>40.782520</td>\n",
              "      <td>13</td>\n",
              "      <td>13</td>\n",
              "      <td>7.250000</td>\n",
              "      <td>1.188590</td>\n",
              "      <td>0</td>\n",
              "      <td>0</td>\n",
              "      <td>0</td>\n",
              "      <td>0</td>\n",
              "      <td>0</td>\n",
              "      <td>0</td>\n",
              "      <td>1</td>\n",
              "      <td>0</td>\n",
              "      <td>0</td>\n",
              "      <td>0</td>\n",
              "      <td>1</td>\n",
              "      <td>0</td>\n",
              "      <td>0</td>\n",
              "      <td>0</td>\n",
              "      <td>1</td>\n",
              "      <td>0</td>\n",
              "      <td>0</td>\n",
              "      <td>0</td>\n",
              "      <td>0</td>\n",
              "      <td>1</td>\n",
              "      <td>0</td>\n",
              "      <td>0</td>\n",
              "      <td>0</td>\n",
              "      <td>0</td>\n",
              "    </tr>\n",
              "    <tr>\n",
              "      <th>5</th>\n",
              "      <td>id0801584</td>\n",
              "      <td>2</td>\n",
              "      <td>6</td>\n",
              "      <td>-73.982857</td>\n",
              "      <td>40.742195</td>\n",
              "      <td>-73.992081</td>\n",
              "      <td>40.749184</td>\n",
              "      <td>22</td>\n",
              "      <td>22</td>\n",
              "      <td>7.383333</td>\n",
              "      <td>1.098944</td>\n",
              "      <td>0</td>\n",
              "      <td>0</td>\n",
              "      <td>0</td>\n",
              "      <td>0</td>\n",
              "      <td>0</td>\n",
              "      <td>0</td>\n",
              "      <td>1</td>\n",
              "      <td>0</td>\n",
              "      <td>1</td>\n",
              "      <td>0</td>\n",
              "      <td>0</td>\n",
              "      <td>0</td>\n",
              "      <td>0</td>\n",
              "      <td>0</td>\n",
              "      <td>0</td>\n",
              "      <td>0</td>\n",
              "      <td>0</td>\n",
              "      <td>0</td>\n",
              "      <td>1</td>\n",
              "      <td>0</td>\n",
              "      <td>0</td>\n",
              "      <td>0</td>\n",
              "      <td>0</td>\n",
              "      <td>1</td>\n",
              "    </tr>\n",
              "  </tbody>\n",
              "</table>\n",
              "</div>\n",
              "      <button class=\"colab-df-convert\" onclick=\"convertToInteractive('df-f4ae7781-32c2-446c-bb45-c6011de1646b')\"\n",
              "              title=\"Convert this dataframe to an interactive table.\"\n",
              "              style=\"display:none;\">\n",
              "        \n",
              "  <svg xmlns=\"http://www.w3.org/2000/svg\" height=\"24px\"viewBox=\"0 0 24 24\"\n",
              "       width=\"24px\">\n",
              "    <path d=\"M0 0h24v24H0V0z\" fill=\"none\"/>\n",
              "    <path d=\"M18.56 5.44l.94 2.06.94-2.06 2.06-.94-2.06-.94-.94-2.06-.94 2.06-2.06.94zm-11 1L8.5 8.5l.94-2.06 2.06-.94-2.06-.94L8.5 2.5l-.94 2.06-2.06.94zm10 10l.94 2.06.94-2.06 2.06-.94-2.06-.94-.94-2.06-.94 2.06-2.06.94z\"/><path d=\"M17.41 7.96l-1.37-1.37c-.4-.4-.92-.59-1.43-.59-.52 0-1.04.2-1.43.59L10.3 9.45l-7.72 7.72c-.78.78-.78 2.05 0 2.83L4 21.41c.39.39.9.59 1.41.59.51 0 1.02-.2 1.41-.59l7.78-7.78 2.81-2.81c.8-.78.8-2.07 0-2.86zM5.41 20L4 18.59l7.72-7.72 1.47 1.35L5.41 20z\"/>\n",
              "  </svg>\n",
              "      </button>\n",
              "      \n",
              "  <style>\n",
              "    .colab-df-container {\n",
              "      display:flex;\n",
              "      flex-wrap:wrap;\n",
              "      gap: 12px;\n",
              "    }\n",
              "\n",
              "    .colab-df-convert {\n",
              "      background-color: #E8F0FE;\n",
              "      border: none;\n",
              "      border-radius: 50%;\n",
              "      cursor: pointer;\n",
              "      display: none;\n",
              "      fill: #1967D2;\n",
              "      height: 32px;\n",
              "      padding: 0 0 0 0;\n",
              "      width: 32px;\n",
              "    }\n",
              "\n",
              "    .colab-df-convert:hover {\n",
              "      background-color: #E2EBFA;\n",
              "      box-shadow: 0px 1px 2px rgba(60, 64, 67, 0.3), 0px 1px 3px 1px rgba(60, 64, 67, 0.15);\n",
              "      fill: #174EA6;\n",
              "    }\n",
              "\n",
              "    [theme=dark] .colab-df-convert {\n",
              "      background-color: #3B4455;\n",
              "      fill: #D2E3FC;\n",
              "    }\n",
              "\n",
              "    [theme=dark] .colab-df-convert:hover {\n",
              "      background-color: #434B5C;\n",
              "      box-shadow: 0px 1px 3px 1px rgba(0, 0, 0, 0.15);\n",
              "      filter: drop-shadow(0px 1px 2px rgba(0, 0, 0, 0.3));\n",
              "      fill: #FFFFFF;\n",
              "    }\n",
              "  </style>\n",
              "\n",
              "      <script>\n",
              "        const buttonEl =\n",
              "          document.querySelector('#df-f4ae7781-32c2-446c-bb45-c6011de1646b button.colab-df-convert');\n",
              "        buttonEl.style.display =\n",
              "          google.colab.kernel.accessAllowed ? 'block' : 'none';\n",
              "\n",
              "        async function convertToInteractive(key) {\n",
              "          const element = document.querySelector('#df-f4ae7781-32c2-446c-bb45-c6011de1646b');\n",
              "          const dataTable =\n",
              "            await google.colab.kernel.invokeFunction('convertToInteractive',\n",
              "                                                     [key], {});\n",
              "          if (!dataTable) return;\n",
              "\n",
              "          const docLinkHtml = 'Like what you see? Visit the ' +\n",
              "            '<a target=\"_blank\" href=https://colab.research.google.com/notebooks/data_table.ipynb>data table notebook</a>'\n",
              "            + ' to learn more about interactive tables.';\n",
              "          element.innerHTML = '';\n",
              "          dataTable['output_type'] = 'display_data';\n",
              "          await google.colab.output.renderOutput(dataTable, element);\n",
              "          const docLink = document.createElement('div');\n",
              "          docLink.innerHTML = docLinkHtml;\n",
              "          element.appendChild(docLink);\n",
              "        }\n",
              "      </script>\n",
              "    </div>\n",
              "  </div>\n",
              "  "
            ],
            "text/plain": [
              "          id  vendor_id  ...  dropoff_time_morning  dropoff_time_night\n",
              "0  id2875421          2  ...                     0                   0\n",
              "1  id2377394          1  ...                     0                   0\n",
              "3  id3504673          2  ...                     0                   1\n",
              "4  id2181028          2  ...                     0                   0\n",
              "5  id0801584          2  ...                     0                   1\n",
              "\n",
              "[5 rows x 35 columns]"
            ]
          },
          "execution_count": 114,
          "metadata": {},
          "output_type": "execute_result"
        }
      ],
      "source": [
        "nyc_df.head()"
      ]
    },
    {
      "cell_type": "markdown",
      "metadata": {
        "id": "oB7JihkbVkcK"
      },
      "source": [
        "***Now than we are done with the cleaning as well as the feature engineering of our data lets do some feature selection before proceeding with the model building.***"
      ]
    },
    {
      "cell_type": "markdown",
      "metadata": {
        "id": "_134hbr0QxF8"
      },
      "source": [
        "# **Feature Selection.**"
      ]
    },
    {
      "cell_type": "code",
      "execution_count": null,
      "metadata": {
        "id": "ddIspsHtR1wK"
      },
      "outputs": [],
      "source": [
        "# Lets drop id before going further as its not useful.\n",
        "nyc_df.drop('id', inplace=True, axis=1)"
      ]
    },
    {
      "cell_type": "markdown",
      "metadata": {
        "id": "qj9Cut1gRHGl"
      },
      "source": [
        "***Split the data first.***"
      ]
    },
    {
      "cell_type": "code",
      "execution_count": null,
      "metadata": {
        "id": "sYMZ2ZL-RGi7"
      },
      "outputs": [],
      "source": [
        "# Get X and y values.\n",
        "X = nyc_df.drop('trip_duration_minutes', axis=1)\n",
        "            \n",
        "y = nyc_df['trip_duration_minutes']"
      ]
    },
    {
      "cell_type": "code",
      "execution_count": null,
      "metadata": {
        "id": "o0Sgss06RkmL"
      },
      "outputs": [],
      "source": [
        "# Train Test Split.\n",
        "X_train, X_test, y_train, y_test = train_test_split(X, y,test_size=0.2,random_state =5)"
      ]
    },
    {
      "cell_type": "code",
      "execution_count": null,
      "metadata": {
        "id": "Fs5q5fnBRx0a"
      },
      "outputs": [],
      "source": [
        "# scale the data.\n",
        "scaler = StandardScaler()\n",
        "X_train = scaler.fit_transform(X_train)\n",
        "X_test = scaler.transform(X_test)"
      ]
    },
    {
      "cell_type": "markdown",
      "metadata": {
        "id": "ond0jferPAx2"
      },
      "source": [
        "## **Correlation between variables.**"
      ]
    },
    {
      "cell_type": "code",
      "execution_count": null,
      "metadata": {
        "colab": {
          "base_uri": "https://localhost:8080/",
          "height": 129
        },
        "id": "3nElcT5I5Yit",
        "outputId": "31faf649-6ba0-4ddf-ead8-ba28ebaff3d0"
      },
      "outputs": [
        {
          "data": {
            "image/png": "[encoded data removed]",
            "text/plain": [
              "<Figure size 5760x360 with 1 Axes>"
            ]
          },
          "metadata": {},
          "output_type": "display_data"
        }
      ],
      "source": [
        "corr_data = X.corrwith(y)\n",
        "plt.figure(figsize=(80,5))\n",
        "plt.plot(corr_data)\n",
        "plt.title('Correlation of features with the dependent variable.')\n",
        "plt.show()"
      ]
    },
    {
      "cell_type": "code",
      "execution_count": null,
      "metadata": {
        "colab": {
          "base_uri": "https://localhost:8080/",
          "height": 812
        },
        "id": "1q5og2hixK5i",
        "outputId": "3711f118-cff2-490f-cb1f-2ac5d2e0bf53"
      },
      "outputs": [
        {
          "data": {
            "image/png": "[encoded data removed]",
            "text/plain": [
              "<Figure size 1296x864 with 2 Axes>"
            ]
          },
          "metadata": {},
          "output_type": "display_data"
        }
      ],
      "source": [
        "# Multicollinearity.\n",
        "fig = plt.figure(figsize=(18,12))\n",
        "sns.heatmap(nyc_df.corr(), cmap='Paired')\n",
        "plt.show()"
      ]
    },
    {
      "cell_type": "markdown",
      "metadata": {
        "id": "u9Fs5xPyccwU"
      },
      "source": [
        "***We will use Lasso from sklearn to select the features that will help in the prediction of our model.***"
      ]
    },
    {
      "cell_type": "code",
      "execution_count": null,
      "metadata": {
        "colab": {
          "base_uri": "https://localhost:8080/"
        },
        "id": "NisByZqbSHDZ",
        "outputId": "9ef465a6-ca44-4eea-e889-8980167bdf27"
      },
      "outputs": [
        {
          "data": {
            "text/plain": [
              "SelectFromModel(estimator=Lasso(alpha=0.05, random_state=5))"
            ]
          },
          "execution_count": 62,
          "metadata": {},
          "output_type": "execute_result"
        }
      ],
      "source": [
        "feature_sel_model = SelectFromModel(Lasso(alpha=0.05, random_state=5))   # We will use SelectFromModel to select the best features from the data.\n",
        "\n",
        "# Fit the data.\n",
        "feature_sel_model.fit(X_train, y_train)"
      ]
    },
    {
      "cell_type": "code",
      "execution_count": null,
      "metadata": {
        "id": "xyAoePusSKqU"
      },
      "outputs": [],
      "source": [
        "selected_features = X.columns[(feature_sel_model.get_support())]"
      ]
    },
    {
      "cell_type": "code",
      "execution_count": null,
      "metadata": {
        "colab": {
          "base_uri": "https://localhost:8080/"
        },
        "id": "6e1U69-dSMuR",
        "outputId": "44be81b3-a1c3-40c8-89d4-3e6bf82012da"
      },
      "outputs": [
        {
          "data": {
            "text/plain": [
              "Index(['passenger_count', 'pickup_longitude', 'dropoff_longitude',\n",
              "       'dropoff_latitude', 'pickup_hour', 'dropoff_hour', 'distance', 'day_0',\n",
              "       'day_2', 'day_3', 'day_5', 'day_6', 'month_1', 'month_2', 'month_3',\n",
              "       'month_4', 'month_5', 'month_6', 'pickup_time_mid_night',\n",
              "       'pickup_time_night', 'dropoff_time_afternoon', 'dropoff_time_morning'],\n",
              "      dtype='object')"
            ]
          },
          "execution_count": 64,
          "metadata": {},
          "output_type": "execute_result"
        }
      ],
      "source": [
        "selected_features"
      ]
    },
    {
      "cell_type": "code",
      "execution_count": null,
      "metadata": {
        "id": "-D0I1EDcUe0k"
      },
      "outputs": [],
      "source": [
        "X_lasso = X[selected_features]\n",
        "# y values have not changed.\n",
        "\n",
        "# Do the train test split again with the lasso data for x.\n",
        "X_train_lasso, X_test_lasso, y_train, y_test = train_test_split(X_lasso, y,test_size=0.2,random_state =5)"
      ]
    },
    {
      "cell_type": "markdown",
      "metadata": {
        "id": "eG_PnIHbw8Xn"
      },
      "source": [
        "# **Model Selection.**"
      ]
    },
    {
      "cell_type": "markdown",
      "metadata": {
        "id": "qfy1bjuieYNK"
      },
      "source": [
        "***We will be using few regression models to get the model with best score and minimum error.***"
      ]
    },
    {
      "cell_type": "markdown",
      "metadata": {
        "id": "50MMD5C6xAVb"
      },
      "source": [
        "## **Linear Regression.**"
      ]
    },
    {
      "cell_type": "code",
      "execution_count": null,
      "metadata": {
        "id": "mee5_YRQVXCg"
      },
      "outputs": [],
      "source": [
        "from sklearn.linear_model import LinearRegression\n",
        "reg = LinearRegression().fit(X_train_lasso, y_train)"
      ]
    },
    {
      "cell_type": "code",
      "execution_count": null,
      "metadata": {
        "colab": {
          "base_uri": "https://localhost:8080/"
        },
        "id": "HB3m1vtJVlZ-",
        "outputId": "726209e9-68c5-404a-f4d9-ff00cd53186d"
      },
      "outputs": [
        {
          "data": {
            "text/plain": [
              "0.5212785765873718"
            ]
          },
          "execution_count": 134,
          "metadata": {},
          "output_type": "execute_result"
        }
      ],
      "source": [
        "reg.score(X_train_lasso, y_train)"
      ]
    },
    {
      "cell_type": "code",
      "execution_count": null,
      "metadata": {
        "id": "qunC1-43VpeJ"
      },
      "outputs": [],
      "source": [
        "y_pred_train = reg.predict(X_train_lasso)"
      ]
    },
    {
      "cell_type": "code",
      "execution_count": null,
      "metadata": {
        "id": "ZlXw6CL_Vtyi"
      },
      "outputs": [],
      "source": [
        "y_pred_test = reg.predict(X_test_lasso)"
      ]
    },
    {
      "cell_type": "code",
      "execution_count": null,
      "metadata": {
        "colab": {
          "base_uri": "https://localhost:8080/"
        },
        "id": "iuxIFeiDV0TI",
        "outputId": "4ca2f860-eb2b-4835-d6f9-9c296fdc4148"
      },
      "outputs": [
        {
          "name": "stdout",
          "output_type": "stream",
          "text": [
            "MSE : 21.062435433091217\n",
            "RMSE : 4.589382903298788\n",
            "R2 : 0.5212785765873718\n",
            "Adjusted R2 :  0.5212682645077223\n"
          ]
        }
      ],
      "source": [
        "#Train set metrics\n",
        "Ltr_MSE  = mean_squared_error((y_train), (y_pred_train))\n",
        "print(\"MSE :\" , Ltr_MSE)\n",
        "\n",
        "Ltr_RMSE = np.sqrt(Ltr_MSE)\n",
        "\n",
        "print(\"RMSE :\" ,Ltr_RMSE)\n",
        "\n",
        "Ltr_r2 = r2_score((y_train), (y_pred_train))\n",
        "print(\"R2 :\" ,Ltr_r2)\n",
        "Ltr_ar2 = 1-(1-r2_score((y_train), (y_pred_train)))*((X_train_lasso.shape[0]-1)/(X_train_lasso.shape[0]-X_train_lasso.shape[1]-1))\n",
        "print(\"Adjusted R2 : \",Ltr_ar2)"
      ]
    },
    {
      "cell_type": "code",
      "execution_count": null,
      "metadata": {
        "colab": {
          "base_uri": "https://localhost:8080/"
        },
        "id": "U9SHiZrsWM2S",
        "outputId": "97e94ee6-0571-4eeb-d71e-fb365bad02c1"
      },
      "outputs": [
        {
          "name": "stdout",
          "output_type": "stream",
          "text": [
            "MSE : 21.154858383503203\n",
            "RMSE : 4.599441094687832\n",
            "R2 : 0.5223983290044936\n",
            "Adjusted R2 :  0.5223571745081835\n"
          ]
        }
      ],
      "source": [
        "#Test set metrics\n",
        "Lte_MSE  = mean_squared_error((y_test), (y_pred_test))\n",
        "print(\"MSE :\" , Lte_MSE)\n",
        "\n",
        "Lte_RMSE = np.sqrt(Lte_MSE)\n",
        "print(\"RMSE :\" ,Lte_RMSE)\n",
        "\n",
        "Lte_r2 = r2_score((y_test), (y_pred_test))\n",
        "print(\"R2 :\" ,Lte_r2)\n",
        "Lte_ar2 = 1-(1-r2_score((y_test), (y_pred_test)))*((X_test_lasso.shape[0]-1)/(X_test_lasso.shape[0]-X_test_lasso.shape[1]-1))\n",
        "print(\"Adjusted R2 : \",Lte_ar2)"
      ]
    },
    {
      "cell_type": "code",
      "execution_count": null,
      "metadata": {
        "colab": {
          "base_uri": "https://localhost:8080/",
          "height": 663
        },
        "id": "tgz28UggWbb6",
        "outputId": "185f127e-0dd3-4136-880b-032815bfaba7"
      },
      "outputs": [
        {
          "data": {
            "image/png": "[encoded data removed]",
            "text/plain": [
              "<Figure size 1200x720 with 1 Axes>"
            ]
          },
          "metadata": {},
          "output_type": "display_data"
        }
      ],
      "source": [
        "#Heteroskedasticity\n",
        "residuals=y_pred_test-y_test\n",
        "\n",
        "plt.figure(figsize=(10, 6), dpi=120, facecolor='w', edgecolor='b')\n",
        "f = range(0,len(y_test))\n",
        "k = [0 for i in range(0,len(y_test))]\n",
        "plt.scatter( f, residuals, label = 'residuals')\n",
        "plt.plot( f, k , color = 'red', label = 'regression line' )\n",
        "plt.xlabel('fitted points ')\n",
        "plt.ylabel('residuals')\n",
        "plt.title('Residual plot')\n",
        "plt.legend()\n",
        "plt.show()"
      ]
    },
    {
      "cell_type": "markdown",
      "metadata": {
        "id": "gcLjvmWRWmvb"
      },
      "source": [
        "## **Decision Tree Regressor.**"
      ]
    },
    {
      "cell_type": "code",
      "execution_count": null,
      "metadata": {
        "id": "qgsZ9aS-Wrp-"
      },
      "outputs": [],
      "source": [
        "# Maximum depth of trees\n",
        "max_depth = [4,6,8,10]\n",
        "\n",
        "# Minimum number of samples required to split a node\n",
        "min_samples_split = [10,20,30]\n",
        "\n",
        "# Minimum number of samples required at each leaf node\n",
        "min_samples_leaf = [10,16,20]\n",
        "\n",
        "# HYperparameter Grid\n",
        "param_dt = {\n",
        "              'max_depth' : max_depth,\n",
        "              'min_samples_split' : min_samples_split,\n",
        "              'min_samples_leaf' : min_samples_leaf}"
      ]
    },
    {
      "cell_type": "code",
      "execution_count": null,
      "metadata": {
        "id": "MZubyo0XWwIS"
      },
      "outputs": [],
      "source": [
        "from sklearn.tree import DecisionTreeRegressor"
      ]
    },
    {
      "cell_type": "code",
      "execution_count": null,
      "metadata": {
        "colab": {
          "base_uri": "https://localhost:8080/"
        },
        "id": "r6HsmqvzWyAt",
        "outputId": "086ef319-6aa7-4937-daf0-2bb3f5879ef6"
      },
      "outputs": [
        {
          "name": "stdout",
          "output_type": "stream",
          "text": [
            "Fitting 5 folds for each of 36 candidates, totalling 180 fits\n",
            "[CV] END max_depth=4, min_samples_leaf=10, min_samples_split=10; total time=   3.4s\n",
            "[CV] END max_depth=4, min_samples_leaf=10, min_samples_split=10; total time=   3.3s\n",
            "[CV] END max_depth=4, min_samples_leaf=10, min_samples_split=10; total time=   3.3s\n",
            "[CV] END max_depth=4, min_samples_leaf=10, min_samples_split=10; total time=   3.3s\n",
            "[CV] END max_depth=4, min_samples_leaf=10, min_samples_split=10; total time=   3.2s\n",
            "[CV] END max_depth=4, min_samples_leaf=10, min_samples_split=20; total time=   3.3s\n",
            "[CV] END max_depth=4, min_samples_leaf=10, min_samples_split=20; total time=   3.3s\n",
            "[CV] END max_depth=4, min_samples_leaf=10, min_samples_split=20; total time=   3.3s\n",
            "[CV] END max_depth=4, min_samples_leaf=10, min_samples_split=20; total time=   3.3s\n",
            "[CV] END max_depth=4, min_samples_leaf=10, min_samples_split=20; total time=   3.3s\n",
            "[CV] END max_depth=4, min_samples_leaf=10, min_samples_split=30; total time=   3.3s\n",
            "[CV] END max_depth=4, min_samples_leaf=10, min_samples_split=30; total time=   3.3s\n",
            "[CV] END max_depth=4, min_samples_leaf=10, min_samples_split=30; total time=   3.3s\n",
            "[CV] END max_depth=4, min_samples_leaf=10, min_samples_split=30; total time=   3.3s\n",
            "[CV] END max_depth=4, min_samples_leaf=10, min_samples_split=30; total time=   3.2s\n",
            "[CV] END max_depth=4, min_samples_leaf=16, min_samples_split=10; total time=   3.3s\n",
            "[CV] END max_depth=4, min_samples_leaf=16, min_samples_split=10; total time=   3.2s\n",
            "[CV] END max_depth=4, min_samples_leaf=16, min_samples_split=10; total time=   3.3s\n",
            "[CV] END max_depth=4, min_samples_leaf=16, min_samples_split=10; total time=   3.3s\n",
            "[CV] END max_depth=4, min_samples_leaf=16, min_samples_split=10; total time=   3.3s\n",
            "[CV] END max_depth=4, min_samples_leaf=16, min_samples_split=20; total time=   3.3s\n",
            "[CV] END max_depth=4, min_samples_leaf=16, min_samples_split=20; total time=   3.3s\n",
            "[CV] END max_depth=4, min_samples_leaf=16, min_samples_split=20; total time=   3.3s\n",
            "[CV] END max_depth=4, min_samples_leaf=16, min_samples_split=20; total time=   3.3s\n",
            "[CV] END max_depth=4, min_samples_leaf=16, min_samples_split=20; total time=   3.3s\n",
            "[CV] END max_depth=4, min_samples_leaf=16, min_samples_split=30; total time=   3.3s\n",
            "[CV] END max_depth=4, min_samples_leaf=16, min_samples_split=30; total time=   3.3s\n",
            "[CV] END max_depth=4, min_samples_leaf=16, min_samples_split=30; total time=   3.3s\n",
            "[CV] END max_depth=4, min_samples_leaf=16, min_samples_split=30; total time=   3.3s\n",
            "[CV] END max_depth=4, min_samples_leaf=16, min_samples_split=30; total time=   3.3s\n",
            "[CV] END max_depth=4, min_samples_leaf=20, min_samples_split=10; total time=   3.2s\n",
            "[CV] END max_depth=4, min_samples_leaf=20, min_samples_split=10; total time=   3.3s\n",
            "[CV] END max_depth=4, min_samples_leaf=20, min_samples_split=10; total time=   3.3s\n",
            "[CV] END max_depth=4, min_samples_leaf=20, min_samples_split=10; total time=   3.3s\n",
            "[CV] END max_depth=4, min_samples_leaf=20, min_samples_split=10; total time=   3.3s\n",
            "[CV] END max_depth=4, min_samples_leaf=20, min_samples_split=20; total time=   3.3s\n",
            "[CV] END max_depth=4, min_samples_leaf=20, min_samples_split=20; total time=   3.2s\n",
            "[CV] END max_depth=4, min_samples_leaf=20, min_samples_split=20; total time=   3.3s\n",
            "[CV] END max_depth=4, min_samples_leaf=20, min_samples_split=20; total time=   3.3s\n",
            "[CV] END max_depth=4, min_samples_leaf=20, min_samples_split=20; total time=   3.2s\n",
            "[CV] END max_depth=4, min_samples_leaf=20, min_samples_split=30; total time=   3.3s\n",
            "[CV] END max_depth=4, min_samples_leaf=20, min_samples_split=30; total time=   3.2s\n",
            "[CV] END max_depth=4, min_samples_leaf=20, min_samples_split=30; total time=   3.3s\n",
            "[CV] END max_depth=4, min_samples_leaf=20, min_samples_split=30; total time=   3.2s\n",
            "[CV] END max_depth=4, min_samples_leaf=20, min_samples_split=30; total time=   3.3s\n",
            "[CV] END max_depth=6, min_samples_leaf=10, min_samples_split=10; total time=   4.9s\n",
            "[CV] END max_depth=6, min_samples_leaf=10, min_samples_split=10; total time=   4.9s\n",
            "[CV] END max_depth=6, min_samples_leaf=10, min_samples_split=10; total time=   4.8s\n",
            "[CV] END max_depth=6, min_samples_leaf=10, min_samples_split=10; total time=   4.9s\n",
            "[CV] END max_depth=6, min_samples_leaf=10, min_samples_split=10; total time=   4.9s\n",
            "[CV] END max_depth=6, min_samples_leaf=10, min_samples_split=20; total time=   4.9s\n",
            "[CV] END max_depth=6, min_samples_leaf=10, min_samples_split=20; total time=   4.8s\n",
            "[CV] END max_depth=6, min_samples_leaf=10, min_samples_split=20; total time=   4.8s\n",
            "[CV] END max_depth=6, min_samples_leaf=10, min_samples_split=20; total time=   4.9s\n",
            "[CV] END max_depth=6, min_samples_leaf=10, min_samples_split=20; total time=   4.9s\n",
            "[CV] END max_depth=6, min_samples_leaf=10, min_samples_split=30; total time=   5.0s\n",
            "[CV] END max_depth=6, min_samples_leaf=10, min_samples_split=30; total time=   4.8s\n",
            "[CV] END max_depth=6, min_samples_leaf=10, min_samples_split=30; total time=   4.9s\n",
            "[CV] END max_depth=6, min_samples_leaf=10, min_samples_split=30; total time=   4.8s\n",
            "[CV] END max_depth=6, min_samples_leaf=10, min_samples_split=30; total time=   4.8s\n",
            "[CV] END max_depth=6, min_samples_leaf=16, min_samples_split=10; total time=   4.9s\n",
            "[CV] END max_depth=6, min_samples_leaf=16, min_samples_split=10; total time=   4.8s\n",
            "[CV] END max_depth=6, min_samples_leaf=16, min_samples_split=10; total time=   4.8s\n",
            "[CV] END max_depth=6, min_samples_leaf=16, min_samples_split=10; total time=   4.9s\n",
            "[CV] END max_depth=6, min_samples_leaf=16, min_samples_split=10; total time=   4.8s\n",
            "[CV] END max_depth=6, min_samples_leaf=16, min_samples_split=20; total time=   4.9s\n",
            "[CV] END max_depth=6, min_samples_leaf=16, min_samples_split=20; total time=   4.9s\n",
            "[CV] END max_depth=6, min_samples_leaf=16, min_samples_split=20; total time=   4.9s\n",
            "[CV] END max_depth=6, min_samples_leaf=16, min_samples_split=20; total time=   4.8s\n",
            "[CV] END max_depth=6, min_samples_leaf=16, min_samples_split=20; total time=   4.8s\n",
            "[CV] END max_depth=6, min_samples_leaf=16, min_samples_split=30; total time=   4.9s\n",
            "[CV] END max_depth=6, min_samples_leaf=16, min_samples_split=30; total time=   4.9s\n",
            "[CV] END max_depth=6, min_samples_leaf=16, min_samples_split=30; total time=   4.8s\n",
            "[CV] END max_depth=6, min_samples_leaf=16, min_samples_split=30; total time=   4.8s\n",
            "[CV] END max_depth=6, min_samples_leaf=16, min_samples_split=30; total time=   4.9s\n",
            "[CV] END max_depth=6, min_samples_leaf=20, min_samples_split=10; total time=   4.8s\n",
            "[CV] END max_depth=6, min_samples_leaf=20, min_samples_split=10; total time=   4.8s\n",
            "[CV] END max_depth=6, min_samples_leaf=20, min_samples_split=10; total time=   4.9s\n",
            "[CV] END max_depth=6, min_samples_leaf=20, min_samples_split=10; total time=   4.9s\n",
            "[CV] END max_depth=6, min_samples_leaf=20, min_samples_split=10; total time=   4.9s\n",
            "[CV] END max_depth=6, min_samples_leaf=20, min_samples_split=20; total time=   4.9s\n",
            "[CV] END max_depth=6, min_samples_leaf=20, min_samples_split=20; total time=   4.8s\n",
            "[CV] END max_depth=6, min_samples_leaf=20, min_samples_split=20; total time=   4.8s\n",
            "[CV] END max_depth=6, min_samples_leaf=20, min_samples_split=20; total time=   4.9s\n",
            "[CV] END max_depth=6, min_samples_leaf=20, min_samples_split=20; total time=   4.9s\n",
            "[CV] END max_depth=6, min_samples_leaf=20, min_samples_split=30; total time=   4.8s\n",
            "[CV] END max_depth=6, min_samples_leaf=20, min_samples_split=30; total time=   4.8s\n",
            "[CV] END max_depth=6, min_samples_leaf=20, min_samples_split=30; total time=   4.9s\n",
            "[CV] END max_depth=6, min_samples_leaf=20, min_samples_split=30; total time=   4.9s\n",
            "[CV] END max_depth=6, min_samples_leaf=20, min_samples_split=30; total time=   4.8s\n",
            "[CV] END max_depth=8, min_samples_leaf=10, min_samples_split=10; total time=   6.3s\n",
            "[CV] END max_depth=8, min_samples_leaf=10, min_samples_split=10; total time=   6.4s\n",
            "[CV] END max_depth=8, min_samples_leaf=10, min_samples_split=10; total time=   6.3s\n",
            "[CV] END max_depth=8, min_samples_leaf=10, min_samples_split=10; total time=   6.6s\n",
            "[CV] END max_depth=8, min_samples_leaf=10, min_samples_split=10; total time=   6.4s\n",
            "[CV] END max_depth=8, min_samples_leaf=10, min_samples_split=20; total time=   6.3s\n",
            "[CV] END max_depth=8, min_samples_leaf=10, min_samples_split=20; total time=   6.4s\n",
            "[CV] END max_depth=8, min_samples_leaf=10, min_samples_split=20; total time=   6.3s\n",
            "[CV] END max_depth=8, min_samples_leaf=10, min_samples_split=20; total time=   6.4s\n",
            "[CV] END max_depth=8, min_samples_leaf=10, min_samples_split=20; total time=   6.3s\n",
            "[CV] END max_depth=8, min_samples_leaf=10, min_samples_split=30; total time=   6.4s\n",
            "[CV] END max_depth=8, min_samples_leaf=10, min_samples_split=30; total time=   6.4s\n",
            "[CV] END max_depth=8, min_samples_leaf=10, min_samples_split=30; total time=   6.3s\n",
            "[CV] END max_depth=8, min_samples_leaf=10, min_samples_split=30; total time=   6.3s\n",
            "[CV] END max_depth=8, min_samples_leaf=10, min_samples_split=30; total time=   6.3s\n",
            "[CV] END max_depth=8, min_samples_leaf=16, min_samples_split=10; total time=   6.3s\n",
            "[CV] END max_depth=8, min_samples_leaf=16, min_samples_split=10; total time=   6.3s\n",
            "[CV] END max_depth=8, min_samples_leaf=16, min_samples_split=10; total time=   6.3s\n",
            "[CV] END max_depth=8, min_samples_leaf=16, min_samples_split=10; total time=   6.3s\n",
            "[CV] END max_depth=8, min_samples_leaf=16, min_samples_split=10; total time=   6.4s\n",
            "[CV] END max_depth=8, min_samples_leaf=16, min_samples_split=20; total time=   6.4s\n",
            "[CV] END max_depth=8, min_samples_leaf=16, min_samples_split=20; total time=   6.3s\n",
            "[CV] END max_depth=8, min_samples_leaf=16, min_samples_split=20; total time=   6.3s\n",
            "[CV] END max_depth=8, min_samples_leaf=16, min_samples_split=20; total time=   6.4s\n",
            "[CV] END max_depth=8, min_samples_leaf=16, min_samples_split=20; total time=   6.4s\n",
            "[CV] END max_depth=8, min_samples_leaf=16, min_samples_split=30; total time=   6.3s\n",
            "[CV] END max_depth=8, min_samples_leaf=16, min_samples_split=30; total time=   6.4s\n",
            "[CV] END max_depth=8, min_samples_leaf=16, min_samples_split=30; total time=   6.3s\n",
            "[CV] END max_depth=8, min_samples_leaf=16, min_samples_split=30; total time=   6.4s\n",
            "[CV] END max_depth=8, min_samples_leaf=16, min_samples_split=30; total time=   6.4s\n",
            "[CV] END max_depth=8, min_samples_leaf=20, min_samples_split=10; total time=   6.3s\n",
            "[CV] END max_depth=8, min_samples_leaf=20, min_samples_split=10; total time=   6.3s\n",
            "[CV] END max_depth=8, min_samples_leaf=20, min_samples_split=10; total time=   6.3s\n",
            "[CV] END max_depth=8, min_samples_leaf=20, min_samples_split=10; total time=   6.3s\n",
            "[CV] END max_depth=8, min_samples_leaf=20, min_samples_split=10; total time=   6.4s\n",
            "[CV] END max_depth=8, min_samples_leaf=20, min_samples_split=20; total time=   6.3s\n",
            "[CV] END max_depth=8, min_samples_leaf=20, min_samples_split=20; total time=   6.3s\n",
            "[CV] END max_depth=8, min_samples_leaf=20, min_samples_split=20; total time=   6.3s\n",
            "[CV] END max_depth=8, min_samples_leaf=20, min_samples_split=20; total time=   6.3s\n",
            "[CV] END max_depth=8, min_samples_leaf=20, min_samples_split=20; total time=   6.4s\n",
            "[CV] END max_depth=8, min_samples_leaf=20, min_samples_split=30; total time=   6.3s\n",
            "[CV] END max_depth=8, min_samples_leaf=20, min_samples_split=30; total time=   6.3s\n",
            "[CV] END max_depth=8, min_samples_leaf=20, min_samples_split=30; total time=   6.3s\n",
            "[CV] END max_depth=8, min_samples_leaf=20, min_samples_split=30; total time=   6.3s\n",
            "[CV] END max_depth=8, min_samples_leaf=20, min_samples_split=30; total time=   6.4s\n",
            "[CV] END max_depth=10, min_samples_leaf=10, min_samples_split=10; total time=   7.7s\n",
            "[CV] END max_depth=10, min_samples_leaf=10, min_samples_split=10; total time=   7.7s\n",
            "[CV] END max_depth=10, min_samples_leaf=10, min_samples_split=10; total time=   7.7s\n",
            "[CV] END max_depth=10, min_samples_leaf=10, min_samples_split=10; total time=   7.8s\n",
            "[CV] END max_depth=10, min_samples_leaf=10, min_samples_split=10; total time=   7.7s\n",
            "[CV] END max_depth=10, min_samples_leaf=10, min_samples_split=20; total time=   7.7s\n",
            "[CV] END max_depth=10, min_samples_leaf=10, min_samples_split=20; total time=   7.7s\n",
            "[CV] END max_depth=10, min_samples_leaf=10, min_samples_split=20; total time=   7.7s\n",
            "[CV] END max_depth=10, min_samples_leaf=10, min_samples_split=20; total time=   7.7s\n",
            "[CV] END max_depth=10, min_samples_leaf=10, min_samples_split=20; total time=   7.7s\n",
            "[CV] END max_depth=10, min_samples_leaf=10, min_samples_split=30; total time=   7.7s\n",
            "[CV] END max_depth=10, min_samples_leaf=10, min_samples_split=30; total time=   7.7s\n",
            "[CV] END max_depth=10, min_samples_leaf=10, min_samples_split=30; total time=   7.6s\n",
            "[CV] END max_depth=10, min_samples_leaf=10, min_samples_split=30; total time=   7.7s\n",
            "[CV] END max_depth=10, min_samples_leaf=10, min_samples_split=30; total time=   7.7s\n",
            "[CV] END max_depth=10, min_samples_leaf=16, min_samples_split=10; total time=   7.7s\n",
            "[CV] END max_depth=10, min_samples_leaf=16, min_samples_split=10; total time=   7.6s\n",
            "[CV] END max_depth=10, min_samples_leaf=16, min_samples_split=10; total time=   7.7s\n",
            "[CV] END max_depth=10, min_samples_leaf=16, min_samples_split=10; total time=   7.8s\n",
            "[CV] END max_depth=10, min_samples_leaf=16, min_samples_split=10; total time=   7.7s\n",
            "[CV] END max_depth=10, min_samples_leaf=16, min_samples_split=20; total time=   7.7s\n",
            "[CV] END max_depth=10, min_samples_leaf=16, min_samples_split=20; total time=   7.6s\n",
            "[CV] END max_depth=10, min_samples_leaf=16, min_samples_split=20; total time=   7.6s\n",
            "[CV] END max_depth=10, min_samples_leaf=16, min_samples_split=20; total time=   7.6s\n",
            "[CV] END max_depth=10, min_samples_leaf=16, min_samples_split=20; total time=   7.6s\n",
            "[CV] END max_depth=10, min_samples_leaf=16, min_samples_split=30; total time=   7.6s\n",
            "[CV] END max_depth=10, min_samples_leaf=16, min_samples_split=30; total time=   7.7s\n",
            "[CV] END max_depth=10, min_samples_leaf=16, min_samples_split=30; total time=   7.6s\n",
            "[CV] END max_depth=10, min_samples_leaf=16, min_samples_split=30; total time=   7.5s\n",
            "[CV] END max_depth=10, min_samples_leaf=16, min_samples_split=30; total time=   7.6s\n",
            "[CV] END max_depth=10, min_samples_leaf=20, min_samples_split=10; total time=   7.6s\n",
            "[CV] END max_depth=10, min_samples_leaf=20, min_samples_split=10; total time=   7.6s\n",
            "[CV] END max_depth=10, min_samples_leaf=20, min_samples_split=10; total time=   7.5s\n",
            "[CV] END max_depth=10, min_samples_leaf=20, min_samples_split=10; total time=   7.5s\n",
            "[CV] END max_depth=10, min_samples_leaf=20, min_samples_split=10; total time=   7.6s\n",
            "[CV] END max_depth=10, min_samples_leaf=20, min_samples_split=20; total time=   7.6s\n",
            "[CV] END max_depth=10, min_samples_leaf=20, min_samples_split=20; total time=   7.7s\n",
            "[CV] END max_depth=10, min_samples_leaf=20, min_samples_split=20; total time=   7.6s\n",
            "[CV] END max_depth=10, min_samples_leaf=20, min_samples_split=20; total time=   7.6s\n",
            "[CV] END max_depth=10, min_samples_leaf=20, min_samples_split=20; total time=   7.7s\n",
            "[CV] END max_depth=10, min_samples_leaf=20, min_samples_split=30; total time=   7.6s\n",
            "[CV] END max_depth=10, min_samples_leaf=20, min_samples_split=30; total time=   7.6s\n",
            "[CV] END max_depth=10, min_samples_leaf=20, min_samples_split=30; total time=   7.6s\n",
            "[CV] END max_depth=10, min_samples_leaf=20, min_samples_split=30; total time=   7.6s\n",
            "[CV] END max_depth=10, min_samples_leaf=20, min_samples_split=30; total time=   7.5s\n"
          ]
        },
        {
          "data": {
            "text/plain": [
              "GridSearchCV(cv=5, estimator=DecisionTreeRegressor(),\n",
              "             param_grid={'max_depth': [4, 6, 8, 10],\n",
              "                         'min_samples_leaf': [10, 16, 20],\n",
              "                         'min_samples_split': [10, 20, 30]},\n",
              "             scoring='r2', verbose=2)"
            ]
          },
          "execution_count": 144,
          "metadata": {},
          "output_type": "execute_result"
        }
      ],
      "source": [
        "dt_model = DecisionTreeRegressor()\n",
        "\n",
        "# Grid search\n",
        "dt_grid = GridSearchCV(estimator=dt_model,\n",
        "                       param_grid = param_dt,\n",
        "                       cv = 5, verbose=2, scoring='r2')\n",
        "\n",
        "dt_grid.fit(X_train_lasso,y_train)"
      ]
    },
    {
      "cell_type": "code",
      "execution_count": null,
      "metadata": {
        "id": "5r1LtKdHXHcw"
      },
      "outputs": [],
      "source": [
        "dt_optimal_model =dt_grid.best_estimator_\n",
        "y_pred_dt_test=dt_optimal_model.predict(X_test_lasso)\n",
        "y_pred_dt_train=dt_optimal_model.predict(X_train_lasso)"
      ]
    },
    {
      "cell_type": "code",
      "execution_count": null,
      "metadata": {
        "colab": {
          "base_uri": "https://localhost:8080/"
        },
        "id": "qvoS85dIYuYN",
        "outputId": "1af4bef1-4379-4d7a-c0f9-52dbec9336af"
      },
      "outputs": [
        {
          "name": "stdout",
          "output_type": "stream",
          "text": [
            "Train MSE : 16.9570225839009\n",
            "Train RMSE : 4.1178905502576075\n",
            "Train R2 : 0.6145892048432628\n",
            "Train Adjusted R2 :  0.6145809027564477\n"
          ]
        }
      ],
      "source": [
        "# dt Train scores.\n",
        "MSE  = mean_squared_error(y_train, y_pred_dt_train)\n",
        "print(\"Train MSE :\" , MSE)\n",
        "\n",
        "RMSE = np.sqrt(MSE)\n",
        "print(\"Train RMSE :\" ,RMSE)\n",
        "\n",
        "r2 = r2_score(y_train, y_pred_dt_train)\n",
        "print(\"Train R2 :\" ,r2)\n",
        "print(\"Train Adjusted R2 : \",1-(1-r2_score(y_train, y_pred_dt_train))*((X_train_lasso.shape[0]-1)/(X_train_lasso.shape[0]-X_train_lasso.shape[1]-1)))"
      ]
    },
    {
      "cell_type": "code",
      "execution_count": null,
      "metadata": {
        "colab": {
          "base_uri": "https://localhost:8080/"
        },
        "id": "KDz5exQkY7qm",
        "outputId": "0df2dfd0-c74a-4d61-93e5-a9fe97806991"
      },
      "outputs": [
        {
          "name": "stdout",
          "output_type": "stream",
          "text": [
            "Test MSE : 17.24201833782454\n",
            "Test RMSE : 4.152350941072363\n",
            "Test R2 : 0.6107363793131432\n",
            "Test Adjusted R2 :  0.6107028368253042\n"
          ]
        }
      ],
      "source": [
        "# dt Test scores.\n",
        "MSE  = mean_squared_error(y_test, y_pred_dt_test)\n",
        "print(\"Test MSE :\" , MSE)\n",
        "\n",
        "RMSE = np.sqrt(MSE)\n",
        "print(\"Test RMSE :\" ,RMSE)\n",
        "\n",
        "r2 = r2_score(y_test, y_pred_dt_test)\n",
        "print(\"Test R2 :\" ,r2)\n",
        "print(\"Test Adjusted R2 : \",1-(1-r2_score(y_test, y_pred_dt_test))*((X_test_lasso.shape[0]-1)/(X_test_lasso.shape[0]-X_test_lasso.shape[1]-1)))"
      ]
    },
    {
      "cell_type": "markdown",
      "metadata": {
        "id": "d20bHGS2dcaV"
      },
      "source": [
        "## **Extra Tree Regressor.**"
      ]
    },
    {
      "cell_type": "code",
      "execution_count": null,
      "metadata": {
        "id": "6135IZH_8cys"
      },
      "outputs": [],
      "source": [
        "from sklearn.ensemble import ExtraTreesRegressor\n",
        "etr = ExtraTreesRegressor()"
      ]
    },
    {
      "cell_type": "code",
      "execution_count": null,
      "metadata": {
        "id": "yGPh4B2zFauS"
      },
      "outputs": [],
      "source": [
        "# # Hyperparameters for extra trees regressor.\n",
        "#     # 'min_samples_leaf': [1,2]\n",
        "# param_etr = {\n",
        "#     'max_depth': [2,8,16,32],\n",
        "#     'min_samples_split': [2,4,6]}"
      ]
    },
    {
      "cell_type": "code",
      "execution_count": null,
      "metadata": {
        "id": "8_mOJZgI89l1"
      },
      "outputs": [],
      "source": [
        "# Train the model.\n",
        "etr_reg = ExtraTreesRegressor(max_depth=32, min_samples_split=6, min_samples_leaf=1, random_state=0).fit(X_train_lasso, y_train)\n",
        "\n",
        "# Grid search\n",
        "# etr_grid = GridSearchCV(estimator=etr,\n",
        "#                        param_grid = param_etr,\n",
        "#                        cv = 2, verbose=2, scoring='r2')\n",
        "\n",
        "# etr_grid.fit(X_train_lasso,y_train)"
      ]
    },
    {
      "cell_type": "code",
      "execution_count": null,
      "metadata": {
        "colab": {
          "base_uri": "https://localhost:8080/"
        },
        "id": "esYUBAkmaqnr",
        "outputId": "a842e719-6a83-4a56-9db3-7660dbc7e4cb"
      },
      "outputs": [
        {
          "data": {
            "text/plain": [
              "{'max_depth': 32, 'min_samples_split': 6}"
            ]
          },
          "execution_count": 70,
          "metadata": {},
          "output_type": "execute_result"
        }
      ],
      "source": [
        "# etr_grid.best_params_"
      ]
    },
    {
      "cell_type": "code",
      "execution_count": null,
      "metadata": {
        "colab": {
          "base_uri": "https://localhost:8080/"
        },
        "id": "QuFvW6QCa46w",
        "outputId": "f91f8ad9-439e-4020-fc7f-9e9b67d67acc"
      },
      "outputs": [
        {
          "data": {
            "text/plain": [
              "ExtraTreesRegressor(max_depth=32, min_samples_split=6)"
            ]
          },
          "execution_count": 71,
          "metadata": {},
          "output_type": "execute_result"
        }
      ],
      "source": [
        "# etr_grid.best_estimator_"
      ]
    },
    {
      "cell_type": "code",
      "execution_count": null,
      "metadata": {
        "id": "G_jpzdkQGW3U"
      },
      "outputs": [],
      "source": [
        "# # Optimum model\n",
        "# etr_optimal_model =etr_grid.best_estimator_\n",
        "\n",
        "# # Train preds.\n",
        "# y_pred_etr_train=etr_optimal_model.predict(X_train_lasso)\n",
        "\n",
        "# # Test preds.\n",
        "# y_pred_etr_test=etr_optimal_model.predict(X_test_lasso)"
      ]
    },
    {
      "cell_type": "code",
      "execution_count": null,
      "metadata": {
        "id": "W8w3fvJyC6OF"
      },
      "outputs": [],
      "source": [
        "# Train preds.\n",
        "y_pred_etr_train = etr_reg.predict(X_train_lasso)\n",
        "# Test preds.\n",
        "y_pred_etr_test = etr_reg.predict(X_test_lasso)"
      ]
    },
    {
      "cell_type": "code",
      "execution_count": null,
      "metadata": {
        "colab": {
          "base_uri": "https://localhost:8080/"
        },
        "id": "AvaMY99MDAJ4",
        "outputId": "03221b44-80f4-4fe7-b7ab-f8054d31e7d4"
      },
      "outputs": [
        {
          "name": "stdout",
          "output_type": "stream",
          "text": [
            "Train MSE : 2.347927433191447\n",
            "Train RMSE : 1.5322948258058717\n",
            "Train R2 : 0.9466347010791998\n",
            "Train Adjusted R2 :  0.9466335515438206\n"
          ]
        }
      ],
      "source": [
        "# Train scores.\n",
        "# dt Train scores.\n",
        "MSE  = mean_squared_error(y_train, y_pred_etr_train)\n",
        "print(\"Train MSE :\" , MSE)\n",
        "\n",
        "RMSE = np.sqrt(MSE)\n",
        "print(\"Train RMSE :\" ,RMSE)\n",
        "\n",
        "r2 = r2_score(y_train, y_pred_etr_train)\n",
        "print(\"Train R2 :\" ,r2)\n",
        "print(\"Train Adjusted R2 : \",1-(1-r2_score(y_train, y_pred_etr_train))*((X_train_lasso.shape[0]-1)/(X_train_lasso.shape[0]-X_train_lasso.shape[1]-1)))"
      ]
    },
    {
      "cell_type": "code",
      "execution_count": null,
      "metadata": {
        "colab": {
          "base_uri": "https://localhost:8080/"
        },
        "id": "rEikdIZS9L2p",
        "outputId": "59334d74-49c8-49f4-a0c6-30c645f527b5"
      },
      "outputs": [
        {
          "name": "stdout",
          "output_type": "stream",
          "text": [
            "Test MSE : 14.067751101084026\n",
            "Test RMSE : 3.750700081462663\n",
            "Test R2 : 0.6824000751399033\n",
            "Test Adjusted R2 :  0.6823727078467603\n"
          ]
        }
      ],
      "source": [
        "# Test scores.\n",
        "MSE  = mean_squared_error(y_test, y_pred_etr_test)\n",
        "print(\"Test MSE :\" , MSE)\n",
        "\n",
        "RMSE = np.sqrt(MSE)\n",
        "print(\"Test RMSE :\" ,RMSE)\n",
        "\n",
        "r2 = r2_score(y_test, y_pred_etr_test)\n",
        "print(\"Test R2 :\" ,r2)\n",
        "print(\"Test Adjusted R2 : \",1-(1-r2_score(y_test, y_pred_etr_test))*((X_test_lasso.shape[0]-1)/(X_test_lasso.shape[0]-X_test_lasso.shape[1]-1)))"
      ]
    },
    {
      "cell_type": "markdown",
      "metadata": {
        "id": "3Az9TrAmxF9t"
      },
      "source": [
        "## **XGBoost.**"
      ]
    },
    {
      "cell_type": "code",
      "execution_count": null,
      "metadata": {
        "id": "n7WHJn-ojko6"
      },
      "outputs": [],
      "source": [
        "# Hyperparameters for xgb.\n",
        "n_estimators = [50,100,120]\n",
        "max_depth = [5,7,9]\n",
        "min_samples_split = [40,50]\n",
        "\n",
        "\n",
        "# HYperparameter Grid\n",
        "param_xgb = {'n_estimators' : n_estimators,\n",
        "              'max_depth' : max_depth,\n",
        "             'min_samples_split':min_samples_split\n",
        "              }"
      ]
    },
    {
      "cell_type": "code",
      "execution_count": null,
      "metadata": {
        "colab": {
          "base_uri": "https://localhost:8080/"
        },
        "id": "uFCDNUGLjkl2",
        "outputId": "b91037b8-07d1-437c-a05a-26385aaacfbf"
      },
      "outputs": [
        {
          "name": "stdout",
          "output_type": "stream",
          "text": [
            "Fitting 3 folds for each of 18 candidates, totalling 54 fits\n",
            "[08:33:43] WARNING: /workspace/src/objective/regression_obj.cu:152: reg:linear is now deprecated in favor of reg:squarederror.\n",
            "[CV] END .max_depth=5, min_samples_split=40, n_estimators=50; total time=  50.3s\n",
            "[08:34:34] WARNING: /workspace/src/objective/regression_obj.cu:152: reg:linear is now deprecated in favor of reg:squarederror.\n",
            "[CV] END .max_depth=5, min_samples_split=40, n_estimators=50; total time=  51.8s\n",
            "[08:35:25] WARNING: /workspace/src/objective/regression_obj.cu:152: reg:linear is now deprecated in favor of reg:squarederror.\n",
            "[CV] END .max_depth=5, min_samples_split=40, n_estimators=50; total time=  51.7s\n",
            "[08:36:17] WARNING: /workspace/src/objective/regression_obj.cu:152: reg:linear is now deprecated in favor of reg:squarederror.\n",
            "[CV] END max_depth=5, min_samples_split=40, n_estimators=100; total time= 1.7min\n",
            "[08:37:57] WARNING: /workspace/src/objective/regression_obj.cu:152: reg:linear is now deprecated in favor of reg:squarederror.\n",
            "[CV] END max_depth=5, min_samples_split=40, n_estimators=100; total time= 1.7min\n",
            "[08:39:37] WARNING: /workspace/src/objective/regression_obj.cu:152: reg:linear is now deprecated in favor of reg:squarederror.\n",
            "[CV] END max_depth=5, min_samples_split=40, n_estimators=100; total time= 1.7min\n",
            "[08:41:18] WARNING: /workspace/src/objective/regression_obj.cu:152: reg:linear is now deprecated in favor of reg:squarederror.\n",
            "[CV] END max_depth=5, min_samples_split=40, n_estimators=120; total time= 2.0min\n",
            "[08:43:16] WARNING: /workspace/src/objective/regression_obj.cu:152: reg:linear is now deprecated in favor of reg:squarederror.\n",
            "[CV] END max_depth=5, min_samples_split=40, n_estimators=120; total time= 2.0min\n",
            "[08:45:15] WARNING: /workspace/src/objective/regression_obj.cu:152: reg:linear is now deprecated in favor of reg:squarederror.\n",
            "[CV] END max_depth=5, min_samples_split=40, n_estimators=120; total time= 2.0min\n",
            "[08:47:12] WARNING: /workspace/src/objective/regression_obj.cu:152: reg:linear is now deprecated in favor of reg:squarederror.\n",
            "[CV] END .max_depth=5, min_samples_split=50, n_estimators=50; total time=  50.2s\n",
            "[08:48:02] WARNING: /workspace/src/objective/regression_obj.cu:152: reg:linear is now deprecated in favor of reg:squarederror.\n",
            "[CV] END .max_depth=5, min_samples_split=50, n_estimators=50; total time=  50.4s\n",
            "[08:48:53] WARNING: /workspace/src/objective/regression_obj.cu:152: reg:linear is now deprecated in favor of reg:squarederror.\n",
            "[CV] END .max_depth=5, min_samples_split=50, n_estimators=50; total time=  50.3s\n",
            "[08:49:43] WARNING: /workspace/src/objective/regression_obj.cu:152: reg:linear is now deprecated in favor of reg:squarederror.\n",
            "[CV] END max_depth=5, min_samples_split=50, n_estimators=100; total time= 1.7min\n",
            "[08:51:23] WARNING: /workspace/src/objective/regression_obj.cu:152: reg:linear is now deprecated in favor of reg:squarederror.\n",
            "[CV] END max_depth=5, min_samples_split=50, n_estimators=100; total time= 1.6min\n",
            "[08:53:02] WARNING: /workspace/src/objective/regression_obj.cu:152: reg:linear is now deprecated in favor of reg:squarederror.\n",
            "[CV] END max_depth=5, min_samples_split=50, n_estimators=100; total time= 1.6min\n",
            "[08:54:40] WARNING: /workspace/src/objective/regression_obj.cu:152: reg:linear is now deprecated in favor of reg:squarederror.\n",
            "[CV] END max_depth=5, min_samples_split=50, n_estimators=120; total time= 2.0min\n",
            "[08:56:37] WARNING: /workspace/src/objective/regression_obj.cu:152: reg:linear is now deprecated in favor of reg:squarederror.\n",
            "[CV] END max_depth=5, min_samples_split=50, n_estimators=120; total time= 2.0min\n",
            "[08:58:35] WARNING: /workspace/src/objective/regression_obj.cu:152: reg:linear is now deprecated in favor of reg:squarederror.\n",
            "[CV] END max_depth=5, min_samples_split=50, n_estimators=120; total time= 1.9min\n",
            "[09:00:31] WARNING: /workspace/src/objective/regression_obj.cu:152: reg:linear is now deprecated in favor of reg:squarederror.\n",
            "[CV] END .max_depth=7, min_samples_split=40, n_estimators=50; total time= 1.3min\n",
            "[09:01:46] WARNING: /workspace/src/objective/regression_obj.cu:152: reg:linear is now deprecated in favor of reg:squarederror.\n",
            "[CV] END .max_depth=7, min_samples_split=40, n_estimators=50; total time= 1.3min\n",
            "[09:03:02] WARNING: /workspace/src/objective/regression_obj.cu:152: reg:linear is now deprecated in favor of reg:squarederror.\n",
            "[CV] END .max_depth=7, min_samples_split=40, n_estimators=50; total time= 1.3min\n",
            "[09:04:18] WARNING: /workspace/src/objective/regression_obj.cu:152: reg:linear is now deprecated in favor of reg:squarederror.\n",
            "[CV] END max_depth=7, min_samples_split=40, n_estimators=100; total time= 2.5min\n",
            "[09:06:46] WARNING: /workspace/src/objective/regression_obj.cu:152: reg:linear is now deprecated in favor of reg:squarederror.\n",
            "[CV] END max_depth=7, min_samples_split=40, n_estimators=100; total time= 2.7min\n",
            "[09:09:27] WARNING: /workspace/src/objective/regression_obj.cu:152: reg:linear is now deprecated in favor of reg:squarederror.\n",
            "[CV] END max_depth=7, min_samples_split=40, n_estimators=100; total time= 2.5min\n",
            "[09:11:57] WARNING: /workspace/src/objective/regression_obj.cu:152: reg:linear is now deprecated in favor of reg:squarederror.\n",
            "[CV] END max_depth=7, min_samples_split=40, n_estimators=120; total time= 2.9min\n",
            "[09:14:51] WARNING: /workspace/src/objective/regression_obj.cu:152: reg:linear is now deprecated in favor of reg:squarederror.\n",
            "[CV] END max_depth=7, min_samples_split=40, n_estimators=120; total time= 2.9min\n",
            "[09:17:44] WARNING: /workspace/src/objective/regression_obj.cu:152: reg:linear is now deprecated in favor of reg:squarederror.\n",
            "[CV] END max_depth=7, min_samples_split=40, n_estimators=120; total time= 2.9min\n",
            "[09:20:39] WARNING: /workspace/src/objective/regression_obj.cu:152: reg:linear is now deprecated in favor of reg:squarederror.\n",
            "[CV] END .max_depth=7, min_samples_split=50, n_estimators=50; total time= 1.4min\n",
            "[09:22:03] WARNING: /workspace/src/objective/regression_obj.cu:152: reg:linear is now deprecated in favor of reg:squarederror.\n",
            "[CV] END .max_depth=7, min_samples_split=50, n_estimators=50; total time= 1.3min\n",
            "[09:23:22] WARNING: /workspace/src/objective/regression_obj.cu:152: reg:linear is now deprecated in favor of reg:squarederror.\n",
            "[CV] END .max_depth=7, min_samples_split=50, n_estimators=50; total time= 1.3min\n",
            "[09:24:37] WARNING: /workspace/src/objective/regression_obj.cu:152: reg:linear is now deprecated in favor of reg:squarederror.\n",
            "[CV] END max_depth=7, min_samples_split=50, n_estimators=100; total time= 2.5min\n",
            "[09:27:06] WARNING: /workspace/src/objective/regression_obj.cu:152: reg:linear is now deprecated in favor of reg:squarederror.\n",
            "[CV] END max_depth=7, min_samples_split=50, n_estimators=100; total time= 2.5min\n",
            "[09:29:35] WARNING: /workspace/src/objective/regression_obj.cu:152: reg:linear is now deprecated in favor of reg:squarederror.\n",
            "[CV] END max_depth=7, min_samples_split=50, n_estimators=100; total time= 2.4min\n",
            "[09:32:02] WARNING: /workspace/src/objective/regression_obj.cu:152: reg:linear is now deprecated in favor of reg:squarederror.\n",
            "[CV] END max_depth=7, min_samples_split=50, n_estimators=120; total time= 3.0min\n",
            "[09:35:04] WARNING: /workspace/src/objective/regression_obj.cu:152: reg:linear is now deprecated in favor of reg:squarederror.\n",
            "[CV] END max_depth=7, min_samples_split=50, n_estimators=120; total time= 2.9min\n",
            "[09:37:57] WARNING: /workspace/src/objective/regression_obj.cu:152: reg:linear is now deprecated in favor of reg:squarederror.\n",
            "[CV] END max_depth=7, min_samples_split=50, n_estimators=120; total time= 2.9min\n",
            "[09:40:49] WARNING: /workspace/src/objective/regression_obj.cu:152: reg:linear is now deprecated in favor of reg:squarederror.\n",
            "[CV] END .max_depth=9, min_samples_split=40, n_estimators=50; total time= 1.7min\n",
            "[09:42:32] WARNING: /workspace/src/objective/regression_obj.cu:152: reg:linear is now deprecated in favor of reg:squarederror.\n",
            "[CV] END .max_depth=9, min_samples_split=40, n_estimators=50; total time= 1.7min\n",
            "[09:44:16] WARNING: /workspace/src/objective/regression_obj.cu:152: reg:linear is now deprecated in favor of reg:squarederror.\n",
            "[CV] END .max_depth=9, min_samples_split=40, n_estimators=50; total time= 1.7min\n",
            "[09:46:00] WARNING: /workspace/src/objective/regression_obj.cu:152: reg:linear is now deprecated in favor of reg:squarederror.\n",
            "[CV] END max_depth=9, min_samples_split=40, n_estimators=100; total time= 3.3min\n",
            "[09:49:20] WARNING: /workspace/src/objective/regression_obj.cu:152: reg:linear is now deprecated in favor of reg:squarederror.\n",
            "[CV] END max_depth=9, min_samples_split=40, n_estimators=100; total time= 3.4min\n",
            "[09:52:43] WARNING: /workspace/src/objective/regression_obj.cu:152: reg:linear is now deprecated in favor of reg:squarederror.\n",
            "[CV] END max_depth=9, min_samples_split=40, n_estimators=100; total time= 3.4min\n",
            "[09:56:07] WARNING: /workspace/src/objective/regression_obj.cu:152: reg:linear is now deprecated in favor of reg:squarederror.\n",
            "[CV] END max_depth=9, min_samples_split=40, n_estimators=120; total time= 4.1min\n",
            "[10:00:14] WARNING: /workspace/src/objective/regression_obj.cu:152: reg:linear is now deprecated in favor of reg:squarederror.\n",
            "[CV] END max_depth=9, min_samples_split=40, n_estimators=120; total time= 4.1min\n",
            "[10:04:20] WARNING: /workspace/src/objective/regression_obj.cu:152: reg:linear is now deprecated in favor of reg:squarederror.\n",
            "[CV] END max_depth=9, min_samples_split=40, n_estimators=120; total time= 4.1min\n",
            "[10:08:24] WARNING: /workspace/src/objective/regression_obj.cu:152: reg:linear is now deprecated in favor of reg:squarederror.\n",
            "[CV] END .max_depth=9, min_samples_split=50, n_estimators=50; total time= 1.8min\n",
            "[10:10:10] WARNING: /workspace/src/objective/regression_obj.cu:152: reg:linear is now deprecated in favor of reg:squarederror.\n",
            "[CV] END .max_depth=9, min_samples_split=50, n_estimators=50; total time= 1.8min\n",
            "[10:11:58] WARNING: /workspace/src/objective/regression_obj.cu:152: reg:linear is now deprecated in favor of reg:squarederror.\n",
            "[CV] END .max_depth=9, min_samples_split=50, n_estimators=50; total time= 1.8min\n",
            "[10:13:44] WARNING: /workspace/src/objective/regression_obj.cu:152: reg:linear is now deprecated in favor of reg:squarederror.\n",
            "[CV] END max_depth=9, min_samples_split=50, n_estimators=100; total time= 3.4min\n",
            "[10:17:08] WARNING: /workspace/src/objective/regression_obj.cu:152: reg:linear is now deprecated in favor of reg:squarederror.\n",
            "[CV] END max_depth=9, min_samples_split=50, n_estimators=100; total time= 3.4min\n",
            "[10:20:32] WARNING: /workspace/src/objective/regression_obj.cu:152: reg:linear is now deprecated in favor of reg:squarederror.\n",
            "[CV] END max_depth=9, min_samples_split=50, n_estimators=100; total time= 3.6min\n",
            "[10:24:11] WARNING: /workspace/src/objective/regression_obj.cu:152: reg:linear is now deprecated in favor of reg:squarederror.\n",
            "[CV] END max_depth=9, min_samples_split=50, n_estimators=120; total time= 4.1min\n",
            "[10:28:18] WARNING: /workspace/src/objective/regression_obj.cu:152: reg:linear is now deprecated in favor of reg:squarederror.\n",
            "[CV] END max_depth=9, min_samples_split=50, n_estimators=120; total time= 4.1min\n",
            "[10:32:21] WARNING: /workspace/src/objective/regression_obj.cu:152: reg:linear is now deprecated in favor of reg:squarederror.\n",
            "[CV] END max_depth=9, min_samples_split=50, n_estimators=120; total time= 4.2min\n",
            "[10:36:33] WARNING: /workspace/src/objective/regression_obj.cu:152: reg:linear is now deprecated in favor of reg:squarederror.\n"
          ]
        },
        {
          "data": {
            "text/plain": [
              "GridSearchCV(cv=3, estimator=XGBRegressor(),\n",
              "             param_grid={'max_depth': [5, 7, 9], 'min_samples_split': [40, 50],\n",
              "                         'n_estimators': [50, 100, 120]},\n",
              "             scoring='r2', verbose=2)"
            ]
          },
          "execution_count": 71,
          "metadata": {},
          "output_type": "execute_result"
        }
      ],
      "source": [
        "# Create an instance of the  XGBRegressor\n",
        "import xgboost as xgb\n",
        "xgb_model = xgb.XGBRegressor()\n",
        "\n",
        "# Grid search\n",
        "xgb_grid = GridSearchCV(estimator=xgb_model,param_grid = param_xgb,cv = 3, verbose=2,scoring=\"r2\")\n",
        "\n",
        "xgb_grid.fit(X_train_lasso,y_train)"
      ]
    },
    {
      "cell_type": "code",
      "execution_count": null,
      "metadata": {
        "colab": {
          "base_uri": "https://localhost:8080/"
        },
        "id": "ma-LnR-RjkjI",
        "outputId": "35c6f7f4-84ba-496f-df6a-1b62280f57c5"
      },
      "outputs": [
        {
          "data": {
            "text/plain": [
              "0.7062813231063263"
            ]
          },
          "execution_count": 72,
          "metadata": {},
          "output_type": "execute_result"
        }
      ],
      "source": [
        "xgb_grid.best_score_"
      ]
    },
    {
      "cell_type": "code",
      "execution_count": null,
      "metadata": {
        "colab": {
          "base_uri": "https://localhost:8080/"
        },
        "id": "A-y5kSXOjkgZ",
        "outputId": "2402c3cf-db74-4d04-92c3-7d501d65d33e"
      },
      "outputs": [
        {
          "data": {
            "text/plain": [
              "{'max_depth': 9, 'min_samples_split': 40, 'n_estimators': 120}"
            ]
          },
          "execution_count": 73,
          "metadata": {},
          "output_type": "execute_result"
        }
      ],
      "source": [
        "xgb_grid.best_params_"
      ]
    },
    {
      "cell_type": "code",
      "execution_count": null,
      "metadata": {
        "id": "S_gxqacrxWbo"
      },
      "outputs": [],
      "source": [
        "xgb_optimal_model =xgb_grid.best_estimator_"
      ]
    },
    {
      "cell_type": "code",
      "execution_count": null,
      "metadata": {
        "id": "48H_r0fixY6U"
      },
      "outputs": [],
      "source": [
        "y_pred_xgb_test=xgb_optimal_model.predict(X_test_lasso)\n",
        "y_pred_xgb_train=xgb_optimal_model.predict(X_train_lasso)"
      ]
    },
    {
      "cell_type": "code",
      "execution_count": null,
      "metadata": {
        "colab": {
          "base_uri": "https://localhost:8080/"
        },
        "id": "slz_KSGGxdPQ",
        "outputId": "539166a7-8b83-4d9b-cc58-d0d6dc6ed446"
      },
      "outputs": [
        {
          "name": "stdout",
          "output_type": "stream",
          "text": [
            "Train MSE : 11.956331939101862\n",
            "Train RMSE : 3.4577929288929177\n",
            "Train R2 : 0.7282483185354662\n",
            "Train Adjusted R2 :  0.7282424647657224\n"
          ]
        }
      ],
      "source": [
        "# Train scores.\n",
        "MSE  = mean_squared_error(y_train, y_pred_xgb_train)\n",
        "print(\"Train MSE :\" , MSE)\n",
        "\n",
        "RMSE = np.sqrt(MSE)\n",
        "print(\"Train RMSE :\" ,RMSE)\n",
        "\n",
        "r2 = r2_score(y_train, y_pred_xgb_train)\n",
        "print(\"Train R2 :\" ,r2)\n",
        "print(\"Train Adjusted R2 : \",1-(1-r2_score((y_train), (y_pred_xgb_train)))*((X_train_lasso.shape[0]-1)/(X_train_lasso.shape[0]-X_train_lasso.shape[1]-1)))"
      ]
    },
    {
      "cell_type": "code",
      "execution_count": null,
      "metadata": {
        "colab": {
          "base_uri": "https://localhost:8080/"
        },
        "id": "emAB8NyDxooz",
        "outputId": "b7964ef9-cc64-425f-c3dd-aacc916b25c6"
      },
      "outputs": [
        {
          "name": "stdout",
          "output_type": "stream",
          "text": [
            "Test MSE : 12.86291181539408\n",
            "Test RMSE : 3.5864901805796263\n",
            "Test R2 : 0.7096010729293888\n",
            "Test Adjusted R2 :  0.709576049521184\n"
          ]
        }
      ],
      "source": [
        "# Test scores.\n",
        "MSE  = mean_squared_error(y_test, y_pred_xgb_test)\n",
        "print(\"Test MSE :\" , MSE)\n",
        "\n",
        "RMSE = np.sqrt(MSE)\n",
        "print(\"Test RMSE :\" ,RMSE)\n",
        "\n",
        "r2 = r2_score(y_test, y_pred_xgb_test)\n",
        "print(\"Test R2 :\" ,r2)\n",
        "print(\"Test Adjusted R2 : \",1-(1-r2_score((y_test), (y_pred_xgb_test)))*((X_test_lasso.shape[0]-1)/(X_test_lasso.shape[0]-X_test_lasso.shape[1]-1)))"
      ]
    },
    {
      "cell_type": "markdown",
      "metadata": {
        "id": "wYrkJXUD0h2P"
      },
      "source": [
        "## **Gradient Boosting**"
      ]
    },
    {
      "cell_type": "code",
      "execution_count": null,
      "metadata": {
        "colab": {
          "base_uri": "https://localhost:8080/"
        },
        "id": "Ki6A0WT70qS8",
        "outputId": "ec52f290-1ece-4307-edd6-50f20835c9cb"
      },
      "outputs": [
        {
          "data": {
            "text/plain": [
              "GradientBoostingRegressor(max_depth=10, min_samples_leaf=50,\n",
              "                          min_samples_split=80, n_estimators=120)"
            ]
          },
          "execution_count": 71,
          "metadata": {},
          "output_type": "execute_result"
        }
      ],
      "source": [
        "# Create an instance of the  GradientBoostingRegressor\n",
        "from sklearn.ensemble import GradientBoostingRegressor\n",
        "gb_model=GradientBoostingRegressor( n_estimators=120, max_depth=10, min_samples_leaf=50, min_samples_split=80)\n",
        "\n",
        "# Train the model.\n",
        "gb_model.fit(X_train_lasso,y_train)"
      ]
    },
    {
      "cell_type": "code",
      "execution_count": null,
      "metadata": {
        "id": "oowbZ_ir02Ci"
      },
      "outputs": [],
      "source": [
        "# gb_grid.best_params_"
      ]
    },
    {
      "cell_type": "code",
      "execution_count": null,
      "metadata": {
        "id": "2_aq5obI04Ev"
      },
      "outputs": [],
      "source": [
        "# gb_grid.best_estimator_"
      ]
    },
    {
      "cell_type": "code",
      "execution_count": null,
      "metadata": {
        "id": "1lE0fyXB06AI"
      },
      "outputs": [],
      "source": [
        "# gb_optimal_model = gb_grid.best_estimator_"
      ]
    },
    {
      "cell_type": "code",
      "execution_count": null,
      "metadata": {
        "id": "ToqrB9zG08HP"
      },
      "outputs": [],
      "source": [
        "y_preds_gb = gb_model.predict(X_test_lasso)\n",
        "y_pred_gb_train=gb_model.predict(X_train_lasso)"
      ]
    },
    {
      "cell_type": "code",
      "execution_count": null,
      "metadata": {
        "colab": {
          "base_uri": "https://localhost:8080/"
        },
        "id": "sjGhiXQ80_Wx",
        "outputId": "5046fc2f-0a6a-4b83-de9b-01d4ab1909fc"
      },
      "outputs": [
        {
          "name": "stdout",
          "output_type": "stream",
          "text": [
            "Train MSE : 11.690737170543489\n",
            "Train RMSE : 3.419172000725247\n",
            "Train R2 : 0.7342849379026384\n",
            "Train Adjusted R2 :  0.7342792141669742\n"
          ]
        }
      ],
      "source": [
        "# Train Scores.\n",
        "MSE  = mean_squared_error(y_train, y_pred_gb_train)\n",
        "print(\"Train MSE :\" , MSE)\n",
        "\n",
        "RMSE = np.sqrt(MSE)\n",
        "print(\"Train RMSE :\" ,RMSE)\n",
        "\n",
        "r2 = r2_score(y_train, y_pred_gb_train)\n",
        "print(\"Train R2 :\" ,r2)\n",
        "print(\"Train Adjusted R2 : \",1-(1-r2_score((y_train), (y_pred_gb_train)))*((X_train_lasso.shape[0]-1)/(X_train_lasso.shape[0]-X_train_lasso.shape[1]-1)))"
      ]
    },
    {
      "cell_type": "code",
      "execution_count": null,
      "metadata": {
        "colab": {
          "base_uri": "https://localhost:8080/"
        },
        "id": "qyNuvGAc1CV6",
        "outputId": "de95f791-65f8-49ba-b5d5-e232fcc4f3cc"
      },
      "outputs": [
        {
          "name": "stdout",
          "output_type": "stream",
          "text": [
            "Test MSE : 12.64055002188719\n",
            "Test RMSE : 3.5553551189560784\n",
            "Test R2 : 0.7146212135618245\n",
            "Test Adjusted R2 :  0.7145966227345166\n"
          ]
        }
      ],
      "source": [
        "# Test Scores.\n",
        "MSE  = mean_squared_error(y_test, y_preds_gb)\n",
        "print(\"Test MSE :\" , MSE)\n",
        "\n",
        "RMSE = np.sqrt(MSE)\n",
        "print(\"Test RMSE :\" ,RMSE)\n",
        "\n",
        "r2 = r2_score(y_test, y_preds_gb)\n",
        "print(\"Test R2 :\" ,r2)\n",
        "print(\"Test Adjusted R2 : \",1-(1-r2_score((y_test), (y_preds_gb)))*((X_test_lasso.shape[0]-1)/(X_test_lasso.shape[0]-X_test_lasso.shape[1]-1)))"
      ]
    }
  ],
  "metadata": {
    "colab": {
      "collapsed_sections": [
        "uIeMIxr9EJTg",
        "Br-RCkRZErMg",
        "50MMD5C6xAVb",
        "gcLjvmWRWmvb",
        "d20bHGS2dcaV",
        "3Az9TrAmxF9t",
        "wYrkJXUD0h2P"
      ],
      "name": "NYC_Taxi_TripDuration_Prediction.ipynb",
      "provenance": [],
      "authorship_tag": "ABX9TyPTd9nKIPwLxJcfDSLxTLxm",
      "include_colab_link": true
    },
    "kernelspec": {
      "display_name": "Python 3",
      "name": "python3"
    },
    "language_info": {
      "name": "python"
    }
  },
  "nbformat": 4,
  "nbformat_minor": 0
}